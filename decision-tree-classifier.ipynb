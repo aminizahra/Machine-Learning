{
 "cells": [
  {
   "cell_type": "markdown",
   "id": "62348840",
   "metadata": {
    "papermill": {
     "duration": 0.016969,
     "end_time": "2022-11-24T19:33:18.545608",
     "exception": false,
     "start_time": "2022-11-24T19:33:18.528639",
     "status": "completed"
    },
    "tags": []
   },
   "source": [
    "# Part 01"
   ]
  },
  {
   "cell_type": "markdown",
   "id": "ecc6385a",
   "metadata": {
    "papermill": {
     "duration": 0.01537,
     "end_time": "2022-11-24T19:33:18.576828",
     "exception": false,
     "start_time": "2022-11-24T19:33:18.561458",
     "status": "completed"
    },
    "tags": []
   },
   "source": [
    "# Decision Tree Classifier "
   ]
  },
  {
   "cell_type": "markdown",
   "id": "9a015c3b",
   "metadata": {
    "papermill": {
     "duration": 0.01526,
     "end_time": "2022-11-24T19:33:18.607738",
     "exception": false,
     "start_time": "2022-11-24T19:33:18.592478",
     "status": "completed"
    },
    "tags": []
   },
   "source": [
    "# 0. Import libraries"
   ]
  },
  {
   "cell_type": "code",
   "execution_count": 1,
   "id": "32ccde07",
   "metadata": {
    "execution": {
     "iopub.execute_input": "2022-11-24T19:33:18.641198Z",
     "iopub.status.busy": "2022-11-24T19:33:18.640385Z",
     "iopub.status.idle": "2022-11-24T19:33:20.197137Z",
     "shell.execute_reply": "2022-11-24T19:33:20.196221Z"
    },
    "papermill": {
     "duration": 1.576258,
     "end_time": "2022-11-24T19:33:20.199730",
     "exception": false,
     "start_time": "2022-11-24T19:33:18.623472",
     "status": "completed"
    },
    "tags": []
   },
   "outputs": [],
   "source": [
    "import numpy as np\n",
    "import pandas as pd\n",
    "import matplotlib.pyplot as plt\n",
    "import seaborn as sns\n",
    "%matplotlib inline\n",
    "\n",
    "from sklearn.model_selection import train_test_split\n",
    "\n",
    "import category_encoders\n",
    "import category_encoders as ce\n",
    "\n",
    "from sklearn.tree import DecisionTreeClassifier\n",
    "\n",
    "from sklearn.tree import plot_tree\n",
    "\n",
    "from sklearn.metrics import accuracy_score\n",
    "\n",
    "from sklearn import tree\n",
    "\n",
    "from sklearn.metrics import confusion_matrix\n",
    "\n",
    "from sklearn.metrics import classification_report\n",
    "\n",
    "from sklearn.model_selection import GridSearchCV\n",
    "\n",
    "from sklearn.ensemble import RandomForestClassifier\n",
    "\n",
    "from sklearn.metrics import plot_confusion_matrix"
   ]
  },
  {
   "cell_type": "code",
   "execution_count": 2,
   "id": "6a8b6343",
   "metadata": {
    "execution": {
     "iopub.execute_input": "2022-11-24T19:33:20.233404Z",
     "iopub.status.busy": "2022-11-24T19:33:20.232710Z",
     "iopub.status.idle": "2022-11-24T19:33:20.236731Z",
     "shell.execute_reply": "2022-11-24T19:33:20.236037Z"
    },
    "papermill": {
     "duration": 0.022767,
     "end_time": "2022-11-24T19:33:20.238718",
     "exception": false,
     "start_time": "2022-11-24T19:33:20.215951",
     "status": "completed"
    },
    "tags": []
   },
   "outputs": [],
   "source": [
    "import warnings\n",
    "\n",
    "warnings.filterwarnings('ignore')"
   ]
  },
  {
   "cell_type": "markdown",
   "id": "4bf5e823",
   "metadata": {
    "papermill": {
     "duration": 0.015146,
     "end_time": "2022-11-24T19:33:20.269411",
     "exception": false,
     "start_time": "2022-11-24T19:33:20.254265",
     "status": "completed"
    },
    "tags": []
   },
   "source": [
    "# 1. Read data"
   ]
  },
  {
   "cell_type": "code",
   "execution_count": 3,
   "id": "0bd0821e",
   "metadata": {
    "execution": {
     "iopub.execute_input": "2022-11-24T19:33:20.301832Z",
     "iopub.status.busy": "2022-11-24T19:33:20.301407Z",
     "iopub.status.idle": "2022-11-24T19:33:20.324353Z",
     "shell.execute_reply": "2022-11-24T19:33:20.323249Z"
    },
    "papermill": {
     "duration": 0.042087,
     "end_time": "2022-11-24T19:33:20.326953",
     "exception": false,
     "start_time": "2022-11-24T19:33:20.284866",
     "status": "completed"
    },
    "tags": []
   },
   "outputs": [],
   "source": [
    "path = '/kaggle/input/car-evaluation-data-set/car_evaluation.csv'\n",
    "\n",
    "df = pd.read_csv(path, header=None)"
   ]
  },
  {
   "cell_type": "markdown",
   "id": "8bbf457a",
   "metadata": {
    "papermill": {
     "duration": 0.015825,
     "end_time": "2022-11-24T19:33:20.358914",
     "exception": false,
     "start_time": "2022-11-24T19:33:20.343089",
     "status": "completed"
    },
    "tags": []
   },
   "source": [
    "# 2. Exploratory data analysis"
   ]
  },
  {
   "cell_type": "code",
   "execution_count": 4,
   "id": "fb8520cf",
   "metadata": {
    "execution": {
     "iopub.execute_input": "2022-11-24T19:33:20.392292Z",
     "iopub.status.busy": "2022-11-24T19:33:20.391893Z",
     "iopub.status.idle": "2022-11-24T19:33:20.399618Z",
     "shell.execute_reply": "2022-11-24T19:33:20.398911Z"
    },
    "papermill": {
     "duration": 0.028017,
     "end_time": "2022-11-24T19:33:20.402494",
     "exception": false,
     "start_time": "2022-11-24T19:33:20.374477",
     "status": "completed"
    },
    "tags": []
   },
   "outputs": [
    {
     "data": {
      "text/plain": [
       "(1728, 7)"
      ]
     },
     "execution_count": 4,
     "metadata": {},
     "output_type": "execute_result"
    }
   ],
   "source": [
    "df.shape"
   ]
  },
  {
   "cell_type": "code",
   "execution_count": 5,
   "id": "4e9f9098",
   "metadata": {
    "execution": {
     "iopub.execute_input": "2022-11-24T19:33:20.437202Z",
     "iopub.status.busy": "2022-11-24T19:33:20.436633Z",
     "iopub.status.idle": "2022-11-24T19:33:20.462772Z",
     "shell.execute_reply": "2022-11-24T19:33:20.461357Z"
    },
    "papermill": {
     "duration": 0.047849,
     "end_time": "2022-11-24T19:33:20.466050",
     "exception": false,
     "start_time": "2022-11-24T19:33:20.418201",
     "status": "completed"
    },
    "tags": []
   },
   "outputs": [
    {
     "data": {
      "text/html": [
       "<div>\n",
       "<style scoped>\n",
       "    .dataframe tbody tr th:only-of-type {\n",
       "        vertical-align: middle;\n",
       "    }\n",
       "\n",
       "    .dataframe tbody tr th {\n",
       "        vertical-align: top;\n",
       "    }\n",
       "\n",
       "    .dataframe thead th {\n",
       "        text-align: right;\n",
       "    }\n",
       "</style>\n",
       "<table border=\"1\" class=\"dataframe\">\n",
       "  <thead>\n",
       "    <tr style=\"text-align: right;\">\n",
       "      <th></th>\n",
       "      <th>0</th>\n",
       "      <th>1</th>\n",
       "      <th>2</th>\n",
       "      <th>3</th>\n",
       "      <th>4</th>\n",
       "      <th>5</th>\n",
       "      <th>6</th>\n",
       "    </tr>\n",
       "  </thead>\n",
       "  <tbody>\n",
       "    <tr>\n",
       "      <th>0</th>\n",
       "      <td>vhigh</td>\n",
       "      <td>vhigh</td>\n",
       "      <td>2</td>\n",
       "      <td>2</td>\n",
       "      <td>small</td>\n",
       "      <td>low</td>\n",
       "      <td>unacc</td>\n",
       "    </tr>\n",
       "    <tr>\n",
       "      <th>1</th>\n",
       "      <td>vhigh</td>\n",
       "      <td>vhigh</td>\n",
       "      <td>2</td>\n",
       "      <td>2</td>\n",
       "      <td>small</td>\n",
       "      <td>med</td>\n",
       "      <td>unacc</td>\n",
       "    </tr>\n",
       "    <tr>\n",
       "      <th>2</th>\n",
       "      <td>vhigh</td>\n",
       "      <td>vhigh</td>\n",
       "      <td>2</td>\n",
       "      <td>2</td>\n",
       "      <td>small</td>\n",
       "      <td>high</td>\n",
       "      <td>unacc</td>\n",
       "    </tr>\n",
       "    <tr>\n",
       "      <th>3</th>\n",
       "      <td>vhigh</td>\n",
       "      <td>vhigh</td>\n",
       "      <td>2</td>\n",
       "      <td>2</td>\n",
       "      <td>med</td>\n",
       "      <td>low</td>\n",
       "      <td>unacc</td>\n",
       "    </tr>\n",
       "    <tr>\n",
       "      <th>4</th>\n",
       "      <td>vhigh</td>\n",
       "      <td>vhigh</td>\n",
       "      <td>2</td>\n",
       "      <td>2</td>\n",
       "      <td>med</td>\n",
       "      <td>med</td>\n",
       "      <td>unacc</td>\n",
       "    </tr>\n",
       "  </tbody>\n",
       "</table>\n",
       "</div>"
      ],
      "text/plain": [
       "       0      1  2  3      4     5      6\n",
       "0  vhigh  vhigh  2  2  small   low  unacc\n",
       "1  vhigh  vhigh  2  2  small   med  unacc\n",
       "2  vhigh  vhigh  2  2  small  high  unacc\n",
       "3  vhigh  vhigh  2  2    med   low  unacc\n",
       "4  vhigh  vhigh  2  2    med   med  unacc"
      ]
     },
     "execution_count": 5,
     "metadata": {},
     "output_type": "execute_result"
    }
   ],
   "source": [
    "df.head()"
   ]
  },
  {
   "cell_type": "code",
   "execution_count": 6,
   "id": "508fe26d",
   "metadata": {
    "execution": {
     "iopub.execute_input": "2022-11-24T19:33:20.510158Z",
     "iopub.status.busy": "2022-11-24T19:33:20.508994Z",
     "iopub.status.idle": "2022-11-24T19:33:20.517191Z",
     "shell.execute_reply": "2022-11-24T19:33:20.516174Z"
    },
    "papermill": {
     "duration": 0.03457,
     "end_time": "2022-11-24T19:33:20.519267",
     "exception": false,
     "start_time": "2022-11-24T19:33:20.484697",
     "status": "completed"
    },
    "tags": []
   },
   "outputs": [
    {
     "data": {
      "text/plain": [
       "['buying', 'maint', 'doors', 'persons', 'lug_boot', 'safety', 'class']"
      ]
     },
     "execution_count": 6,
     "metadata": {},
     "output_type": "execute_result"
    }
   ],
   "source": [
    "# Rename column names\n",
    "\n",
    "col_names = ['buying', 'maint', 'doors', 'persons', 'lug_boot', 'safety', 'class']\n",
    "\n",
    "\n",
    "df.columns = col_names\n",
    "\n",
    "col_names"
   ]
  },
  {
   "cell_type": "code",
   "execution_count": 7,
   "id": "6a545f5d",
   "metadata": {
    "execution": {
     "iopub.execute_input": "2022-11-24T19:33:20.554347Z",
     "iopub.status.busy": "2022-11-24T19:33:20.553398Z",
     "iopub.status.idle": "2022-11-24T19:33:20.567867Z",
     "shell.execute_reply": "2022-11-24T19:33:20.566857Z"
    },
    "papermill": {
     "duration": 0.034897,
     "end_time": "2022-11-24T19:33:20.570322",
     "exception": false,
     "start_time": "2022-11-24T19:33:20.535425",
     "status": "completed"
    },
    "tags": []
   },
   "outputs": [
    {
     "data": {
      "text/html": [
       "<div>\n",
       "<style scoped>\n",
       "    .dataframe tbody tr th:only-of-type {\n",
       "        vertical-align: middle;\n",
       "    }\n",
       "\n",
       "    .dataframe tbody tr th {\n",
       "        vertical-align: top;\n",
       "    }\n",
       "\n",
       "    .dataframe thead th {\n",
       "        text-align: right;\n",
       "    }\n",
       "</style>\n",
       "<table border=\"1\" class=\"dataframe\">\n",
       "  <thead>\n",
       "    <tr style=\"text-align: right;\">\n",
       "      <th></th>\n",
       "      <th>buying</th>\n",
       "      <th>maint</th>\n",
       "      <th>doors</th>\n",
       "      <th>persons</th>\n",
       "      <th>lug_boot</th>\n",
       "      <th>safety</th>\n",
       "      <th>class</th>\n",
       "    </tr>\n",
       "  </thead>\n",
       "  <tbody>\n",
       "    <tr>\n",
       "      <th>0</th>\n",
       "      <td>vhigh</td>\n",
       "      <td>vhigh</td>\n",
       "      <td>2</td>\n",
       "      <td>2</td>\n",
       "      <td>small</td>\n",
       "      <td>low</td>\n",
       "      <td>unacc</td>\n",
       "    </tr>\n",
       "    <tr>\n",
       "      <th>1</th>\n",
       "      <td>vhigh</td>\n",
       "      <td>vhigh</td>\n",
       "      <td>2</td>\n",
       "      <td>2</td>\n",
       "      <td>small</td>\n",
       "      <td>med</td>\n",
       "      <td>unacc</td>\n",
       "    </tr>\n",
       "    <tr>\n",
       "      <th>2</th>\n",
       "      <td>vhigh</td>\n",
       "      <td>vhigh</td>\n",
       "      <td>2</td>\n",
       "      <td>2</td>\n",
       "      <td>small</td>\n",
       "      <td>high</td>\n",
       "      <td>unacc</td>\n",
       "    </tr>\n",
       "    <tr>\n",
       "      <th>3</th>\n",
       "      <td>vhigh</td>\n",
       "      <td>vhigh</td>\n",
       "      <td>2</td>\n",
       "      <td>2</td>\n",
       "      <td>med</td>\n",
       "      <td>low</td>\n",
       "      <td>unacc</td>\n",
       "    </tr>\n",
       "    <tr>\n",
       "      <th>4</th>\n",
       "      <td>vhigh</td>\n",
       "      <td>vhigh</td>\n",
       "      <td>2</td>\n",
       "      <td>2</td>\n",
       "      <td>med</td>\n",
       "      <td>med</td>\n",
       "      <td>unacc</td>\n",
       "    </tr>\n",
       "  </tbody>\n",
       "</table>\n",
       "</div>"
      ],
      "text/plain": [
       "  buying  maint doors persons lug_boot safety  class\n",
       "0  vhigh  vhigh     2       2    small    low  unacc\n",
       "1  vhigh  vhigh     2       2    small    med  unacc\n",
       "2  vhigh  vhigh     2       2    small   high  unacc\n",
       "3  vhigh  vhigh     2       2      med    low  unacc\n",
       "4  vhigh  vhigh     2       2      med    med  unacc"
      ]
     },
     "execution_count": 7,
     "metadata": {},
     "output_type": "execute_result"
    }
   ],
   "source": [
    "# let's again preview the dataset\n",
    "\n",
    "df.head()"
   ]
  },
  {
   "cell_type": "code",
   "execution_count": 8,
   "id": "d29828bc",
   "metadata": {
    "execution": {
     "iopub.execute_input": "2022-11-24T19:33:20.604522Z",
     "iopub.status.busy": "2022-11-24T19:33:20.603785Z",
     "iopub.status.idle": "2022-11-24T19:33:20.624843Z",
     "shell.execute_reply": "2022-11-24T19:33:20.623626Z"
    },
    "papermill": {
     "duration": 0.041362,
     "end_time": "2022-11-24T19:33:20.627906",
     "exception": false,
     "start_time": "2022-11-24T19:33:20.586544",
     "status": "completed"
    },
    "tags": []
   },
   "outputs": [
    {
     "name": "stdout",
     "output_type": "stream",
     "text": [
      "<class 'pandas.core.frame.DataFrame'>\n",
      "RangeIndex: 1728 entries, 0 to 1727\n",
      "Data columns (total 7 columns):\n",
      " #   Column    Non-Null Count  Dtype \n",
      "---  ------    --------------  ----- \n",
      " 0   buying    1728 non-null   object\n",
      " 1   maint     1728 non-null   object\n",
      " 2   doors     1728 non-null   object\n",
      " 3   persons   1728 non-null   object\n",
      " 4   lug_boot  1728 non-null   object\n",
      " 5   safety    1728 non-null   object\n",
      " 6   class     1728 non-null   object\n",
      "dtypes: object(7)\n",
      "memory usage: 94.6+ KB\n"
     ]
    }
   ],
   "source": [
    "df.info()"
   ]
  },
  {
   "cell_type": "code",
   "execution_count": 9,
   "id": "53c25e06",
   "metadata": {
    "execution": {
     "iopub.execute_input": "2022-11-24T19:33:20.662686Z",
     "iopub.status.busy": "2022-11-24T19:33:20.662038Z",
     "iopub.status.idle": "2022-11-24T19:33:20.669025Z",
     "shell.execute_reply": "2022-11-24T19:33:20.668127Z"
    },
    "papermill": {
     "duration": 0.026786,
     "end_time": "2022-11-24T19:33:20.671067",
     "exception": false,
     "start_time": "2022-11-24T19:33:20.644281",
     "status": "completed"
    },
    "tags": []
   },
   "outputs": [
    {
     "data": {
      "text/plain": [
       "array(['unacc', 'acc', 'vgood', 'good'], dtype=object)"
      ]
     },
     "execution_count": 9,
     "metadata": {},
     "output_type": "execute_result"
    }
   ],
   "source": [
    "df['class'].unique()"
   ]
  },
  {
   "cell_type": "code",
   "execution_count": 10,
   "id": "e43990d3",
   "metadata": {
    "execution": {
     "iopub.execute_input": "2022-11-24T19:33:20.706833Z",
     "iopub.status.busy": "2022-11-24T19:33:20.706111Z",
     "iopub.status.idle": "2022-11-24T19:33:20.714570Z",
     "shell.execute_reply": "2022-11-24T19:33:20.713707Z"
    },
    "papermill": {
     "duration": 0.028432,
     "end_time": "2022-11-24T19:33:20.716582",
     "exception": false,
     "start_time": "2022-11-24T19:33:20.688150",
     "status": "completed"
    },
    "tags": []
   },
   "outputs": [
    {
     "data": {
      "text/plain": [
       "unacc    1210\n",
       "acc       384\n",
       "good       69\n",
       "vgood      65\n",
       "Name: class, dtype: int64"
      ]
     },
     "execution_count": 10,
     "metadata": {},
     "output_type": "execute_result"
    }
   ],
   "source": [
    "df['class'].value_counts()"
   ]
  },
  {
   "cell_type": "markdown",
   "id": "ff9a34eb",
   "metadata": {
    "papermill": {
     "duration": 0.016469,
     "end_time": "2022-11-24T19:33:20.749629",
     "exception": false,
     "start_time": "2022-11-24T19:33:20.733160",
     "status": "completed"
    },
    "tags": []
   },
   "source": [
    "### Missing values in variables"
   ]
  },
  {
   "cell_type": "code",
   "execution_count": 11,
   "id": "27696334",
   "metadata": {
    "execution": {
     "iopub.execute_input": "2022-11-24T19:33:20.786518Z",
     "iopub.status.busy": "2022-11-24T19:33:20.785888Z",
     "iopub.status.idle": "2022-11-24T19:33:20.795535Z",
     "shell.execute_reply": "2022-11-24T19:33:20.794393Z"
    },
    "papermill": {
     "duration": 0.031874,
     "end_time": "2022-11-24T19:33:20.798834",
     "exception": false,
     "start_time": "2022-11-24T19:33:20.766960",
     "status": "completed"
    },
    "tags": []
   },
   "outputs": [
    {
     "data": {
      "text/plain": [
       "buying      0\n",
       "maint       0\n",
       "doors       0\n",
       "persons     0\n",
       "lug_boot    0\n",
       "safety      0\n",
       "class       0\n",
       "dtype: int64"
      ]
     },
     "execution_count": 11,
     "metadata": {},
     "output_type": "execute_result"
    }
   ],
   "source": [
    "# check missing values in variables\n",
    "\n",
    "df.isnull().sum()"
   ]
  },
  {
   "cell_type": "markdown",
   "id": "0a71e3a9",
   "metadata": {
    "papermill": {
     "duration": 0.024892,
     "end_time": "2022-11-24T19:33:20.848650",
     "exception": false,
     "start_time": "2022-11-24T19:33:20.823758",
     "status": "completed"
    },
    "tags": []
   },
   "source": [
    "# 3. X, y"
   ]
  },
  {
   "cell_type": "code",
   "execution_count": 12,
   "id": "98cb35b8",
   "metadata": {
    "execution": {
     "iopub.execute_input": "2022-11-24T19:33:20.894403Z",
     "iopub.status.busy": "2022-11-24T19:33:20.894010Z",
     "iopub.status.idle": "2022-11-24T19:33:20.900371Z",
     "shell.execute_reply": "2022-11-24T19:33:20.899495Z"
    },
    "papermill": {
     "duration": 0.029197,
     "end_time": "2022-11-24T19:33:20.902600",
     "exception": false,
     "start_time": "2022-11-24T19:33:20.873403",
     "status": "completed"
    },
    "tags": []
   },
   "outputs": [],
   "source": [
    "X = df.drop(['class'], axis=1)\n",
    "\n",
    "y = df['class']"
   ]
  },
  {
   "cell_type": "markdown",
   "id": "6476aa60",
   "metadata": {
    "papermill": {
     "duration": 0.016426,
     "end_time": "2022-11-24T19:33:20.935826",
     "exception": false,
     "start_time": "2022-11-24T19:33:20.919400",
     "status": "completed"
    },
    "tags": []
   },
   "source": [
    "# 4. train test split"
   ]
  },
  {
   "cell_type": "code",
   "execution_count": 13,
   "id": "4a3dec41",
   "metadata": {
    "execution": {
     "iopub.execute_input": "2022-11-24T19:33:20.978467Z",
     "iopub.status.busy": "2022-11-24T19:33:20.977704Z",
     "iopub.status.idle": "2022-11-24T19:33:20.984483Z",
     "shell.execute_reply": "2022-11-24T19:33:20.983771Z"
    },
    "papermill": {
     "duration": 0.033087,
     "end_time": "2022-11-24T19:33:20.986679",
     "exception": false,
     "start_time": "2022-11-24T19:33:20.953592",
     "status": "completed"
    },
    "tags": []
   },
   "outputs": [],
   "source": [
    "# split X and y into training and testing sets\n",
    "\n",
    "X_train, X_test, y_train, y_test = train_test_split(X, y, test_size = 0.33, random_state = 42)"
   ]
  },
  {
   "cell_type": "code",
   "execution_count": 14,
   "id": "bfbe2f72",
   "metadata": {
    "execution": {
     "iopub.execute_input": "2022-11-24T19:33:21.022050Z",
     "iopub.status.busy": "2022-11-24T19:33:21.021526Z",
     "iopub.status.idle": "2022-11-24T19:33:21.029938Z",
     "shell.execute_reply": "2022-11-24T19:33:21.028705Z"
    },
    "papermill": {
     "duration": 0.028876,
     "end_time": "2022-11-24T19:33:21.032206",
     "exception": false,
     "start_time": "2022-11-24T19:33:21.003330",
     "status": "completed"
    },
    "tags": []
   },
   "outputs": [
    {
     "data": {
      "text/plain": [
       "((1157, 6), (571, 6))"
      ]
     },
     "execution_count": 14,
     "metadata": {},
     "output_type": "execute_result"
    }
   ],
   "source": [
    "# check the shape of X_train and X_test\n",
    "\n",
    "X_train.shape, X_test.shape"
   ]
  },
  {
   "cell_type": "markdown",
   "id": "dfc9191b",
   "metadata": {
    "papermill": {
     "duration": 0.016592,
     "end_time": "2022-11-24T19:33:21.065907",
     "exception": false,
     "start_time": "2022-11-24T19:33:21.049315",
     "status": "completed"
    },
    "tags": []
   },
   "source": [
    "# 5. Preprocessing"
   ]
  },
  {
   "cell_type": "code",
   "execution_count": 15,
   "id": "cc11b341",
   "metadata": {
    "execution": {
     "iopub.execute_input": "2022-11-24T19:33:21.106859Z",
     "iopub.status.busy": "2022-11-24T19:33:21.105595Z",
     "iopub.status.idle": "2022-11-24T19:33:21.116577Z",
     "shell.execute_reply": "2022-11-24T19:33:21.114932Z"
    },
    "papermill": {
     "duration": 0.03307,
     "end_time": "2022-11-24T19:33:21.119424",
     "exception": false,
     "start_time": "2022-11-24T19:33:21.086354",
     "status": "completed"
    },
    "tags": []
   },
   "outputs": [
    {
     "data": {
      "text/plain": [
       "buying      object\n",
       "maint       object\n",
       "doors       object\n",
       "persons     object\n",
       "lug_boot    object\n",
       "safety      object\n",
       "dtype: object"
      ]
     },
     "execution_count": 15,
     "metadata": {},
     "output_type": "execute_result"
    }
   ],
   "source": [
    "# check data types in X_train\n",
    "\n",
    "X_train.dtypes"
   ]
  },
  {
   "cell_type": "markdown",
   "id": "174f97c3",
   "metadata": {
    "papermill": {
     "duration": 0.026151,
     "end_time": "2022-11-24T19:33:21.170862",
     "exception": false,
     "start_time": "2022-11-24T19:33:21.144711",
     "status": "completed"
    },
    "tags": []
   },
   "source": [
    "### Encode categorical variables"
   ]
  },
  {
   "cell_type": "code",
   "execution_count": 16,
   "id": "45605e87",
   "metadata": {
    "execution": {
     "iopub.execute_input": "2022-11-24T19:33:21.225168Z",
     "iopub.status.busy": "2022-11-24T19:33:21.224663Z",
     "iopub.status.idle": "2022-11-24T19:33:21.281557Z",
     "shell.execute_reply": "2022-11-24T19:33:21.280236Z"
    },
    "papermill": {
     "duration": 0.087603,
     "end_time": "2022-11-24T19:33:21.284417",
     "exception": false,
     "start_time": "2022-11-24T19:33:21.196814",
     "status": "completed"
    },
    "tags": []
   },
   "outputs": [],
   "source": [
    "# encode variables with ordinal encoding\n",
    "\n",
    "# import category_encoders as ce\n",
    "\n",
    "encoder = ce.OrdinalEncoder(cols=['buying', 'maint', 'doors', 'persons', 'lug_boot', 'safety'])\n",
    "\n",
    "\n",
    "X_train = encoder.fit_transform(X_train)\n",
    "\n",
    "X_test = encoder.transform(X_test)"
   ]
  },
  {
   "cell_type": "markdown",
   "id": "a288f5b8",
   "metadata": {
    "papermill": {
     "duration": 0.016815,
     "end_time": "2022-11-24T19:33:21.318869",
     "exception": false,
     "start_time": "2022-11-24T19:33:21.302054",
     "status": "completed"
    },
    "tags": []
   },
   "source": [
    "# 6. Decision Tree Classifier with criterion gini index"
   ]
  },
  {
   "cell_type": "code",
   "execution_count": 17,
   "id": "1becd9ce",
   "metadata": {
    "execution": {
     "iopub.execute_input": "2022-11-24T19:33:21.355426Z",
     "iopub.status.busy": "2022-11-24T19:33:21.354410Z",
     "iopub.status.idle": "2022-11-24T19:33:21.368969Z",
     "shell.execute_reply": "2022-11-24T19:33:21.367805Z"
    },
    "papermill": {
     "duration": 0.035376,
     "end_time": "2022-11-24T19:33:21.371341",
     "exception": false,
     "start_time": "2022-11-24T19:33:21.335965",
     "status": "completed"
    },
    "tags": []
   },
   "outputs": [
    {
     "data": {
      "text/plain": [
       "DecisionTreeClassifier(max_depth=3, random_state=42)"
      ]
     },
     "execution_count": 17,
     "metadata": {},
     "output_type": "execute_result"
    }
   ],
   "source": [
    "# instantiate the DecisionTreeClassifier model with criterion gini index\n",
    "\n",
    "clf_gini = DecisionTreeClassifier(criterion='gini', max_depth=3, random_state=42)\n",
    "\n",
    "\n",
    "# fit the model\n",
    "clf_gini.fit(X_train, y_train)"
   ]
  },
  {
   "cell_type": "markdown",
   "id": "996ff6b0",
   "metadata": {
    "papermill": {
     "duration": 0.0169,
     "end_time": "2022-11-24T19:33:21.405246",
     "exception": false,
     "start_time": "2022-11-24T19:33:21.388346",
     "status": "completed"
    },
    "tags": []
   },
   "source": [
    "### Predict the Test set results with criterion gini index"
   ]
  },
  {
   "cell_type": "code",
   "execution_count": 18,
   "id": "042df30d",
   "metadata": {
    "execution": {
     "iopub.execute_input": "2022-11-24T19:33:21.444185Z",
     "iopub.status.busy": "2022-11-24T19:33:21.443150Z",
     "iopub.status.idle": "2022-11-24T19:33:21.451044Z",
     "shell.execute_reply": "2022-11-24T19:33:21.450061Z"
    },
    "papermill": {
     "duration": 0.030948,
     "end_time": "2022-11-24T19:33:21.453135",
     "exception": false,
     "start_time": "2022-11-24T19:33:21.422187",
     "status": "completed"
    },
    "tags": []
   },
   "outputs": [],
   "source": [
    "y_pred_gini = clf_gini.predict(X_test)"
   ]
  },
  {
   "cell_type": "markdown",
   "id": "23e1f153",
   "metadata": {
    "papermill": {
     "duration": 0.017733,
     "end_time": "2022-11-24T19:33:21.488222",
     "exception": false,
     "start_time": "2022-11-24T19:33:21.470489",
     "status": "completed"
    },
    "tags": []
   },
   "source": [
    "### Check accuracy score with criterion gini index"
   ]
  },
  {
   "cell_type": "code",
   "execution_count": 19,
   "id": "3fb06e1e",
   "metadata": {
    "execution": {
     "iopub.execute_input": "2022-11-24T19:33:21.526408Z",
     "iopub.status.busy": "2022-11-24T19:33:21.525526Z",
     "iopub.status.idle": "2022-11-24T19:33:21.534099Z",
     "shell.execute_reply": "2022-11-24T19:33:21.533114Z"
    },
    "papermill": {
     "duration": 0.029883,
     "end_time": "2022-11-24T19:33:21.536182",
     "exception": false,
     "start_time": "2022-11-24T19:33:21.506299",
     "status": "completed"
    },
    "tags": []
   },
   "outputs": [
    {
     "data": {
      "text/plain": [
       "0.8021015761821366"
      ]
     },
     "execution_count": 19,
     "metadata": {},
     "output_type": "execute_result"
    }
   ],
   "source": [
    "accuracy_score(y_test, y_pred_gini)"
   ]
  },
  {
   "cell_type": "markdown",
   "id": "add76a51",
   "metadata": {
    "papermill": {
     "duration": 0.016859,
     "end_time": "2022-11-24T19:33:21.570317",
     "exception": false,
     "start_time": "2022-11-24T19:33:21.553458",
     "status": "completed"
    },
    "tags": []
   },
   "source": [
    "### Compare the train-set and test-set accuracy"
   ]
  },
  {
   "cell_type": "code",
   "execution_count": 20,
   "id": "de936eab",
   "metadata": {
    "execution": {
     "iopub.execute_input": "2022-11-24T19:33:21.607330Z",
     "iopub.status.busy": "2022-11-24T19:33:21.606253Z",
     "iopub.status.idle": "2022-11-24T19:33:21.616264Z",
     "shell.execute_reply": "2022-11-24T19:33:21.615177Z"
    },
    "papermill": {
     "duration": 0.030999,
     "end_time": "2022-11-24T19:33:21.618388",
     "exception": false,
     "start_time": "2022-11-24T19:33:21.587389",
     "status": "completed"
    },
    "tags": []
   },
   "outputs": [
    {
     "data": {
      "text/plain": [
       "array(['unacc', 'unacc', 'unacc', ..., 'unacc', 'unacc', 'acc'],\n",
       "      dtype=object)"
      ]
     },
     "execution_count": 20,
     "metadata": {},
     "output_type": "execute_result"
    }
   ],
   "source": [
    "y_pred_train_gini = clf_gini.predict(X_train)\n",
    "\n",
    "y_pred_train_gini"
   ]
  },
  {
   "cell_type": "markdown",
   "id": "72835622",
   "metadata": {
    "papermill": {
     "duration": 0.017043,
     "end_time": "2022-11-24T19:33:21.653161",
     "exception": false,
     "start_time": "2022-11-24T19:33:21.636118",
     "status": "completed"
    },
    "tags": []
   },
   "source": [
    "### Check for overfitting and underfitting"
   ]
  },
  {
   "cell_type": "code",
   "execution_count": 21,
   "id": "7a7cb06b",
   "metadata": {
    "execution": {
     "iopub.execute_input": "2022-11-24T19:33:21.690166Z",
     "iopub.status.busy": "2022-11-24T19:33:21.689361Z",
     "iopub.status.idle": "2022-11-24T19:33:21.700731Z",
     "shell.execute_reply": "2022-11-24T19:33:21.699661Z"
    },
    "papermill": {
     "duration": 0.032426,
     "end_time": "2022-11-24T19:33:21.702892",
     "exception": false,
     "start_time": "2022-11-24T19:33:21.670466",
     "status": "completed"
    },
    "tags": []
   },
   "outputs": [
    {
     "data": {
      "text/plain": [
       "0.7865168539325843"
      ]
     },
     "execution_count": 21,
     "metadata": {},
     "output_type": "execute_result"
    }
   ],
   "source": [
    "# print the scores on training and test set\n",
    "\n",
    "clf_gini.score(X_train, y_train)"
   ]
  },
  {
   "cell_type": "code",
   "execution_count": 22,
   "id": "e0223f2a",
   "metadata": {
    "execution": {
     "iopub.execute_input": "2022-11-24T19:33:21.739889Z",
     "iopub.status.busy": "2022-11-24T19:33:21.739166Z",
     "iopub.status.idle": "2022-11-24T19:33:21.749573Z",
     "shell.execute_reply": "2022-11-24T19:33:21.748277Z"
    },
    "papermill": {
     "duration": 0.031593,
     "end_time": "2022-11-24T19:33:21.751831",
     "exception": false,
     "start_time": "2022-11-24T19:33:21.720238",
     "status": "completed"
    },
    "tags": []
   },
   "outputs": [
    {
     "data": {
      "text/plain": [
       "0.8021015761821366"
      ]
     },
     "execution_count": 22,
     "metadata": {},
     "output_type": "execute_result"
    }
   ],
   "source": [
    "clf_gini.score(X_test, y_test)"
   ]
  },
  {
   "cell_type": "markdown",
   "id": "438c171d",
   "metadata": {
    "papermill": {
     "duration": 0.017063,
     "end_time": "2022-11-24T19:33:21.788673",
     "exception": false,
     "start_time": "2022-11-24T19:33:21.771610",
     "status": "completed"
    },
    "tags": []
   },
   "source": [
    "### feature importances"
   ]
  },
  {
   "cell_type": "code",
   "execution_count": 23,
   "id": "f27e487e",
   "metadata": {
    "execution": {
     "iopub.execute_input": "2022-11-24T19:33:21.825020Z",
     "iopub.status.busy": "2022-11-24T19:33:21.824644Z",
     "iopub.status.idle": "2022-11-24T19:33:21.835288Z",
     "shell.execute_reply": "2022-11-24T19:33:21.834202Z"
    },
    "papermill": {
     "duration": 0.031461,
     "end_time": "2022-11-24T19:33:21.837576",
     "exception": false,
     "start_time": "2022-11-24T19:33:21.806115",
     "status": "completed"
    },
    "tags": []
   },
   "outputs": [
    {
     "data": {
      "text/html": [
       "<div>\n",
       "<style scoped>\n",
       "    .dataframe tbody tr th:only-of-type {\n",
       "        vertical-align: middle;\n",
       "    }\n",
       "\n",
       "    .dataframe tbody tr th {\n",
       "        vertical-align: top;\n",
       "    }\n",
       "\n",
       "    .dataframe thead th {\n",
       "        text-align: right;\n",
       "    }\n",
       "</style>\n",
       "<table border=\"1\" class=\"dataframe\">\n",
       "  <thead>\n",
       "    <tr style=\"text-align: right;\">\n",
       "      <th></th>\n",
       "      <th>Feature Importance</th>\n",
       "    </tr>\n",
       "  </thead>\n",
       "  <tbody>\n",
       "    <tr>\n",
       "      <th>buying</th>\n",
       "      <td>0.135144</td>\n",
       "    </tr>\n",
       "    <tr>\n",
       "      <th>maint</th>\n",
       "      <td>0.000000</td>\n",
       "    </tr>\n",
       "    <tr>\n",
       "      <th>doors</th>\n",
       "      <td>0.000000</td>\n",
       "    </tr>\n",
       "    <tr>\n",
       "      <th>persons</th>\n",
       "      <td>0.505174</td>\n",
       "    </tr>\n",
       "    <tr>\n",
       "      <th>lug_boot</th>\n",
       "      <td>0.000000</td>\n",
       "    </tr>\n",
       "    <tr>\n",
       "      <th>safety</th>\n",
       "      <td>0.359682</td>\n",
       "    </tr>\n",
       "  </tbody>\n",
       "</table>\n",
       "</div>"
      ],
      "text/plain": [
       "          Feature Importance\n",
       "buying              0.135144\n",
       "maint               0.000000\n",
       "doors               0.000000\n",
       "persons             0.505174\n",
       "lug_boot            0.000000\n",
       "safety              0.359682"
      ]
     },
     "execution_count": 23,
     "metadata": {},
     "output_type": "execute_result"
    }
   ],
   "source": [
    "pd.DataFrame(index=X.columns,data=clf_gini.feature_importances_,columns=['Feature Importance'])"
   ]
  },
  {
   "cell_type": "markdown",
   "id": "325644fc",
   "metadata": {
    "papermill": {
     "duration": 0.017771,
     "end_time": "2022-11-24T19:33:21.872991",
     "exception": false,
     "start_time": "2022-11-24T19:33:21.855220",
     "status": "completed"
    },
    "tags": []
   },
   "source": [
    "### Visualize decision-trees"
   ]
  },
  {
   "cell_type": "code",
   "execution_count": 24,
   "id": "8e146fbb",
   "metadata": {
    "execution": {
     "iopub.execute_input": "2022-11-24T19:33:21.909643Z",
     "iopub.status.busy": "2022-11-24T19:33:21.909240Z",
     "iopub.status.idle": "2022-11-24T19:33:22.484996Z",
     "shell.execute_reply": "2022-11-24T19:33:22.483203Z"
    },
    "papermill": {
     "duration": 0.598206,
     "end_time": "2022-11-24T19:33:22.488744",
     "exception": false,
     "start_time": "2022-11-24T19:33:21.890538",
     "status": "completed"
    },
    "tags": []
   },
   "outputs": [
    {
     "data": {
      "image/png": "[encoded data removed]",
      "text/plain": [
       "<Figure size 800x800 with 1 Axes>"
      ]
     },
     "metadata": {
      "needs_background": "light"
     },
     "output_type": "display_data"
    }
   ],
   "source": [
    "plt.figure(figsize=(8,8),dpi=100)\n",
    "plot_tree(clf_gini,filled=True,feature_names=X.columns);"
   ]
  },
  {
   "cell_type": "code",
   "execution_count": 25,
   "id": "53f5d6e4",
   "metadata": {
    "execution": {
     "iopub.execute_input": "2022-11-24T19:33:22.549035Z",
     "iopub.status.busy": "2022-11-24T19:33:22.548117Z",
     "iopub.status.idle": "2022-11-24T19:33:22.555540Z",
     "shell.execute_reply": "2022-11-24T19:33:22.554678Z"
    },
    "papermill": {
     "duration": 0.042069,
     "end_time": "2022-11-24T19:33:22.557719",
     "exception": false,
     "start_time": "2022-11-24T19:33:22.515650",
     "status": "completed"
    },
    "tags": []
   },
   "outputs": [
    {
     "data": {
      "text/plain": [
       "386"
      ]
     },
     "execution_count": 25,
     "metadata": {},
     "output_type": "execute_result"
    }
   ],
   "source": [
    "(X_train['safety']<=1.5).sum()"
   ]
  },
  {
   "cell_type": "code",
   "execution_count": 26,
   "id": "68dcfb0a",
   "metadata": {
    "execution": {
     "iopub.execute_input": "2022-11-24T19:33:22.599715Z",
     "iopub.status.busy": "2022-11-24T19:33:22.598592Z",
     "iopub.status.idle": "2022-11-24T19:33:22.606901Z",
     "shell.execute_reply": "2022-11-24T19:33:22.605697Z"
    },
    "papermill": {
     "duration": 0.032161,
     "end_time": "2022-11-24T19:33:22.609188",
     "exception": false,
     "start_time": "2022-11-24T19:33:22.577027",
     "status": "completed"
    },
    "tags": []
   },
   "outputs": [
    {
     "data": {
      "text/plain": [
       "771"
      ]
     },
     "execution_count": 26,
     "metadata": {},
     "output_type": "execute_result"
    }
   ],
   "source": [
    "(X_train['safety']>1.5).sum()"
   ]
  },
  {
   "cell_type": "markdown",
   "id": "a6e49eac",
   "metadata": {
    "papermill": {
     "duration": 0.019133,
     "end_time": "2022-11-24T19:33:22.648588",
     "exception": false,
     "start_time": "2022-11-24T19:33:22.629455",
     "status": "completed"
    },
    "tags": []
   },
   "source": [
    "# 7. Decision Tree Classifier with criterion entropy"
   ]
  },
  {
   "cell_type": "code",
   "execution_count": 27,
   "id": "bb7613f1",
   "metadata": {
    "execution": {
     "iopub.execute_input": "2022-11-24T19:33:22.690303Z",
     "iopub.status.busy": "2022-11-24T19:33:22.689130Z",
     "iopub.status.idle": "2022-11-24T19:33:22.701750Z",
     "shell.execute_reply": "2022-11-24T19:33:22.700768Z"
    },
    "papermill": {
     "duration": 0.035283,
     "end_time": "2022-11-24T19:33:22.704013",
     "exception": false,
     "start_time": "2022-11-24T19:33:22.668730",
     "status": "completed"
    },
    "tags": []
   },
   "outputs": [
    {
     "data": {
      "text/plain": [
       "DecisionTreeClassifier(criterion='entropy', max_depth=3, random_state=0)"
      ]
     },
     "execution_count": 27,
     "metadata": {},
     "output_type": "execute_result"
    }
   ],
   "source": [
    "# instantiate the DecisionTreeClassifier model with criterion entropy\n",
    "\n",
    "clf_en = DecisionTreeClassifier(criterion='entropy', max_depth=3, random_state=0)\n",
    "\n",
    "\n",
    "# fit the model\n",
    "clf_en.fit(X_train, y_train)"
   ]
  },
  {
   "cell_type": "markdown",
   "id": "5d5570ef",
   "metadata": {
    "papermill": {
     "duration": 0.018911,
     "end_time": "2022-11-24T19:33:22.742197",
     "exception": false,
     "start_time": "2022-11-24T19:33:22.723286",
     "status": "completed"
    },
    "tags": []
   },
   "source": [
    "### Predict the Test set results with criterion entropy"
   ]
  },
  {
   "cell_type": "code",
   "execution_count": 28,
   "id": "df7ce19a",
   "metadata": {
    "execution": {
     "iopub.execute_input": "2022-11-24T19:33:22.782391Z",
     "iopub.status.busy": "2022-11-24T19:33:22.781755Z",
     "iopub.status.idle": "2022-11-24T19:33:22.787324Z",
     "shell.execute_reply": "2022-11-24T19:33:22.786600Z"
    },
    "papermill": {
     "duration": 0.028088,
     "end_time": "2022-11-24T19:33:22.789372",
     "exception": false,
     "start_time": "2022-11-24T19:33:22.761284",
     "status": "completed"
    },
    "tags": []
   },
   "outputs": [],
   "source": [
    "y_pred_en = clf_en.predict(X_test)"
   ]
  },
  {
   "cell_type": "markdown",
   "id": "6592659c",
   "metadata": {
    "papermill": {
     "duration": 0.019042,
     "end_time": "2022-11-24T19:33:22.827605",
     "exception": false,
     "start_time": "2022-11-24T19:33:22.808563",
     "status": "completed"
    },
    "tags": []
   },
   "source": [
    "### Check accuracy score with criterion entropy"
   ]
  },
  {
   "cell_type": "code",
   "execution_count": 29,
   "id": "3ea2c267",
   "metadata": {
    "execution": {
     "iopub.execute_input": "2022-11-24T19:33:22.868238Z",
     "iopub.status.busy": "2022-11-24T19:33:22.867362Z",
     "iopub.status.idle": "2022-11-24T19:33:22.874096Z",
     "shell.execute_reply": "2022-11-24T19:33:22.873353Z"
    },
    "papermill": {
     "duration": 0.029008,
     "end_time": "2022-11-24T19:33:22.876019",
     "exception": false,
     "start_time": "2022-11-24T19:33:22.847011",
     "status": "completed"
    },
    "tags": []
   },
   "outputs": [
    {
     "data": {
      "text/plain": [
       "0.8021015761821366"
      ]
     },
     "execution_count": 29,
     "metadata": {},
     "output_type": "execute_result"
    }
   ],
   "source": [
    "accuracy_score(y_test, y_pred_en)"
   ]
  },
  {
   "cell_type": "markdown",
   "id": "a5ca2ab3",
   "metadata": {
    "papermill": {
     "duration": 0.01916,
     "end_time": "2022-11-24T19:33:22.914629",
     "exception": false,
     "start_time": "2022-11-24T19:33:22.895469",
     "status": "completed"
    },
    "tags": []
   },
   "source": [
    "### Compare the train-set and test-set accuracy"
   ]
  },
  {
   "cell_type": "code",
   "execution_count": 30,
   "id": "942439b0",
   "metadata": {
    "execution": {
     "iopub.execute_input": "2022-11-24T19:33:22.955213Z",
     "iopub.status.busy": "2022-11-24T19:33:22.954526Z",
     "iopub.status.idle": "2022-11-24T19:33:22.963281Z",
     "shell.execute_reply": "2022-11-24T19:33:22.962279Z"
    },
    "papermill": {
     "duration": 0.031437,
     "end_time": "2022-11-24T19:33:22.965400",
     "exception": false,
     "start_time": "2022-11-24T19:33:22.933963",
     "status": "completed"
    },
    "tags": []
   },
   "outputs": [
    {
     "data": {
      "text/plain": [
       "array(['unacc', 'unacc', 'unacc', ..., 'unacc', 'unacc', 'acc'],\n",
       "      dtype=object)"
      ]
     },
     "execution_count": 30,
     "metadata": {},
     "output_type": "execute_result"
    }
   ],
   "source": [
    "y_pred_train_en = clf_en.predict(X_train)\n",
    "\n",
    "y_pred_train_en"
   ]
  },
  {
   "cell_type": "code",
   "execution_count": 31,
   "id": "45628ffd",
   "metadata": {
    "execution": {
     "iopub.execute_input": "2022-11-24T19:33:23.006323Z",
     "iopub.status.busy": "2022-11-24T19:33:23.005900Z",
     "iopub.status.idle": "2022-11-24T19:33:23.015184Z",
     "shell.execute_reply": "2022-11-24T19:33:23.014020Z"
    },
    "papermill": {
     "duration": 0.032344,
     "end_time": "2022-11-24T19:33:23.017483",
     "exception": false,
     "start_time": "2022-11-24T19:33:22.985139",
     "status": "completed"
    },
    "tags": []
   },
   "outputs": [
    {
     "data": {
      "text/plain": [
       "0.7865168539325843"
      ]
     },
     "execution_count": 31,
     "metadata": {},
     "output_type": "execute_result"
    }
   ],
   "source": [
    "accuracy_score(y_train, y_pred_train_en)"
   ]
  },
  {
   "cell_type": "markdown",
   "id": "e5181a7b",
   "metadata": {
    "papermill": {
     "duration": 0.019295,
     "end_time": "2022-11-24T19:33:23.056432",
     "exception": false,
     "start_time": "2022-11-24T19:33:23.037137",
     "status": "completed"
    },
    "tags": []
   },
   "source": [
    "### Check for overfitting and underfitting"
   ]
  },
  {
   "cell_type": "code",
   "execution_count": 32,
   "id": "56f304a9",
   "metadata": {
    "execution": {
     "iopub.execute_input": "2022-11-24T19:33:23.097415Z",
     "iopub.status.busy": "2022-11-24T19:33:23.097008Z",
     "iopub.status.idle": "2022-11-24T19:33:23.106524Z",
     "shell.execute_reply": "2022-11-24T19:33:23.105764Z"
    },
    "papermill": {
     "duration": 0.032325,
     "end_time": "2022-11-24T19:33:23.108402",
     "exception": false,
     "start_time": "2022-11-24T19:33:23.076077",
     "status": "completed"
    },
    "tags": []
   },
   "outputs": [
    {
     "data": {
      "text/plain": [
       "0.7865168539325843"
      ]
     },
     "execution_count": 32,
     "metadata": {},
     "output_type": "execute_result"
    }
   ],
   "source": [
    "# print the scores on training and test set\n",
    "\n",
    "clf_en.score(X_train, y_train)"
   ]
  },
  {
   "cell_type": "code",
   "execution_count": 33,
   "id": "83e37590",
   "metadata": {
    "execution": {
     "iopub.execute_input": "2022-11-24T19:33:23.149589Z",
     "iopub.status.busy": "2022-11-24T19:33:23.149185Z",
     "iopub.status.idle": "2022-11-24T19:33:23.159204Z",
     "shell.execute_reply": "2022-11-24T19:33:23.158092Z"
    },
    "papermill": {
     "duration": 0.033418,
     "end_time": "2022-11-24T19:33:23.161439",
     "exception": false,
     "start_time": "2022-11-24T19:33:23.128021",
     "status": "completed"
    },
    "tags": []
   },
   "outputs": [
    {
     "data": {
      "text/plain": [
       "0.8021015761821366"
      ]
     },
     "execution_count": 33,
     "metadata": {},
     "output_type": "execute_result"
    }
   ],
   "source": [
    "clf_en.score(X_test, y_test)"
   ]
  },
  {
   "cell_type": "markdown",
   "id": "10589ddb",
   "metadata": {
    "papermill": {
     "duration": 0.019336,
     "end_time": "2022-11-24T19:33:23.200940",
     "exception": false,
     "start_time": "2022-11-24T19:33:23.181604",
     "status": "completed"
    },
    "tags": []
   },
   "source": [
    "### Visualize decision-trees"
   ]
  },
  {
   "cell_type": "code",
   "execution_count": 34,
   "id": "c5480232",
   "metadata": {
    "execution": {
     "iopub.execute_input": "2022-11-24T19:33:23.242711Z",
     "iopub.status.busy": "2022-11-24T19:33:23.242108Z",
     "iopub.status.idle": "2022-11-24T19:33:23.733306Z",
     "shell.execute_reply": "2022-11-24T19:33:23.732190Z"
    },
    "papermill": {
     "duration": 0.514872,
     "end_time": "2022-11-24T19:33:23.736008",
     "exception": false,
     "start_time": "2022-11-24T19:33:23.221136",
     "status": "completed"
    },
    "tags": []
   },
   "outputs": [
    {
     "data": {
      "image/png": "[encoded data removed]",
      "text/plain": [
       "<Figure size 576x576 with 1 Axes>"
      ]
     },
     "metadata": {
      "needs_background": "light"
     },
     "output_type": "display_data"
    }
   ],
   "source": [
    "plt.figure(figsize=(8,8))\n",
    "\n",
    "plot_tree(clf_en,filled=True,feature_names=X.columns);"
   ]
  },
  {
   "cell_type": "markdown",
   "id": "0445ea10",
   "metadata": {
    "papermill": {
     "duration": 0.02069,
     "end_time": "2022-11-24T19:33:23.778052",
     "exception": false,
     "start_time": "2022-11-24T19:33:23.757362",
     "status": "completed"
    },
    "tags": []
   },
   "source": [
    "# 8. Confusion matrix\n"
   ]
  },
  {
   "cell_type": "code",
   "execution_count": 35,
   "id": "12feb2e9",
   "metadata": {
    "execution": {
     "iopub.execute_input": "2022-11-24T19:33:23.822152Z",
     "iopub.status.busy": "2022-11-24T19:33:23.821019Z",
     "iopub.status.idle": "2022-11-24T19:33:24.065656Z",
     "shell.execute_reply": "2022-11-24T19:33:24.064642Z"
    },
    "papermill": {
     "duration": 0.269038,
     "end_time": "2022-11-24T19:33:24.068022",
     "exception": false,
     "start_time": "2022-11-24T19:33:23.798984",
     "status": "completed"
    },
    "tags": []
   },
   "outputs": [
    {
     "data": {
      "text/plain": [
       "<sklearn.metrics._plot.confusion_matrix.ConfusionMatrixDisplay at 0x7f0e4062b950>"
      ]
     },
     "execution_count": 35,
     "metadata": {},
     "output_type": "execute_result"
    },
    {
     "data": {
      "image/png": "[encoded data removed]",
      "text/plain": [
       "<Figure size 432x288 with 2 Axes>"
      ]
     },
     "metadata": {
      "needs_background": "light"
     },
     "output_type": "display_data"
    }
   ],
   "source": [
    "# Print the Confusion Matrix and slice it into four pieces\n",
    "\n",
    "plot_confusion_matrix(clf_en, X_test, y_test)"
   ]
  },
  {
   "cell_type": "markdown",
   "id": "bd5c271a",
   "metadata": {
    "papermill": {
     "duration": 0.02075,
     "end_time": "2022-11-24T19:33:24.109970",
     "exception": false,
     "start_time": "2022-11-24T19:33:24.089220",
     "status": "completed"
    },
    "tags": []
   },
   "source": [
    "# 9. Classification Report"
   ]
  },
  {
   "cell_type": "code",
   "execution_count": 36,
   "id": "a139d5bd",
   "metadata": {
    "execution": {
     "iopub.execute_input": "2022-11-24T19:33:24.154039Z",
     "iopub.status.busy": "2022-11-24T19:33:24.153352Z",
     "iopub.status.idle": "2022-11-24T19:33:24.172821Z",
     "shell.execute_reply": "2022-11-24T19:33:24.171533Z"
    },
    "papermill": {
     "duration": 0.044347,
     "end_time": "2022-11-24T19:33:24.175270",
     "exception": false,
     "start_time": "2022-11-24T19:33:24.130923",
     "status": "completed"
    },
    "scrolled": true,
    "tags": []
   },
   "outputs": [
    {
     "name": "stdout",
     "output_type": "stream",
     "text": [
      "              precision    recall  f1-score   support\n",
      "\n",
      "         acc       0.56      0.57      0.56       129\n",
      "        good       0.00      0.00      0.00        20\n",
      "       unacc       0.87      0.97      0.92       397\n",
      "       vgood       0.00      0.00      0.00        25\n",
      "\n",
      "    accuracy                           0.80       571\n",
      "   macro avg       0.36      0.38      0.37       571\n",
      "weighted avg       0.73      0.80      0.77       571\n",
      "\n"
     ]
    }
   ],
   "source": [
    "print(classification_report(y_test, y_pred_en))"
   ]
  },
  {
   "cell_type": "markdown",
   "id": "cd58a2d6",
   "metadata": {
    "papermill": {
     "duration": 0.020854,
     "end_time": "2022-11-24T19:33:24.217460",
     "exception": false,
     "start_time": "2022-11-24T19:33:24.196606",
     "status": "completed"
    },
    "tags": []
   },
   "source": [
    "# 10. Understanding Hyperparameters"
   ]
  },
  {
   "cell_type": "markdown",
   "id": "08e9c334",
   "metadata": {
    "papermill": {
     "duration": 0.020753,
     "end_time": "2022-11-24T19:33:24.259397",
     "exception": false,
     "start_time": "2022-11-24T19:33:24.238644",
     "status": "completed"
    },
    "tags": []
   },
   "source": [
    "### Max Depth"
   ]
  },
  {
   "cell_type": "code",
   "execution_count": 37,
   "id": "2fb91ffa",
   "metadata": {
    "execution": {
     "iopub.execute_input": "2022-11-24T19:33:24.303295Z",
     "iopub.status.busy": "2022-11-24T19:33:24.302905Z",
     "iopub.status.idle": "2022-11-24T19:33:24.313596Z",
     "shell.execute_reply": "2022-11-24T19:33:24.312657Z"
    },
    "papermill": {
     "duration": 0.035034,
     "end_time": "2022-11-24T19:33:24.315587",
     "exception": false,
     "start_time": "2022-11-24T19:33:24.280553",
     "status": "completed"
    },
    "tags": []
   },
   "outputs": [
    {
     "data": {
      "text/plain": [
       "DecisionTreeClassifier(max_depth=2)"
      ]
     },
     "execution_count": 37,
     "metadata": {},
     "output_type": "execute_result"
    }
   ],
   "source": [
    "pruned_tree = DecisionTreeClassifier(max_depth=2)\n",
    "pruned_tree.fit(X_train,y_train)"
   ]
  },
  {
   "cell_type": "code",
   "execution_count": 38,
   "id": "04eb537f",
   "metadata": {
    "execution": {
     "iopub.execute_input": "2022-11-24T19:33:24.360165Z",
     "iopub.status.busy": "2022-11-24T19:33:24.359483Z",
     "iopub.status.idle": "2022-11-24T19:33:24.730633Z",
     "shell.execute_reply": "2022-11-24T19:33:24.729683Z"
    },
    "papermill": {
     "duration": 0.396039,
     "end_time": "2022-11-24T19:33:24.732993",
     "exception": false,
     "start_time": "2022-11-24T19:33:24.336954",
     "status": "completed"
    },
    "tags": []
   },
   "outputs": [
    {
     "data": {
      "image/png": "[encoded data removed]",
      "text/plain": [
       "<Figure size 1200x800 with 1 Axes>"
      ]
     },
     "metadata": {
      "needs_background": "light"
     },
     "output_type": "display_data"
    }
   ],
   "source": [
    "plt.figure(figsize=(12,8),dpi=100)\n",
    "plot_tree(pruned_tree,filled=True,feature_names=X.columns);"
   ]
  },
  {
   "cell_type": "markdown",
   "id": "90738b8f",
   "metadata": {
    "papermill": {
     "duration": 0.022464,
     "end_time": "2022-11-24T19:33:24.778414",
     "exception": false,
     "start_time": "2022-11-24T19:33:24.755950",
     "status": "completed"
    },
    "tags": []
   },
   "source": [
    "### Max Leaf Nodes"
   ]
  },
  {
   "cell_type": "code",
   "execution_count": 39,
   "id": "c3db3096",
   "metadata": {
    "execution": {
     "iopub.execute_input": "2022-11-24T19:33:24.825446Z",
     "iopub.status.busy": "2022-11-24T19:33:24.825031Z",
     "iopub.status.idle": "2022-11-24T19:33:24.836191Z",
     "shell.execute_reply": "2022-11-24T19:33:24.835084Z"
    },
    "papermill": {
     "duration": 0.037237,
     "end_time": "2022-11-24T19:33:24.838315",
     "exception": false,
     "start_time": "2022-11-24T19:33:24.801078",
     "status": "completed"
    },
    "tags": []
   },
   "outputs": [
    {
     "data": {
      "text/plain": [
       "DecisionTreeClassifier(max_leaf_nodes=5)"
      ]
     },
     "execution_count": 39,
     "metadata": {},
     "output_type": "execute_result"
    }
   ],
   "source": [
    "pruned_tree = DecisionTreeClassifier(max_leaf_nodes=5)\n",
    "pruned_tree.fit(X_train,y_train)"
   ]
  },
  {
   "cell_type": "code",
   "execution_count": 40,
   "id": "77410649",
   "metadata": {
    "execution": {
     "iopub.execute_input": "2022-11-24T19:33:24.887510Z",
     "iopub.status.busy": "2022-11-24T19:33:24.886766Z",
     "iopub.status.idle": "2022-11-24T19:33:25.464571Z",
     "shell.execute_reply": "2022-11-24T19:33:25.463341Z"
    },
    "papermill": {
     "duration": 0.607219,
     "end_time": "2022-11-24T19:33:25.469173",
     "exception": false,
     "start_time": "2022-11-24T19:33:24.861954",
     "status": "completed"
    },
    "tags": []
   },
   "outputs": [
    {
     "data": {
      "image/png": "[encoded data removed]",
      "text/plain": [
       "<Figure size 1200x800 with 1 Axes>"
      ]
     },
     "metadata": {
      "needs_background": "light"
     },
     "output_type": "display_data"
    }
   ],
   "source": [
    "plt.figure(figsize=(12,8),dpi=100)\n",
    "plot_tree(pruned_tree,filled=True,feature_names=X.columns);"
   ]
  },
  {
   "cell_type": "markdown",
   "id": "638ebbc4",
   "metadata": {
    "papermill": {
     "duration": 0.025438,
     "end_time": "2022-11-24T19:33:25.520496",
     "exception": false,
     "start_time": "2022-11-24T19:33:25.495058",
     "status": "completed"
    },
    "tags": []
   },
   "source": [
    "# Part 02"
   ]
  },
  {
   "cell_type": "markdown",
   "id": "ec3026b3",
   "metadata": {
    "papermill": {
     "duration": 0.025053,
     "end_time": "2022-11-24T19:33:25.570227",
     "exception": false,
     "start_time": "2022-11-24T19:33:25.545174",
     "status": "completed"
    },
    "tags": []
   },
   "source": [
    "# Random Forest"
   ]
  },
  {
   "cell_type": "code",
   "execution_count": 41,
   "id": "c05eb061",
   "metadata": {
    "execution": {
     "iopub.execute_input": "2022-11-24T19:33:25.622567Z",
     "iopub.status.busy": "2022-11-24T19:33:25.622180Z",
     "iopub.status.idle": "2022-11-24T19:33:25.627853Z",
     "shell.execute_reply": "2022-11-24T19:33:25.626685Z"
    },
    "papermill": {
     "duration": 0.035056,
     "end_time": "2022-11-24T19:33:25.630124",
     "exception": false,
     "start_time": "2022-11-24T19:33:25.595068",
     "status": "completed"
    },
    "tags": []
   },
   "outputs": [],
   "source": [
    "n_estimators=[64, 100, 128, 200]\n",
    "max_features=[2, 3, 4]\n",
    "bootstrap=[True, False]"
   ]
  },
  {
   "cell_type": "code",
   "execution_count": 42,
   "id": "939e79e6",
   "metadata": {
    "execution": {
     "iopub.execute_input": "2022-11-24T19:33:25.681995Z",
     "iopub.status.busy": "2022-11-24T19:33:25.681228Z",
     "iopub.status.idle": "2022-11-24T19:33:25.686477Z",
     "shell.execute_reply": "2022-11-24T19:33:25.685697Z"
    },
    "papermill": {
     "duration": 0.033696,
     "end_time": "2022-11-24T19:33:25.688636",
     "exception": false,
     "start_time": "2022-11-24T19:33:25.654940",
     "status": "completed"
    },
    "tags": []
   },
   "outputs": [],
   "source": [
    "param_grid= {'n_estimators':n_estimators,\n",
    "            'max_features':max_features,\n",
    "            'bootstrap':bootstrap}"
   ]
  },
  {
   "cell_type": "code",
   "execution_count": 43,
   "id": "2d13c950",
   "metadata": {
    "execution": {
     "iopub.execute_input": "2022-11-24T19:33:25.740688Z",
     "iopub.status.busy": "2022-11-24T19:33:25.739979Z",
     "iopub.status.idle": "2022-11-24T19:33:25.744300Z",
     "shell.execute_reply": "2022-11-24T19:33:25.743589Z"
    },
    "papermill": {
     "duration": 0.031996,
     "end_time": "2022-11-24T19:33:25.746169",
     "exception": false,
     "start_time": "2022-11-24T19:33:25.714173",
     "status": "completed"
    },
    "tags": []
   },
   "outputs": [],
   "source": [
    "RF_model= RandomForestClassifier()\n",
    "grid=GridSearchCV(RF_model, param_grid, cv=5 )"
   ]
  },
  {
   "cell_type": "code",
   "execution_count": 44,
   "id": "0c6c85cd",
   "metadata": {
    "execution": {
     "iopub.execute_input": "2022-11-24T19:33:25.796904Z",
     "iopub.status.busy": "2022-11-24T19:33:25.795933Z",
     "iopub.status.idle": "2022-11-24T19:33:52.661569Z",
     "shell.execute_reply": "2022-11-24T19:33:52.660459Z"
    },
    "papermill": {
     "duration": 26.893763,
     "end_time": "2022-11-24T19:33:52.664150",
     "exception": false,
     "start_time": "2022-11-24T19:33:25.770387",
     "status": "completed"
    },
    "tags": []
   },
   "outputs": [
    {
     "data": {
      "text/plain": [
       "GridSearchCV(cv=5, estimator=RandomForestClassifier(),\n",
       "             param_grid={'bootstrap': [True, False], 'max_features': [2, 3, 4],\n",
       "                         'n_estimators': [64, 100, 128, 200]})"
      ]
     },
     "execution_count": 44,
     "metadata": {},
     "output_type": "execute_result"
    }
   ],
   "source": [
    "grid.fit(X_train, y_train)"
   ]
  },
  {
   "cell_type": "code",
   "execution_count": 45,
   "id": "39a3247a",
   "metadata": {
    "execution": {
     "iopub.execute_input": "2022-11-24T19:33:52.716568Z",
     "iopub.status.busy": "2022-11-24T19:33:52.715415Z",
     "iopub.status.idle": "2022-11-24T19:33:52.722766Z",
     "shell.execute_reply": "2022-11-24T19:33:52.721862Z"
    },
    "papermill": {
     "duration": 0.035829,
     "end_time": "2022-11-24T19:33:52.725053",
     "exception": false,
     "start_time": "2022-11-24T19:33:52.689224",
     "status": "completed"
    },
    "tags": []
   },
   "outputs": [
    {
     "data": {
      "text/plain": [
       "{'bootstrap': False, 'max_features': 4, 'n_estimators': 200}"
      ]
     },
     "execution_count": 45,
     "metadata": {},
     "output_type": "execute_result"
    }
   ],
   "source": [
    "grid.best_params_"
   ]
  },
  {
   "cell_type": "code",
   "execution_count": 46,
   "id": "13e8cd77",
   "metadata": {
    "execution": {
     "iopub.execute_input": "2022-11-24T19:33:52.778287Z",
     "iopub.status.busy": "2022-11-24T19:33:52.777390Z",
     "iopub.status.idle": "2022-11-24T19:33:52.822739Z",
     "shell.execute_reply": "2022-11-24T19:33:52.821874Z"
    },
    "papermill": {
     "duration": 0.074132,
     "end_time": "2022-11-24T19:33:52.825217",
     "exception": false,
     "start_time": "2022-11-24T19:33:52.751085",
     "status": "completed"
    },
    "tags": []
   },
   "outputs": [],
   "source": [
    "y_pred= grid.predict(X_test)"
   ]
  },
  {
   "cell_type": "code",
   "execution_count": 47,
   "id": "93f75bc5",
   "metadata": {
    "execution": {
     "iopub.execute_input": "2022-11-24T19:33:52.877853Z",
     "iopub.status.busy": "2022-11-24T19:33:52.877417Z",
     "iopub.status.idle": "2022-11-24T19:33:52.898396Z",
     "shell.execute_reply": "2022-11-24T19:33:52.896852Z"
    },
    "papermill": {
     "duration": 0.05066,
     "end_time": "2022-11-24T19:33:52.901069",
     "exception": false,
     "start_time": "2022-11-24T19:33:52.850409",
     "status": "completed"
    },
    "tags": []
   },
   "outputs": [
    {
     "name": "stdout",
     "output_type": "stream",
     "text": [
      "              precision    recall  f1-score   support\n",
      "\n",
      "         acc       0.92      0.85      0.89       129\n",
      "        good       0.59      0.95      0.73        20\n",
      "       unacc       0.99      0.98      0.99       397\n",
      "       vgood       0.92      0.88      0.90        25\n",
      "\n",
      "    accuracy                           0.95       571\n",
      "   macro avg       0.86      0.92      0.88       571\n",
      "weighted avg       0.96      0.95      0.95       571\n",
      "\n"
     ]
    }
   ],
   "source": [
    "print(classification_report(y_test, y_pred))"
   ]
  },
  {
   "cell_type": "code",
   "execution_count": 48,
   "id": "6a2bd960",
   "metadata": {
    "execution": {
     "iopub.execute_input": "2022-11-24T19:33:52.952841Z",
     "iopub.status.busy": "2022-11-24T19:33:52.952186Z",
     "iopub.status.idle": "2022-11-24T19:33:52.957215Z",
     "shell.execute_reply": "2022-11-24T19:33:52.956392Z"
    },
    "papermill": {
     "duration": 0.033304,
     "end_time": "2022-11-24T19:33:52.959294",
     "exception": false,
     "start_time": "2022-11-24T19:33:52.925990",
     "status": "completed"
    },
    "tags": []
   },
   "outputs": [],
   "source": [
    "RF_model_OOB= RandomForestClassifier(max_features=2, n_estimators=64, oob_score=True)"
   ]
  },
  {
   "cell_type": "code",
   "execution_count": 49,
   "id": "7d16f619",
   "metadata": {
    "execution": {
     "iopub.execute_input": "2022-11-24T19:33:53.014769Z",
     "iopub.status.busy": "2022-11-24T19:33:53.014129Z",
     "iopub.status.idle": "2022-11-24T19:33:53.174788Z",
     "shell.execute_reply": "2022-11-24T19:33:53.173667Z"
    },
    "papermill": {
     "duration": 0.1921,
     "end_time": "2022-11-24T19:33:53.176949",
     "exception": false,
     "start_time": "2022-11-24T19:33:52.984849",
     "status": "completed"
    },
    "tags": []
   },
   "outputs": [
    {
     "data": {
      "text/plain": [
       "RandomForestClassifier(max_features=2, n_estimators=64, oob_score=True)"
      ]
     },
     "execution_count": 49,
     "metadata": {},
     "output_type": "execute_result"
    }
   ],
   "source": [
    "RF_model_OOB.fit(X_train, y_train)"
   ]
  },
  {
   "cell_type": "code",
   "execution_count": 50,
   "id": "02b910f9",
   "metadata": {
    "execution": {
     "iopub.execute_input": "2022-11-24T19:33:53.229324Z",
     "iopub.status.busy": "2022-11-24T19:33:53.228670Z",
     "iopub.status.idle": "2022-11-24T19:33:53.235602Z",
     "shell.execute_reply": "2022-11-24T19:33:53.234292Z"
    },
    "papermill": {
     "duration": 0.036068,
     "end_time": "2022-11-24T19:33:53.237977",
     "exception": false,
     "start_time": "2022-11-24T19:33:53.201909",
     "status": "completed"
    },
    "tags": []
   },
   "outputs": [
    {
     "data": {
      "text/plain": [
       "0.9498703543647364"
      ]
     },
     "execution_count": 50,
     "metadata": {},
     "output_type": "execute_result"
    }
   ],
   "source": [
    "RF_model_OOB.oob_score_"
   ]
  },
  {
   "cell_type": "code",
   "execution_count": 51,
   "id": "caa5c80c",
   "metadata": {
    "execution": {
     "iopub.execute_input": "2022-11-24T19:33:53.290547Z",
     "iopub.status.busy": "2022-11-24T19:33:53.290181Z",
     "iopub.status.idle": "2022-11-24T19:33:53.295601Z",
     "shell.execute_reply": "2022-11-24T19:33:53.294855Z"
    },
    "papermill": {
     "duration": 0.034073,
     "end_time": "2022-11-24T19:33:53.297703",
     "exception": false,
     "start_time": "2022-11-24T19:33:53.263630",
     "status": "completed"
    },
    "tags": []
   },
   "outputs": [
    {
     "data": {
      "text/plain": [
       "0.050129645635263564"
      ]
     },
     "execution_count": 51,
     "metadata": {},
     "output_type": "execute_result"
    }
   ],
   "source": [
    "# OOB Error\n",
    "\n",
    "1 - RF_model_OOB.oob_score_"
   ]
  },
  {
   "cell_type": "markdown",
   "id": "092b65f2",
   "metadata": {
    "papermill": {
     "duration": 0.025282,
     "end_time": "2022-11-24T19:33:53.348638",
     "exception": false,
     "start_time": "2022-11-24T19:33:53.323356",
     "status": "completed"
    },
    "tags": []
   },
   "source": [
    "# [[Source](https://www.kaggle.com/code/prashant111/decision-tree-classifier-tutorial/notebook)]"
   ]
  },
  {
   "cell_type": "markdown",
   "id": "b419c7d4",
   "metadata": {
    "papermill": {
     "duration": 0.024696,
     "end_time": "2022-11-24T19:33:53.398538",
     "exception": false,
     "start_time": "2022-11-24T19:33:53.373842",
     "status": "completed"
    },
    "tags": []
   },
   "source": [
    "# Finished!"
   ]
  }
 ],
 "metadata": {
  "kernelspec": {
   "display_name": "Python 3",
   "language": "python",
   "name": "python3"
  },
  "language_info": {
   "codemirror_mode": {
    "name": "ipython",
    "version": 3
   },
   "file_extension": ".py",
   "mimetype": "text/x-python",
   "name": "python",
   "nbconvert_exporter": "python",
   "pygments_lexer": "ipython3",
   "version": "3.7.12"
  },
  "papermill": {
   "default_parameters": {},
   "duration": 43.800692,
   "end_time": "2022-11-24T19:33:54.144664",
   "environment_variables": {},
   "exception": null,
   "input_path": "__notebook__.ipynb",
   "output_path": "__notebook__.ipynb",
   "parameters": {},
   "start_time": "2022-11-24T19:33:10.343972",
   "version": "2.3.4"
  }
 },
 "nbformat": 4,
 "nbformat_minor": 5
}
