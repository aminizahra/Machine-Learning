{
 "cells": [
  {
   "cell_type": "markdown",
   "id": "ef31309f",
   "metadata": {
    "button": false,
    "new_sheet": false,
    "papermill": {
     "duration": 0.027176,
     "end_time": "2022-03-30T09:44:22.296368",
     "exception": false,
     "start_time": "2022-03-30T09:44:22.269192",
     "status": "completed"
    },
    "run_control": {
     "read_only": false
    },
    "tags": []
   },
   "source": [
    "# **Simple Linear Regression**\n",
    "\n"
   ]
  },
  {
   "cell_type": "markdown",
   "id": "2d081b17",
   "metadata": {
    "button": false,
    "new_sheet": false,
    "papermill": {
     "duration": 0.025569,
     "end_time": "2022-03-30T09:44:22.348246",
     "exception": false,
     "start_time": "2022-03-30T09:44:22.322677",
     "status": "completed"
    },
    "run_control": {
     "read_only": false
    },
    "tags": []
   },
   "source": [
    "# Importing Needed Libraries\n"
   ]
  },
  {
   "cell_type": "code",
   "execution_count": 1,
   "id": "4e396105",
   "metadata": {
    "button": false,
    "execution": {
     "iopub.execute_input": "2022-03-30T09:44:22.404472Z",
     "iopub.status.busy": "2022-03-30T09:44:22.403272Z",
     "iopub.status.idle": "2022-03-30T09:44:22.418420Z",
     "shell.execute_reply": "2022-03-30T09:44:22.418918Z",
     "shell.execute_reply.started": "2022-03-30T09:43:14.752009Z"
    },
    "new_sheet": false,
    "papermill": {
     "duration": 0.044863,
     "end_time": "2022-03-30T09:44:22.419253",
     "exception": false,
     "start_time": "2022-03-30T09:44:22.374390",
     "status": "completed"
    },
    "run_control": {
     "read_only": false
    },
    "tags": []
   },
   "outputs": [],
   "source": [
    "import matplotlib.pyplot as plt\n",
    "import pandas as pd\n",
    "import pylab as pl\n",
    "import numpy as np\n",
    "%matplotlib inline"
   ]
  },
  {
   "cell_type": "markdown",
   "id": "74b9594c",
   "metadata": {
    "button": false,
    "new_sheet": false,
    "papermill": {
     "duration": 0.025409,
     "end_time": "2022-03-30T09:44:22.471597",
     "exception": false,
     "start_time": "2022-03-30T09:44:22.446188",
     "status": "completed"
    },
    "run_control": {
     "read_only": false
    },
    "tags": []
   },
   "source": [
    "# Reading the data"
   ]
  },
  {
   "cell_type": "code",
   "execution_count": 2,
   "id": "0bec2441",
   "metadata": {
    "button": false,
    "execution": {
     "iopub.execute_input": "2022-03-30T09:44:22.530006Z",
     "iopub.status.busy": "2022-03-30T09:44:22.529037Z",
     "iopub.status.idle": "2022-03-30T09:44:22.581920Z",
     "shell.execute_reply": "2022-03-30T09:44:22.581148Z",
     "shell.execute_reply.started": "2022-03-30T09:43:15.147173Z"
    },
    "new_sheet": false,
    "papermill": {
     "duration": 0.083965,
     "end_time": "2022-03-30T09:44:22.582153",
     "exception": false,
     "start_time": "2022-03-30T09:44:22.498188",
     "status": "completed"
    },
    "run_control": {
     "read_only": false
    },
    "tags": []
   },
   "outputs": [
    {
     "data": {
      "text/html": [
       "<div>\n",
       "<style scoped>\n",
       "    .dataframe tbody tr th:only-of-type {\n",
       "        vertical-align: middle;\n",
       "    }\n",
       "\n",
       "    .dataframe tbody tr th {\n",
       "        vertical-align: top;\n",
       "    }\n",
       "\n",
       "    .dataframe thead th {\n",
       "        text-align: right;\n",
       "    }\n",
       "</style>\n",
       "<table border=\"1\" class=\"dataframe\">\n",
       "  <thead>\n",
       "    <tr style=\"text-align: right;\">\n",
       "      <th></th>\n",
       "      <th>MODELYEAR</th>\n",
       "      <th>MAKE</th>\n",
       "      <th>MODEL</th>\n",
       "      <th>VEHICLECLASS</th>\n",
       "      <th>ENGINESIZE</th>\n",
       "      <th>CYLINDERS</th>\n",
       "      <th>TRANSMISSION</th>\n",
       "      <th>FUELTYPE</th>\n",
       "      <th>FUELCONSUMPTION_CITY</th>\n",
       "      <th>FUELCONSUMPTION_HWY</th>\n",
       "      <th>FUELCONSUMPTION_COMB</th>\n",
       "      <th>FUELCONSUMPTION_COMB_MPG</th>\n",
       "      <th>CO2EMISSIONS</th>\n",
       "    </tr>\n",
       "  </thead>\n",
       "  <tbody>\n",
       "    <tr>\n",
       "      <th>0</th>\n",
       "      <td>2014</td>\n",
       "      <td>ACURA</td>\n",
       "      <td>ILX</td>\n",
       "      <td>COMPACT</td>\n",
       "      <td>2.0</td>\n",
       "      <td>4</td>\n",
       "      <td>AS5</td>\n",
       "      <td>Z</td>\n",
       "      <td>9.9</td>\n",
       "      <td>6.7</td>\n",
       "      <td>8.5</td>\n",
       "      <td>33</td>\n",
       "      <td>196</td>\n",
       "    </tr>\n",
       "    <tr>\n",
       "      <th>1</th>\n",
       "      <td>2014</td>\n",
       "      <td>ACURA</td>\n",
       "      <td>ILX</td>\n",
       "      <td>COMPACT</td>\n",
       "      <td>2.4</td>\n",
       "      <td>4</td>\n",
       "      <td>M6</td>\n",
       "      <td>Z</td>\n",
       "      <td>11.2</td>\n",
       "      <td>7.7</td>\n",
       "      <td>9.6</td>\n",
       "      <td>29</td>\n",
       "      <td>221</td>\n",
       "    </tr>\n",
       "    <tr>\n",
       "      <th>2</th>\n",
       "      <td>2014</td>\n",
       "      <td>ACURA</td>\n",
       "      <td>ILX HYBRID</td>\n",
       "      <td>COMPACT</td>\n",
       "      <td>1.5</td>\n",
       "      <td>4</td>\n",
       "      <td>AV7</td>\n",
       "      <td>Z</td>\n",
       "      <td>6.0</td>\n",
       "      <td>5.8</td>\n",
       "      <td>5.9</td>\n",
       "      <td>48</td>\n",
       "      <td>136</td>\n",
       "    </tr>\n",
       "    <tr>\n",
       "      <th>3</th>\n",
       "      <td>2014</td>\n",
       "      <td>ACURA</td>\n",
       "      <td>MDX 4WD</td>\n",
       "      <td>SUV - SMALL</td>\n",
       "      <td>3.5</td>\n",
       "      <td>6</td>\n",
       "      <td>AS6</td>\n",
       "      <td>Z</td>\n",
       "      <td>12.7</td>\n",
       "      <td>9.1</td>\n",
       "      <td>11.1</td>\n",
       "      <td>25</td>\n",
       "      <td>255</td>\n",
       "    </tr>\n",
       "    <tr>\n",
       "      <th>4</th>\n",
       "      <td>2014</td>\n",
       "      <td>ACURA</td>\n",
       "      <td>RDX AWD</td>\n",
       "      <td>SUV - SMALL</td>\n",
       "      <td>3.5</td>\n",
       "      <td>6</td>\n",
       "      <td>AS6</td>\n",
       "      <td>Z</td>\n",
       "      <td>12.1</td>\n",
       "      <td>8.7</td>\n",
       "      <td>10.6</td>\n",
       "      <td>27</td>\n",
       "      <td>244</td>\n",
       "    </tr>\n",
       "  </tbody>\n",
       "</table>\n",
       "</div>"
      ],
      "text/plain": [
       "   MODELYEAR   MAKE       MODEL VEHICLECLASS  ENGINESIZE  CYLINDERS  \\\n",
       "0       2014  ACURA         ILX      COMPACT         2.0          4   \n",
       "1       2014  ACURA         ILX      COMPACT         2.4          4   \n",
       "2       2014  ACURA  ILX HYBRID      COMPACT         1.5          4   \n",
       "3       2014  ACURA     MDX 4WD  SUV - SMALL         3.5          6   \n",
       "4       2014  ACURA     RDX AWD  SUV - SMALL         3.5          6   \n",
       "\n",
       "  TRANSMISSION FUELTYPE  FUELCONSUMPTION_CITY  FUELCONSUMPTION_HWY  \\\n",
       "0          AS5        Z                   9.9                  6.7   \n",
       "1           M6        Z                  11.2                  7.7   \n",
       "2          AV7        Z                   6.0                  5.8   \n",
       "3          AS6        Z                  12.7                  9.1   \n",
       "4          AS6        Z                  12.1                  8.7   \n",
       "\n",
       "   FUELCONSUMPTION_COMB  FUELCONSUMPTION_COMB_MPG  CO2EMISSIONS  \n",
       "0                   8.5                        33           196  \n",
       "1                   9.6                        29           221  \n",
       "2                   5.9                        48           136  \n",
       "3                  11.1                        25           255  \n",
       "4                  10.6                        27           244  "
      ]
     },
     "execution_count": 2,
     "metadata": {},
     "output_type": "execute_result"
    }
   ],
   "source": [
    "df = pd.read_csv(\"../input/china-gdp-dataset/ml/FuelConsumption.csv\")\n",
    "df.head()\n",
    "df.head()"
   ]
  },
  {
   "cell_type": "markdown",
   "id": "f37b8ede",
   "metadata": {
    "button": false,
    "new_sheet": false,
    "papermill": {
     "duration": 0.02614,
     "end_time": "2022-03-30T09:44:22.642159",
     "exception": false,
     "start_time": "2022-03-30T09:44:22.616019",
     "status": "completed"
    },
    "run_control": {
     "read_only": false
    },
    "tags": []
   },
   "source": [
    "# Data Exploration"
   ]
  },
  {
   "cell_type": "code",
   "execution_count": 3,
   "id": "63d3bbba",
   "metadata": {
    "button": false,
    "execution": {
     "iopub.execute_input": "2022-03-30T09:44:22.705182Z",
     "iopub.status.busy": "2022-03-30T09:44:22.704415Z",
     "iopub.status.idle": "2022-03-30T09:44:22.739183Z",
     "shell.execute_reply": "2022-03-30T09:44:22.738668Z",
     "shell.execute_reply.started": "2022-03-30T09:43:15.195269Z"
    },
    "new_sheet": false,
    "papermill": {
     "duration": 0.070854,
     "end_time": "2022-03-30T09:44:22.739327",
     "exception": false,
     "start_time": "2022-03-30T09:44:22.668473",
     "status": "completed"
    },
    "run_control": {
     "read_only": false
    },
    "tags": []
   },
   "outputs": [
    {
     "data": {
      "text/html": [
       "<div>\n",
       "<style scoped>\n",
       "    .dataframe tbody tr th:only-of-type {\n",
       "        vertical-align: middle;\n",
       "    }\n",
       "\n",
       "    .dataframe tbody tr th {\n",
       "        vertical-align: top;\n",
       "    }\n",
       "\n",
       "    .dataframe thead th {\n",
       "        text-align: right;\n",
       "    }\n",
       "</style>\n",
       "<table border=\"1\" class=\"dataframe\">\n",
       "  <thead>\n",
       "    <tr style=\"text-align: right;\">\n",
       "      <th></th>\n",
       "      <th>MODELYEAR</th>\n",
       "      <th>ENGINESIZE</th>\n",
       "      <th>CYLINDERS</th>\n",
       "      <th>FUELCONSUMPTION_CITY</th>\n",
       "      <th>FUELCONSUMPTION_HWY</th>\n",
       "      <th>FUELCONSUMPTION_COMB</th>\n",
       "      <th>FUELCONSUMPTION_COMB_MPG</th>\n",
       "      <th>CO2EMISSIONS</th>\n",
       "    </tr>\n",
       "  </thead>\n",
       "  <tbody>\n",
       "    <tr>\n",
       "      <th>count</th>\n",
       "      <td>1067.0</td>\n",
       "      <td>1067.000000</td>\n",
       "      <td>1067.000000</td>\n",
       "      <td>1067.000000</td>\n",
       "      <td>1067.000000</td>\n",
       "      <td>1067.000000</td>\n",
       "      <td>1067.000000</td>\n",
       "      <td>1067.000000</td>\n",
       "    </tr>\n",
       "    <tr>\n",
       "      <th>mean</th>\n",
       "      <td>2014.0</td>\n",
       "      <td>3.346298</td>\n",
       "      <td>5.794752</td>\n",
       "      <td>13.296532</td>\n",
       "      <td>9.474602</td>\n",
       "      <td>11.580881</td>\n",
       "      <td>26.441425</td>\n",
       "      <td>256.228679</td>\n",
       "    </tr>\n",
       "    <tr>\n",
       "      <th>std</th>\n",
       "      <td>0.0</td>\n",
       "      <td>1.415895</td>\n",
       "      <td>1.797447</td>\n",
       "      <td>4.101253</td>\n",
       "      <td>2.794510</td>\n",
       "      <td>3.485595</td>\n",
       "      <td>7.468702</td>\n",
       "      <td>63.372304</td>\n",
       "    </tr>\n",
       "    <tr>\n",
       "      <th>min</th>\n",
       "      <td>2014.0</td>\n",
       "      <td>1.000000</td>\n",
       "      <td>3.000000</td>\n",
       "      <td>4.600000</td>\n",
       "      <td>4.900000</td>\n",
       "      <td>4.700000</td>\n",
       "      <td>11.000000</td>\n",
       "      <td>108.000000</td>\n",
       "    </tr>\n",
       "    <tr>\n",
       "      <th>25%</th>\n",
       "      <td>2014.0</td>\n",
       "      <td>2.000000</td>\n",
       "      <td>4.000000</td>\n",
       "      <td>10.250000</td>\n",
       "      <td>7.500000</td>\n",
       "      <td>9.000000</td>\n",
       "      <td>21.000000</td>\n",
       "      <td>207.000000</td>\n",
       "    </tr>\n",
       "    <tr>\n",
       "      <th>50%</th>\n",
       "      <td>2014.0</td>\n",
       "      <td>3.400000</td>\n",
       "      <td>6.000000</td>\n",
       "      <td>12.600000</td>\n",
       "      <td>8.800000</td>\n",
       "      <td>10.900000</td>\n",
       "      <td>26.000000</td>\n",
       "      <td>251.000000</td>\n",
       "    </tr>\n",
       "    <tr>\n",
       "      <th>75%</th>\n",
       "      <td>2014.0</td>\n",
       "      <td>4.300000</td>\n",
       "      <td>8.000000</td>\n",
       "      <td>15.550000</td>\n",
       "      <td>10.850000</td>\n",
       "      <td>13.350000</td>\n",
       "      <td>31.000000</td>\n",
       "      <td>294.000000</td>\n",
       "    </tr>\n",
       "    <tr>\n",
       "      <th>max</th>\n",
       "      <td>2014.0</td>\n",
       "      <td>8.400000</td>\n",
       "      <td>12.000000</td>\n",
       "      <td>30.200000</td>\n",
       "      <td>20.500000</td>\n",
       "      <td>25.800000</td>\n",
       "      <td>60.000000</td>\n",
       "      <td>488.000000</td>\n",
       "    </tr>\n",
       "  </tbody>\n",
       "</table>\n",
       "</div>"
      ],
      "text/plain": [
       "       MODELYEAR   ENGINESIZE    CYLINDERS  FUELCONSUMPTION_CITY  \\\n",
       "count     1067.0  1067.000000  1067.000000           1067.000000   \n",
       "mean      2014.0     3.346298     5.794752             13.296532   \n",
       "std          0.0     1.415895     1.797447              4.101253   \n",
       "min       2014.0     1.000000     3.000000              4.600000   \n",
       "25%       2014.0     2.000000     4.000000             10.250000   \n",
       "50%       2014.0     3.400000     6.000000             12.600000   \n",
       "75%       2014.0     4.300000     8.000000             15.550000   \n",
       "max       2014.0     8.400000    12.000000             30.200000   \n",
       "\n",
       "       FUELCONSUMPTION_HWY  FUELCONSUMPTION_COMB  FUELCONSUMPTION_COMB_MPG  \\\n",
       "count          1067.000000           1067.000000               1067.000000   \n",
       "mean              9.474602             11.580881                 26.441425   \n",
       "std               2.794510              3.485595                  7.468702   \n",
       "min               4.900000              4.700000                 11.000000   \n",
       "25%               7.500000              9.000000                 21.000000   \n",
       "50%               8.800000             10.900000                 26.000000   \n",
       "75%              10.850000             13.350000                 31.000000   \n",
       "max              20.500000             25.800000                 60.000000   \n",
       "\n",
       "       CO2EMISSIONS  \n",
       "count   1067.000000  \n",
       "mean     256.228679  \n",
       "std       63.372304  \n",
       "min      108.000000  \n",
       "25%      207.000000  \n",
       "50%      251.000000  \n",
       "75%      294.000000  \n",
       "max      488.000000  "
      ]
     },
     "execution_count": 3,
     "metadata": {},
     "output_type": "execute_result"
    }
   ],
   "source": [
    "df.describe()"
   ]
  },
  {
   "cell_type": "code",
   "execution_count": 4,
   "id": "12a5777d",
   "metadata": {
    "button": false,
    "execution": {
     "iopub.execute_input": "2022-03-30T09:44:22.798208Z",
     "iopub.status.busy": "2022-03-30T09:44:22.797585Z",
     "iopub.status.idle": "2022-03-30T09:44:23.407017Z",
     "shell.execute_reply": "2022-03-30T09:44:23.407546Z",
     "shell.execute_reply.started": "2022-03-30T09:43:15.243702Z"
    },
    "new_sheet": false,
    "papermill": {
     "duration": 0.639618,
     "end_time": "2022-03-30T09:44:23.407765",
     "exception": false,
     "start_time": "2022-03-30T09:44:22.768147",
     "status": "completed"
    },
    "run_control": {
     "read_only": false
    },
    "tags": []
   },
   "outputs": [
    {
     "data": {
      "image/png": "[encoded data removed]",
      "text/plain": [
       "<Figure size 432x288 with 4 Axes>"
      ]
     },
     "metadata": {
      "needs_background": "light"
     },
     "output_type": "display_data"
    }
   ],
   "source": [
    "viz = df[['CYLINDERS','ENGINESIZE','CO2EMISSIONS','FUELCONSUMPTION_COMB']]\n",
    "viz.hist()\n",
    "plt.show()"
   ]
  },
  {
   "cell_type": "code",
   "execution_count": 5,
   "id": "40cb6b34",
   "metadata": {
    "button": false,
    "execution": {
     "iopub.execute_input": "2022-03-30T09:44:23.468941Z",
     "iopub.status.busy": "2022-03-30T09:44:23.467942Z",
     "iopub.status.idle": "2022-03-30T09:44:23.669687Z",
     "shell.execute_reply": "2022-03-30T09:44:23.669127Z",
     "shell.execute_reply.started": "2022-03-30T09:43:15.944380Z"
    },
    "new_sheet": false,
    "papermill": {
     "duration": 0.233277,
     "end_time": "2022-03-30T09:44:23.669839",
     "exception": false,
     "start_time": "2022-03-30T09:44:23.436562",
     "status": "completed"
    },
    "run_control": {
     "read_only": false
    },
    "tags": []
   },
   "outputs": [
    {
     "data": {
      "image/png": "[encoded data removed]",
      "text/plain": [
       "<Figure size 432x288 with 1 Axes>"
      ]
     },
     "metadata": {
      "needs_background": "light"
     },
     "output_type": "display_data"
    }
   ],
   "source": [
    "plt.scatter(df['FUELCONSUMPTION_COMB'], df['CO2EMISSIONS'],  color='blue')\n",
    "plt.xlabel(\"FUELCONSUMPTION_COMB\")\n",
    "plt.ylabel(\"Emission\")\n",
    "plt.show()"
   ]
  },
  {
   "cell_type": "code",
   "execution_count": 6,
   "id": "4c711b0b",
   "metadata": {
    "button": false,
    "execution": {
     "iopub.execute_input": "2022-03-30T09:44:23.756757Z",
     "iopub.status.busy": "2022-03-30T09:44:23.735535Z",
     "iopub.status.idle": "2022-03-30T09:44:23.943436Z",
     "shell.execute_reply": "2022-03-30T09:44:23.942875Z",
     "shell.execute_reply.started": "2022-03-30T09:43:16.119746Z"
    },
    "new_sheet": false,
    "papermill": {
     "duration": 0.242386,
     "end_time": "2022-03-30T09:44:23.943584",
     "exception": false,
     "start_time": "2022-03-30T09:44:23.701198",
     "status": "completed"
    },
    "run_control": {
     "read_only": false
    },
    "scrolled": true,
    "tags": []
   },
   "outputs": [
    {
     "data": {
      "image/png": "[encoded data removed]",
      "text/plain": [
       "<Figure size 432x288 with 1 Axes>"
      ]
     },
     "metadata": {
      "needs_background": "light"
     },
     "output_type": "display_data"
    }
   ],
   "source": [
    "plt.scatter(df['ENGINESIZE'], df['CO2EMISSIONS'],  color='blue')\n",
    "plt.xlabel(\"Engine size\")\n",
    "plt.ylabel(\"Emission\")\n",
    "plt.show()"
   ]
  },
  {
   "cell_type": "markdown",
   "id": "f02284a6",
   "metadata": {
    "papermill": {
     "duration": 0.031571,
     "end_time": "2022-03-30T09:44:24.005750",
     "exception": false,
     "start_time": "2022-03-30T09:44:23.974179",
     "status": "completed"
    },
    "tags": []
   },
   "source": [
    "## Plot **CYLINDER** vs the Emission, to see how linear is their relationship is:\n"
   ]
  },
  {
   "cell_type": "code",
   "execution_count": 7,
   "id": "ac2bc9b0",
   "metadata": {
    "button": false,
    "execution": {
     "iopub.execute_input": "2022-03-30T09:44:24.109090Z",
     "iopub.status.busy": "2022-03-30T09:44:24.105396Z",
     "iopub.status.idle": "2022-03-30T09:44:24.267500Z",
     "shell.execute_reply": "2022-03-30T09:44:24.268111Z",
     "shell.execute_reply.started": "2022-03-30T09:43:16.291564Z"
    },
    "new_sheet": false,
    "papermill": {
     "duration": 0.230699,
     "end_time": "2022-03-30T09:44:24.268293",
     "exception": false,
     "start_time": "2022-03-30T09:44:24.037594",
     "status": "completed"
    },
    "run_control": {
     "read_only": false
    },
    "tags": []
   },
   "outputs": [
    {
     "data": {
      "image/png": "[encoded data removed]",
      "text/plain": [
       "<Figure size 432x288 with 1 Axes>"
      ]
     },
     "metadata": {
      "needs_background": "light"
     },
     "output_type": "display_data"
    }
   ],
   "source": [
    "plt.scatter(df['CYLINDERS'], df['CO2EMISSIONS'],  color='blue')\n",
    "plt.xlabel(\"CYLINDER\")\n",
    "plt.ylabel(\"Emission\")\n",
    "plt.show()\n"
   ]
  },
  {
   "cell_type": "markdown",
   "id": "ef344219",
   "metadata": {
    "papermill": {
     "duration": 0.030858,
     "end_time": "2022-03-30T09:44:24.332206",
     "exception": false,
     "start_time": "2022-03-30T09:44:24.301348",
     "status": "completed"
    },
    "tags": []
   },
   "source": [
    "<details><summary>Click here for the solution</summary>\n",
    "\n",
    "```python\n",
    "plt.scatter(cdf.CYLINDERS, cdf.CO2EMISSIONS, color='blue')\n",
    "plt.xlabel(\"Cylinders\")\n",
    "plt.ylabel(\"Emission\")\n",
    "plt.show()\n",
    "\n",
    "```\n",
    "\n",
    "</details>\n"
   ]
  },
  {
   "cell_type": "markdown",
   "id": "7740f89f",
   "metadata": {
    "button": false,
    "new_sheet": false,
    "papermill": {
     "duration": 0.030408,
     "end_time": "2022-03-30T09:44:24.393518",
     "exception": false,
     "start_time": "2022-03-30T09:44:24.363110",
     "status": "completed"
    },
    "run_control": {
     "read_only": false
    },
    "tags": []
   },
   "source": [
    "# Creating train and test dataset\n"
   ]
  },
  {
   "cell_type": "code",
   "execution_count": 8,
   "id": "329659bf",
   "metadata": {
    "button": false,
    "execution": {
     "iopub.execute_input": "2022-03-30T09:44:24.461743Z",
     "iopub.status.busy": "2022-03-30T09:44:24.460940Z",
     "iopub.status.idle": "2022-03-30T09:44:24.465282Z",
     "shell.execute_reply": "2022-03-30T09:44:24.464720Z",
     "shell.execute_reply.started": "2022-03-30T09:43:16.469096Z"
    },
    "new_sheet": false,
    "papermill": {
     "duration": 0.039605,
     "end_time": "2022-03-30T09:44:24.465431",
     "exception": false,
     "start_time": "2022-03-30T09:44:24.425826",
     "status": "completed"
    },
    "run_control": {
     "read_only": false
    },
    "tags": []
   },
   "outputs": [],
   "source": [
    "msk = np.random.rand(len(df)) < 0.8\n",
    "train = df[msk]\n",
    "test = df[~msk]"
   ]
  },
  {
   "cell_type": "markdown",
   "id": "8d86d7c9",
   "metadata": {
    "button": false,
    "new_sheet": false,
    "papermill": {
     "duration": 0.030541,
     "end_time": "2022-03-30T09:44:24.528455",
     "exception": false,
     "start_time": "2022-03-30T09:44:24.497914",
     "status": "completed"
    },
    "run_control": {
     "read_only": false
    },
    "tags": []
   },
   "source": [
    "# Simple Regression Model\n",
    "\n",
    "**Linear Regression fits a linear model with coefficients B = (B1, ..., Bn) to minimize the 'residual sum of squares' between the actual value y in the dataset, and the predicted value yhat using linear approximation.\n",
    "**"
   ]
  },
  {
   "cell_type": "markdown",
   "id": "febe9c1a",
   "metadata": {
    "button": false,
    "new_sheet": false,
    "papermill": {
     "duration": 0.030591,
     "end_time": "2022-03-30T09:44:24.590339",
     "exception": false,
     "start_time": "2022-03-30T09:44:24.559748",
     "status": "completed"
    },
    "run_control": {
     "read_only": false
    },
    "tags": []
   },
   "source": [
    "\n",
    "# Train data distribution\n"
   ]
  },
  {
   "cell_type": "code",
   "execution_count": 9,
   "id": "b6661f83",
   "metadata": {
    "button": false,
    "execution": {
     "iopub.execute_input": "2022-03-30T09:44:24.655331Z",
     "iopub.status.busy": "2022-03-30T09:44:24.654485Z",
     "iopub.status.idle": "2022-03-30T09:44:24.860339Z",
     "shell.execute_reply": "2022-03-30T09:44:24.859741Z",
     "shell.execute_reply.started": "2022-03-30T09:43:16.479360Z"
    },
    "new_sheet": false,
    "papermill": {
     "duration": 0.23936,
     "end_time": "2022-03-30T09:44:24.860499",
     "exception": false,
     "start_time": "2022-03-30T09:44:24.621139",
     "status": "completed"
    },
    "run_control": {
     "read_only": false
    },
    "tags": []
   },
   "outputs": [
    {
     "data": {
      "image/png": "[encoded data removed]",
      "text/plain": [
       "<Figure size 432x288 with 1 Axes>"
      ]
     },
     "metadata": {
      "needs_background": "light"
     },
     "output_type": "display_data"
    }
   ],
   "source": [
    "plt.scatter(train.ENGINESIZE, train.CO2EMISSIONS,  color='blue')\n",
    "plt.xlabel(\"Engine size\")\n",
    "plt.ylabel(\"Emission\")\n",
    "plt.show()"
   ]
  },
  {
   "cell_type": "markdown",
   "id": "0700fbc1",
   "metadata": {
    "button": false,
    "new_sheet": false,
    "papermill": {
     "duration": 0.035106,
     "end_time": "2022-03-30T09:44:24.930739",
     "exception": false,
     "start_time": "2022-03-30T09:44:24.895633",
     "status": "completed"
    },
    "run_control": {
     "read_only": false
    },
    "tags": []
   },
   "source": [
    "# Modeling\n",
    "\n",
    "**Using sklearn package to model data.**\n"
   ]
  },
  {
   "cell_type": "code",
   "execution_count": 10,
   "id": "c09cac19",
   "metadata": {
    "button": false,
    "execution": {
     "iopub.execute_input": "2022-03-30T09:44:25.007191Z",
     "iopub.status.busy": "2022-03-30T09:44:25.006199Z",
     "iopub.status.idle": "2022-03-30T09:44:26.050703Z",
     "shell.execute_reply": "2022-03-30T09:44:26.049745Z",
     "shell.execute_reply.started": "2022-03-30T09:43:16.653353Z"
    },
    "new_sheet": false,
    "papermill": {
     "duration": 1.084775,
     "end_time": "2022-03-30T09:44:26.050901",
     "exception": false,
     "start_time": "2022-03-30T09:44:24.966126",
     "status": "completed"
    },
    "run_control": {
     "read_only": false
    },
    "tags": []
   },
   "outputs": [
    {
     "name": "stdout",
     "output_type": "stream",
     "text": [
      "Coefficients:  [[39.06578277]]\n",
      "Intercept:  [125.72664199]\n"
     ]
    }
   ],
   "source": [
    "from sklearn import linear_model\n",
    "regr = linear_model.LinearRegression()\n",
    "train_x = np.asanyarray(train[['ENGINESIZE']])\n",
    "train_y = np.asanyarray(train[['CO2EMISSIONS']])\n",
    "regr.fit(train_x, train_y)\n",
    "\n",
    "# The coefficients\n",
    "print ('Coefficients: ', regr.coef_)\n",
    "print ('Intercept: ',regr.intercept_)"
   ]
  },
  {
   "cell_type": "markdown",
   "id": "0680c6ea",
   "metadata": {
    "button": false,
    "new_sheet": false,
    "papermill": {
     "duration": 0.033508,
     "end_time": "2022-03-30T09:44:26.125569",
     "exception": false,
     "start_time": "2022-03-30T09:44:26.092061",
     "status": "completed"
    },
    "run_control": {
     "read_only": false
    },
    "tags": []
   },
   "source": [
    "# Plot outputs\n"
   ]
  },
  {
   "cell_type": "code",
   "execution_count": 11,
   "id": "47020fc4",
   "metadata": {
    "button": false,
    "execution": {
     "iopub.execute_input": "2022-03-30T09:44:26.200337Z",
     "iopub.status.busy": "2022-03-30T09:44:26.199715Z",
     "iopub.status.idle": "2022-03-30T09:44:26.451383Z",
     "shell.execute_reply": "2022-03-30T09:44:26.452132Z",
     "shell.execute_reply.started": "2022-03-30T09:43:17.777564Z"
    },
    "new_sheet": false,
    "papermill": {
     "duration": 0.290027,
     "end_time": "2022-03-30T09:44:26.452364",
     "exception": false,
     "start_time": "2022-03-30T09:44:26.162337",
     "status": "completed"
    },
    "run_control": {
     "read_only": false
    },
    "tags": []
   },
   "outputs": [
    {
     "data": {
      "text/plain": [
       "Text(0, 0.5, 'Emission')"
      ]
     },
     "execution_count": 11,
     "metadata": {},
     "output_type": "execute_result"
    },
    {
     "data": {
      "image/png": "[encoded data removed]",
      "text/plain": [
       "<Figure size 432x288 with 1 Axes>"
      ]
     },
     "metadata": {
      "needs_background": "light"
     },
     "output_type": "display_data"
    }
   ],
   "source": [
    "plt.scatter(train.ENGINESIZE, train.CO2EMISSIONS,  color='blue')\n",
    "plt.plot(train_x, regr.coef_[0][0]*train_x + regr.intercept_[0], '-r')\n",
    "plt.xlabel(\"Engine size\")\n",
    "plt.ylabel(\"Emission\")"
   ]
  },
  {
   "cell_type": "markdown",
   "id": "579db7c3",
   "metadata": {
    "button": false,
    "new_sheet": false,
    "papermill": {
     "duration": 0.034006,
     "end_time": "2022-03-30T09:44:26.531309",
     "exception": false,
     "start_time": "2022-03-30T09:44:26.497303",
     "status": "completed"
    },
    "run_control": {
     "read_only": false
    },
    "tags": []
   },
   "source": [
    "# Evaluation\n"
   ]
  },
  {
   "cell_type": "code",
   "execution_count": 12,
   "id": "5fe71929",
   "metadata": {
    "button": false,
    "execution": {
     "iopub.execute_input": "2022-03-30T09:44:26.607590Z",
     "iopub.status.busy": "2022-03-30T09:44:26.606554Z",
     "iopub.status.idle": "2022-03-30T09:44:26.612910Z",
     "shell.execute_reply": "2022-03-30T09:44:26.613537Z",
     "shell.execute_reply.started": "2022-03-30T09:43:17.988111Z"
    },
    "new_sheet": false,
    "papermill": {
     "duration": 0.048462,
     "end_time": "2022-03-30T09:44:26.613713",
     "exception": false,
     "start_time": "2022-03-30T09:44:26.565251",
     "status": "completed"
    },
    "run_control": {
     "read_only": false
    },
    "scrolled": true,
    "tags": []
   },
   "outputs": [
    {
     "name": "stdout",
     "output_type": "stream",
     "text": [
      "Mean absolute error: 21.97\n",
      "Residual sum of squares (MSE): 856.87\n",
      "R2-score: 0.79\n"
     ]
    }
   ],
   "source": [
    "from sklearn.metrics import r2_score\n",
    "\n",
    "test_x = np.asanyarray(test[['ENGINESIZE']])\n",
    "test_y = np.asanyarray(test[['CO2EMISSIONS']])\n",
    "test_y_ = regr.predict(test_x)\n",
    "\n",
    "print(\"Mean absolute error: %.2f\" % np.mean(np.absolute(test_y_ - test_y)))\n",
    "print(\"Residual sum of squares (MSE): %.2f\" % np.mean((test_y_ - test_y) ** 2))\n",
    "print(\"R2-score: %.2f\" % r2_score(test_y , test_y_) )"
   ]
  },
  {
   "cell_type": "code",
   "execution_count": 13,
   "id": "a51b0e40",
   "metadata": {
    "execution": {
     "iopub.execute_input": "2022-03-30T09:44:26.686153Z",
     "iopub.status.busy": "2022-03-30T09:44:26.685206Z",
     "iopub.status.idle": "2022-03-30T09:44:26.693205Z",
     "shell.execute_reply": "2022-03-30T09:44:26.693664Z",
     "shell.execute_reply.started": "2022-03-30T09:43:18.001544Z"
    },
    "papermill": {
     "duration": 0.045839,
     "end_time": "2022-03-30T09:44:26.693836",
     "exception": false,
     "start_time": "2022-03-30T09:44:26.647997",
     "status": "completed"
    },
    "tags": []
   },
   "outputs": [
    {
     "data": {
      "text/plain": [
       "(858, 1)"
      ]
     },
     "execution_count": 13,
     "metadata": {},
     "output_type": "execute_result"
    }
   ],
   "source": [
    "train_x = train[['FUELCONSUMPTION_COMB']]\n",
    "\n",
    "test_x = test[['FUELCONSUMPTION_COMB']]\n",
    "\n",
    "train_x.shape"
   ]
  },
  {
   "cell_type": "code",
   "execution_count": 14,
   "id": "0daa3a81",
   "metadata": {
    "execution": {
     "iopub.execute_input": "2022-03-30T09:44:26.770834Z",
     "iopub.status.busy": "2022-03-30T09:44:26.770013Z",
     "iopub.status.idle": "2022-03-30T09:44:26.776985Z",
     "shell.execute_reply": "2022-03-30T09:44:26.777564Z",
     "shell.execute_reply.started": "2022-03-30T09:43:18.017221Z"
    },
    "papermill": {
     "duration": 0.049003,
     "end_time": "2022-03-30T09:44:26.777730",
     "exception": false,
     "start_time": "2022-03-30T09:44:26.728727",
     "status": "completed"
    },
    "tags": []
   },
   "outputs": [
    {
     "data": {
      "text/plain": [
       "LinearRegression()"
      ]
     },
     "execution_count": 14,
     "metadata": {},
     "output_type": "execute_result"
    }
   ],
   "source": [
    "regr = linear_model.LinearRegression()\n",
    "\n",
    "regr.fit(train_x, train_y)\n"
   ]
  },
  {
   "cell_type": "code",
   "execution_count": 15,
   "id": "69242fdc",
   "metadata": {
    "execution": {
     "iopub.execute_input": "2022-03-30T09:44:26.851400Z",
     "iopub.status.busy": "2022-03-30T09:44:26.850437Z",
     "iopub.status.idle": "2022-03-30T09:44:26.855768Z",
     "shell.execute_reply": "2022-03-30T09:44:26.856407Z",
     "shell.execute_reply.started": "2022-03-30T09:43:18.035153Z"
    },
    "papermill": {
     "duration": 0.043909,
     "end_time": "2022-03-30T09:44:26.856576",
     "exception": false,
     "start_time": "2022-03-30T09:44:26.812667",
     "status": "completed"
    },
    "tags": []
   },
   "outputs": [],
   "source": [
    "predictions = regr.predict(test_x)"
   ]
  },
  {
   "cell_type": "code",
   "execution_count": 16,
   "id": "20941925",
   "metadata": {
    "execution": {
     "iopub.execute_input": "2022-03-30T09:44:26.932841Z",
     "iopub.status.busy": "2022-03-30T09:44:26.931821Z",
     "iopub.status.idle": "2022-03-30T09:44:26.939770Z",
     "shell.execute_reply": "2022-03-30T09:44:26.940292Z",
     "shell.execute_reply.started": "2022-03-30T09:43:18.043098Z"
    },
    "papermill": {
     "duration": 0.048726,
     "end_time": "2022-03-30T09:44:26.940469",
     "exception": false,
     "start_time": "2022-03-30T09:44:26.891743",
     "status": "completed"
    },
    "tags": []
   },
   "outputs": [
    {
     "name": "stdout",
     "output_type": "stream",
     "text": [
      "MSE:  [17.88846382]\n"
     ]
    }
   ],
   "source": [
    "s=0\n",
    "for i in range(test_y.shape[0]):\n",
    "    s += np.absolute(predictions[i] - test_y[i])\n",
    "MSE = s/test_y.shape[0]\n",
    "print(\"MSE: \", MSE)"
   ]
  },
  {
   "cell_type": "code",
   "execution_count": 17,
   "id": "b448647c",
   "metadata": {
    "execution": {
     "iopub.execute_input": "2022-03-30T09:44:27.015475Z",
     "iopub.status.busy": "2022-03-30T09:44:27.014536Z",
     "iopub.status.idle": "2022-03-30T09:44:27.020135Z",
     "shell.execute_reply": "2022-03-30T09:44:27.020637Z",
     "shell.execute_reply.started": "2022-03-30T09:43:18.060163Z"
    },
    "papermill": {
     "duration": 0.044951,
     "end_time": "2022-03-30T09:44:27.020804",
     "exception": false,
     "start_time": "2022-03-30T09:44:26.975853",
     "status": "completed"
    },
    "tags": []
   },
   "outputs": [
    {
     "name": "stdout",
     "output_type": "stream",
     "text": [
      "Mean Absolute Error: 17.89\n"
     ]
    }
   ],
   "source": [
    "print(\"Mean Absolute Error: %.2f\" % np.mean(np.absolute(predictions - test_y)))"
   ]
  },
  {
   "cell_type": "markdown",
   "id": "6b695e8d",
   "metadata": {
    "papermill": {
     "duration": 0.037688,
     "end_time": "2022-03-30T09:44:27.096503",
     "exception": false,
     "start_time": "2022-03-30T09:44:27.058815",
     "status": "completed"
    },
    "tags": []
   },
   "source": [
    "# **Finished**"
   ]
  }
 ],
 "metadata": {
  "kernelspec": {
   "display_name": "Python 3",
   "language": "python",
   "name": "python3"
  },
  "language_info": {
   "codemirror_mode": {
    "name": "ipython",
    "version": 3
   },
   "file_extension": ".py",
   "mimetype": "text/x-python",
   "name": "python",
   "nbconvert_exporter": "python",
   "pygments_lexer": "ipython3",
   "version": "3.7.12"
  },
  "papermill": {
   "default_parameters": {},
   "duration": 14.914135,
   "end_time": "2022-03-30T09:44:27.843543",
   "environment_variables": {},
   "exception": null,
   "input_path": "__notebook__.ipynb",
   "output_path": "__notebook__.ipynb",
   "parameters": {},
   "start_time": "2022-03-30T09:44:12.929408",
   "version": "2.3.3"
  }
 },
 "nbformat": 4,
 "nbformat_minor": 5
}
