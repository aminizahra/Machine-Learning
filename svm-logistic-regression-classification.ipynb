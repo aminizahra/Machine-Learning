{
 "cells": [
  {
   "cell_type": "markdown",
   "id": "7087bceb",
   "metadata": {
    "papermill": {
     "duration": 0.057276,
     "end_time": "2022-04-12T11:13:52.337700",
     "exception": false,
     "start_time": "2022-04-12T11:13:52.280424",
     "status": "completed"
    },
    "tags": []
   },
   "source": [
    "# **Classification**\n",
    "In a series of notebooks, I want to load a historical dataset from previous loan applications, clean the data, and apply different classification algorithms to the data. I use the following algorithms to build our models:\n",
    "\n",
    "**[K Nearest Neighbor(KNN)](https://www.kaggle.com/aminizahra/k-nearest-neighbor-knn-classification)**\n",
    "\n",
    "**[Decision Tree](https://www.kaggle.com/code/aminizahra/decision-tree-classification)**\n",
    "\n",
    "**[Support Vector Machine](https://www.kaggle.com/aminizahra/svm-logistic-regression-classification)**\n",
    "\n",
    "**[Logistic Regression](https://www.kaggle.com/aminizahra/svm-logistic-regression-classification)**"
   ]
  },
  {
   "cell_type": "markdown",
   "id": "59aa9874",
   "metadata": {
    "papermill": {
     "duration": 0.059008,
     "end_time": "2022-04-12T11:13:52.453889",
     "exception": false,
     "start_time": "2022-04-12T11:13:52.394881",
     "status": "completed"
    },
    "tags": []
   },
   "source": [
    "**Note: First I prepare the data, which I did in the first Notebook(the knn Notebook) so I hide some cells.**"
   ]
  },
  {
   "cell_type": "markdown",
   "id": "899e637a",
   "metadata": {
    "_kg_hide-input": true,
    "papermill": {
     "duration": 0.054594,
     "end_time": "2022-04-12T11:13:52.564120",
     "exception": false,
     "start_time": "2022-04-12T11:13:52.509526",
     "status": "completed"
    },
    "tags": []
   },
   "source": [
    "# 📤 Import & Install all necessary Libraries"
   ]
  },
  {
   "cell_type": "code",
   "execution_count": 1,
   "id": "4eba641f",
   "metadata": {
    "_kg_hide-input": true,
    "_kg_hide-output": true,
    "execution": {
     "iopub.execute_input": "2022-04-12T11:13:52.686287Z",
     "iopub.status.busy": "2022-04-12T11:13:52.685555Z",
     "iopub.status.idle": "2022-04-12T11:13:54.296487Z",
     "shell.execute_reply": "2022-04-12T11:13:54.295543Z",
     "shell.execute_reply.started": "2022-04-12T06:48:23.987876Z"
    },
    "papermill": {
     "duration": 1.677009,
     "end_time": "2022-04-12T11:13:54.296684",
     "exception": false,
     "start_time": "2022-04-12T11:13:52.619675",
     "status": "completed"
    },
    "tags": []
   },
   "outputs": [],
   "source": [
    "import itertools\n",
    "import numpy as np\n",
    "import matplotlib.pyplot as plt\n",
    "from matplotlib.ticker import NullFormatter\n",
    "import pandas as pd\n",
    "import numpy as np\n",
    "import matplotlib.ticker as ticker\n",
    "from sklearn import preprocessing\n",
    "import seaborn as sns\n",
    "from sklearn.model_selection import train_test_split\n",
    "from sklearn.neighbors import KNeighborsClassifier\n",
    "from sklearn.metrics import accuracy_score, confusion_matrix, classification_report, plot_confusion_matrix, precision_score, recall_score\n",
    "from sklearn.preprocessing import StandardScaler\n",
    "from sklearn.linear_model import LogisticRegression\n",
    "from sklearn.tree import DecisionTreeClassifier\n",
    "from sklearn.tree import plot_tree"
   ]
  },
  {
   "cell_type": "code",
   "execution_count": 2,
   "id": "a2f34f61",
   "metadata": {
    "_kg_hide-input": true,
    "_kg_hide-output": true,
    "execution": {
     "iopub.execute_input": "2022-04-12T11:13:54.413382Z",
     "iopub.status.busy": "2022-04-12T11:13:54.412750Z",
     "iopub.status.idle": "2022-04-12T11:13:54.416890Z",
     "shell.execute_reply": "2022-04-12T11:13:54.417420Z",
     "shell.execute_reply.started": "2022-04-12T06:48:24.186061Z"
    },
    "papermill": {
     "duration": 0.063082,
     "end_time": "2022-04-12T11:13:54.417591",
     "exception": false,
     "start_time": "2022-04-12T11:13:54.354509",
     "status": "completed"
    },
    "tags": []
   },
   "outputs": [],
   "source": [
    "from sklearn.metrics import jaccard_score\n",
    "from sklearn.metrics import f1_score\n",
    "from sklearn.metrics import log_loss"
   ]
  },
  {
   "cell_type": "code",
   "execution_count": 3,
   "id": "395118d3",
   "metadata": {
    "_kg_hide-input": true,
    "_kg_hide-output": true,
    "execution": {
     "iopub.execute_input": "2022-04-12T11:13:54.530175Z",
     "iopub.status.busy": "2022-04-12T11:13:54.529510Z",
     "iopub.status.idle": "2022-04-12T11:13:54.533203Z",
     "shell.execute_reply": "2022-04-12T11:13:54.533686Z",
     "shell.execute_reply.started": "2022-04-12T06:48:24.350867Z"
    },
    "papermill": {
     "duration": 0.061975,
     "end_time": "2022-04-12T11:13:54.533854",
     "exception": false,
     "start_time": "2022-04-12T11:13:54.471879",
     "status": "completed"
    },
    "tags": []
   },
   "outputs": [],
   "source": [
    "from sklearn.linear_model import LogisticRegression"
   ]
  },
  {
   "cell_type": "code",
   "execution_count": 4,
   "id": "0a094e8f",
   "metadata": {
    "_kg_hide-input": true,
    "_kg_hide-output": true,
    "execution": {
     "iopub.execute_input": "2022-04-12T11:13:54.647399Z",
     "iopub.status.busy": "2022-04-12T11:13:54.646661Z",
     "iopub.status.idle": "2022-04-12T11:13:54.650799Z",
     "shell.execute_reply": "2022-04-12T11:13:54.651332Z",
     "shell.execute_reply.started": "2022-04-12T06:48:24.506444Z"
    },
    "papermill": {
     "duration": 0.062933,
     "end_time": "2022-04-12T11:13:54.651505",
     "exception": false,
     "start_time": "2022-04-12T11:13:54.588572",
     "status": "completed"
    },
    "tags": []
   },
   "outputs": [],
   "source": [
    "from sklearn import svm\n",
    "from sklearn.svm import SVC"
   ]
  },
  {
   "cell_type": "code",
   "execution_count": 5,
   "id": "21501044",
   "metadata": {
    "_kg_hide-input": true,
    "_kg_hide-output": true,
    "execution": {
     "iopub.execute_input": "2022-04-12T11:13:54.767670Z",
     "iopub.status.busy": "2022-04-12T11:13:54.765683Z",
     "iopub.status.idle": "2022-04-12T11:14:08.679815Z",
     "shell.execute_reply": "2022-04-12T11:14:08.679162Z",
     "shell.execute_reply.started": "2022-04-12T06:48:24.746207Z"
    },
    "papermill": {
     "duration": 13.973282,
     "end_time": "2022-04-12T11:14:08.679956",
     "exception": false,
     "start_time": "2022-04-12T11:13:54.706674",
     "status": "completed"
    },
    "tags": []
   },
   "outputs": [
    {
     "name": "stdout",
     "output_type": "stream",
     "text": [
      "Collecting pydotplus\r\n",
      "  Downloading pydotplus-2.0.2.tar.gz (278 kB)\r\n",
      "     |████████████████████████████████| 278 kB 892 kB/s            \r\n",
      "\u001b[?25h  Preparing metadata (setup.py) ... \u001b[?25l-\b \bdone\r\n",
      "\u001b[?25hRequirement already satisfied: pyparsing>=2.0.1 in /opt/conda/lib/python3.7/site-packages (from pydotplus) (3.0.6)\r\n",
      "Building wheels for collected packages: pydotplus\r\n",
      "  Building wheel for pydotplus (setup.py) ... \u001b[?25l-\b \b\\\b \bdone\r\n",
      "\u001b[?25h  Created wheel for pydotplus: filename=pydotplus-2.0.2-py3-none-any.whl size=24575 sha256=87bfcd1c2251c42eaf77c91d6c4fb09521e25ca4a548b30600f7dd352c601288\r\n",
      "  Stored in directory: /root/.cache/pip/wheels/1e/7b/04/7387cf6cc9e48b4a96e361b0be812f0708b394b821bf8c9c50\r\n",
      "Successfully built pydotplus\r\n",
      "Installing collected packages: pydotplus\r\n",
      "Successfully installed pydotplus-2.0.2\r\n",
      "\u001b[33mWARNING: Running pip as the 'root' user can result in broken permissions and conflicting behaviour with the system package manager. It is recommended to use a virtual environment instead: https://pip.pypa.io/warnings/venv\u001b[0m\r\n",
      "Note: you may need to restart the kernel to use updated packages.\n"
     ]
    }
   ],
   "source": [
    "pip install pydotplus"
   ]
  },
  {
   "cell_type": "code",
   "execution_count": 6,
   "id": "650d2847",
   "metadata": {
    "_kg_hide-input": true,
    "_kg_hide-output": true,
    "execution": {
     "iopub.execute_input": "2022-04-12T11:14:08.809814Z",
     "iopub.status.busy": "2022-04-12T11:14:08.808884Z",
     "iopub.status.idle": "2022-04-12T11:14:08.822250Z",
     "shell.execute_reply": "2022-04-12T11:14:08.821533Z",
     "shell.execute_reply.started": "2022-04-12T06:48:32.403925Z"
    },
    "papermill": {
     "duration": 0.080636,
     "end_time": "2022-04-12T11:14:08.822423",
     "exception": false,
     "start_time": "2022-04-12T11:14:08.741787",
     "status": "completed"
    },
    "tags": []
   },
   "outputs": [],
   "source": [
    "from  io import StringIO\n",
    "import pydotplus\n",
    "import matplotlib.image as mpimg\n",
    "from sklearn import tree\n",
    "%matplotlib inline "
   ]
  },
  {
   "cell_type": "markdown",
   "id": "4f0ad478",
   "metadata": {
    "_kg_hide-input": true,
    "_kg_hide-output": true,
    "papermill": {
     "duration": 0.060159,
     "end_time": "2022-04-12T11:14:08.942159",
     "exception": false,
     "start_time": "2022-04-12T11:14:08.882000",
     "status": "completed"
    },
    "tags": []
   },
   "source": [
    "# 💾 Load & Check out Data"
   ]
  },
  {
   "cell_type": "markdown",
   "id": "80e8a318",
   "metadata": {
    "_kg_hide-input": true,
    "papermill": {
     "duration": 0.059713,
     "end_time": "2022-04-12T11:14:09.062498",
     "exception": false,
     "start_time": "2022-04-12T11:14:09.002785",
     "status": "completed"
    },
    "tags": []
   },
   "source": [
    "## Train"
   ]
  },
  {
   "cell_type": "code",
   "execution_count": 7,
   "id": "857db7b8",
   "metadata": {
    "_kg_hide-input": true,
    "_kg_hide-output": true,
    "execution": {
     "iopub.execute_input": "2022-04-12T11:14:09.192819Z",
     "iopub.status.busy": "2022-04-12T11:14:09.192181Z",
     "iopub.status.idle": "2022-04-12T11:14:09.215482Z",
     "shell.execute_reply": "2022-04-12T11:14:09.214864Z",
     "shell.execute_reply.started": "2022-04-12T06:48:32.411848Z"
    },
    "papermill": {
     "duration": 0.091131,
     "end_time": "2022-04-12T11:14:09.215630",
     "exception": false,
     "start_time": "2022-04-12T11:14:09.124499",
     "status": "completed"
    },
    "tags": []
   },
   "outputs": [],
   "source": [
    "df = pd.read_csv(\"../input/loan-tatus/loan_train.csv\")"
   ]
  },
  {
   "cell_type": "code",
   "execution_count": 8,
   "id": "bb31d600",
   "metadata": {
    "_kg_hide-input": true,
    "_kg_hide-output": true,
    "execution": {
     "iopub.execute_input": "2022-04-12T11:14:09.347203Z",
     "iopub.status.busy": "2022-04-12T11:14:09.346546Z",
     "iopub.status.idle": "2022-04-12T11:14:09.364650Z",
     "shell.execute_reply": "2022-04-12T11:14:09.365183Z",
     "shell.execute_reply.started": "2022-04-12T06:48:32.429258Z"
    },
    "papermill": {
     "duration": 0.088958,
     "end_time": "2022-04-12T11:14:09.365391",
     "exception": false,
     "start_time": "2022-04-12T11:14:09.276433",
     "status": "completed"
    },
    "tags": []
   },
   "outputs": [
    {
     "data": {
      "text/html": [
       "<div>\n",
       "<style scoped>\n",
       "    .dataframe tbody tr th:only-of-type {\n",
       "        vertical-align: middle;\n",
       "    }\n",
       "\n",
       "    .dataframe tbody tr th {\n",
       "        vertical-align: top;\n",
       "    }\n",
       "\n",
       "    .dataframe thead th {\n",
       "        text-align: right;\n",
       "    }\n",
       "</style>\n",
       "<table border=\"1\" class=\"dataframe\">\n",
       "  <thead>\n",
       "    <tr style=\"text-align: right;\">\n",
       "      <th></th>\n",
       "      <th>Unnamed: 0</th>\n",
       "      <th>Unnamed: 0.1</th>\n",
       "      <th>loan_status</th>\n",
       "      <th>Principal</th>\n",
       "      <th>terms</th>\n",
       "      <th>effective_date</th>\n",
       "      <th>due_date</th>\n",
       "      <th>age</th>\n",
       "      <th>education</th>\n",
       "      <th>Gender</th>\n",
       "    </tr>\n",
       "  </thead>\n",
       "  <tbody>\n",
       "    <tr>\n",
       "      <th>0</th>\n",
       "      <td>0</td>\n",
       "      <td>0</td>\n",
       "      <td>PAIDOFF</td>\n",
       "      <td>1000</td>\n",
       "      <td>30</td>\n",
       "      <td>9/8/2016</td>\n",
       "      <td>10/7/2016</td>\n",
       "      <td>45</td>\n",
       "      <td>High School or Below</td>\n",
       "      <td>male</td>\n",
       "    </tr>\n",
       "    <tr>\n",
       "      <th>1</th>\n",
       "      <td>2</td>\n",
       "      <td>2</td>\n",
       "      <td>PAIDOFF</td>\n",
       "      <td>1000</td>\n",
       "      <td>30</td>\n",
       "      <td>9/8/2016</td>\n",
       "      <td>10/7/2016</td>\n",
       "      <td>33</td>\n",
       "      <td>Bechalor</td>\n",
       "      <td>female</td>\n",
       "    </tr>\n",
       "    <tr>\n",
       "      <th>2</th>\n",
       "      <td>3</td>\n",
       "      <td>3</td>\n",
       "      <td>PAIDOFF</td>\n",
       "      <td>1000</td>\n",
       "      <td>15</td>\n",
       "      <td>9/8/2016</td>\n",
       "      <td>9/22/2016</td>\n",
       "      <td>27</td>\n",
       "      <td>college</td>\n",
       "      <td>male</td>\n",
       "    </tr>\n",
       "    <tr>\n",
       "      <th>3</th>\n",
       "      <td>4</td>\n",
       "      <td>4</td>\n",
       "      <td>PAIDOFF</td>\n",
       "      <td>1000</td>\n",
       "      <td>30</td>\n",
       "      <td>9/9/2016</td>\n",
       "      <td>10/8/2016</td>\n",
       "      <td>28</td>\n",
       "      <td>college</td>\n",
       "      <td>female</td>\n",
       "    </tr>\n",
       "    <tr>\n",
       "      <th>4</th>\n",
       "      <td>6</td>\n",
       "      <td>6</td>\n",
       "      <td>PAIDOFF</td>\n",
       "      <td>1000</td>\n",
       "      <td>30</td>\n",
       "      <td>9/9/2016</td>\n",
       "      <td>10/8/2016</td>\n",
       "      <td>29</td>\n",
       "      <td>college</td>\n",
       "      <td>male</td>\n",
       "    </tr>\n",
       "  </tbody>\n",
       "</table>\n",
       "</div>"
      ],
      "text/plain": [
       "   Unnamed: 0  Unnamed: 0.1 loan_status  Principal  terms effective_date  \\\n",
       "0           0             0     PAIDOFF       1000     30       9/8/2016   \n",
       "1           2             2     PAIDOFF       1000     30       9/8/2016   \n",
       "2           3             3     PAIDOFF       1000     15       9/8/2016   \n",
       "3           4             4     PAIDOFF       1000     30       9/9/2016   \n",
       "4           6             6     PAIDOFF       1000     30       9/9/2016   \n",
       "\n",
       "    due_date  age             education  Gender  \n",
       "0  10/7/2016   45  High School or Below    male  \n",
       "1  10/7/2016   33              Bechalor  female  \n",
       "2  9/22/2016   27               college    male  \n",
       "3  10/8/2016   28               college  female  \n",
       "4  10/8/2016   29               college    male  "
      ]
     },
     "execution_count": 8,
     "metadata": {},
     "output_type": "execute_result"
    }
   ],
   "source": [
    "df.head()"
   ]
  },
  {
   "cell_type": "code",
   "execution_count": 9,
   "id": "4f6aa842",
   "metadata": {
    "_kg_hide-input": true,
    "_kg_hide-output": true,
    "execution": {
     "iopub.execute_input": "2022-04-12T11:14:09.492317Z",
     "iopub.status.busy": "2022-04-12T11:14:09.491305Z",
     "iopub.status.idle": "2022-04-12T11:14:09.503662Z",
     "shell.execute_reply": "2022-04-12T11:14:09.504296Z",
     "shell.execute_reply.started": "2022-04-12T06:48:32.440786Z"
    },
    "papermill": {
     "duration": 0.077572,
     "end_time": "2022-04-12T11:14:09.504506",
     "exception": false,
     "start_time": "2022-04-12T11:14:09.426934",
     "status": "completed"
    },
    "tags": []
   },
   "outputs": [
    {
     "data": {
      "text/plain": [
       "array(['PAIDOFF', 'COLLECTION'], dtype=object)"
      ]
     },
     "execution_count": 9,
     "metadata": {},
     "output_type": "execute_result"
    }
   ],
   "source": [
    "df['loan_status'].unique()"
   ]
  },
  {
   "cell_type": "code",
   "execution_count": 10,
   "id": "f92efb4b",
   "metadata": {
    "_kg_hide-input": true,
    "_kg_hide-output": true,
    "execution": {
     "iopub.execute_input": "2022-04-12T11:14:09.630833Z",
     "iopub.status.busy": "2022-04-12T11:14:09.630173Z",
     "iopub.status.idle": "2022-04-12T11:14:09.648921Z",
     "shell.execute_reply": "2022-04-12T11:14:09.649477Z",
     "shell.execute_reply.started": "2022-04-12T06:48:32.45291Z"
    },
    "papermill": {
     "duration": 0.08335,
     "end_time": "2022-04-12T11:14:09.649677",
     "exception": false,
     "start_time": "2022-04-12T11:14:09.566327",
     "status": "completed"
    },
    "tags": []
   },
   "outputs": [
    {
     "data": {
      "text/html": [
       "<div>\n",
       "<style scoped>\n",
       "    .dataframe tbody tr th:only-of-type {\n",
       "        vertical-align: middle;\n",
       "    }\n",
       "\n",
       "    .dataframe tbody tr th {\n",
       "        vertical-align: top;\n",
       "    }\n",
       "\n",
       "    .dataframe thead th {\n",
       "        text-align: right;\n",
       "    }\n",
       "</style>\n",
       "<table border=\"1\" class=\"dataframe\">\n",
       "  <thead>\n",
       "    <tr style=\"text-align: right;\">\n",
       "      <th></th>\n",
       "      <th>loan_status</th>\n",
       "      <th>Principal</th>\n",
       "      <th>terms</th>\n",
       "      <th>effective_date</th>\n",
       "      <th>due_date</th>\n",
       "      <th>age</th>\n",
       "      <th>education</th>\n",
       "      <th>Gender</th>\n",
       "    </tr>\n",
       "  </thead>\n",
       "  <tbody>\n",
       "    <tr>\n",
       "      <th>0</th>\n",
       "      <td>PAIDOFF</td>\n",
       "      <td>1000</td>\n",
       "      <td>30</td>\n",
       "      <td>9/8/2016</td>\n",
       "      <td>10/7/2016</td>\n",
       "      <td>45</td>\n",
       "      <td>High School or Below</td>\n",
       "      <td>male</td>\n",
       "    </tr>\n",
       "    <tr>\n",
       "      <th>1</th>\n",
       "      <td>PAIDOFF</td>\n",
       "      <td>1000</td>\n",
       "      <td>30</td>\n",
       "      <td>9/8/2016</td>\n",
       "      <td>10/7/2016</td>\n",
       "      <td>33</td>\n",
       "      <td>Bechalor</td>\n",
       "      <td>female</td>\n",
       "    </tr>\n",
       "    <tr>\n",
       "      <th>2</th>\n",
       "      <td>PAIDOFF</td>\n",
       "      <td>1000</td>\n",
       "      <td>15</td>\n",
       "      <td>9/8/2016</td>\n",
       "      <td>9/22/2016</td>\n",
       "      <td>27</td>\n",
       "      <td>college</td>\n",
       "      <td>male</td>\n",
       "    </tr>\n",
       "    <tr>\n",
       "      <th>3</th>\n",
       "      <td>PAIDOFF</td>\n",
       "      <td>1000</td>\n",
       "      <td>30</td>\n",
       "      <td>9/9/2016</td>\n",
       "      <td>10/8/2016</td>\n",
       "      <td>28</td>\n",
       "      <td>college</td>\n",
       "      <td>female</td>\n",
       "    </tr>\n",
       "    <tr>\n",
       "      <th>4</th>\n",
       "      <td>PAIDOFF</td>\n",
       "      <td>1000</td>\n",
       "      <td>30</td>\n",
       "      <td>9/9/2016</td>\n",
       "      <td>10/8/2016</td>\n",
       "      <td>29</td>\n",
       "      <td>college</td>\n",
       "      <td>male</td>\n",
       "    </tr>\n",
       "  </tbody>\n",
       "</table>\n",
       "</div>"
      ],
      "text/plain": [
       "  loan_status  Principal  terms effective_date   due_date  age  \\\n",
       "0     PAIDOFF       1000     30       9/8/2016  10/7/2016   45   \n",
       "1     PAIDOFF       1000     30       9/8/2016  10/7/2016   33   \n",
       "2     PAIDOFF       1000     15       9/8/2016  9/22/2016   27   \n",
       "3     PAIDOFF       1000     30       9/9/2016  10/8/2016   28   \n",
       "4     PAIDOFF       1000     30       9/9/2016  10/8/2016   29   \n",
       "\n",
       "              education  Gender  \n",
       "0  High School or Below    male  \n",
       "1              Bechalor  female  \n",
       "2               college    male  \n",
       "3               college  female  \n",
       "4               college    male  "
      ]
     },
     "execution_count": 10,
     "metadata": {},
     "output_type": "execute_result"
    }
   ],
   "source": [
    "df = df.drop(['Unnamed: 0.1','Unnamed: 0'], axis=1)\n",
    "df.head()"
   ]
  },
  {
   "cell_type": "code",
   "execution_count": 11,
   "id": "00e872b5",
   "metadata": {
    "_kg_hide-input": true,
    "_kg_hide-output": true,
    "execution": {
     "iopub.execute_input": "2022-04-12T11:14:09.782249Z",
     "iopub.status.busy": "2022-04-12T11:14:09.780052Z",
     "iopub.status.idle": "2022-04-12T11:14:09.801256Z",
     "shell.execute_reply": "2022-04-12T11:14:09.801762Z",
     "shell.execute_reply.started": "2022-04-12T06:48:32.468084Z"
    },
    "papermill": {
     "duration": 0.088572,
     "end_time": "2022-04-12T11:14:09.801930",
     "exception": false,
     "start_time": "2022-04-12T11:14:09.713358",
     "status": "completed"
    },
    "tags": []
   },
   "outputs": [
    {
     "name": "stdout",
     "output_type": "stream",
     "text": [
      "<class 'pandas.core.frame.DataFrame'>\n",
      "RangeIndex: 346 entries, 0 to 345\n",
      "Data columns (total 8 columns):\n",
      " #   Column          Non-Null Count  Dtype \n",
      "---  ------          --------------  ----- \n",
      " 0   loan_status     346 non-null    object\n",
      " 1   Principal       346 non-null    int64 \n",
      " 2   terms           346 non-null    int64 \n",
      " 3   effective_date  346 non-null    object\n",
      " 4   due_date        346 non-null    object\n",
      " 5   age             346 non-null    int64 \n",
      " 6   education       346 non-null    object\n",
      " 7   Gender          346 non-null    object\n",
      "dtypes: int64(3), object(5)\n",
      "memory usage: 21.8+ KB\n"
     ]
    }
   ],
   "source": [
    "df.info() "
   ]
  },
  {
   "cell_type": "code",
   "execution_count": 12,
   "id": "c0b5a44c",
   "metadata": {
    "_kg_hide-input": true,
    "_kg_hide-output": true,
    "execution": {
     "iopub.execute_input": "2022-04-12T11:14:09.930512Z",
     "iopub.status.busy": "2022-04-12T11:14:09.929815Z",
     "iopub.status.idle": "2022-04-12T11:14:09.937281Z",
     "shell.execute_reply": "2022-04-12T11:14:09.937886Z",
     "shell.execute_reply.started": "2022-04-12T06:48:32.478795Z"
    },
    "papermill": {
     "duration": 0.073847,
     "end_time": "2022-04-12T11:14:09.938067",
     "exception": false,
     "start_time": "2022-04-12T11:14:09.864220",
     "status": "completed"
    },
    "tags": []
   },
   "outputs": [
    {
     "data": {
      "text/plain": [
       "PAIDOFF       260\n",
       "COLLECTION     86\n",
       "Name: loan_status, dtype: int64"
      ]
     },
     "execution_count": 12,
     "metadata": {},
     "output_type": "execute_result"
    }
   ],
   "source": [
    "df['loan_status'].value_counts()"
   ]
  },
  {
   "cell_type": "code",
   "execution_count": 13,
   "id": "cf341a86",
   "metadata": {
    "_kg_hide-input": true,
    "_kg_hide-output": true,
    "execution": {
     "iopub.execute_input": "2022-04-12T11:14:10.066721Z",
     "iopub.status.busy": "2022-04-12T11:14:10.066098Z",
     "iopub.status.idle": "2022-04-12T11:14:10.075028Z",
     "shell.execute_reply": "2022-04-12T11:14:10.075631Z",
     "shell.execute_reply.started": "2022-04-12T06:48:32.484474Z"
    },
    "papermill": {
     "duration": 0.075513,
     "end_time": "2022-04-12T11:14:10.075798",
     "exception": false,
     "start_time": "2022-04-12T11:14:10.000285",
     "status": "completed"
    },
    "tags": []
   },
   "outputs": [
    {
     "data": {
      "text/plain": [
       "loan_status       0\n",
       "Principal         0\n",
       "terms             0\n",
       "effective_date    0\n",
       "due_date          0\n",
       "age               0\n",
       "education         0\n",
       "Gender            0\n",
       "dtype: int64"
      ]
     },
     "execution_count": 13,
     "metadata": {},
     "output_type": "execute_result"
    }
   ],
   "source": [
    "df.isnull().sum()"
   ]
  },
  {
   "cell_type": "markdown",
   "id": "5bd7e3e7",
   "metadata": {
    "_kg_hide-input": true,
    "papermill": {
     "duration": 0.064346,
     "end_time": "2022-04-12T11:14:10.205558",
     "exception": false,
     "start_time": "2022-04-12T11:14:10.141212",
     "status": "completed"
    },
    "tags": []
   },
   "source": [
    "# ✔️ Preprocessing"
   ]
  },
  {
   "cell_type": "markdown",
   "id": "c49af99d",
   "metadata": {
    "_kg_hide-input": true,
    "papermill": {
     "duration": 0.062913,
     "end_time": "2022-04-12T11:14:10.331178",
     "exception": false,
     "start_time": "2022-04-12T11:14:10.268265",
     "status": "completed"
    },
    "tags": []
   },
   "source": [
    "## Feature set"
   ]
  },
  {
   "cell_type": "code",
   "execution_count": 14,
   "id": "cfd24f84",
   "metadata": {
    "_kg_hide-input": true,
    "_kg_hide-output": true,
    "execution": {
     "iopub.execute_input": "2022-04-12T11:14:10.463514Z",
     "iopub.status.busy": "2022-04-12T11:14:10.460740Z",
     "iopub.status.idle": "2022-04-12T11:14:10.466036Z",
     "shell.execute_reply": "2022-04-12T11:14:10.466597Z",
     "shell.execute_reply.started": "2022-04-12T06:48:32.497059Z"
    },
    "papermill": {
     "duration": 0.072053,
     "end_time": "2022-04-12T11:14:10.466791",
     "exception": false,
     "start_time": "2022-04-12T11:14:10.394738",
     "status": "completed"
    },
    "tags": []
   },
   "outputs": [
    {
     "data": {
      "text/plain": [
       "Index(['loan_status', 'Principal', 'terms', 'effective_date', 'due_date',\n",
       "       'age', 'education', 'Gender'],\n",
       "      dtype='object')"
      ]
     },
     "execution_count": 14,
     "metadata": {},
     "output_type": "execute_result"
    }
   ],
   "source": [
    "df.columns"
   ]
  },
  {
   "cell_type": "code",
   "execution_count": 15,
   "id": "464201c9",
   "metadata": {
    "_kg_hide-input": true,
    "_kg_hide-output": true,
    "execution": {
     "iopub.execute_input": "2022-04-12T11:14:10.602954Z",
     "iopub.status.busy": "2022-04-12T11:14:10.602247Z",
     "iopub.status.idle": "2022-04-12T11:14:10.605012Z",
     "shell.execute_reply": "2022-04-12T11:14:10.605492Z",
     "shell.execute_reply.started": "2022-04-12T06:48:32.503423Z"
    },
    "papermill": {
     "duration": 0.073987,
     "end_time": "2022-04-12T11:14:10.605679",
     "exception": false,
     "start_time": "2022-04-12T11:14:10.531692",
     "status": "completed"
    },
    "tags": []
   },
   "outputs": [
    {
     "data": {
      "text/plain": [
       "array([[1000,   30,   45],\n",
       "       [1000,   30,   33],\n",
       "       [1000,   15,   27],\n",
       "       ...,\n",
       "       [ 800,   15,   39],\n",
       "       [1000,   30,   28],\n",
       "       [1000,   30,   26]])"
      ]
     },
     "execution_count": 15,
     "metadata": {},
     "output_type": "execute_result"
    }
   ],
   "source": [
    "X = df[['Principal', 'terms', 'age']] .values\n",
    "X"
   ]
  },
  {
   "cell_type": "code",
   "execution_count": 16,
   "id": "62341fdb",
   "metadata": {
    "_kg_hide-input": true,
    "_kg_hide-output": true,
    "execution": {
     "iopub.execute_input": "2022-04-12T11:14:10.743254Z",
     "iopub.status.busy": "2022-04-12T11:14:10.742476Z",
     "iopub.status.idle": "2022-04-12T11:14:10.752991Z",
     "shell.execute_reply": "2022-04-12T11:14:10.752384Z",
     "shell.execute_reply.started": "2022-04-12T06:48:32.515066Z"
    },
    "papermill": {
     "duration": 0.081722,
     "end_time": "2022-04-12T11:14:10.753173",
     "exception": false,
     "start_time": "2022-04-12T11:14:10.671451",
     "status": "completed"
    },
    "tags": []
   },
   "outputs": [
    {
     "name": "stdout",
     "output_type": "stream",
     "text": [
      "<class 'pandas.core.frame.DataFrame'>\n",
      "RangeIndex: 346 entries, 0 to 345\n",
      "Data columns (total 8 columns):\n",
      " #   Column          Non-Null Count  Dtype \n",
      "---  ------          --------------  ----- \n",
      " 0   loan_status     346 non-null    object\n",
      " 1   Principal       346 non-null    int64 \n",
      " 2   terms           346 non-null    int64 \n",
      " 3   effective_date  346 non-null    object\n",
      " 4   due_date        346 non-null    object\n",
      " 5   age             346 non-null    int64 \n",
      " 6   education       346 non-null    object\n",
      " 7   Gender          346 non-null    object\n",
      "dtypes: int64(3), object(5)\n",
      "memory usage: 21.8+ KB\n"
     ]
    }
   ],
   "source": [
    "df.info()"
   ]
  },
  {
   "cell_type": "markdown",
   "id": "e8963aed",
   "metadata": {
    "_kg_hide-input": true,
    "papermill": {
     "duration": 0.064587,
     "end_time": "2022-04-12T11:14:10.883482",
     "exception": false,
     "start_time": "2022-04-12T11:14:10.818895",
     "status": "completed"
    },
    "tags": []
   },
   "source": [
    "## Converting date to datetime"
   ]
  },
  {
   "cell_type": "code",
   "execution_count": 17,
   "id": "3c120d59",
   "metadata": {
    "_kg_hide-input": true,
    "_kg_hide-output": true,
    "execution": {
     "iopub.execute_input": "2022-04-12T11:14:11.024397Z",
     "iopub.status.busy": "2022-04-12T11:14:11.023512Z",
     "iopub.status.idle": "2022-04-12T11:14:11.047929Z",
     "shell.execute_reply": "2022-04-12T11:14:11.047218Z",
     "shell.execute_reply.started": "2022-04-12T06:48:32.53085Z"
    },
    "papermill": {
     "duration": 0.098783,
     "end_time": "2022-04-12T11:14:11.048122",
     "exception": false,
     "start_time": "2022-04-12T11:14:10.949339",
     "status": "completed"
    },
    "tags": []
   },
   "outputs": [
    {
     "data": {
      "text/html": [
       "<div>\n",
       "<style scoped>\n",
       "    .dataframe tbody tr th:only-of-type {\n",
       "        vertical-align: middle;\n",
       "    }\n",
       "\n",
       "    .dataframe tbody tr th {\n",
       "        vertical-align: top;\n",
       "    }\n",
       "\n",
       "    .dataframe thead th {\n",
       "        text-align: right;\n",
       "    }\n",
       "</style>\n",
       "<table border=\"1\" class=\"dataframe\">\n",
       "  <thead>\n",
       "    <tr style=\"text-align: right;\">\n",
       "      <th></th>\n",
       "      <th>loan_status</th>\n",
       "      <th>Principal</th>\n",
       "      <th>terms</th>\n",
       "      <th>effective_date</th>\n",
       "      <th>due_date</th>\n",
       "      <th>age</th>\n",
       "      <th>education</th>\n",
       "      <th>Gender</th>\n",
       "    </tr>\n",
       "  </thead>\n",
       "  <tbody>\n",
       "    <tr>\n",
       "      <th>0</th>\n",
       "      <td>PAIDOFF</td>\n",
       "      <td>1000</td>\n",
       "      <td>30</td>\n",
       "      <td>2016-09-08</td>\n",
       "      <td>2016-10-07</td>\n",
       "      <td>45</td>\n",
       "      <td>High School or Below</td>\n",
       "      <td>male</td>\n",
       "    </tr>\n",
       "    <tr>\n",
       "      <th>1</th>\n",
       "      <td>PAIDOFF</td>\n",
       "      <td>1000</td>\n",
       "      <td>30</td>\n",
       "      <td>2016-09-08</td>\n",
       "      <td>2016-10-07</td>\n",
       "      <td>33</td>\n",
       "      <td>Bechalor</td>\n",
       "      <td>female</td>\n",
       "    </tr>\n",
       "    <tr>\n",
       "      <th>2</th>\n",
       "      <td>PAIDOFF</td>\n",
       "      <td>1000</td>\n",
       "      <td>15</td>\n",
       "      <td>2016-09-08</td>\n",
       "      <td>2016-09-22</td>\n",
       "      <td>27</td>\n",
       "      <td>college</td>\n",
       "      <td>male</td>\n",
       "    </tr>\n",
       "    <tr>\n",
       "      <th>3</th>\n",
       "      <td>PAIDOFF</td>\n",
       "      <td>1000</td>\n",
       "      <td>30</td>\n",
       "      <td>2016-09-09</td>\n",
       "      <td>2016-10-08</td>\n",
       "      <td>28</td>\n",
       "      <td>college</td>\n",
       "      <td>female</td>\n",
       "    </tr>\n",
       "    <tr>\n",
       "      <th>4</th>\n",
       "      <td>PAIDOFF</td>\n",
       "      <td>1000</td>\n",
       "      <td>30</td>\n",
       "      <td>2016-09-09</td>\n",
       "      <td>2016-10-08</td>\n",
       "      <td>29</td>\n",
       "      <td>college</td>\n",
       "      <td>male</td>\n",
       "    </tr>\n",
       "  </tbody>\n",
       "</table>\n",
       "</div>"
      ],
      "text/plain": [
       "  loan_status  Principal  terms effective_date   due_date  age  \\\n",
       "0     PAIDOFF       1000     30     2016-09-08 2016-10-07   45   \n",
       "1     PAIDOFF       1000     30     2016-09-08 2016-10-07   33   \n",
       "2     PAIDOFF       1000     15     2016-09-08 2016-09-22   27   \n",
       "3     PAIDOFF       1000     30     2016-09-09 2016-10-08   28   \n",
       "4     PAIDOFF       1000     30     2016-09-09 2016-10-08   29   \n",
       "\n",
       "              education  Gender  \n",
       "0  High School or Below    male  \n",
       "1              Bechalor  female  \n",
       "2               college    male  \n",
       "3               college  female  \n",
       "4               college    male  "
      ]
     },
     "execution_count": 17,
     "metadata": {},
     "output_type": "execute_result"
    }
   ],
   "source": [
    "df['due_date'] = pd.to_datetime(df['due_date'])\n",
    "df['effective_date'] = pd.to_datetime(df['effective_date'])\n",
    "df.head()"
   ]
  },
  {
   "cell_type": "code",
   "execution_count": 18,
   "id": "897e7630",
   "metadata": {
    "_kg_hide-input": true,
    "_kg_hide-output": true,
    "execution": {
     "iopub.execute_input": "2022-04-12T11:14:11.201554Z",
     "iopub.status.busy": "2022-04-12T11:14:11.186681Z",
     "iopub.status.idle": "2022-04-12T11:14:11.203927Z",
     "shell.execute_reply": "2022-04-12T11:14:11.204553Z",
     "shell.execute_reply.started": "2022-04-12T06:48:32.547927Z"
    },
    "papermill": {
     "duration": 0.089574,
     "end_time": "2022-04-12T11:14:11.204759",
     "exception": false,
     "start_time": "2022-04-12T11:14:11.115185",
     "status": "completed"
    },
    "tags": []
   },
   "outputs": [
    {
     "data": {
      "text/html": [
       "<div>\n",
       "<style scoped>\n",
       "    .dataframe tbody tr th:only-of-type {\n",
       "        vertical-align: middle;\n",
       "    }\n",
       "\n",
       "    .dataframe tbody tr th {\n",
       "        vertical-align: top;\n",
       "    }\n",
       "\n",
       "    .dataframe thead th {\n",
       "        text-align: right;\n",
       "    }\n",
       "</style>\n",
       "<table border=\"1\" class=\"dataframe\">\n",
       "  <thead>\n",
       "    <tr style=\"text-align: right;\">\n",
       "      <th></th>\n",
       "      <th>loan_status</th>\n",
       "      <th>Principal</th>\n",
       "      <th>terms</th>\n",
       "      <th>effective_date</th>\n",
       "      <th>due_date</th>\n",
       "      <th>age</th>\n",
       "      <th>education</th>\n",
       "      <th>Gender</th>\n",
       "      <th>dayofweek</th>\n",
       "      <th>weekend</th>\n",
       "    </tr>\n",
       "  </thead>\n",
       "  <tbody>\n",
       "    <tr>\n",
       "      <th>0</th>\n",
       "      <td>PAIDOFF</td>\n",
       "      <td>1000</td>\n",
       "      <td>30</td>\n",
       "      <td>2016-09-08</td>\n",
       "      <td>2016-10-07</td>\n",
       "      <td>45</td>\n",
       "      <td>High School or Below</td>\n",
       "      <td>male</td>\n",
       "      <td>3</td>\n",
       "      <td>0</td>\n",
       "    </tr>\n",
       "    <tr>\n",
       "      <th>1</th>\n",
       "      <td>PAIDOFF</td>\n",
       "      <td>1000</td>\n",
       "      <td>30</td>\n",
       "      <td>2016-09-08</td>\n",
       "      <td>2016-10-07</td>\n",
       "      <td>33</td>\n",
       "      <td>Bechalor</td>\n",
       "      <td>female</td>\n",
       "      <td>3</td>\n",
       "      <td>0</td>\n",
       "    </tr>\n",
       "    <tr>\n",
       "      <th>2</th>\n",
       "      <td>PAIDOFF</td>\n",
       "      <td>1000</td>\n",
       "      <td>15</td>\n",
       "      <td>2016-09-08</td>\n",
       "      <td>2016-09-22</td>\n",
       "      <td>27</td>\n",
       "      <td>college</td>\n",
       "      <td>male</td>\n",
       "      <td>3</td>\n",
       "      <td>0</td>\n",
       "    </tr>\n",
       "    <tr>\n",
       "      <th>3</th>\n",
       "      <td>PAIDOFF</td>\n",
       "      <td>1000</td>\n",
       "      <td>30</td>\n",
       "      <td>2016-09-09</td>\n",
       "      <td>2016-10-08</td>\n",
       "      <td>28</td>\n",
       "      <td>college</td>\n",
       "      <td>female</td>\n",
       "      <td>4</td>\n",
       "      <td>1</td>\n",
       "    </tr>\n",
       "    <tr>\n",
       "      <th>4</th>\n",
       "      <td>PAIDOFF</td>\n",
       "      <td>1000</td>\n",
       "      <td>30</td>\n",
       "      <td>2016-09-09</td>\n",
       "      <td>2016-10-08</td>\n",
       "      <td>29</td>\n",
       "      <td>college</td>\n",
       "      <td>male</td>\n",
       "      <td>4</td>\n",
       "      <td>1</td>\n",
       "    </tr>\n",
       "  </tbody>\n",
       "</table>\n",
       "</div>"
      ],
      "text/plain": [
       "  loan_status  Principal  terms effective_date   due_date  age  \\\n",
       "0     PAIDOFF       1000     30     2016-09-08 2016-10-07   45   \n",
       "1     PAIDOFF       1000     30     2016-09-08 2016-10-07   33   \n",
       "2     PAIDOFF       1000     15     2016-09-08 2016-09-22   27   \n",
       "3     PAIDOFF       1000     30     2016-09-09 2016-10-08   28   \n",
       "4     PAIDOFF       1000     30     2016-09-09 2016-10-08   29   \n",
       "\n",
       "              education  Gender  dayofweek  weekend  \n",
       "0  High School or Below    male          3        0  \n",
       "1              Bechalor  female          3        0  \n",
       "2               college    male          3        0  \n",
       "3               college  female          4        1  \n",
       "4               college    male          4        1  "
      ]
     },
     "execution_count": 18,
     "metadata": {},
     "output_type": "execute_result"
    }
   ],
   "source": [
    "df['dayofweek'] = df['effective_date'].dt.dayofweek\n",
    "df['weekend'] = df['dayofweek'].apply(lambda x: 1 if (x>3)  else 0)\n",
    "df.head()"
   ]
  },
  {
   "cell_type": "code",
   "execution_count": 19,
   "id": "434dab9b",
   "metadata": {
    "_kg_hide-input": true,
    "_kg_hide-output": true,
    "execution": {
     "iopub.execute_input": "2022-04-12T11:14:11.341293Z",
     "iopub.status.busy": "2022-04-12T11:14:11.340569Z",
     "iopub.status.idle": "2022-04-12T11:14:11.353758Z",
     "shell.execute_reply": "2022-04-12T11:14:11.353178Z",
     "shell.execute_reply.started": "2022-04-12T06:48:32.567922Z"
    },
    "papermill": {
     "duration": 0.083234,
     "end_time": "2022-04-12T11:14:11.353913",
     "exception": false,
     "start_time": "2022-04-12T11:14:11.270679",
     "status": "completed"
    },
    "tags": []
   },
   "outputs": [
    {
     "name": "stdout",
     "output_type": "stream",
     "text": [
      "<class 'pandas.core.frame.DataFrame'>\n",
      "RangeIndex: 346 entries, 0 to 345\n",
      "Data columns (total 10 columns):\n",
      " #   Column          Non-Null Count  Dtype         \n",
      "---  ------          --------------  -----         \n",
      " 0   loan_status     346 non-null    object        \n",
      " 1   Principal       346 non-null    int64         \n",
      " 2   terms           346 non-null    int64         \n",
      " 3   effective_date  346 non-null    datetime64[ns]\n",
      " 4   due_date        346 non-null    datetime64[ns]\n",
      " 5   age             346 non-null    int64         \n",
      " 6   education       346 non-null    object        \n",
      " 7   Gender          346 non-null    object        \n",
      " 8   dayofweek       346 non-null    int64         \n",
      " 9   weekend         346 non-null    int64         \n",
      "dtypes: datetime64[ns](2), int64(5), object(3)\n",
      "memory usage: 27.2+ KB\n"
     ]
    }
   ],
   "source": [
    "df.info()"
   ]
  },
  {
   "cell_type": "markdown",
   "id": "72a55972",
   "metadata": {
    "_kg_hide-input": true,
    "papermill": {
     "duration": 0.067309,
     "end_time": "2022-04-12T11:14:11.492079",
     "exception": false,
     "start_time": "2022-04-12T11:14:11.424770",
     "status": "completed"
    },
    "tags": []
   },
   "source": [
    "## Converting Categorical features to numerical values"
   ]
  },
  {
   "cell_type": "code",
   "execution_count": 20,
   "id": "41612860",
   "metadata": {
    "_kg_hide-input": true,
    "_kg_hide-output": true,
    "execution": {
     "iopub.execute_input": "2022-04-12T11:14:11.632247Z",
     "iopub.status.busy": "2022-04-12T11:14:11.631518Z",
     "iopub.status.idle": "2022-04-12T11:14:11.644064Z",
     "shell.execute_reply": "2022-04-12T11:14:11.644568Z",
     "shell.execute_reply.started": "2022-04-12T06:48:32.583728Z"
    },
    "papermill": {
     "duration": 0.085214,
     "end_time": "2022-04-12T11:14:11.644765",
     "exception": false,
     "start_time": "2022-04-12T11:14:11.559551",
     "status": "completed"
    },
    "tags": []
   },
   "outputs": [
    {
     "data": {
      "text/plain": [
       "Gender  loan_status\n",
       "female  PAIDOFF        0.865385\n",
       "        COLLECTION     0.134615\n",
       "male    PAIDOFF        0.731293\n",
       "        COLLECTION     0.268707\n",
       "Name: loan_status, dtype: float64"
      ]
     },
     "execution_count": 20,
     "metadata": {},
     "output_type": "execute_result"
    }
   ],
   "source": [
    "df.groupby(['Gender'])['loan_status'].value_counts(normalize=True)"
   ]
  },
  {
   "cell_type": "code",
   "execution_count": 21,
   "id": "c39cd32c",
   "metadata": {
    "_kg_hide-input": true,
    "_kg_hide-output": true,
    "execution": {
     "iopub.execute_input": "2022-04-12T11:14:11.797432Z",
     "iopub.status.busy": "2022-04-12T11:14:11.796606Z",
     "iopub.status.idle": "2022-04-12T11:14:11.799662Z",
     "shell.execute_reply": "2022-04-12T11:14:11.800277Z",
     "shell.execute_reply.started": "2022-04-12T06:48:32.59832Z"
    },
    "papermill": {
     "duration": 0.088772,
     "end_time": "2022-04-12T11:14:11.800473",
     "exception": false,
     "start_time": "2022-04-12T11:14:11.711701",
     "status": "completed"
    },
    "tags": []
   },
   "outputs": [
    {
     "data": {
      "text/html": [
       "<div>\n",
       "<style scoped>\n",
       "    .dataframe tbody tr th:only-of-type {\n",
       "        vertical-align: middle;\n",
       "    }\n",
       "\n",
       "    .dataframe tbody tr th {\n",
       "        vertical-align: top;\n",
       "    }\n",
       "\n",
       "    .dataframe thead th {\n",
       "        text-align: right;\n",
       "    }\n",
       "</style>\n",
       "<table border=\"1\" class=\"dataframe\">\n",
       "  <thead>\n",
       "    <tr style=\"text-align: right;\">\n",
       "      <th></th>\n",
       "      <th>loan_status</th>\n",
       "      <th>Principal</th>\n",
       "      <th>terms</th>\n",
       "      <th>effective_date</th>\n",
       "      <th>due_date</th>\n",
       "      <th>age</th>\n",
       "      <th>education</th>\n",
       "      <th>Gender</th>\n",
       "      <th>dayofweek</th>\n",
       "      <th>weekend</th>\n",
       "    </tr>\n",
       "  </thead>\n",
       "  <tbody>\n",
       "    <tr>\n",
       "      <th>0</th>\n",
       "      <td>PAIDOFF</td>\n",
       "      <td>1000</td>\n",
       "      <td>30</td>\n",
       "      <td>2016-09-08</td>\n",
       "      <td>2016-10-07</td>\n",
       "      <td>45</td>\n",
       "      <td>High School or Below</td>\n",
       "      <td>0</td>\n",
       "      <td>3</td>\n",
       "      <td>0</td>\n",
       "    </tr>\n",
       "    <tr>\n",
       "      <th>1</th>\n",
       "      <td>PAIDOFF</td>\n",
       "      <td>1000</td>\n",
       "      <td>30</td>\n",
       "      <td>2016-09-08</td>\n",
       "      <td>2016-10-07</td>\n",
       "      <td>33</td>\n",
       "      <td>Bechalor</td>\n",
       "      <td>1</td>\n",
       "      <td>3</td>\n",
       "      <td>0</td>\n",
       "    </tr>\n",
       "    <tr>\n",
       "      <th>2</th>\n",
       "      <td>PAIDOFF</td>\n",
       "      <td>1000</td>\n",
       "      <td>15</td>\n",
       "      <td>2016-09-08</td>\n",
       "      <td>2016-09-22</td>\n",
       "      <td>27</td>\n",
       "      <td>college</td>\n",
       "      <td>0</td>\n",
       "      <td>3</td>\n",
       "      <td>0</td>\n",
       "    </tr>\n",
       "    <tr>\n",
       "      <th>3</th>\n",
       "      <td>PAIDOFF</td>\n",
       "      <td>1000</td>\n",
       "      <td>30</td>\n",
       "      <td>2016-09-09</td>\n",
       "      <td>2016-10-08</td>\n",
       "      <td>28</td>\n",
       "      <td>college</td>\n",
       "      <td>1</td>\n",
       "      <td>4</td>\n",
       "      <td>1</td>\n",
       "    </tr>\n",
       "    <tr>\n",
       "      <th>4</th>\n",
       "      <td>PAIDOFF</td>\n",
       "      <td>1000</td>\n",
       "      <td>30</td>\n",
       "      <td>2016-09-09</td>\n",
       "      <td>2016-10-08</td>\n",
       "      <td>29</td>\n",
       "      <td>college</td>\n",
       "      <td>0</td>\n",
       "      <td>4</td>\n",
       "      <td>1</td>\n",
       "    </tr>\n",
       "  </tbody>\n",
       "</table>\n",
       "</div>"
      ],
      "text/plain": [
       "  loan_status  Principal  terms effective_date   due_date  age  \\\n",
       "0     PAIDOFF       1000     30     2016-09-08 2016-10-07   45   \n",
       "1     PAIDOFF       1000     30     2016-09-08 2016-10-07   33   \n",
       "2     PAIDOFF       1000     15     2016-09-08 2016-09-22   27   \n",
       "3     PAIDOFF       1000     30     2016-09-09 2016-10-08   28   \n",
       "4     PAIDOFF       1000     30     2016-09-09 2016-10-08   29   \n",
       "\n",
       "              education  Gender  dayofweek  weekend  \n",
       "0  High School or Below       0          3        0  \n",
       "1              Bechalor       1          3        0  \n",
       "2               college       0          3        0  \n",
       "3               college       1          4        1  \n",
       "4               college       0          4        1  "
      ]
     },
     "execution_count": 21,
     "metadata": {},
     "output_type": "execute_result"
    }
   ],
   "source": [
    "df['Gender'].replace(to_replace=['male','female'], value=[0,1],inplace=True)\n",
    "df.head()"
   ]
  },
  {
   "cell_type": "code",
   "execution_count": 22,
   "id": "ace525b3",
   "metadata": {
    "_kg_hide-input": true,
    "_kg_hide-output": true,
    "execution": {
     "iopub.execute_input": "2022-04-12T11:14:11.941711Z",
     "iopub.status.busy": "2022-04-12T11:14:11.940996Z",
     "iopub.status.idle": "2022-04-12T11:14:11.954117Z",
     "shell.execute_reply": "2022-04-12T11:14:11.953090Z",
     "shell.execute_reply.started": "2022-04-12T06:48:32.621671Z"
    },
    "papermill": {
     "duration": 0.08424,
     "end_time": "2022-04-12T11:14:11.954329",
     "exception": false,
     "start_time": "2022-04-12T11:14:11.870089",
     "status": "completed"
    },
    "tags": []
   },
   "outputs": [
    {
     "name": "stdout",
     "output_type": "stream",
     "text": [
      "<class 'pandas.core.frame.DataFrame'>\n",
      "RangeIndex: 346 entries, 0 to 345\n",
      "Data columns (total 10 columns):\n",
      " #   Column          Non-Null Count  Dtype         \n",
      "---  ------          --------------  -----         \n",
      " 0   loan_status     346 non-null    object        \n",
      " 1   Principal       346 non-null    int64         \n",
      " 2   terms           346 non-null    int64         \n",
      " 3   effective_date  346 non-null    datetime64[ns]\n",
      " 4   due_date        346 non-null    datetime64[ns]\n",
      " 5   age             346 non-null    int64         \n",
      " 6   education       346 non-null    object        \n",
      " 7   Gender          346 non-null    int64         \n",
      " 8   dayofweek       346 non-null    int64         \n",
      " 9   weekend         346 non-null    int64         \n",
      "dtypes: datetime64[ns](2), int64(6), object(2)\n",
      "memory usage: 27.2+ KB\n"
     ]
    }
   ],
   "source": [
    "df.info()"
   ]
  },
  {
   "cell_type": "markdown",
   "id": "394f346a",
   "metadata": {
    "_kg_hide-input": true,
    "papermill": {
     "duration": 0.076315,
     "end_time": "2022-04-12T11:14:12.101703",
     "exception": false,
     "start_time": "2022-04-12T11:14:12.025388",
     "status": "completed"
    },
    "tags": []
   },
   "source": [
    "## One Hot Encoding"
   ]
  },
  {
   "cell_type": "code",
   "execution_count": 23,
   "id": "0f9b49fc",
   "metadata": {
    "_kg_hide-input": true,
    "_kg_hide-output": true,
    "execution": {
     "iopub.execute_input": "2022-04-12T11:14:12.266232Z",
     "iopub.status.busy": "2022-04-12T11:14:12.265573Z",
     "iopub.status.idle": "2022-04-12T11:14:12.272756Z",
     "shell.execute_reply": "2022-04-12T11:14:12.273281Z",
     "shell.execute_reply.started": "2022-04-12T06:48:32.638751Z"
    },
    "papermill": {
     "duration": 0.082007,
     "end_time": "2022-04-12T11:14:12.273453",
     "exception": false,
     "start_time": "2022-04-12T11:14:12.191446",
     "status": "completed"
    },
    "tags": []
   },
   "outputs": [
    {
     "data": {
      "text/plain": [
       "education             loan_status\n",
       "Bechalor              PAIDOFF        0.750000\n",
       "                      COLLECTION     0.250000\n",
       "High School or Below  PAIDOFF        0.741722\n",
       "                      COLLECTION     0.258278\n",
       "Master or Above       COLLECTION     0.500000\n",
       "                      PAIDOFF        0.500000\n",
       "college               PAIDOFF        0.765101\n",
       "                      COLLECTION     0.234899\n",
       "Name: loan_status, dtype: float64"
      ]
     },
     "execution_count": 23,
     "metadata": {},
     "output_type": "execute_result"
    }
   ],
   "source": [
    "df.groupby(['education'])['loan_status'].value_counts(normalize=True)"
   ]
  },
  {
   "cell_type": "code",
   "execution_count": 24,
   "id": "28e36acb",
   "metadata": {
    "_kg_hide-input": true,
    "_kg_hide-output": true,
    "execution": {
     "iopub.execute_input": "2022-04-12T11:14:12.414035Z",
     "iopub.status.busy": "2022-04-12T11:14:12.413377Z",
     "iopub.status.idle": "2022-04-12T11:14:12.427511Z",
     "shell.execute_reply": "2022-04-12T11:14:12.428012Z",
     "shell.execute_reply.started": "2022-04-12T06:48:32.649721Z"
    },
    "papermill": {
     "duration": 0.086422,
     "end_time": "2022-04-12T11:14:12.428241",
     "exception": false,
     "start_time": "2022-04-12T11:14:12.341819",
     "status": "completed"
    },
    "tags": []
   },
   "outputs": [
    {
     "data": {
      "text/html": [
       "<div>\n",
       "<style scoped>\n",
       "    .dataframe tbody tr th:only-of-type {\n",
       "        vertical-align: middle;\n",
       "    }\n",
       "\n",
       "    .dataframe tbody tr th {\n",
       "        vertical-align: top;\n",
       "    }\n",
       "\n",
       "    .dataframe thead th {\n",
       "        text-align: right;\n",
       "    }\n",
       "</style>\n",
       "<table border=\"1\" class=\"dataframe\">\n",
       "  <thead>\n",
       "    <tr style=\"text-align: right;\">\n",
       "      <th></th>\n",
       "      <th>loan_status</th>\n",
       "      <th>Principal</th>\n",
       "      <th>terms</th>\n",
       "      <th>effective_date</th>\n",
       "      <th>due_date</th>\n",
       "      <th>age</th>\n",
       "      <th>education</th>\n",
       "      <th>Gender</th>\n",
       "      <th>dayofweek</th>\n",
       "      <th>weekend</th>\n",
       "    </tr>\n",
       "  </thead>\n",
       "  <tbody>\n",
       "    <tr>\n",
       "      <th>0</th>\n",
       "      <td>PAIDOFF</td>\n",
       "      <td>1000</td>\n",
       "      <td>30</td>\n",
       "      <td>2016-09-08</td>\n",
       "      <td>2016-10-07</td>\n",
       "      <td>45</td>\n",
       "      <td>High School or Below</td>\n",
       "      <td>0</td>\n",
       "      <td>3</td>\n",
       "      <td>0</td>\n",
       "    </tr>\n",
       "    <tr>\n",
       "      <th>1</th>\n",
       "      <td>PAIDOFF</td>\n",
       "      <td>1000</td>\n",
       "      <td>30</td>\n",
       "      <td>2016-09-08</td>\n",
       "      <td>2016-10-07</td>\n",
       "      <td>33</td>\n",
       "      <td>Bechalor</td>\n",
       "      <td>1</td>\n",
       "      <td>3</td>\n",
       "      <td>0</td>\n",
       "    </tr>\n",
       "    <tr>\n",
       "      <th>2</th>\n",
       "      <td>PAIDOFF</td>\n",
       "      <td>1000</td>\n",
       "      <td>15</td>\n",
       "      <td>2016-09-08</td>\n",
       "      <td>2016-09-22</td>\n",
       "      <td>27</td>\n",
       "      <td>college</td>\n",
       "      <td>0</td>\n",
       "      <td>3</td>\n",
       "      <td>0</td>\n",
       "    </tr>\n",
       "    <tr>\n",
       "      <th>3</th>\n",
       "      <td>PAIDOFF</td>\n",
       "      <td>1000</td>\n",
       "      <td>30</td>\n",
       "      <td>2016-09-09</td>\n",
       "      <td>2016-10-08</td>\n",
       "      <td>28</td>\n",
       "      <td>college</td>\n",
       "      <td>1</td>\n",
       "      <td>4</td>\n",
       "      <td>1</td>\n",
       "    </tr>\n",
       "    <tr>\n",
       "      <th>4</th>\n",
       "      <td>PAIDOFF</td>\n",
       "      <td>1000</td>\n",
       "      <td>30</td>\n",
       "      <td>2016-09-09</td>\n",
       "      <td>2016-10-08</td>\n",
       "      <td>29</td>\n",
       "      <td>college</td>\n",
       "      <td>0</td>\n",
       "      <td>4</td>\n",
       "      <td>1</td>\n",
       "    </tr>\n",
       "  </tbody>\n",
       "</table>\n",
       "</div>"
      ],
      "text/plain": [
       "  loan_status  Principal  terms effective_date   due_date  age  \\\n",
       "0     PAIDOFF       1000     30     2016-09-08 2016-10-07   45   \n",
       "1     PAIDOFF       1000     30     2016-09-08 2016-10-07   33   \n",
       "2     PAIDOFF       1000     15     2016-09-08 2016-09-22   27   \n",
       "3     PAIDOFF       1000     30     2016-09-09 2016-10-08   28   \n",
       "4     PAIDOFF       1000     30     2016-09-09 2016-10-08   29   \n",
       "\n",
       "              education  Gender  dayofweek  weekend  \n",
       "0  High School or Below       0          3        0  \n",
       "1              Bechalor       1          3        0  \n",
       "2               college       0          3        0  \n",
       "3               college       1          4        1  \n",
       "4               college       0          4        1  "
      ]
     },
     "execution_count": 24,
     "metadata": {},
     "output_type": "execute_result"
    }
   ],
   "source": [
    "df.head()"
   ]
  },
  {
   "cell_type": "code",
   "execution_count": 25,
   "id": "16edfd2f",
   "metadata": {
    "_kg_hide-input": true,
    "_kg_hide-output": true,
    "execution": {
     "iopub.execute_input": "2022-04-12T11:14:12.578931Z",
     "iopub.status.busy": "2022-04-12T11:14:12.578251Z",
     "iopub.status.idle": "2022-04-12T11:14:12.590303Z",
     "shell.execute_reply": "2022-04-12T11:14:12.590807Z",
     "shell.execute_reply.started": "2022-04-12T06:48:32.665728Z"
    },
    "papermill": {
     "duration": 0.09045,
     "end_time": "2022-04-12T11:14:12.591025",
     "exception": false,
     "start_time": "2022-04-12T11:14:12.500575",
     "status": "completed"
    },
    "tags": []
   },
   "outputs": [
    {
     "data": {
      "text/html": [
       "<div>\n",
       "<style scoped>\n",
       "    .dataframe tbody tr th:only-of-type {\n",
       "        vertical-align: middle;\n",
       "    }\n",
       "\n",
       "    .dataframe tbody tr th {\n",
       "        vertical-align: top;\n",
       "    }\n",
       "\n",
       "    .dataframe thead th {\n",
       "        text-align: right;\n",
       "    }\n",
       "</style>\n",
       "<table border=\"1\" class=\"dataframe\">\n",
       "  <thead>\n",
       "    <tr style=\"text-align: right;\">\n",
       "      <th></th>\n",
       "      <th>Principal</th>\n",
       "      <th>terms</th>\n",
       "      <th>age</th>\n",
       "      <th>Gender</th>\n",
       "      <th>weekend</th>\n",
       "      <th>Bechalor</th>\n",
       "      <th>High School or Below</th>\n",
       "      <th>college</th>\n",
       "    </tr>\n",
       "  </thead>\n",
       "  <tbody>\n",
       "    <tr>\n",
       "      <th>0</th>\n",
       "      <td>1000</td>\n",
       "      <td>30</td>\n",
       "      <td>45</td>\n",
       "      <td>0</td>\n",
       "      <td>0</td>\n",
       "      <td>0</td>\n",
       "      <td>1</td>\n",
       "      <td>0</td>\n",
       "    </tr>\n",
       "    <tr>\n",
       "      <th>1</th>\n",
       "      <td>1000</td>\n",
       "      <td>30</td>\n",
       "      <td>33</td>\n",
       "      <td>1</td>\n",
       "      <td>0</td>\n",
       "      <td>1</td>\n",
       "      <td>0</td>\n",
       "      <td>0</td>\n",
       "    </tr>\n",
       "    <tr>\n",
       "      <th>2</th>\n",
       "      <td>1000</td>\n",
       "      <td>15</td>\n",
       "      <td>27</td>\n",
       "      <td>0</td>\n",
       "      <td>0</td>\n",
       "      <td>0</td>\n",
       "      <td>0</td>\n",
       "      <td>1</td>\n",
       "    </tr>\n",
       "    <tr>\n",
       "      <th>3</th>\n",
       "      <td>1000</td>\n",
       "      <td>30</td>\n",
       "      <td>28</td>\n",
       "      <td>1</td>\n",
       "      <td>1</td>\n",
       "      <td>0</td>\n",
       "      <td>0</td>\n",
       "      <td>1</td>\n",
       "    </tr>\n",
       "    <tr>\n",
       "      <th>4</th>\n",
       "      <td>1000</td>\n",
       "      <td>30</td>\n",
       "      <td>29</td>\n",
       "      <td>0</td>\n",
       "      <td>1</td>\n",
       "      <td>0</td>\n",
       "      <td>0</td>\n",
       "      <td>1</td>\n",
       "    </tr>\n",
       "  </tbody>\n",
       "</table>\n",
       "</div>"
      ],
      "text/plain": [
       "   Principal  terms  age  Gender  weekend  Bechalor  High School or Below  \\\n",
       "0       1000     30   45       0        0         0                     1   \n",
       "1       1000     30   33       1        0         1                     0   \n",
       "2       1000     15   27       0        0         0                     0   \n",
       "3       1000     30   28       1        1         0                     0   \n",
       "4       1000     30   29       0        1         0                     0   \n",
       "\n",
       "   college  \n",
       "0        0  \n",
       "1        0  \n",
       "2        1  \n",
       "3        1  \n",
       "4        1  "
      ]
     },
     "execution_count": 25,
     "metadata": {},
     "output_type": "execute_result"
    }
   ],
   "source": [
    "Feature = df[['Principal','terms','age','Gender','weekend']]\n",
    "Feature = pd.concat([Feature,pd.get_dummies(df['education'])], axis=1)\n",
    "Feature.drop(['Master or Above'], axis = 1,inplace=True)\n",
    "Feature.head()"
   ]
  },
  {
   "cell_type": "markdown",
   "id": "4489a9e6",
   "metadata": {
    "_kg_hide-input": true,
    "papermill": {
     "duration": 0.068666,
     "end_time": "2022-04-12T11:14:12.730140",
     "exception": false,
     "start_time": "2022-04-12T11:14:12.661474",
     "status": "completed"
    },
    "tags": []
   },
   "source": [
    "## Test"
   ]
  },
  {
   "cell_type": "code",
   "execution_count": 26,
   "id": "0cfb166c",
   "metadata": {
    "_kg_hide-input": true,
    "_kg_hide-output": true,
    "execution": {
     "iopub.execute_input": "2022-04-12T11:14:12.871667Z",
     "iopub.status.busy": "2022-04-12T11:14:12.871040Z",
     "iopub.status.idle": "2022-04-12T11:14:12.905269Z",
     "shell.execute_reply": "2022-04-12T11:14:12.904679Z",
     "shell.execute_reply.started": "2022-04-12T06:48:32.679346Z"
    },
    "papermill": {
     "duration": 0.106349,
     "end_time": "2022-04-12T11:14:12.905444",
     "exception": false,
     "start_time": "2022-04-12T11:14:12.799095",
     "status": "completed"
    },
    "tags": []
   },
   "outputs": [
    {
     "data": {
      "text/html": [
       "<div>\n",
       "<style scoped>\n",
       "    .dataframe tbody tr th:only-of-type {\n",
       "        vertical-align: middle;\n",
       "    }\n",
       "\n",
       "    .dataframe tbody tr th {\n",
       "        vertical-align: top;\n",
       "    }\n",
       "\n",
       "    .dataframe thead th {\n",
       "        text-align: right;\n",
       "    }\n",
       "</style>\n",
       "<table border=\"1\" class=\"dataframe\">\n",
       "  <thead>\n",
       "    <tr style=\"text-align: right;\">\n",
       "      <th></th>\n",
       "      <th>Unnamed: 0</th>\n",
       "      <th>Unnamed: 0.1</th>\n",
       "      <th>loan_status</th>\n",
       "      <th>Principal</th>\n",
       "      <th>terms</th>\n",
       "      <th>effective_date</th>\n",
       "      <th>due_date</th>\n",
       "      <th>age</th>\n",
       "      <th>education</th>\n",
       "      <th>Gender</th>\n",
       "    </tr>\n",
       "  </thead>\n",
       "  <tbody>\n",
       "    <tr>\n",
       "      <th>0</th>\n",
       "      <td>1</td>\n",
       "      <td>1</td>\n",
       "      <td>PAIDOFF</td>\n",
       "      <td>1000</td>\n",
       "      <td>30</td>\n",
       "      <td>9/8/2016</td>\n",
       "      <td>10/7/2016</td>\n",
       "      <td>50</td>\n",
       "      <td>Bechalor</td>\n",
       "      <td>female</td>\n",
       "    </tr>\n",
       "    <tr>\n",
       "      <th>1</th>\n",
       "      <td>5</td>\n",
       "      <td>5</td>\n",
       "      <td>PAIDOFF</td>\n",
       "      <td>300</td>\n",
       "      <td>7</td>\n",
       "      <td>9/9/2016</td>\n",
       "      <td>9/15/2016</td>\n",
       "      <td>35</td>\n",
       "      <td>Master or Above</td>\n",
       "      <td>male</td>\n",
       "    </tr>\n",
       "    <tr>\n",
       "      <th>2</th>\n",
       "      <td>21</td>\n",
       "      <td>21</td>\n",
       "      <td>PAIDOFF</td>\n",
       "      <td>1000</td>\n",
       "      <td>30</td>\n",
       "      <td>9/10/2016</td>\n",
       "      <td>10/9/2016</td>\n",
       "      <td>43</td>\n",
       "      <td>High School or Below</td>\n",
       "      <td>female</td>\n",
       "    </tr>\n",
       "    <tr>\n",
       "      <th>3</th>\n",
       "      <td>24</td>\n",
       "      <td>24</td>\n",
       "      <td>PAIDOFF</td>\n",
       "      <td>1000</td>\n",
       "      <td>30</td>\n",
       "      <td>9/10/2016</td>\n",
       "      <td>10/9/2016</td>\n",
       "      <td>26</td>\n",
       "      <td>college</td>\n",
       "      <td>male</td>\n",
       "    </tr>\n",
       "    <tr>\n",
       "      <th>4</th>\n",
       "      <td>35</td>\n",
       "      <td>35</td>\n",
       "      <td>PAIDOFF</td>\n",
       "      <td>800</td>\n",
       "      <td>15</td>\n",
       "      <td>9/11/2016</td>\n",
       "      <td>9/25/2016</td>\n",
       "      <td>29</td>\n",
       "      <td>Bechalor</td>\n",
       "      <td>male</td>\n",
       "    </tr>\n",
       "  </tbody>\n",
       "</table>\n",
       "</div>"
      ],
      "text/plain": [
       "   Unnamed: 0  Unnamed: 0.1 loan_status  Principal  terms effective_date  \\\n",
       "0           1             1     PAIDOFF       1000     30       9/8/2016   \n",
       "1           5             5     PAIDOFF        300      7       9/9/2016   \n",
       "2          21            21     PAIDOFF       1000     30      9/10/2016   \n",
       "3          24            24     PAIDOFF       1000     30      9/10/2016   \n",
       "4          35            35     PAIDOFF        800     15      9/11/2016   \n",
       "\n",
       "    due_date  age             education  Gender  \n",
       "0  10/7/2016   50              Bechalor  female  \n",
       "1  9/15/2016   35       Master or Above    male  \n",
       "2  10/9/2016   43  High School or Below  female  \n",
       "3  10/9/2016   26               college    male  \n",
       "4  9/25/2016   29              Bechalor    male  "
      ]
     },
     "execution_count": 26,
     "metadata": {},
     "output_type": "execute_result"
    }
   ],
   "source": [
    "test_df = pd.read_csv('../input/china-gdp-dataset/ml/loan_test.csv')\n",
    "test_df.head()"
   ]
  },
  {
   "cell_type": "code",
   "execution_count": 27,
   "id": "b788f09c",
   "metadata": {
    "_kg_hide-input": true,
    "_kg_hide-output": true,
    "execution": {
     "iopub.execute_input": "2022-04-12T11:14:13.049158Z",
     "iopub.status.busy": "2022-04-12T11:14:13.048487Z",
     "iopub.status.idle": "2022-04-12T11:14:13.080808Z",
     "shell.execute_reply": "2022-04-12T11:14:13.080316Z",
     "shell.execute_reply.started": "2022-04-12T06:48:32.697556Z"
    },
    "papermill": {
     "duration": 0.105832,
     "end_time": "2022-04-12T11:14:13.080946",
     "exception": false,
     "start_time": "2022-04-12T11:14:12.975114",
     "status": "completed"
    },
    "tags": []
   },
   "outputs": [
    {
     "data": {
      "text/plain": [
       "array([[ 0.49362588,  0.92844966,  3.05981865,  1.97714211, -1.30384048,\n",
       "         2.39791576, -0.79772404, -0.86135677],\n",
       "       [-3.56269116, -1.70427745,  0.53336288, -0.50578054,  0.76696499,\n",
       "        -0.41702883, -0.79772404, -0.86135677],\n",
       "       [ 0.49362588,  0.92844966,  1.88080596,  1.97714211,  0.76696499,\n",
       "        -0.41702883,  1.25356634, -0.86135677],\n",
       "       [ 0.49362588,  0.92844966, -0.98251057, -0.50578054,  0.76696499,\n",
       "        -0.41702883, -0.79772404,  1.16095912],\n",
       "       [-0.66532184, -0.78854628, -0.47721942, -0.50578054,  0.76696499,\n",
       "         2.39791576, -0.79772404, -0.86135677]])"
      ]
     },
     "execution_count": 27,
     "metadata": {},
     "output_type": "execute_result"
    }
   ],
   "source": [
    "test_df['due_date'] = pd.to_datetime(test_df['due_date'])\n",
    "test_df['effective_date'] = pd.to_datetime(test_df['effective_date'])\n",
    "test_df['dayofweek'] = test_df['effective_date'].dt.dayofweek\n",
    "test_df['weekend'] = test_df['dayofweek'].apply(lambda x: 1 if (x>3)  else 0)\n",
    "test_df['Gender'].replace(to_replace=['male','female'], value=[0,1],inplace=True)\n",
    "test_Feature = test_df[['Principal','terms','age','Gender','weekend']]\n",
    "test_Feature = pd.concat([test_Feature,pd.get_dummies(test_df['education'])], axis=1)\n",
    "test_Feature.drop(['Master or Above'], axis = 1,inplace=True)\n",
    "test_X = preprocessing.StandardScaler().fit(test_Feature).transform(test_Feature)\n",
    "test_X[0:5]"
   ]
  },
  {
   "cell_type": "code",
   "execution_count": 28,
   "id": "b375c341",
   "metadata": {
    "_kg_hide-input": true,
    "_kg_hide-output": true,
    "execution": {
     "iopub.execute_input": "2022-04-12T11:14:13.230603Z",
     "iopub.status.busy": "2022-04-12T11:14:13.229994Z",
     "iopub.status.idle": "2022-04-12T11:14:13.232700Z",
     "shell.execute_reply": "2022-04-12T11:14:13.232208Z",
     "shell.execute_reply.started": "2022-04-12T06:48:32.728205Z"
    },
    "papermill": {
     "duration": 0.079102,
     "end_time": "2022-04-12T11:14:13.232841",
     "exception": false,
     "start_time": "2022-04-12T11:14:13.153739",
     "status": "completed"
    },
    "tags": []
   },
   "outputs": [],
   "source": [
    "test_y = test_df['loan_status'].values"
   ]
  },
  {
   "cell_type": "markdown",
   "id": "e433f1ae",
   "metadata": {
    "_kg_hide-input": true,
    "papermill": {
     "duration": 0.069944,
     "end_time": "2022-04-12T11:14:13.372347",
     "exception": false,
     "start_time": "2022-04-12T11:14:13.302403",
     "status": "completed"
    },
    "tags": []
   },
   "source": [
    "# **E**xploratory **D**ata **A**nalysis **(EDA)**"
   ]
  },
  {
   "cell_type": "code",
   "execution_count": 29,
   "id": "7646c41e",
   "metadata": {
    "_kg_hide-input": true,
    "_kg_hide-output": true,
    "execution": {
     "iopub.execute_input": "2022-04-12T11:14:13.521528Z",
     "iopub.status.busy": "2022-04-12T11:14:13.520727Z",
     "iopub.status.idle": "2022-04-12T11:14:14.036719Z",
     "shell.execute_reply": "2022-04-12T11:14:14.037274Z",
     "shell.execute_reply.started": "2022-04-12T06:48:32.734005Z"
    },
    "papermill": {
     "duration": 0.595465,
     "end_time": "2022-04-12T11:14:14.037490",
     "exception": false,
     "start_time": "2022-04-12T11:14:13.442025",
     "status": "completed"
    },
    "tags": []
   },
   "outputs": [
    {
     "data": {
      "text/plain": [
       "<AxesSubplot:>"
      ]
     },
     "execution_count": 29,
     "metadata": {},
     "output_type": "execute_result"
    },
    {
     "data": {
      "image/png": "[encoded data removed]",
      "text/plain": [
       "<Figure size 432x288 with 2 Axes>"
      ]
     },
     "metadata": {
      "needs_background": "light"
     },
     "output_type": "display_data"
    }
   ],
   "source": [
    "sns.heatmap(df.corr(), annot=True,cmap=\"PuRd\")"
   ]
  },
  {
   "cell_type": "code",
   "execution_count": 30,
   "id": "6371f734",
   "metadata": {
    "_kg_hide-input": true,
    "_kg_hide-output": true,
    "execution": {
     "iopub.execute_input": "2022-04-12T11:14:14.197725Z",
     "iopub.status.busy": "2022-04-12T11:14:14.197056Z",
     "iopub.status.idle": "2022-04-12T11:14:22.222088Z",
     "shell.execute_reply": "2022-04-12T11:14:22.222604Z",
     "shell.execute_reply.started": "2022-04-12T06:48:33.105495Z"
    },
    "papermill": {
     "duration": 8.112924,
     "end_time": "2022-04-12T11:14:22.222813",
     "exception": false,
     "start_time": "2022-04-12T11:14:14.109889",
     "status": "completed"
    },
    "tags": []
   },
   "outputs": [
    {
     "data": {
      "text/plain": [
       "<seaborn.axisgrid.PairGrid at 0x7f256119c410>"
      ]
     },
     "execution_count": 30,
     "metadata": {},
     "output_type": "execute_result"
    },
    {
     "data": {
      "image/png": "[encoded data removed]",
      "text/plain": [
       "<Figure size 1080x1080 with 42 Axes>"
      ]
     },
     "metadata": {
      "needs_background": "light"
     },
     "output_type": "display_data"
    }
   ],
   "source": [
    "sns.pairplot(df)"
   ]
  },
  {
   "cell_type": "markdown",
   "id": "65c3f5b8",
   "metadata": {
    "_kg_hide-input": true,
    "papermill": {
     "duration": 0.077355,
     "end_time": "2022-04-12T11:14:22.379579",
     "exception": false,
     "start_time": "2022-04-12T11:14:22.302224",
     "status": "completed"
    },
    "tags": []
   },
   "source": [
    "# Feature Selection"
   ]
  },
  {
   "cell_type": "code",
   "execution_count": 31,
   "id": "6b186ad9",
   "metadata": {
    "_kg_hide-input": true,
    "_kg_hide-output": true,
    "execution": {
     "iopub.execute_input": "2022-04-12T11:14:22.545718Z",
     "iopub.status.busy": "2022-04-12T11:14:22.544679Z",
     "iopub.status.idle": "2022-04-12T11:14:22.548522Z",
     "shell.execute_reply": "2022-04-12T11:14:22.549036Z",
     "shell.execute_reply.started": "2022-04-12T06:48:39.633544Z"
    },
    "papermill": {
     "duration": 0.0924,
     "end_time": "2022-04-12T11:14:22.549235",
     "exception": false,
     "start_time": "2022-04-12T11:14:22.456835",
     "status": "completed"
    },
    "tags": []
   },
   "outputs": [
    {
     "data": {
      "text/html": [
       "<div>\n",
       "<style scoped>\n",
       "    .dataframe tbody tr th:only-of-type {\n",
       "        vertical-align: middle;\n",
       "    }\n",
       "\n",
       "    .dataframe tbody tr th {\n",
       "        vertical-align: top;\n",
       "    }\n",
       "\n",
       "    .dataframe thead th {\n",
       "        text-align: right;\n",
       "    }\n",
       "</style>\n",
       "<table border=\"1\" class=\"dataframe\">\n",
       "  <thead>\n",
       "    <tr style=\"text-align: right;\">\n",
       "      <th></th>\n",
       "      <th>Principal</th>\n",
       "      <th>terms</th>\n",
       "      <th>age</th>\n",
       "      <th>Gender</th>\n",
       "      <th>weekend</th>\n",
       "      <th>Bechalor</th>\n",
       "      <th>High School or Below</th>\n",
       "      <th>college</th>\n",
       "    </tr>\n",
       "  </thead>\n",
       "  <tbody>\n",
       "    <tr>\n",
       "      <th>0</th>\n",
       "      <td>1000</td>\n",
       "      <td>30</td>\n",
       "      <td>45</td>\n",
       "      <td>0</td>\n",
       "      <td>0</td>\n",
       "      <td>0</td>\n",
       "      <td>1</td>\n",
       "      <td>0</td>\n",
       "    </tr>\n",
       "    <tr>\n",
       "      <th>1</th>\n",
       "      <td>1000</td>\n",
       "      <td>30</td>\n",
       "      <td>33</td>\n",
       "      <td>1</td>\n",
       "      <td>0</td>\n",
       "      <td>1</td>\n",
       "      <td>0</td>\n",
       "      <td>0</td>\n",
       "    </tr>\n",
       "    <tr>\n",
       "      <th>2</th>\n",
       "      <td>1000</td>\n",
       "      <td>15</td>\n",
       "      <td>27</td>\n",
       "      <td>0</td>\n",
       "      <td>0</td>\n",
       "      <td>0</td>\n",
       "      <td>0</td>\n",
       "      <td>1</td>\n",
       "    </tr>\n",
       "    <tr>\n",
       "      <th>3</th>\n",
       "      <td>1000</td>\n",
       "      <td>30</td>\n",
       "      <td>28</td>\n",
       "      <td>1</td>\n",
       "      <td>1</td>\n",
       "      <td>0</td>\n",
       "      <td>0</td>\n",
       "      <td>1</td>\n",
       "    </tr>\n",
       "    <tr>\n",
       "      <th>4</th>\n",
       "      <td>1000</td>\n",
       "      <td>30</td>\n",
       "      <td>29</td>\n",
       "      <td>0</td>\n",
       "      <td>1</td>\n",
       "      <td>0</td>\n",
       "      <td>0</td>\n",
       "      <td>1</td>\n",
       "    </tr>\n",
       "  </tbody>\n",
       "</table>\n",
       "</div>"
      ],
      "text/plain": [
       "   Principal  terms  age  Gender  weekend  Bechalor  High School or Below  \\\n",
       "0       1000     30   45       0        0         0                     1   \n",
       "1       1000     30   33       1        0         1                     0   \n",
       "2       1000     15   27       0        0         0                     0   \n",
       "3       1000     30   28       1        1         0                     0   \n",
       "4       1000     30   29       0        1         0                     0   \n",
       "\n",
       "   college  \n",
       "0        0  \n",
       "1        0  \n",
       "2        1  \n",
       "3        1  \n",
       "4        1  "
      ]
     },
     "execution_count": 31,
     "metadata": {},
     "output_type": "execute_result"
    }
   ],
   "source": [
    "X = Feature\n",
    "X[0:5]"
   ]
  },
  {
   "cell_type": "code",
   "execution_count": 32,
   "id": "8ca8d98e",
   "metadata": {
    "_kg_hide-input": true,
    "_kg_hide-output": true,
    "execution": {
     "iopub.execute_input": "2022-04-12T11:14:22.708756Z",
     "iopub.status.busy": "2022-04-12T11:14:22.708012Z",
     "iopub.status.idle": "2022-04-12T11:14:22.713096Z",
     "shell.execute_reply": "2022-04-12T11:14:22.713583Z",
     "shell.execute_reply.started": "2022-04-12T06:48:39.648059Z"
    },
    "papermill": {
     "duration": 0.086299,
     "end_time": "2022-04-12T11:14:22.713785",
     "exception": false,
     "start_time": "2022-04-12T11:14:22.627486",
     "status": "completed"
    },
    "tags": []
   },
   "outputs": [
    {
     "data": {
      "text/plain": [
       "array(['PAIDOFF', 'PAIDOFF', 'PAIDOFF', 'PAIDOFF', 'PAIDOFF'],\n",
       "      dtype=object)"
      ]
     },
     "execution_count": 32,
     "metadata": {},
     "output_type": "execute_result"
    }
   ],
   "source": [
    "y = df['loan_status'].values\n",
    "y[0:5]"
   ]
  },
  {
   "cell_type": "markdown",
   "id": "0f3e0858",
   "metadata": {
    "_kg_hide-input": true,
    "papermill": {
     "duration": 0.077458,
     "end_time": "2022-04-12T11:14:22.868921",
     "exception": false,
     "start_time": "2022-04-12T11:14:22.791463",
     "status": "completed"
    },
    "tags": []
   },
   "source": [
    "# Normalize Data"
   ]
  },
  {
   "cell_type": "code",
   "execution_count": 33,
   "id": "c97e39c6",
   "metadata": {
    "_kg_hide-input": true,
    "_kg_hide-output": true,
    "execution": {
     "iopub.execute_input": "2022-04-12T11:14:23.027769Z",
     "iopub.status.busy": "2022-04-12T11:14:23.027013Z",
     "iopub.status.idle": "2022-04-12T11:14:23.036822Z",
     "shell.execute_reply": "2022-04-12T11:14:23.037405Z",
     "shell.execute_reply.started": "2022-04-12T06:48:39.656699Z"
    },
    "papermill": {
     "duration": 0.091688,
     "end_time": "2022-04-12T11:14:23.037600",
     "exception": false,
     "start_time": "2022-04-12T11:14:22.945912",
     "status": "completed"
    },
    "tags": []
   },
   "outputs": [
    {
     "data": {
      "text/plain": [
       "array([[ 0.51578458,  0.92071769,  2.33152555, -0.42056004, -1.20577805,\n",
       "        -0.38170062,  1.13639374, -0.86968108],\n",
       "       [ 0.51578458,  0.92071769,  0.34170148,  2.37778177, -1.20577805,\n",
       "         2.61985426, -0.87997669, -0.86968108],\n",
       "       [ 0.51578458, -0.95911111, -0.65321055, -0.42056004, -1.20577805,\n",
       "        -0.38170062, -0.87997669,  1.14984679],\n",
       "       [ 0.51578458,  0.92071769, -0.48739188,  2.37778177,  0.82934003,\n",
       "        -0.38170062, -0.87997669,  1.14984679],\n",
       "       [ 0.51578458,  0.92071769, -0.3215732 , -0.42056004,  0.82934003,\n",
       "        -0.38170062, -0.87997669,  1.14984679]])"
      ]
     },
     "execution_count": 33,
     "metadata": {},
     "output_type": "execute_result"
    }
   ],
   "source": [
    "X= preprocessing.StandardScaler().fit(X).transform(X)\n",
    "X[0:5]"
   ]
  },
  {
   "cell_type": "markdown",
   "id": "f32832f2",
   "metadata": {
    "_kg_hide-input": true,
    "papermill": {
     "duration": 0.088923,
     "end_time": "2022-04-12T11:14:23.222650",
     "exception": false,
     "start_time": "2022-04-12T11:14:23.133727",
     "status": "completed"
    },
    "tags": []
   },
   "source": [
    "# Creat DataFrame"
   ]
  },
  {
   "cell_type": "code",
   "execution_count": 34,
   "id": "ce3d24e0",
   "metadata": {
    "_kg_hide-input": true,
    "_kg_hide-output": true,
    "execution": {
     "iopub.execute_input": "2022-04-12T11:14:23.380217Z",
     "iopub.status.busy": "2022-04-12T11:14:23.379548Z",
     "iopub.status.idle": "2022-04-12T11:14:23.385512Z",
     "shell.execute_reply": "2022-04-12T11:14:23.386094Z",
     "shell.execute_reply.started": "2022-04-12T06:48:39.672202Z"
    },
    "papermill": {
     "duration": 0.0866,
     "end_time": "2022-04-12T11:14:23.386323",
     "exception": false,
     "start_time": "2022-04-12T11:14:23.299723",
     "status": "completed"
    },
    "tags": []
   },
   "outputs": [],
   "source": [
    "X_df = pd.DataFrame({'Principal': X[:, 0], 'terms': X[:, 1], 'age': X[:, 2], \n",
    "                     'Gender': X[:, 3], 'weekend': X[:, 4], 'Bechalor': X[:, 5], \n",
    "                     'High School or Below': X[:, 6], 'college': X[:, 7]})"
   ]
  },
  {
   "cell_type": "code",
   "execution_count": 35,
   "id": "70638328",
   "metadata": {
    "_kg_hide-input": true,
    "_kg_hide-output": true,
    "execution": {
     "iopub.execute_input": "2022-04-12T11:14:23.545581Z",
     "iopub.status.busy": "2022-04-12T11:14:23.544943Z",
     "iopub.status.idle": "2022-04-12T11:14:23.559809Z",
     "shell.execute_reply": "2022-04-12T11:14:23.560419Z",
     "shell.execute_reply.started": "2022-04-12T06:48:39.679223Z"
    },
    "papermill": {
     "duration": 0.095724,
     "end_time": "2022-04-12T11:14:23.560619",
     "exception": false,
     "start_time": "2022-04-12T11:14:23.464895",
     "status": "completed"
    },
    "tags": []
   },
   "outputs": [
    {
     "data": {
      "text/html": [
       "<div>\n",
       "<style scoped>\n",
       "    .dataframe tbody tr th:only-of-type {\n",
       "        vertical-align: middle;\n",
       "    }\n",
       "\n",
       "    .dataframe tbody tr th {\n",
       "        vertical-align: top;\n",
       "    }\n",
       "\n",
       "    .dataframe thead th {\n",
       "        text-align: right;\n",
       "    }\n",
       "</style>\n",
       "<table border=\"1\" class=\"dataframe\">\n",
       "  <thead>\n",
       "    <tr style=\"text-align: right;\">\n",
       "      <th></th>\n",
       "      <th>Principal</th>\n",
       "      <th>terms</th>\n",
       "      <th>age</th>\n",
       "      <th>Gender</th>\n",
       "      <th>weekend</th>\n",
       "      <th>Bechalor</th>\n",
       "      <th>High School or Below</th>\n",
       "      <th>college</th>\n",
       "    </tr>\n",
       "  </thead>\n",
       "  <tbody>\n",
       "    <tr>\n",
       "      <th>0</th>\n",
       "      <td>0.515785</td>\n",
       "      <td>0.920718</td>\n",
       "      <td>2.331526</td>\n",
       "      <td>-0.420560</td>\n",
       "      <td>-1.205778</td>\n",
       "      <td>-0.381701</td>\n",
       "      <td>1.136394</td>\n",
       "      <td>-0.869681</td>\n",
       "    </tr>\n",
       "    <tr>\n",
       "      <th>1</th>\n",
       "      <td>0.515785</td>\n",
       "      <td>0.920718</td>\n",
       "      <td>0.341701</td>\n",
       "      <td>2.377782</td>\n",
       "      <td>-1.205778</td>\n",
       "      <td>2.619854</td>\n",
       "      <td>-0.879977</td>\n",
       "      <td>-0.869681</td>\n",
       "    </tr>\n",
       "    <tr>\n",
       "      <th>2</th>\n",
       "      <td>0.515785</td>\n",
       "      <td>-0.959111</td>\n",
       "      <td>-0.653211</td>\n",
       "      <td>-0.420560</td>\n",
       "      <td>-1.205778</td>\n",
       "      <td>-0.381701</td>\n",
       "      <td>-0.879977</td>\n",
       "      <td>1.149847</td>\n",
       "    </tr>\n",
       "    <tr>\n",
       "      <th>3</th>\n",
       "      <td>0.515785</td>\n",
       "      <td>0.920718</td>\n",
       "      <td>-0.487392</td>\n",
       "      <td>2.377782</td>\n",
       "      <td>0.829340</td>\n",
       "      <td>-0.381701</td>\n",
       "      <td>-0.879977</td>\n",
       "      <td>1.149847</td>\n",
       "    </tr>\n",
       "    <tr>\n",
       "      <th>4</th>\n",
       "      <td>0.515785</td>\n",
       "      <td>0.920718</td>\n",
       "      <td>-0.321573</td>\n",
       "      <td>-0.420560</td>\n",
       "      <td>0.829340</td>\n",
       "      <td>-0.381701</td>\n",
       "      <td>-0.879977</td>\n",
       "      <td>1.149847</td>\n",
       "    </tr>\n",
       "    <tr>\n",
       "      <th>5</th>\n",
       "      <td>0.515785</td>\n",
       "      <td>0.920718</td>\n",
       "      <td>0.839157</td>\n",
       "      <td>-0.420560</td>\n",
       "      <td>0.829340</td>\n",
       "      <td>-0.381701</td>\n",
       "      <td>-0.879977</td>\n",
       "      <td>1.149847</td>\n",
       "    </tr>\n",
       "    <tr>\n",
       "      <th>6</th>\n",
       "      <td>0.515785</td>\n",
       "      <td>0.920718</td>\n",
       "      <td>-0.487392</td>\n",
       "      <td>-0.420560</td>\n",
       "      <td>0.829340</td>\n",
       "      <td>-0.381701</td>\n",
       "      <td>-0.879977</td>\n",
       "      <td>1.149847</td>\n",
       "    </tr>\n",
       "    <tr>\n",
       "      <th>7</th>\n",
       "      <td>-1.314589</td>\n",
       "      <td>-0.959111</td>\n",
       "      <td>-0.819029</td>\n",
       "      <td>-0.420560</td>\n",
       "      <td>0.829340</td>\n",
       "      <td>-0.381701</td>\n",
       "      <td>-0.879977</td>\n",
       "      <td>1.149847</td>\n",
       "    </tr>\n",
       "    <tr>\n",
       "      <th>8</th>\n",
       "      <td>-5.890524</td>\n",
       "      <td>-1.961686</td>\n",
       "      <td>-0.321573</td>\n",
       "      <td>-0.420560</td>\n",
       "      <td>0.829340</td>\n",
       "      <td>-0.381701</td>\n",
       "      <td>-0.879977</td>\n",
       "      <td>1.149847</td>\n",
       "    </tr>\n",
       "    <tr>\n",
       "      <th>9</th>\n",
       "      <td>0.515785</td>\n",
       "      <td>-0.959111</td>\n",
       "      <td>1.336614</td>\n",
       "      <td>-0.420560</td>\n",
       "      <td>0.829340</td>\n",
       "      <td>-0.381701</td>\n",
       "      <td>1.136394</td>\n",
       "      <td>-0.869681</td>\n",
       "    </tr>\n",
       "  </tbody>\n",
       "</table>\n",
       "</div>"
      ],
      "text/plain": [
       "   Principal     terms       age    Gender   weekend  Bechalor  \\\n",
       "0   0.515785  0.920718  2.331526 -0.420560 -1.205778 -0.381701   \n",
       "1   0.515785  0.920718  0.341701  2.377782 -1.205778  2.619854   \n",
       "2   0.515785 -0.959111 -0.653211 -0.420560 -1.205778 -0.381701   \n",
       "3   0.515785  0.920718 -0.487392  2.377782  0.829340 -0.381701   \n",
       "4   0.515785  0.920718 -0.321573 -0.420560  0.829340 -0.381701   \n",
       "5   0.515785  0.920718  0.839157 -0.420560  0.829340 -0.381701   \n",
       "6   0.515785  0.920718 -0.487392 -0.420560  0.829340 -0.381701   \n",
       "7  -1.314589 -0.959111 -0.819029 -0.420560  0.829340 -0.381701   \n",
       "8  -5.890524 -1.961686 -0.321573 -0.420560  0.829340 -0.381701   \n",
       "9   0.515785 -0.959111  1.336614 -0.420560  0.829340 -0.381701   \n",
       "\n",
       "   High School or Below   college  \n",
       "0              1.136394 -0.869681  \n",
       "1             -0.879977 -0.869681  \n",
       "2             -0.879977  1.149847  \n",
       "3             -0.879977  1.149847  \n",
       "4             -0.879977  1.149847  \n",
       "5             -0.879977  1.149847  \n",
       "6             -0.879977  1.149847  \n",
       "7             -0.879977  1.149847  \n",
       "8             -0.879977  1.149847  \n",
       "9              1.136394 -0.869681  "
      ]
     },
     "execution_count": 35,
     "metadata": {},
     "output_type": "execute_result"
    }
   ],
   "source": [
    "X_df.head(10)"
   ]
  },
  {
   "cell_type": "markdown",
   "id": "a74fc8ce",
   "metadata": {
    "_kg_hide-input": true,
    "_kg_hide-output": true,
    "papermill": {
     "duration": 0.077595,
     "end_time": "2022-04-12T11:14:23.724157",
     "exception": false,
     "start_time": "2022-04-12T11:14:23.646562",
     "status": "completed"
    },
    "tags": []
   },
   "source": [
    "# 🧱 Train & Test Split"
   ]
  },
  {
   "cell_type": "code",
   "execution_count": 36,
   "id": "242b59db",
   "metadata": {
    "_kg_hide-input": true,
    "_kg_hide-output": true,
    "execution": {
     "iopub.execute_input": "2022-04-12T11:14:23.884299Z",
     "iopub.status.busy": "2022-04-12T11:14:23.883500Z",
     "iopub.status.idle": "2022-04-12T11:14:23.889074Z",
     "shell.execute_reply": "2022-04-12T11:14:23.889606Z",
     "shell.execute_reply.started": "2022-04-12T06:48:39.700419Z"
    },
    "papermill": {
     "duration": 0.087489,
     "end_time": "2022-04-12T11:14:23.889824",
     "exception": false,
     "start_time": "2022-04-12T11:14:23.802335",
     "status": "completed"
    },
    "tags": []
   },
   "outputs": [],
   "source": [
    "X_train, X_test, y_train, y_test = train_test_split(X_df, y, test_size=0.3, random_state=4)"
   ]
  },
  {
   "cell_type": "code",
   "execution_count": 37,
   "id": "b7d2ed74",
   "metadata": {
    "_kg_hide-input": true,
    "_kg_hide-output": true,
    "execution": {
     "iopub.execute_input": "2022-04-12T11:14:24.051819Z",
     "iopub.status.busy": "2022-04-12T11:14:24.051087Z",
     "iopub.status.idle": "2022-04-12T11:14:24.057227Z",
     "shell.execute_reply": "2022-04-12T11:14:24.057739Z",
     "shell.execute_reply.started": "2022-04-12T06:48:39.70941Z"
    },
    "papermill": {
     "duration": 0.090101,
     "end_time": "2022-04-12T11:14:24.057934",
     "exception": false,
     "start_time": "2022-04-12T11:14:23.967833",
     "status": "completed"
    },
    "tags": []
   },
   "outputs": [
    {
     "name": "stdout",
     "output_type": "stream",
     "text": [
      "Xtrain Size:  (242, 8)\n",
      "\n",
      "Xtest Size:  (104, 8)\n",
      "\n",
      "ytrain Size:  (242,)\n",
      "\n",
      "ytest Size:  (104,)\n"
     ]
    }
   ],
   "source": [
    "print(\"Xtrain Size: \", X_train.shape)\n",
    "print(\"\\nXtest Size: \", X_test.shape)\n",
    "print(\"\\nytrain Size: \", y_train.shape)\n",
    "print(\"\\nytest Size: \", y_test.shape)"
   ]
  },
  {
   "cell_type": "markdown",
   "id": "c72f624d",
   "metadata": {
    "papermill": {
     "duration": 0.08152,
     "end_time": "2022-04-12T11:14:24.220463",
     "exception": false,
     "start_time": "2022-04-12T11:14:24.138943",
     "status": "completed"
    },
    "tags": []
   },
   "source": [
    "<div style=\"color:#D399E5;\n",
    "           display:fill;\n",
    "           border-radius:30px;\n",
    "           border-style: solid;\n",
    "           border-color:#FF0000;\n",
    "           background-color:#ECFF00;\n",
    "           font-size:30px;\n",
    "           font-family:Verdana;\n",
    "           letter-spacing:0.5px\">\n",
    "<h1 style=\"text-align: center;\n",
    "           padding: 15px;\n",
    "           color:#000EFF;\">\n",
    "Logistic Regression\n",
    "</h1>\n",
    "</div>"
   ]
  },
  {
   "cell_type": "code",
   "execution_count": 38,
   "id": "d0959058",
   "metadata": {
    "execution": {
     "iopub.execute_input": "2022-04-12T11:14:24.385054Z",
     "iopub.status.busy": "2022-04-12T11:14:24.384343Z",
     "iopub.status.idle": "2022-04-12T11:14:24.401291Z",
     "shell.execute_reply": "2022-04-12T11:14:24.401912Z",
     "shell.execute_reply.started": "2022-04-12T06:48:39.725055Z"
    },
    "papermill": {
     "duration": 0.10093,
     "end_time": "2022-04-12T11:14:24.402131",
     "exception": false,
     "start_time": "2022-04-12T11:14:24.301201",
     "status": "completed"
    },
    "tags": []
   },
   "outputs": [
    {
     "data": {
      "text/plain": [
       "LogisticRegression(C=0.01)"
      ]
     },
     "execution_count": 38,
     "metadata": {},
     "output_type": "execute_result"
    }
   ],
   "source": [
    "LR_model = LogisticRegression(C=0.01).fit(X_train,y_train)\n",
    "LR_model"
   ]
  },
  {
   "cell_type": "code",
   "execution_count": 39,
   "id": "03ebf7c4",
   "metadata": {
    "execution": {
     "iopub.execute_input": "2022-04-12T11:14:24.564661Z",
     "iopub.status.busy": "2022-04-12T11:14:24.563833Z",
     "iopub.status.idle": "2022-04-12T11:14:24.572184Z",
     "shell.execute_reply": "2022-04-12T11:14:24.572817Z",
     "shell.execute_reply.started": "2022-04-12T06:48:39.744118Z"
    },
    "papermill": {
     "duration": 0.091651,
     "end_time": "2022-04-12T11:14:24.573061",
     "exception": false,
     "start_time": "2022-04-12T11:14:24.481410",
     "status": "completed"
    },
    "tags": []
   },
   "outputs": [
    {
     "data": {
      "text/plain": [
       "array(['PAIDOFF', 'PAIDOFF', 'PAIDOFF', 'PAIDOFF', 'PAIDOFF', 'PAIDOFF',\n",
       "       'PAIDOFF', 'PAIDOFF', 'PAIDOFF', 'PAIDOFF', 'PAIDOFF', 'PAIDOFF',\n",
       "       'PAIDOFF', 'PAIDOFF', 'PAIDOFF', 'PAIDOFF', 'PAIDOFF', 'PAIDOFF',\n",
       "       'PAIDOFF', 'PAIDOFF', 'PAIDOFF', 'PAIDOFF', 'PAIDOFF', 'PAIDOFF',\n",
       "       'PAIDOFF', 'PAIDOFF', 'PAIDOFF', 'PAIDOFF', 'PAIDOFF', 'PAIDOFF',\n",
       "       'PAIDOFF', 'PAIDOFF', 'PAIDOFF', 'PAIDOFF', 'PAIDOFF', 'PAIDOFF',\n",
       "       'PAIDOFF', 'PAIDOFF', 'PAIDOFF', 'PAIDOFF', 'PAIDOFF', 'PAIDOFF',\n",
       "       'PAIDOFF', 'PAIDOFF', 'PAIDOFF', 'PAIDOFF', 'PAIDOFF', 'PAIDOFF',\n",
       "       'PAIDOFF', 'PAIDOFF', 'PAIDOFF', 'PAIDOFF', 'PAIDOFF', 'PAIDOFF',\n",
       "       'PAIDOFF', 'PAIDOFF', 'PAIDOFF', 'PAIDOFF', 'PAIDOFF', 'PAIDOFF',\n",
       "       'PAIDOFF', 'PAIDOFF', 'PAIDOFF', 'PAIDOFF', 'PAIDOFF', 'PAIDOFF',\n",
       "       'PAIDOFF', 'PAIDOFF', 'PAIDOFF', 'PAIDOFF', 'PAIDOFF', 'PAIDOFF',\n",
       "       'PAIDOFF', 'PAIDOFF', 'PAIDOFF', 'PAIDOFF', 'PAIDOFF', 'PAIDOFF',\n",
       "       'PAIDOFF', 'PAIDOFF', 'PAIDOFF', 'PAIDOFF', 'PAIDOFF', 'PAIDOFF',\n",
       "       'PAIDOFF', 'PAIDOFF', 'PAIDOFF', 'PAIDOFF', 'PAIDOFF', 'PAIDOFF',\n",
       "       'PAIDOFF', 'PAIDOFF', 'PAIDOFF', 'PAIDOFF', 'PAIDOFF', 'PAIDOFF',\n",
       "       'PAIDOFF', 'PAIDOFF', 'PAIDOFF', 'PAIDOFF', 'PAIDOFF', 'PAIDOFF',\n",
       "       'PAIDOFF', 'PAIDOFF'], dtype=object)"
      ]
     },
     "execution_count": 39,
     "metadata": {},
     "output_type": "execute_result"
    }
   ],
   "source": [
    "LR_yhat = LR_model.predict(X_test)\n",
    "LR_yhat"
   ]
  },
  {
   "cell_type": "code",
   "execution_count": 40,
   "id": "39271dd8",
   "metadata": {
    "execution": {
     "iopub.execute_input": "2022-04-12T11:14:24.738610Z",
     "iopub.status.busy": "2022-04-12T11:14:24.737852Z",
     "iopub.status.idle": "2022-04-12T11:14:24.747604Z",
     "shell.execute_reply": "2022-04-12T11:14:24.748139Z",
     "shell.execute_reply.started": "2022-04-12T06:48:39.756261Z"
    },
    "papermill": {
     "duration": 0.09412,
     "end_time": "2022-04-12T11:14:24.748339",
     "exception": false,
     "start_time": "2022-04-12T11:14:24.654219",
     "status": "completed"
    },
    "tags": []
   },
   "outputs": [
    {
     "data": {
      "text/plain": [
       "array([[0.31415312, 0.68584688],\n",
       "       [0.27998453, 0.72001547],\n",
       "       [0.17369244, 0.82630756],\n",
       "       [0.2002638 , 0.7997362 ],\n",
       "       [0.18174734, 0.81825266],\n",
       "       [0.18068432, 0.81931568],\n",
       "       [0.29886295, 0.70113705],\n",
       "       [0.28891054, 0.71108946],\n",
       "       [0.2002638 , 0.7997362 ],\n",
       "       [0.30865915, 0.69134085],\n",
       "       [0.19645056, 0.80354944],\n",
       "       [0.30831928, 0.69168072],\n",
       "       [0.15155205, 0.84844795],\n",
       "       [0.19886489, 0.80113511],\n",
       "       [0.25370498, 0.74629502],\n",
       "       [0.14883911, 0.85116089],\n",
       "       [0.33518012, 0.66481988],\n",
       "       [0.17151828, 0.82848172],\n",
       "       [0.3134569 , 0.6865431 ],\n",
       "       [0.18044859, 0.81955141],\n",
       "       [0.2631071 , 0.7368929 ],\n",
       "       [0.30576805, 0.69423195],\n",
       "       [0.32457818, 0.67542182],\n",
       "       [0.29013054, 0.70986946],\n",
       "       [0.2429674 , 0.7570326 ],\n",
       "       [0.31934307, 0.68065693],\n",
       "       [0.32195504, 0.67804496],\n",
       "       [0.21499153, 0.78500847],\n",
       "       [0.31604308, 0.68395692],\n",
       "       [0.13648924, 0.86351076],\n",
       "       [0.28367543, 0.71632457],\n",
       "       [0.27970079, 0.72029921],\n",
       "       [0.28975475, 0.71024525],\n",
       "       [0.29568267, 0.70431733],\n",
       "       [0.23899735, 0.76100265],\n",
       "       [0.2740311 , 0.7259689 ],\n",
       "       [0.3134569 , 0.6865431 ],\n",
       "       [0.16110943, 0.83889057],\n",
       "       [0.27553985, 0.72446015],\n",
       "       [0.28016757, 0.71983243],\n",
       "       [0.31864069, 0.68135931],\n",
       "       [0.18222866, 0.81777134],\n",
       "       [0.26756648, 0.73243352],\n",
       "       [0.31934307, 0.68065693],\n",
       "       [0.17322888, 0.82677112],\n",
       "       [0.32043381, 0.67956619],\n",
       "       [0.28611829, 0.71388171],\n",
       "       [0.30831928, 0.69168072],\n",
       "       [0.27165216, 0.72834784],\n",
       "       [0.27340545, 0.72659455],\n",
       "       [0.16161569, 0.83838431],\n",
       "       [0.28369291, 0.71630709],\n",
       "       [0.17976168, 0.82023832],\n",
       "       [0.30070126, 0.69929874],\n",
       "       [0.17358145, 0.82641855],\n",
       "       [0.13646741, 0.86353259],\n",
       "       [0.17692919, 0.82307081],\n",
       "       [0.25164935, 0.74835065],\n",
       "       [0.28367543, 0.71632457],\n",
       "       [0.19319591, 0.80680409],\n",
       "       [0.23986917, 0.76013083],\n",
       "       [0.19083401, 0.80916599],\n",
       "       [0.2740311 , 0.7259689 ],\n",
       "       [0.33785733, 0.66214267],\n",
       "       [0.18402235, 0.81597765],\n",
       "       [0.30576805, 0.69423195],\n",
       "       [0.19083401, 0.80916599],\n",
       "       [0.24301786, 0.75698214],\n",
       "       [0.26522316, 0.73477684],\n",
       "       [0.18402235, 0.81597765],\n",
       "       [0.16316588, 0.83683412],\n",
       "       [0.32457818, 0.67542182],\n",
       "       [0.18715831, 0.81284169],\n",
       "       [0.29601456, 0.70398544],\n",
       "       [0.19269244, 0.80730756],\n",
       "       [0.25479442, 0.74520558],\n",
       "       [0.29145485, 0.70854515],\n",
       "       [0.29352194, 0.70647806],\n",
       "       [0.31864069, 0.68135931],\n",
       "       [0.16691599, 0.83308401],\n",
       "       [0.27343236, 0.72656764],\n",
       "       [0.2864534 , 0.7135466 ],\n",
       "       [0.32721238, 0.67278762],\n",
       "       [0.15889233, 0.84110767],\n",
       "       [0.32124963, 0.67875037],\n",
       "       [0.14693772, 0.85306228],\n",
       "       [0.16420229, 0.83579771],\n",
       "       [0.15940991, 0.84059009],\n",
       "       [0.29818589, 0.70181411],\n",
       "       [0.28240814, 0.71759186],\n",
       "       [0.18439993, 0.81560007],\n",
       "       [0.1865894 , 0.8134106 ],\n",
       "       [0.29071301, 0.70928699],\n",
       "       [0.1865894 , 0.8134106 ],\n",
       "       [0.17151828, 0.82848172],\n",
       "       [0.16112774, 0.83887226],\n",
       "       [0.17542013, 0.82457987],\n",
       "       [0.30070126, 0.69929874],\n",
       "       [0.18948537, 0.81051463],\n",
       "       [0.29635644, 0.70364356],\n",
       "       [0.31469473, 0.68530527],\n",
       "       [0.2740311 , 0.7259689 ],\n",
       "       [0.31415312, 0.68584688],\n",
       "       [0.33518012, 0.66481988]])"
      ]
     },
     "execution_count": 40,
     "metadata": {},
     "output_type": "execute_result"
    }
   ],
   "source": [
    "yhat_prob = LR_model.predict_proba(X_test)\n",
    "yhat_prob"
   ]
  },
  {
   "cell_type": "code",
   "execution_count": 41,
   "id": "e461a9fe",
   "metadata": {
    "execution": {
     "iopub.execute_input": "2022-04-12T11:14:24.919137Z",
     "iopub.status.busy": "2022-04-12T11:14:24.918421Z",
     "iopub.status.idle": "2022-04-12T11:14:24.934149Z",
     "shell.execute_reply": "2022-04-12T11:14:24.934696Z",
     "shell.execute_reply.started": "2022-04-12T06:48:39.775638Z"
    },
    "papermill": {
     "duration": 0.102091,
     "end_time": "2022-04-12T11:14:24.934901",
     "exception": false,
     "start_time": "2022-04-12T11:14:24.832810",
     "status": "completed"
    },
    "tags": []
   },
   "outputs": [
    {
     "name": "stdout",
     "output_type": "stream",
     "text": [
      "LR Jaccard index: 0.74\n",
      "LR F1-score: 0.63\n",
      "LR LogLoss: 0.53\n"
     ]
    },
    {
     "name": "stderr",
     "output_type": "stream",
     "text": [
      "/opt/conda/lib/python3.7/site-packages/sklearn/base.py:446: UserWarning: X does not have valid feature names, but LogisticRegression was fitted with feature names\n",
      "  \"X does not have valid feature names, but\"\n",
      "/opt/conda/lib/python3.7/site-packages/sklearn/base.py:446: UserWarning: X does not have valid feature names, but LogisticRegression was fitted with feature names\n",
      "  \"X does not have valid feature names, but\"\n"
     ]
    }
   ],
   "source": [
    "test_LR_yhat = LR_model.predict(test_X)\n",
    "test_LR_yhat_prob = LR_model.predict_proba(test_X)\n",
    "print(\"LR Jaccard index: %.2f\" % jaccard_score(test_y, test_LR_yhat, pos_label='PAIDOFF'))\n",
    "print(\"LR F1-score: %.2f\" % f1_score(test_y, test_LR_yhat, average='weighted') )\n",
    "print(\"LR LogLoss: %.2f\" % log_loss(test_y, test_LR_yhat_prob))"
   ]
  },
  {
   "cell_type": "markdown",
   "id": "bfd9ed14",
   "metadata": {
    "papermill": {
     "duration": 0.081546,
     "end_time": "2022-04-12T11:14:25.098658",
     "exception": false,
     "start_time": "2022-04-12T11:14:25.017112",
     "status": "completed"
    },
    "tags": []
   },
   "source": [
    "<div style=\"color:#D399E5;\n",
    "           display:fill;\n",
    "           border-radius:30px;\n",
    "           border-style: solid;\n",
    "           border-color:#FF0000;\n",
    "           background-color:#ECFF00;\n",
    "           font-size:30px;\n",
    "           font-family:Verdana;\n",
    "           letter-spacing:0.5px\">\n",
    "<h1 style=\"text-align: center;\n",
    "           padding: 15px;\n",
    "           color:#000EFF;\">\n",
    "Support Vector Machine(SVM)\n",
    "</h1>\n",
    "</div>"
   ]
  },
  {
   "cell_type": "code",
   "execution_count": 42,
   "id": "a8411093",
   "metadata": {
    "execution": {
     "iopub.execute_input": "2022-04-12T11:14:25.264778Z",
     "iopub.status.busy": "2022-04-12T11:14:25.264056Z",
     "iopub.status.idle": "2022-04-12T11:14:25.274239Z",
     "shell.execute_reply": "2022-04-12T11:14:25.274747Z",
     "shell.execute_reply.started": "2022-04-12T06:48:39.791363Z"
    },
    "papermill": {
     "duration": 0.095293,
     "end_time": "2022-04-12T11:14:25.274943",
     "exception": false,
     "start_time": "2022-04-12T11:14:25.179650",
     "status": "completed"
    },
    "tags": []
   },
   "outputs": [
    {
     "data": {
      "text/plain": [
       "SVC()"
      ]
     },
     "execution_count": 42,
     "metadata": {},
     "output_type": "execute_result"
    }
   ],
   "source": [
    "SVM_model = svm.SVC(kernel='rbf', gamma='scale')\n",
    "SVM_model.fit(X_train, y_train)"
   ]
  },
  {
   "cell_type": "code",
   "execution_count": 43,
   "id": "42f5bf93",
   "metadata": {
    "execution": {
     "iopub.execute_input": "2022-04-12T11:14:25.442002Z",
     "iopub.status.busy": "2022-04-12T11:14:25.441281Z",
     "iopub.status.idle": "2022-04-12T11:14:25.449002Z",
     "shell.execute_reply": "2022-04-12T11:14:25.449518Z",
     "shell.execute_reply.started": "2022-04-12T06:48:39.807516Z"
    },
    "papermill": {
     "duration": 0.09366,
     "end_time": "2022-04-12T11:14:25.449725",
     "exception": false,
     "start_time": "2022-04-12T11:14:25.356065",
     "status": "completed"
    },
    "tags": []
   },
   "outputs": [
    {
     "data": {
      "text/plain": [
       "array(['PAIDOFF', 'PAIDOFF', 'PAIDOFF', 'PAIDOFF', 'PAIDOFF', 'PAIDOFF',\n",
       "       'PAIDOFF', 'PAIDOFF', 'PAIDOFF', 'PAIDOFF', 'PAIDOFF', 'PAIDOFF',\n",
       "       'PAIDOFF', 'PAIDOFF', 'PAIDOFF', 'PAIDOFF', 'PAIDOFF', 'PAIDOFF',\n",
       "       'PAIDOFF', 'PAIDOFF', 'PAIDOFF', 'PAIDOFF', 'PAIDOFF', 'PAIDOFF',\n",
       "       'PAIDOFF', 'PAIDOFF', 'PAIDOFF', 'PAIDOFF', 'PAIDOFF', 'PAIDOFF',\n",
       "       'PAIDOFF', 'PAIDOFF', 'PAIDOFF', 'PAIDOFF', 'PAIDOFF', 'PAIDOFF',\n",
       "       'PAIDOFF', 'PAIDOFF', 'PAIDOFF', 'PAIDOFF', 'PAIDOFF', 'PAIDOFF',\n",
       "       'PAIDOFF', 'PAIDOFF', 'PAIDOFF', 'PAIDOFF', 'PAIDOFF', 'PAIDOFF',\n",
       "       'PAIDOFF', 'PAIDOFF', 'PAIDOFF', 'PAIDOFF', 'PAIDOFF', 'PAIDOFF',\n",
       "       'PAIDOFF', 'PAIDOFF', 'PAIDOFF', 'PAIDOFF', 'PAIDOFF', 'PAIDOFF',\n",
       "       'PAIDOFF', 'PAIDOFF', 'PAIDOFF', 'PAIDOFF', 'PAIDOFF', 'PAIDOFF',\n",
       "       'PAIDOFF', 'PAIDOFF', 'PAIDOFF', 'PAIDOFF', 'PAIDOFF', 'PAIDOFF',\n",
       "       'PAIDOFF', 'PAIDOFF', 'PAIDOFF', 'PAIDOFF', 'COLLECTION',\n",
       "       'PAIDOFF', 'PAIDOFF', 'PAIDOFF', 'PAIDOFF', 'PAIDOFF', 'PAIDOFF',\n",
       "       'PAIDOFF', 'PAIDOFF', 'PAIDOFF', 'PAIDOFF', 'PAIDOFF', 'PAIDOFF',\n",
       "       'PAIDOFF', 'PAIDOFF', 'PAIDOFF', 'PAIDOFF', 'PAIDOFF', 'PAIDOFF',\n",
       "       'PAIDOFF', 'PAIDOFF', 'PAIDOFF', 'PAIDOFF', 'PAIDOFF', 'PAIDOFF',\n",
       "       'PAIDOFF', 'PAIDOFF', 'PAIDOFF'], dtype=object)"
      ]
     },
     "execution_count": 43,
     "metadata": {},
     "output_type": "execute_result"
    }
   ],
   "source": [
    "SVM_yhat = SVM_model.predict(X_test)\n",
    "SVM_yhat"
   ]
  },
  {
   "cell_type": "code",
   "execution_count": 44,
   "id": "5a248071",
   "metadata": {
    "execution": {
     "iopub.execute_input": "2022-04-12T11:14:25.617125Z",
     "iopub.status.busy": "2022-04-12T11:14:25.616452Z",
     "iopub.status.idle": "2022-04-12T11:14:25.626347Z",
     "shell.execute_reply": "2022-04-12T11:14:25.626807Z",
     "shell.execute_reply.started": "2022-04-12T06:48:39.817543Z"
    },
    "papermill": {
     "duration": 0.094901,
     "end_time": "2022-04-12T11:14:25.627029",
     "exception": false,
     "start_time": "2022-04-12T11:14:25.532128",
     "status": "completed"
    },
    "tags": []
   },
   "outputs": [
    {
     "name": "stdout",
     "output_type": "stream",
     "text": [
      "SVM Jaccard index: 0.74\n",
      "SVM F1-score: 0.63\n"
     ]
    },
    {
     "name": "stderr",
     "output_type": "stream",
     "text": [
      "/opt/conda/lib/python3.7/site-packages/sklearn/base.py:446: UserWarning: X does not have valid feature names, but SVC was fitted with feature names\n",
      "  \"X does not have valid feature names, but\"\n"
     ]
    }
   ],
   "source": [
    "test_SVM_yhat = SVM_model.predict(test_X)\n",
    "print(\"SVM Jaccard index: %.2f\" % jaccard_score(test_y, test_SVM_yhat, pos_label='PAIDOFF'))\n",
    "print(\"SVM F1-score: %.2f\" % f1_score(test_y, test_SVM_yhat, average='weighted'))"
   ]
  },
  {
   "cell_type": "markdown",
   "id": "95cdbd4b",
   "metadata": {
    "papermill": {
     "duration": 0.082548,
     "end_time": "2022-04-12T11:14:25.792077",
     "exception": false,
     "start_time": "2022-04-12T11:14:25.709529",
     "status": "completed"
    },
    "tags": []
   },
   "source": [
    "# Finished"
   ]
  }
 ],
 "metadata": {
  "kernelspec": {
   "display_name": "Python 3",
   "language": "python",
   "name": "python3"
  },
  "language_info": {
   "codemirror_mode": {
    "name": "ipython",
    "version": 3
   },
   "file_extension": ".py",
   "mimetype": "text/x-python",
   "name": "python",
   "nbconvert_exporter": "python",
   "pygments_lexer": "ipython3",
   "version": "3.7.12"
  },
  "papermill": {
   "default_parameters": {},
   "duration": 45.659194,
   "end_time": "2022-04-12T11:14:26.887898",
   "environment_variables": {},
   "exception": null,
   "input_path": "__notebook__.ipynb",
   "output_path": "__notebook__.ipynb",
   "parameters": {},
   "start_time": "2022-04-12T11:13:41.228704",
   "version": "2.3.3"
  }
 },
 "nbformat": 4,
 "nbformat_minor": 5
}
