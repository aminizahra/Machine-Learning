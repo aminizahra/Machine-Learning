{
 "cells": [
  {
   "cell_type": "markdown",
   "id": "b1f6c996",
   "metadata": {
    "papermill": {
     "duration": 0.03573,
     "end_time": "2022-07-22T09:53:08.257147",
     "exception": false,
     "start_time": "2022-07-22T09:53:08.221417",
     "status": "completed"
    },
    "tags": []
   },
   "source": [
    "<h1 align=center><font size = 7>Data Preparation</font></h1>"
   ]
  },
  {
   "cell_type": "markdown",
   "id": "07d9bcd9",
   "metadata": {
    "papermill": {
     "duration": 0.028424,
     "end_time": "2022-07-22T09:53:08.315191",
     "exception": false,
     "start_time": "2022-07-22T09:53:08.286767",
     "status": "completed"
    },
    "tags": []
   },
   "source": [
    "# **Data Preparation**"
   ]
  },
  {
   "cell_type": "markdown",
   "id": "f611e361",
   "metadata": {
    "papermill": {
     "duration": 0.028233,
     "end_time": "2022-07-22T09:53:08.372877",
     "exception": false,
     "start_time": "2022-07-22T09:53:08.344644",
     "status": "completed"
    },
    "tags": []
   },
   "source": [
    "> **What is data preparation process?**\n",
    "\n",
    "Data preparation is the process of cleaning and transforming raw data prior to processing and analysis. It is an important step prior to processing and often involves reformatting data, making corrections to data and the combining of data sets to enrich data."
   ]
  },
  {
   "cell_type": "markdown",
   "id": "df1471eb",
   "metadata": {
    "papermill": {
     "duration": 0.029095,
     "end_time": "2022-07-22T09:53:08.430795",
     "exception": false,
     "start_time": "2022-07-22T09:53:08.401700",
     "status": "completed"
    },
    "tags": []
   },
   "source": [
    "# BoxPlot"
   ]
  },
  {
   "cell_type": "markdown",
   "id": "b84bf177",
   "metadata": {
    "papermill": {
     "duration": 0.028619,
     "end_time": "2022-07-22T09:53:08.487933",
     "exception": false,
     "start_time": "2022-07-22T09:53:08.459314",
     "status": "completed"
    },
    "tags": []
   },
   "source": [
    "<a href=\"https://ibb.co/ZGtXd9M\"><img src=\"https://i.ibb.co/Bcd3LkC/2.png\" alt=\"poxblot\" border=\"0\"></a>"
   ]
  },
  {
   "cell_type": "markdown",
   "id": "c26b0114",
   "metadata": {
    "papermill": {
     "duration": 0.028064,
     "end_time": "2022-07-22T09:53:08.544369",
     "exception": false,
     "start_time": "2022-07-22T09:53:08.516305",
     "status": "completed"
    },
    "tags": []
   },
   "source": [
    "## **📤 Import Libraries**"
   ]
  },
  {
   "cell_type": "code",
   "execution_count": 1,
   "id": "65b0c5fe",
   "metadata": {
    "execution": {
     "iopub.execute_input": "2022-07-22T09:53:08.605058Z",
     "iopub.status.busy": "2022-07-22T09:53:08.604321Z",
     "iopub.status.idle": "2022-07-22T09:53:09.882670Z",
     "shell.execute_reply": "2022-07-22T09:53:09.881196Z"
    },
    "papermill": {
     "duration": 1.312315,
     "end_time": "2022-07-22T09:53:09.885523",
     "exception": false,
     "start_time": "2022-07-22T09:53:08.573208",
     "status": "completed"
    },
    "tags": []
   },
   "outputs": [],
   "source": [
    "import matplotlib.pyplot as plt\n",
    "import numpy as np\n",
    "import pandas as pd\n",
    "import seaborn as sns"
   ]
  },
  {
   "cell_type": "markdown",
   "id": "fb9774cb",
   "metadata": {
    "papermill": {
     "duration": 0.028721,
     "end_time": "2022-07-22T09:53:09.943872",
     "exception": false,
     "start_time": "2022-07-22T09:53:09.915151",
     "status": "completed"
    },
    "tags": []
   },
   "source": [
    "# 💾 Read Data"
   ]
  },
  {
   "cell_type": "code",
   "execution_count": 2,
   "id": "d228a735",
   "metadata": {
    "execution": {
     "iopub.execute_input": "2022-07-22T09:53:10.007199Z",
     "iopub.status.busy": "2022-07-22T09:53:10.005702Z",
     "iopub.status.idle": "2022-07-22T09:53:10.028862Z",
     "shell.execute_reply": "2022-07-22T09:53:10.027597Z"
    },
    "papermill": {
     "duration": 0.057934,
     "end_time": "2022-07-22T09:53:10.031494",
     "exception": false,
     "start_time": "2022-07-22T09:53:09.973560",
     "status": "completed"
    },
    "tags": []
   },
   "outputs": [],
   "source": [
    "df = pd.read_csv(\"../input/covid19/Detection of COVID-19 Infection from Routine Blood Exams.csv\")"
   ]
  },
  {
   "cell_type": "markdown",
   "id": "a9796293",
   "metadata": {
    "papermill": {
     "duration": 0.029528,
     "end_time": "2022-07-22T09:53:10.090330",
     "exception": false,
     "start_time": "2022-07-22T09:53:10.060802",
     "status": "completed"
    },
    "tags": []
   },
   "source": [
    "# 🔎 Check the basic information of the dataset"
   ]
  },
  {
   "cell_type": "code",
   "execution_count": 3,
   "id": "45f08536",
   "metadata": {
    "execution": {
     "iopub.execute_input": "2022-07-22T09:53:10.151956Z",
     "iopub.status.busy": "2022-07-22T09:53:10.151229Z",
     "iopub.status.idle": "2022-07-22T09:53:10.185033Z",
     "shell.execute_reply": "2022-07-22T09:53:10.183831Z"
    },
    "papermill": {
     "duration": 0.066902,
     "end_time": "2022-07-22T09:53:10.187635",
     "exception": false,
     "start_time": "2022-07-22T09:53:10.120733",
     "status": "completed"
    },
    "tags": []
   },
   "outputs": [
    {
     "data": {
      "text/html": [
       "<div>\n",
       "<style scoped>\n",
       "    .dataframe tbody tr th:only-of-type {\n",
       "        vertical-align: middle;\n",
       "    }\n",
       "\n",
       "    .dataframe tbody tr th {\n",
       "        vertical-align: top;\n",
       "    }\n",
       "\n",
       "    .dataframe thead th {\n",
       "        text-align: right;\n",
       "    }\n",
       "</style>\n",
       "<table border=\"1\" class=\"dataframe\">\n",
       "  <thead>\n",
       "    <tr style=\"text-align: right;\">\n",
       "      <th></th>\n",
       "      <th>SESSO</th>\n",
       "      <th>AGE</th>\n",
       "      <th>WBC</th>\n",
       "      <th>Piastrine</th>\n",
       "      <th>Neutrofili</th>\n",
       "      <th>Linfociti</th>\n",
       "      <th>Monociti</th>\n",
       "      <th>Eosinofili</th>\n",
       "      <th>Basofili</th>\n",
       "      <th>PCR</th>\n",
       "      <th>AST</th>\n",
       "      <th>ALT</th>\n",
       "      <th>ALP</th>\n",
       "      <th>GGT</th>\n",
       "      <th>LDH</th>\n",
       "      <th>TARGET</th>\n",
       "    </tr>\n",
       "  </thead>\n",
       "  <tbody>\n",
       "    <tr>\n",
       "      <th>0</th>\n",
       "      <td>M</td>\n",
       "      <td>56</td>\n",
       "      <td>2.9</td>\n",
       "      <td>128.0</td>\n",
       "      <td>1.9</td>\n",
       "      <td>0.8</td>\n",
       "      <td>0.2</td>\n",
       "      <td>0.0</td>\n",
       "      <td>0.0</td>\n",
       "      <td>29.0</td>\n",
       "      <td>36.0</td>\n",
       "      <td>18.0</td>\n",
       "      <td>43.0</td>\n",
       "      <td>21.0</td>\n",
       "      <td>257.0</td>\n",
       "      <td>2</td>\n",
       "    </tr>\n",
       "    <tr>\n",
       "      <th>1</th>\n",
       "      <td>M</td>\n",
       "      <td>56</td>\n",
       "      <td>3.5</td>\n",
       "      <td>151.0</td>\n",
       "      <td>2.1</td>\n",
       "      <td>0.9</td>\n",
       "      <td>0.4</td>\n",
       "      <td>0.0</td>\n",
       "      <td>0.0</td>\n",
       "      <td>16.5</td>\n",
       "      <td>25.0</td>\n",
       "      <td>14.0</td>\n",
       "      <td>50.0</td>\n",
       "      <td>17.0</td>\n",
       "      <td>207.0</td>\n",
       "      <td>2</td>\n",
       "    </tr>\n",
       "    <tr>\n",
       "      <th>2</th>\n",
       "      <td>M</td>\n",
       "      <td>72</td>\n",
       "      <td>4.6</td>\n",
       "      <td>206.0</td>\n",
       "      <td>NaN</td>\n",
       "      <td>NaN</td>\n",
       "      <td>NaN</td>\n",
       "      <td>NaN</td>\n",
       "      <td>NaN</td>\n",
       "      <td>193.7</td>\n",
       "      <td>31.0</td>\n",
       "      <td>22.0</td>\n",
       "      <td>NaN</td>\n",
       "      <td>NaN</td>\n",
       "      <td>NaN</td>\n",
       "      <td>2</td>\n",
       "    </tr>\n",
       "    <tr>\n",
       "      <th>3</th>\n",
       "      <td>M</td>\n",
       "      <td>72</td>\n",
       "      <td>16.5</td>\n",
       "      <td>316.0</td>\n",
       "      <td>14.0</td>\n",
       "      <td>1.2</td>\n",
       "      <td>0.3</td>\n",
       "      <td>0.0</td>\n",
       "      <td>0.0</td>\n",
       "      <td>318.7</td>\n",
       "      <td>96.0</td>\n",
       "      <td>33.0</td>\n",
       "      <td>80.0</td>\n",
       "      <td>42.0</td>\n",
       "      <td>651.0</td>\n",
       "      <td>2</td>\n",
       "    </tr>\n",
       "    <tr>\n",
       "      <th>4</th>\n",
       "      <td>M</td>\n",
       "      <td>77</td>\n",
       "      <td>4.9</td>\n",
       "      <td>198.0</td>\n",
       "      <td>NaN</td>\n",
       "      <td>NaN</td>\n",
       "      <td>NaN</td>\n",
       "      <td>NaN</td>\n",
       "      <td>NaN</td>\n",
       "      <td>NaN</td>\n",
       "      <td>NaN</td>\n",
       "      <td>NaN</td>\n",
       "      <td>NaN</td>\n",
       "      <td>NaN</td>\n",
       "      <td>NaN</td>\n",
       "      <td>2</td>\n",
       "    </tr>\n",
       "  </tbody>\n",
       "</table>\n",
       "</div>"
      ],
      "text/plain": [
       "  SESSO  AGE   WBC  Piastrine  Neutrofili Linfociti  Monociti  Eosinofili  \\\n",
       "0     M   56   2.9      128.0         1.9       0.8       0.2         0.0   \n",
       "1     M   56   3.5      151.0         2.1       0.9       0.4         0.0   \n",
       "2     M   72   4.6      206.0         NaN       NaN       NaN         NaN   \n",
       "3     M   72  16.5      316.0        14.0       1.2       0.3         0.0   \n",
       "4     M   77   4.9      198.0         NaN       NaN       NaN         NaN   \n",
       "\n",
       "   Basofili    PCR   AST   ALT   ALP   GGT    LDH  TARGET  \n",
       "0       0.0   29.0  36.0  18.0  43.0  21.0  257.0       2  \n",
       "1       0.0   16.5  25.0  14.0  50.0  17.0  207.0       2  \n",
       "2       NaN  193.7  31.0  22.0   NaN   NaN    NaN       2  \n",
       "3       0.0  318.7  96.0  33.0  80.0  42.0  651.0       2  \n",
       "4       NaN    NaN   NaN   NaN   NaN   NaN    NaN       2  "
      ]
     },
     "execution_count": 3,
     "metadata": {},
     "output_type": "execute_result"
    }
   ],
   "source": [
    "df.head()"
   ]
  },
  {
   "cell_type": "code",
   "execution_count": 4,
   "id": "bba4a7f0",
   "metadata": {
    "execution": {
     "iopub.execute_input": "2022-07-22T09:53:10.248992Z",
     "iopub.status.busy": "2022-07-22T09:53:10.248588Z",
     "iopub.status.idle": "2022-07-22T09:53:10.276703Z",
     "shell.execute_reply": "2022-07-22T09:53:10.275622Z"
    },
    "papermill": {
     "duration": 0.063212,
     "end_time": "2022-07-22T09:53:10.279658",
     "exception": false,
     "start_time": "2022-07-22T09:53:10.216446",
     "status": "completed"
    },
    "tags": []
   },
   "outputs": [
    {
     "name": "stdout",
     "output_type": "stream",
     "text": [
      "<class 'pandas.core.frame.DataFrame'>\n",
      "RangeIndex: 279 entries, 0 to 278\n",
      "Data columns (total 16 columns):\n",
      " #   Column      Non-Null Count  Dtype  \n",
      "---  ------      --------------  -----  \n",
      " 0   SESSO       279 non-null    object \n",
      " 1   AGE         279 non-null    int64  \n",
      " 2   WBC         277 non-null    float64\n",
      " 3   Piastrine   277 non-null    float64\n",
      " 4   Neutrofili  209 non-null    float64\n",
      " 5   Linfociti   209 non-null    object \n",
      " 6   Monociti    209 non-null    float64\n",
      " 7   Eosinofili  209 non-null    float64\n",
      " 8   Basofili    208 non-null    float64\n",
      " 9   PCR         273 non-null    float64\n",
      " 10  AST         277 non-null    float64\n",
      " 11  ALT         266 non-null    float64\n",
      " 12  ALP         131 non-null    float64\n",
      " 13  GGT         136 non-null    float64\n",
      " 14  LDH         194 non-null    float64\n",
      " 15  TARGET      279 non-null    int64  \n",
      "dtypes: float64(12), int64(2), object(2)\n",
      "memory usage: 35.0+ KB\n"
     ]
    }
   ],
   "source": [
    "df.info()"
   ]
  },
  {
   "cell_type": "code",
   "execution_count": 5,
   "id": "a63850c8",
   "metadata": {
    "execution": {
     "iopub.execute_input": "2022-07-22T09:53:10.340850Z",
     "iopub.status.busy": "2022-07-22T09:53:10.340307Z",
     "iopub.status.idle": "2022-07-22T09:53:10.347481Z",
     "shell.execute_reply": "2022-07-22T09:53:10.346276Z"
    },
    "papermill": {
     "duration": 0.040974,
     "end_time": "2022-07-22T09:53:10.349839",
     "exception": false,
     "start_time": "2022-07-22T09:53:10.308865",
     "status": "completed"
    },
    "tags": []
   },
   "outputs": [
    {
     "data": {
      "text/plain": [
       "(279, 16)"
      ]
     },
     "execution_count": 5,
     "metadata": {},
     "output_type": "execute_result"
    }
   ],
   "source": [
    "df.shape"
   ]
  },
  {
   "cell_type": "code",
   "execution_count": 6,
   "id": "6d593049",
   "metadata": {
    "execution": {
     "iopub.execute_input": "2022-07-22T09:53:10.412546Z",
     "iopub.status.busy": "2022-07-22T09:53:10.412169Z",
     "iopub.status.idle": "2022-07-22T09:53:10.422234Z",
     "shell.execute_reply": "2022-07-22T09:53:10.421048Z"
    },
    "papermill": {
     "duration": 0.046283,
     "end_time": "2022-07-22T09:53:10.425241",
     "exception": false,
     "start_time": "2022-07-22T09:53:10.378958",
     "status": "completed"
    },
    "tags": []
   },
   "outputs": [
    {
     "data": {
      "text/plain": [
       "SESSO           0\n",
       "AGE             0\n",
       "WBC             2\n",
       "Piastrine       2\n",
       "Neutrofili     70\n",
       "Linfociti      70\n",
       "Monociti       70\n",
       "Eosinofili     70\n",
       "Basofili       71\n",
       "PCR             6\n",
       "AST             2\n",
       "ALT            13\n",
       "ALP           148\n",
       "GGT           143\n",
       "LDH            85\n",
       "TARGET          0\n",
       "dtype: int64"
      ]
     },
     "execution_count": 6,
     "metadata": {},
     "output_type": "execute_result"
    }
   ],
   "source": [
    "df.isnull().sum()"
   ]
  },
  {
   "cell_type": "code",
   "execution_count": 7,
   "id": "ef6b7675",
   "metadata": {
    "execution": {
     "iopub.execute_input": "2022-07-22T09:53:10.488675Z",
     "iopub.status.busy": "2022-07-22T09:53:10.488276Z",
     "iopub.status.idle": "2022-07-22T09:53:10.492970Z",
     "shell.execute_reply": "2022-07-22T09:53:10.491789Z"
    },
    "papermill": {
     "duration": 0.039727,
     "end_time": "2022-07-22T09:53:10.495515",
     "exception": false,
     "start_time": "2022-07-22T09:53:10.455788",
     "status": "completed"
    },
    "tags": []
   },
   "outputs": [],
   "source": [
    "# df[\"Linfociti\"].astype(float)"
   ]
  },
  {
   "cell_type": "code",
   "execution_count": 8,
   "id": "de866fd7",
   "metadata": {
    "execution": {
     "iopub.execute_input": "2022-07-22T09:53:10.558649Z",
     "iopub.status.busy": "2022-07-22T09:53:10.558252Z",
     "iopub.status.idle": "2022-07-22T09:53:10.566042Z",
     "shell.execute_reply": "2022-07-22T09:53:10.564799Z"
    },
    "papermill": {
     "duration": 0.042557,
     "end_time": "2022-07-22T09:53:10.568367",
     "exception": false,
     "start_time": "2022-07-22T09:53:10.525810",
     "status": "completed"
    },
    "tags": []
   },
   "outputs": [],
   "source": [
    "inx = df[df['Linfociti']=='0-4'].index"
   ]
  },
  {
   "cell_type": "code",
   "execution_count": 9,
   "id": "a6a17681",
   "metadata": {
    "execution": {
     "iopub.execute_input": "2022-07-22T09:53:10.629094Z",
     "iopub.status.busy": "2022-07-22T09:53:10.628687Z",
     "iopub.status.idle": "2022-07-22T09:53:10.636284Z",
     "shell.execute_reply": "2022-07-22T09:53:10.635073Z"
    },
    "papermill": {
     "duration": 0.041711,
     "end_time": "2022-07-22T09:53:10.639199",
     "exception": false,
     "start_time": "2022-07-22T09:53:10.597488",
     "status": "completed"
    },
    "tags": []
   },
   "outputs": [
    {
     "name": "stderr",
     "output_type": "stream",
     "text": [
      "/opt/conda/lib/python3.7/site-packages/ipykernel_launcher.py:1: SettingWithCopyWarning: \n",
      "A value is trying to be set on a copy of a slice from a DataFrame\n",
      "\n",
      "See the caveats in the documentation: https://pandas.pydata.org/pandas-docs/stable/user_guide/indexing.html#returning-a-view-versus-a-copy\n",
      "  \"\"\"Entry point for launching an IPython kernel.\n"
     ]
    }
   ],
   "source": [
    "df[\"Linfociti\"][inx]=0.4"
   ]
  },
  {
   "cell_type": "code",
   "execution_count": 10,
   "id": "8a6b6092",
   "metadata": {
    "execution": {
     "iopub.execute_input": "2022-07-22T09:53:10.701208Z",
     "iopub.status.busy": "2022-07-22T09:53:10.700811Z",
     "iopub.status.idle": "2022-07-22T09:53:10.706905Z",
     "shell.execute_reply": "2022-07-22T09:53:10.705676Z"
    },
    "papermill": {
     "duration": 0.040104,
     "end_time": "2022-07-22T09:53:10.709304",
     "exception": false,
     "start_time": "2022-07-22T09:53:10.669200",
     "status": "completed"
    },
    "tags": []
   },
   "outputs": [],
   "source": [
    "df[\"Linfociti\"]=df[\"Linfociti\"].astype(float)"
   ]
  },
  {
   "cell_type": "markdown",
   "id": "bf2cc9b7",
   "metadata": {
    "papermill": {
     "duration": 0.029487,
     "end_time": "2022-07-22T09:53:10.768948",
     "exception": false,
     "start_time": "2022-07-22T09:53:10.739461",
     "status": "completed"
    },
    "tags": []
   },
   "source": [
    "# **1. Dealing with Outliers**"
   ]
  },
  {
   "cell_type": "markdown",
   "id": "257987e4",
   "metadata": {
    "papermill": {
     "duration": 0.028965,
     "end_time": "2022-07-22T09:53:10.828040",
     "exception": false,
     "start_time": "2022-07-22T09:53:10.799075",
     "status": "completed"
    },
    "tags": []
   },
   "source": [
    "**Definition:**\n",
    "\n",
    "**In Statistics, an outlier is a data point that differs significantly from other observations (Grubbs, 1969; Maddala, 1992).**\n",
    "\n",
    "**An outlier may be due to variability in the measurement or it may indicate experimental error, the latter are sometimes excluded from the data set (Grubbs, 1969).**\n",
    "\n",
    "**Anoutlier can couse serious problem in statistical analysis.**\n",
    "\n",
    "* [Wikipedia Article](http://en.wikipedia.org/wiki/Outlier)\n"
   ]
  },
  {
   "cell_type": "code",
   "execution_count": 11,
   "id": "43f134ad",
   "metadata": {
    "execution": {
     "iopub.execute_input": "2022-07-22T09:53:10.889597Z",
     "iopub.status.busy": "2022-07-22T09:53:10.889225Z",
     "iopub.status.idle": "2022-07-22T09:53:10.912165Z",
     "shell.execute_reply": "2022-07-22T09:53:10.911346Z"
    },
    "papermill": {
     "duration": 0.056863,
     "end_time": "2022-07-22T09:53:10.914371",
     "exception": false,
     "start_time": "2022-07-22T09:53:10.857508",
     "status": "completed"
    },
    "tags": []
   },
   "outputs": [
    {
     "data": {
      "text/html": [
       "<div>\n",
       "<style scoped>\n",
       "    .dataframe tbody tr th:only-of-type {\n",
       "        vertical-align: middle;\n",
       "    }\n",
       "\n",
       "    .dataframe tbody tr th {\n",
       "        vertical-align: top;\n",
       "    }\n",
       "\n",
       "    .dataframe thead th {\n",
       "        text-align: right;\n",
       "    }\n",
       "</style>\n",
       "<table border=\"1\" class=\"dataframe\">\n",
       "  <thead>\n",
       "    <tr style=\"text-align: right;\">\n",
       "      <th></th>\n",
       "      <th>AGE</th>\n",
       "      <th>WBC</th>\n",
       "      <th>Piastrine</th>\n",
       "      <th>Neutrofili</th>\n",
       "      <th>Linfociti</th>\n",
       "      <th>Monociti</th>\n",
       "      <th>Eosinofili</th>\n",
       "      <th>Basofili</th>\n",
       "      <th>PCR</th>\n",
       "      <th>AST</th>\n",
       "      <th>ALT</th>\n",
       "      <th>ALP</th>\n",
       "      <th>GGT</th>\n",
       "      <th>LDH</th>\n",
       "      <th>TARGET</th>\n",
       "    </tr>\n",
       "  </thead>\n",
       "  <tbody>\n",
       "    <tr>\n",
       "      <th>TARGET</th>\n",
       "      <td>0.096823</td>\n",
       "      <td>-0.032397</td>\n",
       "      <td>0.030131</td>\n",
       "      <td>0.019409</td>\n",
       "      <td>-0.279963</td>\n",
       "      <td>-0.193461</td>\n",
       "      <td>-0.09819</td>\n",
       "      <td>0.057408</td>\n",
       "      <td>0.302248</td>\n",
       "      <td>0.248244</td>\n",
       "      <td>0.223103</td>\n",
       "      <td>-0.09588</td>\n",
       "      <td>-0.013642</td>\n",
       "      <td>0.432503</td>\n",
       "      <td>1.0</td>\n",
       "    </tr>\n",
       "  </tbody>\n",
       "</table>\n",
       "</div>"
      ],
      "text/plain": [
       "             AGE       WBC  Piastrine  Neutrofili  Linfociti  Monociti  \\\n",
       "TARGET  0.096823 -0.032397   0.030131    0.019409  -0.279963 -0.193461   \n",
       "\n",
       "        Eosinofili  Basofili       PCR       AST       ALT      ALP       GGT  \\\n",
       "TARGET    -0.09819  0.057408  0.302248  0.248244  0.223103 -0.09588 -0.013642   \n",
       "\n",
       "             LDH  TARGET  \n",
       "TARGET  0.432503     1.0  "
      ]
     },
     "execution_count": 11,
     "metadata": {},
     "output_type": "execute_result"
    }
   ],
   "source": [
    "df_corr = df.corr().sort_values('TARGET', ascending=False).loc[['TARGET']]\n",
    "df_corr"
   ]
  },
  {
   "cell_type": "code",
   "execution_count": 12,
   "id": "68267955",
   "metadata": {
    "execution": {
     "iopub.execute_input": "2022-07-22T09:53:10.976801Z",
     "iopub.status.busy": "2022-07-22T09:53:10.976427Z",
     "iopub.status.idle": "2022-07-22T09:53:10.984967Z",
     "shell.execute_reply": "2022-07-22T09:53:10.983868Z"
    },
    "papermill": {
     "duration": 0.042256,
     "end_time": "2022-07-22T09:53:10.987073",
     "exception": false,
     "start_time": "2022-07-22T09:53:10.944817",
     "status": "completed"
    },
    "tags": []
   },
   "outputs": [
    {
     "data": {
      "text/plain": [
       "TARGET        1.000000\n",
       "LDH           0.432503\n",
       "PCR           0.302248\n",
       "AST           0.248244\n",
       "ALT           0.223103\n",
       "AGE           0.096823\n",
       "Basofili      0.057408\n",
       "Piastrine     0.030131\n",
       "Neutrofili    0.019409\n",
       "GGT          -0.013642\n",
       "WBC          -0.032397\n",
       "ALP          -0.095880\n",
       "Eosinofili   -0.098190\n",
       "Monociti     -0.193461\n",
       "Linfociti    -0.279963\n",
       "Name: TARGET, dtype: float64"
      ]
     },
     "execution_count": 12,
     "metadata": {},
     "output_type": "execute_result"
    }
   ],
   "source": [
    "df_corr.loc['TARGET'].sort_values(ascending=False)"
   ]
  },
  {
   "cell_type": "markdown",
   "id": "81ac6dd2",
   "metadata": {
    "papermill": {
     "duration": 0.029648,
     "end_time": "2022-07-22T09:53:11.046942",
     "exception": false,
     "start_time": "2022-07-22T09:53:11.017294",
     "status": "completed"
    },
    "tags": []
   },
   "source": [
    "### 🟣 **Remove the outliers**"
   ]
  },
  {
   "cell_type": "markdown",
   "id": "03f54221",
   "metadata": {
    "papermill": {
     "duration": 0.031036,
     "end_time": "2022-07-22T09:53:11.108648",
     "exception": false,
     "start_time": "2022-07-22T09:53:11.077612",
     "status": "completed"
    },
    "tags": []
   },
   "source": [
    "# Test"
   ]
  },
  {
   "cell_type": "code",
   "execution_count": 13,
   "id": "44390a44",
   "metadata": {
    "execution": {
     "iopub.execute_input": "2022-07-22T09:53:11.171436Z",
     "iopub.status.busy": "2022-07-22T09:53:11.170984Z",
     "iopub.status.idle": "2022-07-22T09:53:11.422239Z",
     "shell.execute_reply": "2022-07-22T09:53:11.421026Z"
    },
    "papermill": {
     "duration": 0.285351,
     "end_time": "2022-07-22T09:53:11.425185",
     "exception": false,
     "start_time": "2022-07-22T09:53:11.139834",
     "status": "completed"
    },
    "tags": []
   },
   "outputs": [
    {
     "data": {
      "text/plain": [
       "<Axes:xlabel='TARGET', ylabel='LDH'>"
      ]
     },
     "execution_count": 13,
     "metadata": {},
     "output_type": "execute_result"
    },
    {
     "data": {
      "image/png": "[encoded data removed]",
      "text/plain": [
       "<Figure size 576x432 with 1 Axes>"
      ]
     },
     "metadata": {
      "needs_background": "light"
     },
     "output_type": "display_data"
    }
   ],
   "source": [
    "fig = plt.figure( figsize=(8, 6))\n",
    "ax = fig.add_axes([0,0,1,1])\n",
    "sns.boxplot(ax=ax, data=df, x='TARGET', y='LDH')#,flierprops=dict(marker='o', markersize=6),fliersize=2)"
   ]
  },
  {
   "cell_type": "code",
   "execution_count": 14,
   "id": "44294048",
   "metadata": {
    "execution": {
     "iopub.execute_input": "2022-07-22T09:53:11.490371Z",
     "iopub.status.busy": "2022-07-22T09:53:11.489943Z",
     "iopub.status.idle": "2022-07-22T09:53:11.718580Z",
     "shell.execute_reply": "2022-07-22T09:53:11.717374Z"
    },
    "papermill": {
     "duration": 0.26412,
     "end_time": "2022-07-22T09:53:11.721117",
     "exception": false,
     "start_time": "2022-07-22T09:53:11.456997",
     "status": "completed"
    },
    "tags": []
   },
   "outputs": [
    {
     "data": {
      "text/plain": [
       "<matplotlib.lines.Line2D at 0x7f5162359c10>"
      ]
     },
     "execution_count": 14,
     "metadata": {},
     "output_type": "execute_result"
    },
    {
     "data": {
      "image/png": "[encoded data removed]",
      "text/plain": [
       "<Figure size 576x432 with 1 Axes>"
      ]
     },
     "metadata": {
      "needs_background": "light"
     },
     "output_type": "display_data"
    }
   ],
   "source": [
    "fig = plt.figure( figsize=(8, 6))\n",
    "ax = fig.add_axes([0,0,1,1])\n",
    "sns.boxplot(ax=ax, data=df, x='TARGET', y='LDH')#,flierprops=dict(marker='o', markersize=6),fliersize=2)\n",
    "\n",
    "ax.axhline(y=550,color='b')\n",
    "ax.axhline(y=650,color='orange')\n",
    "ax.axhline(y=1200,color='g')"
   ]
  },
  {
   "cell_type": "markdown",
   "id": "5e8ec88e",
   "metadata": {
    "papermill": {
     "duration": 0.031215,
     "end_time": "2022-07-22T09:53:11.784351",
     "exception": false,
     "start_time": "2022-07-22T09:53:11.753136",
     "status": "completed"
    },
    "tags": []
   },
   "source": [
    "# OUTLIERS Fun"
   ]
  },
  {
   "cell_type": "code",
   "execution_count": 15,
   "id": "4bfae379",
   "metadata": {
    "execution": {
     "iopub.execute_input": "2022-07-22T09:53:11.847925Z",
     "iopub.status.busy": "2022-07-22T09:53:11.847539Z",
     "iopub.status.idle": "2022-07-22T09:53:11.854874Z",
     "shell.execute_reply": "2022-07-22T09:53:11.853676Z"
    },
    "papermill": {
     "duration": 0.042649,
     "end_time": "2022-07-22T09:53:11.857557",
     "exception": false,
     "start_time": "2022-07-22T09:53:11.814908",
     "status": "completed"
    },
    "tags": []
   },
   "outputs": [],
   "source": [
    "def outliers(df,Target, feature, T):\n",
    "    #q1, q3, max, min, IQR, mide\n",
    "    #upperbound\n",
    "    \n",
    "    q1=df[df[Target]==T][feature].quantile(0.25)\n",
    "    q3 = df[df[Target]==T][feature].quantile(0.75)\n",
    "    \n",
    "    iqr = q3 - q1\n",
    "    \n",
    "    ub = (q3 +(1.5 * iqr))\n",
    "#     lb=(q1 - (1.5*iqr))\n",
    "    \n",
    "    return ub"
   ]
  },
  {
   "cell_type": "code",
   "execution_count": 16,
   "id": "ece873c5",
   "metadata": {
    "execution": {
     "iopub.execute_input": "2022-07-22T09:53:11.921845Z",
     "iopub.status.busy": "2022-07-22T09:53:11.921430Z",
     "iopub.status.idle": "2022-07-22T09:53:11.928143Z",
     "shell.execute_reply": "2022-07-22T09:53:11.926816Z"
    },
    "papermill": {
     "duration": 0.041711,
     "end_time": "2022-07-22T09:53:11.930737",
     "exception": false,
     "start_time": "2022-07-22T09:53:11.889026",
     "status": "completed"
    },
    "tags": []
   },
   "outputs": [],
   "source": [
    "def upperbound(df,Target, feature):\n",
    "    ubs=[]\n",
    "    for T in range(len(df[feature].unique())):\n",
    "        ubs.append(outliers(df,Target,feature,T))\n",
    "    return ubs"
   ]
  },
  {
   "cell_type": "code",
   "execution_count": 17,
   "id": "ef93570b",
   "metadata": {
    "execution": {
     "iopub.execute_input": "2022-07-22T09:53:11.996254Z",
     "iopub.status.busy": "2022-07-22T09:53:11.995833Z",
     "iopub.status.idle": "2022-07-22T09:53:12.003960Z",
     "shell.execute_reply": "2022-07-22T09:53:12.002913Z"
    },
    "papermill": {
     "duration": 0.043292,
     "end_time": "2022-07-22T09:53:12.006234",
     "exception": false,
     "start_time": "2022-07-22T09:53:11.962942",
     "status": "completed"
    },
    "tags": []
   },
   "outputs": [],
   "source": [
    "def boxplot(df,Target, feature):\n",
    "    fig = plt.figure( figsize=(8, 6))\n",
    "    ax = fig.add_axes([0,0,1,1])\n",
    "    sns.boxplot(ax=ax, data=df, x=Target, y=feature,flierprops=dict(marker='o', markersize=6),fliersize=2)\n",
    "    \n",
    "    y = upperbound(df,Target, feature)\n",
    "\n",
    "    ax.axhline(y[0],color='b')\n",
    "    ax.axhline(y[1],color='orange')\n",
    "    ax.axhline(y[2],color='g')"
   ]
  },
  {
   "cell_type": "code",
   "execution_count": 18,
   "id": "02de9a43",
   "metadata": {
    "execution": {
     "iopub.execute_input": "2022-07-22T09:53:12.070840Z",
     "iopub.status.busy": "2022-07-22T09:53:12.070043Z",
     "iopub.status.idle": "2022-07-22T09:53:12.077651Z",
     "shell.execute_reply": "2022-07-22T09:53:12.076303Z"
    },
    "papermill": {
     "duration": 0.042381,
     "end_time": "2022-07-22T09:53:12.080275",
     "exception": false,
     "start_time": "2022-07-22T09:53:12.037894",
     "status": "completed"
    },
    "tags": []
   },
   "outputs": [],
   "source": [
    "def drop_outliers(df,Target, feature):\n",
    "    ubs=[]\n",
    "    ubs=upperbound(df,Target, feature)\n",
    "    \n",
    "    for T in range(len(df[feature].unique())):\n",
    "        \n",
    "        df = df.drop(index= df[ df[Target] == T ][feature][df[feature] > ubs[T]].index, axis=0)\n",
    "    \n",
    "    return df"
   ]
  },
  {
   "cell_type": "markdown",
   "id": "67be9b54",
   "metadata": {
    "papermill": {
     "duration": 0.031091,
     "end_time": "2022-07-22T09:53:12.142576",
     "exception": false,
     "start_time": "2022-07-22T09:53:12.111485",
     "status": "completed"
    },
    "tags": []
   },
   "source": [
    "# LDH"
   ]
  },
  {
   "cell_type": "code",
   "execution_count": 19,
   "id": "351d8f3b",
   "metadata": {
    "execution": {
     "iopub.execute_input": "2022-07-22T09:53:12.207329Z",
     "iopub.status.busy": "2022-07-22T09:53:12.206895Z",
     "iopub.status.idle": "2022-07-22T09:53:12.720268Z",
     "shell.execute_reply": "2022-07-22T09:53:12.719126Z"
    },
    "papermill": {
     "duration": 0.549097,
     "end_time": "2022-07-22T09:53:12.722830",
     "exception": false,
     "start_time": "2022-07-22T09:53:12.173733",
     "status": "completed"
    },
    "tags": []
   },
   "outputs": [
    {
     "data": {
      "image/png": "[encoded data removed]",
      "text/plain": [
       "<Figure size 576x432 with 1 Axes>"
      ]
     },
     "metadata": {
      "needs_background": "light"
     },
     "output_type": "display_data"
    }
   ],
   "source": [
    "boxplot(df,'TARGET', 'LDH')"
   ]
  },
  {
   "cell_type": "code",
   "execution_count": 20,
   "id": "eec89a2d",
   "metadata": {
    "execution": {
     "iopub.execute_input": "2022-07-22T09:53:12.787990Z",
     "iopub.status.busy": "2022-07-22T09:53:12.787583Z",
     "iopub.status.idle": "2022-07-22T09:53:13.334427Z",
     "shell.execute_reply": "2022-07-22T09:53:13.333478Z"
    },
    "papermill": {
     "duration": 0.583581,
     "end_time": "2022-07-22T09:53:13.337288",
     "exception": false,
     "start_time": "2022-07-22T09:53:12.753707",
     "status": "completed"
    },
    "tags": []
   },
   "outputs": [],
   "source": [
    "df = drop_outliers(df,'TARGET', 'LDH')"
   ]
  },
  {
   "cell_type": "code",
   "execution_count": 21,
   "id": "861caeac",
   "metadata": {
    "execution": {
     "iopub.execute_input": "2022-07-22T09:53:13.402865Z",
     "iopub.status.busy": "2022-07-22T09:53:13.402481Z",
     "iopub.status.idle": "2022-07-22T09:53:13.885816Z",
     "shell.execute_reply": "2022-07-22T09:53:13.884647Z"
    },
    "papermill": {
     "duration": 0.519355,
     "end_time": "2022-07-22T09:53:13.888143",
     "exception": false,
     "start_time": "2022-07-22T09:53:13.368788",
     "status": "completed"
    },
    "tags": []
   },
   "outputs": [
    {
     "data": {
      "image/png": "[encoded data removed]",
      "text/plain": [
       "<Figure size 576x432 with 1 Axes>"
      ]
     },
     "metadata": {
      "needs_background": "light"
     },
     "output_type": "display_data"
    }
   ],
   "source": [
    "boxplot(df,'TARGET', 'LDH')"
   ]
  },
  {
   "cell_type": "markdown",
   "id": "ba4e260e",
   "metadata": {
    "papermill": {
     "duration": 0.033062,
     "end_time": "2022-07-22T09:53:13.953439",
     "exception": false,
     "start_time": "2022-07-22T09:53:13.920377",
     "status": "completed"
    },
    "tags": []
   },
   "source": [
    "# PCR"
   ]
  },
  {
   "cell_type": "code",
   "execution_count": 22,
   "id": "447a5ac3",
   "metadata": {
    "execution": {
     "iopub.execute_input": "2022-07-22T09:53:14.020190Z",
     "iopub.status.busy": "2022-07-22T09:53:14.019458Z",
     "iopub.status.idle": "2022-07-22T09:53:14.700125Z",
     "shell.execute_reply": "2022-07-22T09:53:14.699195Z"
    },
    "papermill": {
     "duration": 0.716865,
     "end_time": "2022-07-22T09:53:14.703048",
     "exception": false,
     "start_time": "2022-07-22T09:53:13.986183",
     "status": "completed"
    },
    "tags": []
   },
   "outputs": [
    {
     "data": {
      "image/png": "[encoded data removed]",
      "text/plain": [
       "<Figure size 576x432 with 1 Axes>"
      ]
     },
     "metadata": {
      "needs_background": "light"
     },
     "output_type": "display_data"
    }
   ],
   "source": [
    "boxplot(df,'TARGET', 'PCR')"
   ]
  },
  {
   "cell_type": "code",
   "execution_count": 23,
   "id": "3403a13b",
   "metadata": {
    "execution": {
     "iopub.execute_input": "2022-07-22T09:53:14.772506Z",
     "iopub.status.busy": "2022-07-22T09:53:14.771632Z",
     "iopub.status.idle": "2022-07-22T09:53:15.623688Z",
     "shell.execute_reply": "2022-07-22T09:53:15.622549Z"
    },
    "papermill": {
     "duration": 0.889948,
     "end_time": "2022-07-22T09:53:15.626941",
     "exception": false,
     "start_time": "2022-07-22T09:53:14.736993",
     "status": "completed"
    },
    "tags": []
   },
   "outputs": [],
   "source": [
    "df=drop_outliers(df,'TARGET', 'PCR')"
   ]
  },
  {
   "cell_type": "code",
   "execution_count": 24,
   "id": "57e32b8c",
   "metadata": {
    "execution": {
     "iopub.execute_input": "2022-07-22T09:53:15.693957Z",
     "iopub.status.busy": "2022-07-22T09:53:15.693255Z",
     "iopub.status.idle": "2022-07-22T09:53:16.371091Z",
     "shell.execute_reply": "2022-07-22T09:53:16.369844Z"
    },
    "papermill": {
     "duration": 0.71459,
     "end_time": "2022-07-22T09:53:16.373778",
     "exception": false,
     "start_time": "2022-07-22T09:53:15.659188",
     "status": "completed"
    },
    "tags": []
   },
   "outputs": [
    {
     "data": {
      "image/png": "[encoded data removed]",
      "text/plain": [
       "<Figure size 576x432 with 1 Axes>"
      ]
     },
     "metadata": {
      "needs_background": "light"
     },
     "output_type": "display_data"
    }
   ],
   "source": [
    "boxplot(df,'TARGET', 'PCR')"
   ]
  },
  {
   "cell_type": "markdown",
   "id": "29718aff",
   "metadata": {
    "papermill": {
     "duration": 0.032741,
     "end_time": "2022-07-22T09:53:16.439904",
     "exception": false,
     "start_time": "2022-07-22T09:53:16.407163",
     "status": "completed"
    },
    "tags": []
   },
   "source": [
    "# AST"
   ]
  },
  {
   "cell_type": "code",
   "execution_count": 25,
   "id": "10971121",
   "metadata": {
    "execution": {
     "iopub.execute_input": "2022-07-22T09:53:16.505973Z",
     "iopub.status.busy": "2022-07-22T09:53:16.505561Z",
     "iopub.status.idle": "2022-07-22T09:53:16.911279Z",
     "shell.execute_reply": "2022-07-22T09:53:16.910123Z"
    },
    "papermill": {
     "duration": 0.441979,
     "end_time": "2022-07-22T09:53:16.914129",
     "exception": false,
     "start_time": "2022-07-22T09:53:16.472150",
     "status": "completed"
    },
    "tags": []
   },
   "outputs": [
    {
     "data": {
      "image/png": "[encoded data removed]",
      "text/plain": [
       "<Figure size 576x432 with 1 Axes>"
      ]
     },
     "metadata": {
      "needs_background": "light"
     },
     "output_type": "display_data"
    }
   ],
   "source": [
    "boxplot(df,'TARGET', 'AST')"
   ]
  },
  {
   "cell_type": "code",
   "execution_count": 26,
   "id": "43118481",
   "metadata": {
    "execution": {
     "iopub.execute_input": "2022-07-22T09:53:16.982170Z",
     "iopub.status.busy": "2022-07-22T09:53:16.981724Z",
     "iopub.status.idle": "2022-07-22T09:53:17.333382Z",
     "shell.execute_reply": "2022-07-22T09:53:17.332528Z"
    },
    "papermill": {
     "duration": 0.387921,
     "end_time": "2022-07-22T09:53:17.335939",
     "exception": false,
     "start_time": "2022-07-22T09:53:16.948018",
     "status": "completed"
    },
    "tags": []
   },
   "outputs": [],
   "source": [
    "df=drop_outliers(df,'TARGET', 'AST')"
   ]
  },
  {
   "cell_type": "code",
   "execution_count": 27,
   "id": "9537e0d6",
   "metadata": {
    "execution": {
     "iopub.execute_input": "2022-07-22T09:53:17.402327Z",
     "iopub.status.busy": "2022-07-22T09:53:17.401692Z",
     "iopub.status.idle": "2022-07-22T09:53:17.734966Z",
     "shell.execute_reply": "2022-07-22T09:53:17.733364Z"
    },
    "papermill": {
     "duration": 0.371609,
     "end_time": "2022-07-22T09:53:17.739543",
     "exception": false,
     "start_time": "2022-07-22T09:53:17.367934",
     "status": "completed"
    },
    "tags": []
   },
   "outputs": [
    {
     "data": {
      "image/png": "[encoded data removed]",
      "text/plain": [
       "<Figure size 576x432 with 1 Axes>"
      ]
     },
     "metadata": {
      "needs_background": "light"
     },
     "output_type": "display_data"
    }
   ],
   "source": [
    "boxplot(df,'TARGET', 'AST')"
   ]
  },
  {
   "cell_type": "markdown",
   "id": "12d73e8c",
   "metadata": {
    "papermill": {
     "duration": 0.031957,
     "end_time": "2022-07-22T09:53:17.804629",
     "exception": false,
     "start_time": "2022-07-22T09:53:17.772672",
     "status": "completed"
    },
    "tags": []
   },
   "source": [
    "# ALT"
   ]
  },
  {
   "cell_type": "code",
   "execution_count": 28,
   "id": "bffa89e5",
   "metadata": {
    "execution": {
     "iopub.execute_input": "2022-07-22T09:53:17.873236Z",
     "iopub.status.busy": "2022-07-22T09:53:17.872824Z",
     "iopub.status.idle": "2022-07-22T09:53:18.230562Z",
     "shell.execute_reply": "2022-07-22T09:53:18.229332Z"
    },
    "papermill": {
     "duration": 0.39444,
     "end_time": "2022-07-22T09:53:18.233546",
     "exception": false,
     "start_time": "2022-07-22T09:53:17.839106",
     "status": "completed"
    },
    "tags": []
   },
   "outputs": [
    {
     "data": {
      "image/png": "[encoded data removed]",
      "text/plain": [
       "<Figure size 576x432 with 1 Axes>"
      ]
     },
     "metadata": {
      "needs_background": "light"
     },
     "output_type": "display_data"
    }
   ],
   "source": [
    "boxplot(df,'TARGET', 'ALT')"
   ]
  },
  {
   "cell_type": "code",
   "execution_count": 29,
   "id": "c80b2f99",
   "metadata": {
    "execution": {
     "iopub.execute_input": "2022-07-22T09:53:18.300906Z",
     "iopub.status.busy": "2022-07-22T09:53:18.300169Z",
     "iopub.status.idle": "2022-07-22T09:53:18.552423Z",
     "shell.execute_reply": "2022-07-22T09:53:18.551282Z"
    },
    "papermill": {
     "duration": 0.288934,
     "end_time": "2022-07-22T09:53:18.555063",
     "exception": false,
     "start_time": "2022-07-22T09:53:18.266129",
     "status": "completed"
    },
    "tags": []
   },
   "outputs": [],
   "source": [
    "df=drop_outliers(df,'TARGET', 'ALT')"
   ]
  },
  {
   "cell_type": "code",
   "execution_count": 30,
   "id": "8ae136ca",
   "metadata": {
    "execution": {
     "iopub.execute_input": "2022-07-22T09:53:18.623070Z",
     "iopub.status.busy": "2022-07-22T09:53:18.622665Z",
     "iopub.status.idle": "2022-07-22T09:53:18.953121Z",
     "shell.execute_reply": "2022-07-22T09:53:18.951739Z"
    },
    "papermill": {
     "duration": 0.367309,
     "end_time": "2022-07-22T09:53:18.955804",
     "exception": false,
     "start_time": "2022-07-22T09:53:18.588495",
     "status": "completed"
    },
    "tags": []
   },
   "outputs": [
    {
     "data": {
      "image/png": "[encoded data removed]",
      "text/plain": [
       "<Figure size 576x432 with 1 Axes>"
      ]
     },
     "metadata": {
      "needs_background": "light"
     },
     "output_type": "display_data"
    }
   ],
   "source": [
    "boxplot(df,'TARGET', 'ALT')"
   ]
  },
  {
   "cell_type": "markdown",
   "id": "f7fca7bb",
   "metadata": {
    "papermill": {
     "duration": 0.033023,
     "end_time": "2022-07-22T09:53:19.021965",
     "exception": false,
     "start_time": "2022-07-22T09:53:18.988942",
     "status": "completed"
    },
    "tags": []
   },
   "source": [
    "# Linfociti"
   ]
  },
  {
   "cell_type": "code",
   "execution_count": 31,
   "id": "a1bc2bb1",
   "metadata": {
    "execution": {
     "iopub.execute_input": "2022-07-22T09:53:19.092009Z",
     "iopub.status.busy": "2022-07-22T09:53:19.091336Z",
     "iopub.status.idle": "2022-07-22T09:53:19.365658Z",
     "shell.execute_reply": "2022-07-22T09:53:19.364484Z"
    },
    "papermill": {
     "duration": 0.312935,
     "end_time": "2022-07-22T09:53:19.368818",
     "exception": false,
     "start_time": "2022-07-22T09:53:19.055883",
     "status": "completed"
    },
    "tags": []
   },
   "outputs": [
    {
     "data": {
      "image/png": "[encoded data removed]",
      "text/plain": [
       "<Figure size 576x432 with 1 Axes>"
      ]
     },
     "metadata": {
      "needs_background": "light"
     },
     "output_type": "display_data"
    }
   ],
   "source": [
    "boxplot(df,'TARGET', 'Linfociti')"
   ]
  },
  {
   "cell_type": "code",
   "execution_count": 32,
   "id": "c502b02e",
   "metadata": {
    "execution": {
     "iopub.execute_input": "2022-07-22T09:53:19.438910Z",
     "iopub.status.busy": "2022-07-22T09:53:19.438166Z",
     "iopub.status.idle": "2022-07-22T09:53:19.559899Z",
     "shell.execute_reply": "2022-07-22T09:53:19.558530Z"
    },
    "papermill": {
     "duration": 0.159786,
     "end_time": "2022-07-22T09:53:19.562733",
     "exception": false,
     "start_time": "2022-07-22T09:53:19.402947",
     "status": "completed"
    },
    "tags": []
   },
   "outputs": [],
   "source": [
    "df=drop_outliers(df,'TARGET', 'Linfociti')"
   ]
  },
  {
   "cell_type": "code",
   "execution_count": 33,
   "id": "e659334b",
   "metadata": {
    "execution": {
     "iopub.execute_input": "2022-07-22T09:53:19.631137Z",
     "iopub.status.busy": "2022-07-22T09:53:19.630709Z",
     "iopub.status.idle": "2022-07-22T09:53:19.922312Z",
     "shell.execute_reply": "2022-07-22T09:53:19.920340Z"
    },
    "papermill": {
     "duration": 0.330401,
     "end_time": "2022-07-22T09:53:19.926306",
     "exception": false,
     "start_time": "2022-07-22T09:53:19.595905",
     "status": "completed"
    },
    "tags": []
   },
   "outputs": [
    {
     "data": {
      "image/png": "[encoded data removed]",
      "text/plain": [
       "<Figure size 576x432 with 1 Axes>"
      ]
     },
     "metadata": {
      "needs_background": "light"
     },
     "output_type": "display_data"
    }
   ],
   "source": [
    "boxplot(df,'TARGET', 'Linfociti')"
   ]
  },
  {
   "cell_type": "code",
   "execution_count": 34,
   "id": "68c50b54",
   "metadata": {
    "execution": {
     "iopub.execute_input": "2022-07-22T09:53:19.996774Z",
     "iopub.status.busy": "2022-07-22T09:53:19.996373Z",
     "iopub.status.idle": "2022-07-22T09:53:20.003432Z",
     "shell.execute_reply": "2022-07-22T09:53:20.002278Z"
    },
    "papermill": {
     "duration": 0.044931,
     "end_time": "2022-07-22T09:53:20.005779",
     "exception": false,
     "start_time": "2022-07-22T09:53:19.960848",
     "status": "completed"
    },
    "tags": []
   },
   "outputs": [
    {
     "data": {
      "text/plain": [
       "(210, 16)"
      ]
     },
     "execution_count": 34,
     "metadata": {},
     "output_type": "execute_result"
    }
   ],
   "source": [
    "df.shape"
   ]
  },
  {
   "cell_type": "markdown",
   "id": "86e91aa5",
   "metadata": {
    "papermill": {
     "duration": 0.033287,
     "end_time": "2022-07-22T09:53:20.075571",
     "exception": false,
     "start_time": "2022-07-22T09:53:20.042284",
     "status": "completed"
    },
    "tags": []
   },
   "source": [
    "# **2. Dealing with Missing Data**"
   ]
  },
  {
   "cell_type": "markdown",
   "id": "6582073f",
   "metadata": {
    "papermill": {
     "duration": 0.034226,
     "end_time": "2022-07-22T09:53:20.143928",
     "exception": false,
     "start_time": "2022-07-22T09:53:20.109702",
     "status": "completed"
    },
    "tags": []
   },
   "source": [
    "**In statistics, missing data, or missing values, occur when no data value is stored for the variable in an observation. missing data are a common occurrence and can have a significant effect on the conclusions that can be drawn from the data.**\n",
    "\n",
    "[Wikipedia Article](http://en.wikipedia.org/wiki/Missing_data)\n"
   ]
  },
  {
   "cell_type": "markdown",
   "id": "1d64c2b7",
   "metadata": {
    "papermill": {
     "duration": 0.034193,
     "end_time": "2022-07-22T09:53:20.212452",
     "exception": false,
     "start_time": "2022-07-22T09:53:20.178259",
     "status": "completed"
    },
    "tags": []
   },
   "source": [
    "### 🟣 **Fill/Keep/Drop?**"
   ]
  },
  {
   "cell_type": "code",
   "execution_count": 35,
   "id": "fb0cf557",
   "metadata": {
    "execution": {
     "iopub.execute_input": "2022-07-22T09:53:20.283103Z",
     "iopub.status.busy": "2022-07-22T09:53:20.282695Z",
     "iopub.status.idle": "2022-07-22T09:53:20.308319Z",
     "shell.execute_reply": "2022-07-22T09:53:20.307146Z"
    },
    "papermill": {
     "duration": 0.063915,
     "end_time": "2022-07-22T09:53:20.310593",
     "exception": false,
     "start_time": "2022-07-22T09:53:20.246678",
     "status": "completed"
    },
    "tags": []
   },
   "outputs": [
    {
     "data": {
      "text/html": [
       "<div>\n",
       "<style scoped>\n",
       "    .dataframe tbody tr th:only-of-type {\n",
       "        vertical-align: middle;\n",
       "    }\n",
       "\n",
       "    .dataframe tbody tr th {\n",
       "        vertical-align: top;\n",
       "    }\n",
       "\n",
       "    .dataframe thead th {\n",
       "        text-align: right;\n",
       "    }\n",
       "</style>\n",
       "<table border=\"1\" class=\"dataframe\">\n",
       "  <thead>\n",
       "    <tr style=\"text-align: right;\">\n",
       "      <th></th>\n",
       "      <th>SESSO</th>\n",
       "      <th>AGE</th>\n",
       "      <th>WBC</th>\n",
       "      <th>Piastrine</th>\n",
       "      <th>Neutrofili</th>\n",
       "      <th>Linfociti</th>\n",
       "      <th>Monociti</th>\n",
       "      <th>Eosinofili</th>\n",
       "      <th>Basofili</th>\n",
       "      <th>PCR</th>\n",
       "      <th>AST</th>\n",
       "      <th>ALT</th>\n",
       "      <th>ALP</th>\n",
       "      <th>GGT</th>\n",
       "      <th>LDH</th>\n",
       "      <th>TARGET</th>\n",
       "    </tr>\n",
       "  </thead>\n",
       "  <tbody>\n",
       "    <tr>\n",
       "      <th>0</th>\n",
       "      <td>M</td>\n",
       "      <td>56</td>\n",
       "      <td>2.9</td>\n",
       "      <td>128.0</td>\n",
       "      <td>1.9</td>\n",
       "      <td>0.8</td>\n",
       "      <td>0.2</td>\n",
       "      <td>0.0</td>\n",
       "      <td>0.0</td>\n",
       "      <td>29.0</td>\n",
       "      <td>36.0</td>\n",
       "      <td>18.0</td>\n",
       "      <td>43.0</td>\n",
       "      <td>21.0</td>\n",
       "      <td>257.0</td>\n",
       "      <td>2</td>\n",
       "    </tr>\n",
       "    <tr>\n",
       "      <th>1</th>\n",
       "      <td>M</td>\n",
       "      <td>56</td>\n",
       "      <td>3.5</td>\n",
       "      <td>151.0</td>\n",
       "      <td>2.1</td>\n",
       "      <td>0.9</td>\n",
       "      <td>0.4</td>\n",
       "      <td>0.0</td>\n",
       "      <td>0.0</td>\n",
       "      <td>16.5</td>\n",
       "      <td>25.0</td>\n",
       "      <td>14.0</td>\n",
       "      <td>50.0</td>\n",
       "      <td>17.0</td>\n",
       "      <td>207.0</td>\n",
       "      <td>2</td>\n",
       "    </tr>\n",
       "    <tr>\n",
       "      <th>2</th>\n",
       "      <td>M</td>\n",
       "      <td>72</td>\n",
       "      <td>4.6</td>\n",
       "      <td>206.0</td>\n",
       "      <td>NaN</td>\n",
       "      <td>NaN</td>\n",
       "      <td>NaN</td>\n",
       "      <td>NaN</td>\n",
       "      <td>NaN</td>\n",
       "      <td>193.7</td>\n",
       "      <td>31.0</td>\n",
       "      <td>22.0</td>\n",
       "      <td>NaN</td>\n",
       "      <td>NaN</td>\n",
       "      <td>NaN</td>\n",
       "      <td>2</td>\n",
       "    </tr>\n",
       "    <tr>\n",
       "      <th>3</th>\n",
       "      <td>M</td>\n",
       "      <td>72</td>\n",
       "      <td>16.5</td>\n",
       "      <td>316.0</td>\n",
       "      <td>14.0</td>\n",
       "      <td>1.2</td>\n",
       "      <td>0.3</td>\n",
       "      <td>0.0</td>\n",
       "      <td>0.0</td>\n",
       "      <td>318.7</td>\n",
       "      <td>96.0</td>\n",
       "      <td>33.0</td>\n",
       "      <td>80.0</td>\n",
       "      <td>42.0</td>\n",
       "      <td>651.0</td>\n",
       "      <td>2</td>\n",
       "    </tr>\n",
       "    <tr>\n",
       "      <th>4</th>\n",
       "      <td>M</td>\n",
       "      <td>77</td>\n",
       "      <td>4.9</td>\n",
       "      <td>198.0</td>\n",
       "      <td>NaN</td>\n",
       "      <td>NaN</td>\n",
       "      <td>NaN</td>\n",
       "      <td>NaN</td>\n",
       "      <td>NaN</td>\n",
       "      <td>NaN</td>\n",
       "      <td>NaN</td>\n",
       "      <td>NaN</td>\n",
       "      <td>NaN</td>\n",
       "      <td>NaN</td>\n",
       "      <td>NaN</td>\n",
       "      <td>2</td>\n",
       "    </tr>\n",
       "  </tbody>\n",
       "</table>\n",
       "</div>"
      ],
      "text/plain": [
       "  SESSO  AGE   WBC  Piastrine  Neutrofili  Linfociti  Monociti  Eosinofili  \\\n",
       "0     M   56   2.9      128.0         1.9        0.8       0.2         0.0   \n",
       "1     M   56   3.5      151.0         2.1        0.9       0.4         0.0   \n",
       "2     M   72   4.6      206.0         NaN        NaN       NaN         NaN   \n",
       "3     M   72  16.5      316.0        14.0        1.2       0.3         0.0   \n",
       "4     M   77   4.9      198.0         NaN        NaN       NaN         NaN   \n",
       "\n",
       "   Basofili    PCR   AST   ALT   ALP   GGT    LDH  TARGET  \n",
       "0       0.0   29.0  36.0  18.0  43.0  21.0  257.0       2  \n",
       "1       0.0   16.5  25.0  14.0  50.0  17.0  207.0       2  \n",
       "2       NaN  193.7  31.0  22.0   NaN   NaN    NaN       2  \n",
       "3       0.0  318.7  96.0  33.0  80.0  42.0  651.0       2  \n",
       "4       NaN    NaN   NaN   NaN   NaN   NaN    NaN       2  "
      ]
     },
     "execution_count": 35,
     "metadata": {},
     "output_type": "execute_result"
    }
   ],
   "source": [
    "df.head()"
   ]
  },
  {
   "cell_type": "markdown",
   "id": "8e60009c",
   "metadata": {
    "papermill": {
     "duration": 0.033987,
     "end_time": "2022-07-22T09:53:20.380111",
     "exception": false,
     "start_time": "2022-07-22T09:53:20.346124",
     "status": "completed"
    },
    "tags": []
   },
   "source": [
    "## **A. How Much Data is Missing?**"
   ]
  },
  {
   "cell_type": "code",
   "execution_count": 36,
   "id": "b458bff9",
   "metadata": {
    "execution": {
     "iopub.execute_input": "2022-07-22T09:53:20.452183Z",
     "iopub.status.busy": "2022-07-22T09:53:20.451783Z",
     "iopub.status.idle": "2022-07-22T09:53:20.462419Z",
     "shell.execute_reply": "2022-07-22T09:53:20.461027Z"
    },
    "papermill": {
     "duration": 0.050637,
     "end_time": "2022-07-22T09:53:20.464863",
     "exception": false,
     "start_time": "2022-07-22T09:53:20.414226",
     "status": "completed"
    },
    "tags": []
   },
   "outputs": [
    {
     "data": {
      "text/plain": [
       "SESSO           0\n",
       "AGE             0\n",
       "WBC             2\n",
       "Piastrine       2\n",
       "Neutrofili     59\n",
       "Linfociti      59\n",
       "Monociti       59\n",
       "Eosinofili     58\n",
       "Basofili       59\n",
       "PCR             6\n",
       "AST             2\n",
       "ALT             9\n",
       "ALP           115\n",
       "GGT           110\n",
       "LDH            68\n",
       "TARGET          0\n",
       "dtype: int64"
      ]
     },
     "execution_count": 36,
     "metadata": {},
     "output_type": "execute_result"
    }
   ],
   "source": [
    "df.isnull().sum()"
   ]
  },
  {
   "cell_type": "markdown",
   "id": "4bd990a8",
   "metadata": {
    "papermill": {
     "duration": 0.036197,
     "end_time": "2022-07-22T09:53:20.535419",
     "exception": false,
     "start_time": "2022-07-22T09:53:20.499222",
     "status": "completed"
    },
    "tags": []
   },
   "source": [
    "### **🟣 Make a Function to calculate the percent of missing data in each columns (feature) and then sort it**"
   ]
  },
  {
   "cell_type": "code",
   "execution_count": 37,
   "id": "239d65fe",
   "metadata": {
    "execution": {
     "iopub.execute_input": "2022-07-22T09:53:20.606593Z",
     "iopub.status.busy": "2022-07-22T09:53:20.606199Z",
     "iopub.status.idle": "2022-07-22T09:53:20.611469Z",
     "shell.execute_reply": "2022-07-22T09:53:20.610549Z"
    },
    "papermill": {
     "duration": 0.044204,
     "end_time": "2022-07-22T09:53:20.613616",
     "exception": false,
     "start_time": "2022-07-22T09:53:20.569412",
     "status": "completed"
    },
    "tags": []
   },
   "outputs": [],
   "source": [
    "def missing_percent(df):\n",
    "    nan_percent= 100*(df.isnull().sum()/len(df))\n",
    "    nan_percent= nan_percent[nan_percent>0].sort_values()\n",
    "    return nan_percent"
   ]
  },
  {
   "cell_type": "code",
   "execution_count": 38,
   "id": "f1dde051",
   "metadata": {
    "execution": {
     "iopub.execute_input": "2022-07-22T09:53:20.688490Z",
     "iopub.status.busy": "2022-07-22T09:53:20.687758Z",
     "iopub.status.idle": "2022-07-22T09:53:20.695274Z",
     "shell.execute_reply": "2022-07-22T09:53:20.694169Z"
    },
    "papermill": {
     "duration": 0.048039,
     "end_time": "2022-07-22T09:53:20.698583",
     "exception": false,
     "start_time": "2022-07-22T09:53:20.650544",
     "status": "completed"
    },
    "tags": []
   },
   "outputs": [],
   "source": [
    "nan_percent= missing_percent(df)"
   ]
  },
  {
   "cell_type": "code",
   "execution_count": 39,
   "id": "224d9985",
   "metadata": {
    "execution": {
     "iopub.execute_input": "2022-07-22T09:53:20.771787Z",
     "iopub.status.busy": "2022-07-22T09:53:20.771406Z",
     "iopub.status.idle": "2022-07-22T09:53:20.779381Z",
     "shell.execute_reply": "2022-07-22T09:53:20.778160Z"
    },
    "papermill": {
     "duration": 0.047109,
     "end_time": "2022-07-22T09:53:20.781757",
     "exception": false,
     "start_time": "2022-07-22T09:53:20.734648",
     "status": "completed"
    },
    "tags": []
   },
   "outputs": [
    {
     "data": {
      "text/plain": [
       "WBC            0.952381\n",
       "Piastrine      0.952381\n",
       "AST            0.952381\n",
       "PCR            2.857143\n",
       "ALT            4.285714\n",
       "Eosinofili    27.619048\n",
       "Neutrofili    28.095238\n",
       "Linfociti     28.095238\n",
       "Monociti      28.095238\n",
       "Basofili      28.095238\n",
       "LDH           32.380952\n",
       "GGT           52.380952\n",
       "ALP           54.761905\n",
       "dtype: float64"
      ]
     },
     "execution_count": 39,
     "metadata": {},
     "output_type": "execute_result"
    }
   ],
   "source": [
    "nan_percent"
   ]
  },
  {
   "cell_type": "markdown",
   "id": "f604113d",
   "metadata": {
    "papermill": {
     "duration": 0.035911,
     "end_time": "2022-07-22T09:53:20.851784",
     "exception": false,
     "start_time": "2022-07-22T09:53:20.815873",
     "status": "completed"
    },
    "tags": []
   },
   "source": [
    "### **🟣 Plot the feature with missing indicating the percent of missing data:**"
   ]
  },
  {
   "cell_type": "code",
   "execution_count": 40,
   "id": "9c4a7a0a",
   "metadata": {
    "execution": {
     "iopub.execute_input": "2022-07-22T09:53:20.924501Z",
     "iopub.status.busy": "2022-07-22T09:53:20.924109Z",
     "iopub.status.idle": "2022-07-22T09:53:20.930247Z",
     "shell.execute_reply": "2022-07-22T09:53:20.929046Z"
    },
    "papermill": {
     "duration": 0.046259,
     "end_time": "2022-07-22T09:53:20.933860",
     "exception": false,
     "start_time": "2022-07-22T09:53:20.887601",
     "status": "completed"
    },
    "tags": []
   },
   "outputs": [],
   "source": [
    "def plot(df):\n",
    "    nan_percent= missing_percent(df)\n",
    "    plt.figure(figsize=(12,6))\n",
    "    sns.barplot(x=nan_percent.index, y=nan_percent)\n",
    "    plt.xticks(rotation=90)"
   ]
  },
  {
   "cell_type": "code",
   "execution_count": 41,
   "id": "a0bd854f",
   "metadata": {
    "execution": {
     "iopub.execute_input": "2022-07-22T09:53:21.005687Z",
     "iopub.status.busy": "2022-07-22T09:53:21.005319Z",
     "iopub.status.idle": "2022-07-22T09:53:21.273394Z",
     "shell.execute_reply": "2022-07-22T09:53:21.272055Z"
    },
    "papermill": {
     "duration": 0.307095,
     "end_time": "2022-07-22T09:53:21.275964",
     "exception": false,
     "start_time": "2022-07-22T09:53:20.968869",
     "status": "completed"
    },
    "tags": []
   },
   "outputs": [
    {
     "data": {
      "image/png": "[encoded data removed]",
      "text/plain": [
       "<Figure size 864x432 with 1 Axes>"
      ]
     },
     "metadata": {
      "needs_background": "light"
     },
     "output_type": "display_data"
    }
   ],
   "source": [
    "plot(df)"
   ]
  },
  {
   "cell_type": "markdown",
   "id": "663992c4",
   "metadata": {
    "papermill": {
     "duration": 0.034697,
     "end_time": "2022-07-22T09:53:21.346333",
     "exception": false,
     "start_time": "2022-07-22T09:53:21.311636",
     "status": "completed"
    },
    "tags": []
   },
   "source": [
    "### **B. Working base on Rows Missing Data**"
   ]
  },
  {
   "cell_type": "markdown",
   "id": "96ef46b0",
   "metadata": {
    "papermill": {
     "duration": 0.034313,
     "end_time": "2022-07-22T09:53:21.415893",
     "exception": false,
     "start_time": "2022-07-22T09:53:21.381580",
     "status": "completed"
    },
    "tags": []
   },
   "source": [
    "**If only a few rows are missing some values, then it might just be a good idea to drop those rows.** \n",
    "\n",
    "**What does this cost you in terms of performace? It essentialy removes potential training/testing data, but if its only a few rows, its unlikely to change performance.**\n",
    "\n",
    "\n",
    "**Sometimes it is a good idea to remove a feature entirely if it has too many null values. However, you should carefully consider why it has so many null values, in certain situations null could just be used as a separate category.** \n",
    "\n",
    "(Take for example a feature column for the number of cars that can fit into a garage. Perhaps if there is no garage then there is a null value, instead of a zero. It probably makes more sense to quickly fill the null values in this case with a zero instead of a null. Only you can decide based off your domain expertise and knowledge of the data set!)"
   ]
  },
  {
   "cell_type": "markdown",
   "id": "94bf5749",
   "metadata": {
    "papermill": {
     "duration": 0.034305,
     "end_time": "2022-07-22T09:53:21.485000",
     "exception": false,
     "start_time": "2022-07-22T09:53:21.450695",
     "status": "completed"
    },
    "tags": []
   },
   "source": [
    "**every Feature with missing data must be checked!**\n",
    "\n",
    "**We choose a threshold of 1%. It means, if there is less than 1% of a feature are missing,then we will consider just dropping that rows**"
   ]
  },
  {
   "cell_type": "code",
   "execution_count": 42,
   "id": "f1e1069d",
   "metadata": {
    "execution": {
     "iopub.execute_input": "2022-07-22T09:53:21.557231Z",
     "iopub.status.busy": "2022-07-22T09:53:21.556831Z",
     "iopub.status.idle": "2022-07-22T09:53:21.563915Z",
     "shell.execute_reply": "2022-07-22T09:53:21.563241Z"
    },
    "papermill": {
     "duration": 0.045716,
     "end_time": "2022-07-22T09:53:21.566423",
     "exception": false,
     "start_time": "2022-07-22T09:53:21.520707",
     "status": "completed"
    },
    "tags": []
   },
   "outputs": [
    {
     "data": {
      "text/plain": [
       "WBC          0.952381\n",
       "Piastrine    0.952381\n",
       "AST          0.952381\n",
       "dtype: float64"
      ]
     },
     "execution_count": 42,
     "metadata": {},
     "output_type": "execute_result"
    }
   ],
   "source": [
    "nan_percent[nan_percent < 1]"
   ]
  },
  {
   "cell_type": "code",
   "execution_count": 43,
   "id": "d9b2e7a6",
   "metadata": {
    "execution": {
     "iopub.execute_input": "2022-07-22T09:53:21.640548Z",
     "iopub.status.busy": "2022-07-22T09:53:21.640187Z",
     "iopub.status.idle": "2022-07-22T09:53:21.658820Z",
     "shell.execute_reply": "2022-07-22T09:53:21.658032Z"
    },
    "papermill": {
     "duration": 0.057922,
     "end_time": "2022-07-22T09:53:21.660939",
     "exception": false,
     "start_time": "2022-07-22T09:53:21.603017",
     "status": "completed"
    },
    "tags": []
   },
   "outputs": [
    {
     "data": {
      "text/html": [
       "<div>\n",
       "<style scoped>\n",
       "    .dataframe tbody tr th:only-of-type {\n",
       "        vertical-align: middle;\n",
       "    }\n",
       "\n",
       "    .dataframe tbody tr th {\n",
       "        vertical-align: top;\n",
       "    }\n",
       "\n",
       "    .dataframe thead th {\n",
       "        text-align: right;\n",
       "    }\n",
       "</style>\n",
       "<table border=\"1\" class=\"dataframe\">\n",
       "  <thead>\n",
       "    <tr style=\"text-align: right;\">\n",
       "      <th></th>\n",
       "      <th>SESSO</th>\n",
       "      <th>AGE</th>\n",
       "      <th>WBC</th>\n",
       "      <th>Piastrine</th>\n",
       "      <th>Neutrofili</th>\n",
       "      <th>Linfociti</th>\n",
       "      <th>Monociti</th>\n",
       "      <th>Eosinofili</th>\n",
       "      <th>Basofili</th>\n",
       "      <th>PCR</th>\n",
       "      <th>AST</th>\n",
       "      <th>ALT</th>\n",
       "      <th>ALP</th>\n",
       "      <th>GGT</th>\n",
       "      <th>LDH</th>\n",
       "      <th>TARGET</th>\n",
       "    </tr>\n",
       "  </thead>\n",
       "  <tbody>\n",
       "    <tr>\n",
       "      <th>40</th>\n",
       "      <td>M</td>\n",
       "      <td>84</td>\n",
       "      <td>NaN</td>\n",
       "      <td>NaN</td>\n",
       "      <td>NaN</td>\n",
       "      <td>NaN</td>\n",
       "      <td>NaN</td>\n",
       "      <td>NaN</td>\n",
       "      <td>NaN</td>\n",
       "      <td>NaN</td>\n",
       "      <td>NaN</td>\n",
       "      <td>NaN</td>\n",
       "      <td>NaN</td>\n",
       "      <td>NaN</td>\n",
       "      <td>NaN</td>\n",
       "      <td>2</td>\n",
       "    </tr>\n",
       "    <tr>\n",
       "      <th>69</th>\n",
       "      <td>M</td>\n",
       "      <td>37</td>\n",
       "      <td>NaN</td>\n",
       "      <td>NaN</td>\n",
       "      <td>NaN</td>\n",
       "      <td>NaN</td>\n",
       "      <td>NaN</td>\n",
       "      <td>NaN</td>\n",
       "      <td>NaN</td>\n",
       "      <td>108.8</td>\n",
       "      <td>27.0</td>\n",
       "      <td>39.0</td>\n",
       "      <td>NaN</td>\n",
       "      <td>NaN</td>\n",
       "      <td>321.0</td>\n",
       "      <td>2</td>\n",
       "    </tr>\n",
       "  </tbody>\n",
       "</table>\n",
       "</div>"
      ],
      "text/plain": [
       "   SESSO  AGE  WBC  Piastrine  Neutrofili  Linfociti  Monociti  Eosinofili  \\\n",
       "40     M   84  NaN        NaN         NaN        NaN       NaN         NaN   \n",
       "69     M   37  NaN        NaN         NaN        NaN       NaN         NaN   \n",
       "\n",
       "    Basofili    PCR   AST   ALT  ALP  GGT    LDH  TARGET  \n",
       "40       NaN    NaN   NaN   NaN  NaN  NaN    NaN       2  \n",
       "69       NaN  108.8  27.0  39.0  NaN  NaN  321.0       2  "
      ]
     },
     "execution_count": 43,
     "metadata": {},
     "output_type": "execute_result"
    }
   ],
   "source": [
    "df[df['WBC'].isnull()]"
   ]
  },
  {
   "cell_type": "code",
   "execution_count": 44,
   "id": "b2690dee",
   "metadata": {
    "execution": {
     "iopub.execute_input": "2022-07-22T09:53:21.734429Z",
     "iopub.status.busy": "2022-07-22T09:53:21.733801Z",
     "iopub.status.idle": "2022-07-22T09:53:21.752533Z",
     "shell.execute_reply": "2022-07-22T09:53:21.751511Z"
    },
    "papermill": {
     "duration": 0.058465,
     "end_time": "2022-07-22T09:53:21.754747",
     "exception": false,
     "start_time": "2022-07-22T09:53:21.696282",
     "status": "completed"
    },
    "scrolled": true,
    "tags": []
   },
   "outputs": [
    {
     "data": {
      "text/html": [
       "<div>\n",
       "<style scoped>\n",
       "    .dataframe tbody tr th:only-of-type {\n",
       "        vertical-align: middle;\n",
       "    }\n",
       "\n",
       "    .dataframe tbody tr th {\n",
       "        vertical-align: top;\n",
       "    }\n",
       "\n",
       "    .dataframe thead th {\n",
       "        text-align: right;\n",
       "    }\n",
       "</style>\n",
       "<table border=\"1\" class=\"dataframe\">\n",
       "  <thead>\n",
       "    <tr style=\"text-align: right;\">\n",
       "      <th></th>\n",
       "      <th>SESSO</th>\n",
       "      <th>AGE</th>\n",
       "      <th>WBC</th>\n",
       "      <th>Piastrine</th>\n",
       "      <th>Neutrofili</th>\n",
       "      <th>Linfociti</th>\n",
       "      <th>Monociti</th>\n",
       "      <th>Eosinofili</th>\n",
       "      <th>Basofili</th>\n",
       "      <th>PCR</th>\n",
       "      <th>AST</th>\n",
       "      <th>ALT</th>\n",
       "      <th>ALP</th>\n",
       "      <th>GGT</th>\n",
       "      <th>LDH</th>\n",
       "      <th>TARGET</th>\n",
       "    </tr>\n",
       "  </thead>\n",
       "  <tbody>\n",
       "    <tr>\n",
       "      <th>40</th>\n",
       "      <td>M</td>\n",
       "      <td>84</td>\n",
       "      <td>NaN</td>\n",
       "      <td>NaN</td>\n",
       "      <td>NaN</td>\n",
       "      <td>NaN</td>\n",
       "      <td>NaN</td>\n",
       "      <td>NaN</td>\n",
       "      <td>NaN</td>\n",
       "      <td>NaN</td>\n",
       "      <td>NaN</td>\n",
       "      <td>NaN</td>\n",
       "      <td>NaN</td>\n",
       "      <td>NaN</td>\n",
       "      <td>NaN</td>\n",
       "      <td>2</td>\n",
       "    </tr>\n",
       "    <tr>\n",
       "      <th>69</th>\n",
       "      <td>M</td>\n",
       "      <td>37</td>\n",
       "      <td>NaN</td>\n",
       "      <td>NaN</td>\n",
       "      <td>NaN</td>\n",
       "      <td>NaN</td>\n",
       "      <td>NaN</td>\n",
       "      <td>NaN</td>\n",
       "      <td>NaN</td>\n",
       "      <td>108.8</td>\n",
       "      <td>27.0</td>\n",
       "      <td>39.0</td>\n",
       "      <td>NaN</td>\n",
       "      <td>NaN</td>\n",
       "      <td>321.0</td>\n",
       "      <td>2</td>\n",
       "    </tr>\n",
       "  </tbody>\n",
       "</table>\n",
       "</div>"
      ],
      "text/plain": [
       "   SESSO  AGE  WBC  Piastrine  Neutrofili  Linfociti  Monociti  Eosinofili  \\\n",
       "40     M   84  NaN        NaN         NaN        NaN       NaN         NaN   \n",
       "69     M   37  NaN        NaN         NaN        NaN       NaN         NaN   \n",
       "\n",
       "    Basofili    PCR   AST   ALT  ALP  GGT    LDH  TARGET  \n",
       "40       NaN    NaN   NaN   NaN  NaN  NaN    NaN       2  \n",
       "69       NaN  108.8  27.0  39.0  NaN  NaN  321.0       2  "
      ]
     },
     "execution_count": 44,
     "metadata": {},
     "output_type": "execute_result"
    }
   ],
   "source": [
    "df[df['Piastrine'].isnull()]"
   ]
  },
  {
   "cell_type": "code",
   "execution_count": 45,
   "id": "219bd822",
   "metadata": {
    "execution": {
     "iopub.execute_input": "2022-07-22T09:53:21.831551Z",
     "iopub.status.busy": "2022-07-22T09:53:21.830764Z",
     "iopub.status.idle": "2022-07-22T09:53:21.849360Z",
     "shell.execute_reply": "2022-07-22T09:53:21.848466Z"
    },
    "papermill": {
     "duration": 0.060989,
     "end_time": "2022-07-22T09:53:21.852331",
     "exception": false,
     "start_time": "2022-07-22T09:53:21.791342",
     "status": "completed"
    },
    "tags": []
   },
   "outputs": [
    {
     "data": {
      "text/html": [
       "<div>\n",
       "<style scoped>\n",
       "    .dataframe tbody tr th:only-of-type {\n",
       "        vertical-align: middle;\n",
       "    }\n",
       "\n",
       "    .dataframe tbody tr th {\n",
       "        vertical-align: top;\n",
       "    }\n",
       "\n",
       "    .dataframe thead th {\n",
       "        text-align: right;\n",
       "    }\n",
       "</style>\n",
       "<table border=\"1\" class=\"dataframe\">\n",
       "  <thead>\n",
       "    <tr style=\"text-align: right;\">\n",
       "      <th></th>\n",
       "      <th>SESSO</th>\n",
       "      <th>AGE</th>\n",
       "      <th>WBC</th>\n",
       "      <th>Piastrine</th>\n",
       "      <th>Neutrofili</th>\n",
       "      <th>Linfociti</th>\n",
       "      <th>Monociti</th>\n",
       "      <th>Eosinofili</th>\n",
       "      <th>Basofili</th>\n",
       "      <th>PCR</th>\n",
       "      <th>AST</th>\n",
       "      <th>ALT</th>\n",
       "      <th>ALP</th>\n",
       "      <th>GGT</th>\n",
       "      <th>LDH</th>\n",
       "      <th>TARGET</th>\n",
       "    </tr>\n",
       "  </thead>\n",
       "  <tbody>\n",
       "    <tr>\n",
       "      <th>4</th>\n",
       "      <td>M</td>\n",
       "      <td>77</td>\n",
       "      <td>4.9</td>\n",
       "      <td>198.0</td>\n",
       "      <td>NaN</td>\n",
       "      <td>NaN</td>\n",
       "      <td>NaN</td>\n",
       "      <td>NaN</td>\n",
       "      <td>NaN</td>\n",
       "      <td>NaN</td>\n",
       "      <td>NaN</td>\n",
       "      <td>NaN</td>\n",
       "      <td>NaN</td>\n",
       "      <td>NaN</td>\n",
       "      <td>NaN</td>\n",
       "      <td>2</td>\n",
       "    </tr>\n",
       "    <tr>\n",
       "      <th>40</th>\n",
       "      <td>M</td>\n",
       "      <td>84</td>\n",
       "      <td>NaN</td>\n",
       "      <td>NaN</td>\n",
       "      <td>NaN</td>\n",
       "      <td>NaN</td>\n",
       "      <td>NaN</td>\n",
       "      <td>NaN</td>\n",
       "      <td>NaN</td>\n",
       "      <td>NaN</td>\n",
       "      <td>NaN</td>\n",
       "      <td>NaN</td>\n",
       "      <td>NaN</td>\n",
       "      <td>NaN</td>\n",
       "      <td>NaN</td>\n",
       "      <td>2</td>\n",
       "    </tr>\n",
       "  </tbody>\n",
       "</table>\n",
       "</div>"
      ],
      "text/plain": [
       "   SESSO  AGE  WBC  Piastrine  Neutrofili  Linfociti  Monociti  Eosinofili  \\\n",
       "4      M   77  4.9      198.0         NaN        NaN       NaN         NaN   \n",
       "40     M   84  NaN        NaN         NaN        NaN       NaN         NaN   \n",
       "\n",
       "    Basofili  PCR  AST  ALT  ALP  GGT  LDH  TARGET  \n",
       "4        NaN  NaN  NaN  NaN  NaN  NaN  NaN       2  \n",
       "40       NaN  NaN  NaN  NaN  NaN  NaN  NaN       2  "
      ]
     },
     "execution_count": 45,
     "metadata": {},
     "output_type": "execute_result"
    }
   ],
   "source": [
    "df[df['AST'].isnull()]"
   ]
  },
  {
   "cell_type": "markdown",
   "id": "82368201",
   "metadata": {
    "papermill": {
     "duration": 0.035086,
     "end_time": "2022-07-22T09:53:21.925283",
     "exception": false,
     "start_time": "2022-07-22T09:53:21.890197",
     "status": "completed"
    },
    "tags": []
   },
   "source": [
    "### **🟣 Dropping Rows:**"
   ]
  },
  {
   "cell_type": "code",
   "execution_count": 46,
   "id": "e5b3359f",
   "metadata": {
    "execution": {
     "iopub.execute_input": "2022-07-22T09:53:22.001171Z",
     "iopub.status.busy": "2022-07-22T09:53:22.000297Z",
     "iopub.status.idle": "2022-07-22T09:53:22.011769Z",
     "shell.execute_reply": "2022-07-22T09:53:22.010696Z"
    },
    "papermill": {
     "duration": 0.051148,
     "end_time": "2022-07-22T09:53:22.014208",
     "exception": false,
     "start_time": "2022-07-22T09:53:21.963060",
     "status": "completed"
    },
    "tags": []
   },
   "outputs": [
    {
     "data": {
      "text/plain": [
       "TARGET        1.000000\n",
       "AST           0.575522\n",
       "LDH           0.543770\n",
       "PCR           0.477822\n",
       "ALT           0.303427\n",
       "AGE           0.153880\n",
       "GGT           0.095200\n",
       "Neutrofili    0.026496\n",
       "Piastrine     0.007783\n",
       "WBC          -0.007887\n",
       "Basofili     -0.015313\n",
       "ALP          -0.036257\n",
       "Eosinofili   -0.134063\n",
       "Monociti     -0.261152\n",
       "Linfociti    -0.459139\n",
       "Name: TARGET, dtype: float64"
      ]
     },
     "execution_count": 46,
     "metadata": {},
     "output_type": "execute_result"
    }
   ],
   "source": [
    "cor=df.corr().sort_values('TARGET', ascending=False)\n",
    "cor['TARGET']"
   ]
  },
  {
   "cell_type": "code",
   "execution_count": 47,
   "id": "0e9b7150",
   "metadata": {
    "execution": {
     "iopub.execute_input": "2022-07-22T09:53:22.090719Z",
     "iopub.status.busy": "2022-07-22T09:53:22.089950Z",
     "iopub.status.idle": "2022-07-22T09:53:22.097416Z",
     "shell.execute_reply": "2022-07-22T09:53:22.096478Z"
    },
    "papermill": {
     "duration": 0.047494,
     "end_time": "2022-07-22T09:53:22.099776",
     "exception": false,
     "start_time": "2022-07-22T09:53:22.052282",
     "status": "completed"
    },
    "tags": []
   },
   "outputs": [],
   "source": [
    "df= df.dropna(axis=0, subset=['WBC', 'Piastrine', 'AST'])"
   ]
  },
  {
   "cell_type": "code",
   "execution_count": 48,
   "id": "8994f8b4",
   "metadata": {
    "execution": {
     "iopub.execute_input": "2022-07-22T09:53:22.176111Z",
     "iopub.status.busy": "2022-07-22T09:53:22.175405Z",
     "iopub.status.idle": "2022-07-22T09:53:22.182237Z",
     "shell.execute_reply": "2022-07-22T09:53:22.181333Z"
    },
    "papermill": {
     "duration": 0.048141,
     "end_time": "2022-07-22T09:53:22.185030",
     "exception": false,
     "start_time": "2022-07-22T09:53:22.136889",
     "status": "completed"
    },
    "tags": []
   },
   "outputs": [],
   "source": [
    "nan_percent= missing_percent(df)"
   ]
  },
  {
   "cell_type": "code",
   "execution_count": 49,
   "id": "078c7061",
   "metadata": {
    "execution": {
     "iopub.execute_input": "2022-07-22T09:53:22.259711Z",
     "iopub.status.busy": "2022-07-22T09:53:22.259325Z",
     "iopub.status.idle": "2022-07-22T09:53:22.267855Z",
     "shell.execute_reply": "2022-07-22T09:53:22.266426Z"
    },
    "papermill": {
     "duration": 0.049112,
     "end_time": "2022-07-22T09:53:22.270402",
     "exception": false,
     "start_time": "2022-07-22T09:53:22.221290",
     "status": "completed"
    },
    "tags": []
   },
   "outputs": [
    {
     "data": {
      "text/plain": [
       "Series([], dtype: float64)"
      ]
     },
     "execution_count": 49,
     "metadata": {},
     "output_type": "execute_result"
    }
   ],
   "source": [
    "nan_percent[nan_percent < 1]"
   ]
  },
  {
   "cell_type": "code",
   "execution_count": 50,
   "id": "493cf24d",
   "metadata": {
    "execution": {
     "iopub.execute_input": "2022-07-22T09:53:22.343540Z",
     "iopub.status.busy": "2022-07-22T09:53:22.343112Z",
     "iopub.status.idle": "2022-07-22T09:53:22.747384Z",
     "shell.execute_reply": "2022-07-22T09:53:22.746148Z"
    },
    "papermill": {
     "duration": 0.444702,
     "end_time": "2022-07-22T09:53:22.750692",
     "exception": false,
     "start_time": "2022-07-22T09:53:22.305990",
     "status": "completed"
    },
    "tags": []
   },
   "outputs": [
    {
     "data": {
      "image/png": "[encoded data removed]",
      "text/plain": [
       "<Figure size 864x432 with 1 Axes>"
      ]
     },
     "metadata": {
      "needs_background": "light"
     },
     "output_type": "display_data"
    }
   ],
   "source": [
    "plot(df)"
   ]
  },
  {
   "cell_type": "markdown",
   "id": "b9cc986d",
   "metadata": {
    "papermill": {
     "duration": 0.037299,
     "end_time": "2022-07-22T09:53:22.825859",
     "exception": false,
     "start_time": "2022-07-22T09:53:22.788560",
     "status": "completed"
    },
    "tags": []
   },
   "source": [
    "### **🟣 Filling the missing values:**"
   ]
  },
  {
   "cell_type": "markdown",
   "id": "4b9522b8",
   "metadata": {
    "papermill": {
     "duration": 0.037422,
     "end_time": "2022-07-22T09:53:22.900280",
     "exception": false,
     "start_time": "2022-07-22T09:53:22.862858",
     "status": "completed"
    },
    "tags": []
   },
   "source": [
    "## **C. Working based on Columns Missing Data**"
   ]
  },
  {
   "cell_type": "code",
   "execution_count": 51,
   "id": "96f5f09e",
   "metadata": {
    "execution": {
     "iopub.execute_input": "2022-07-22T09:53:22.975987Z",
     "iopub.status.busy": "2022-07-22T09:53:22.975577Z",
     "iopub.status.idle": "2022-07-22T09:53:22.987230Z",
     "shell.execute_reply": "2022-07-22T09:53:22.986425Z"
    },
    "papermill": {
     "duration": 0.052518,
     "end_time": "2022-07-22T09:53:22.989480",
     "exception": false,
     "start_time": "2022-07-22T09:53:22.936962",
     "status": "completed"
    },
    "tags": []
   },
   "outputs": [
    {
     "data": {
      "text/plain": [
       "PCR    1.932367\n",
       "ALT    3.381643\n",
       "dtype: float64"
      ]
     },
     "execution_count": 51,
     "metadata": {},
     "output_type": "execute_result"
    }
   ],
   "source": [
    "nan_percent= missing_percent(df)\n",
    "nan_percent[nan_percent < 10]"
   ]
  },
  {
   "cell_type": "code",
   "execution_count": 52,
   "id": "e6d4e761",
   "metadata": {
    "execution": {
     "iopub.execute_input": "2022-07-22T09:53:23.064434Z",
     "iopub.status.busy": "2022-07-22T09:53:23.063986Z",
     "iopub.status.idle": "2022-07-22T09:53:23.069652Z",
     "shell.execute_reply": "2022-07-22T09:53:23.068780Z"
    },
    "papermill": {
     "duration": 0.047314,
     "end_time": "2022-07-22T09:53:23.072780",
     "exception": false,
     "start_time": "2022-07-22T09:53:23.025466",
     "status": "completed"
    },
    "tags": []
   },
   "outputs": [],
   "source": [
    "df['PCR'] = df['PCR'].fillna(df['PCR'].mean())"
   ]
  },
  {
   "cell_type": "code",
   "execution_count": 53,
   "id": "8949ea37",
   "metadata": {
    "execution": {
     "iopub.execute_input": "2022-07-22T09:53:23.152037Z",
     "iopub.status.busy": "2022-07-22T09:53:23.151180Z",
     "iopub.status.idle": "2022-07-22T09:53:23.156976Z",
     "shell.execute_reply": "2022-07-22T09:53:23.156132Z"
    },
    "papermill": {
     "duration": 0.04906,
     "end_time": "2022-07-22T09:53:23.159637",
     "exception": false,
     "start_time": "2022-07-22T09:53:23.110577",
     "status": "completed"
    },
    "tags": []
   },
   "outputs": [],
   "source": [
    "df['ALT'] = df['ALT'].fillna(df['ALT'].mean())"
   ]
  },
  {
   "cell_type": "code",
   "execution_count": 54,
   "id": "11697006",
   "metadata": {
    "execution": {
     "iopub.execute_input": "2022-07-22T09:53:23.237256Z",
     "iopub.status.busy": "2022-07-22T09:53:23.236478Z",
     "iopub.status.idle": "2022-07-22T09:53:23.243804Z",
     "shell.execute_reply": "2022-07-22T09:53:23.242549Z"
    },
    "papermill": {
     "duration": 0.048851,
     "end_time": "2022-07-22T09:53:23.246644",
     "exception": false,
     "start_time": "2022-07-22T09:53:23.197793",
     "status": "completed"
    },
    "tags": []
   },
   "outputs": [],
   "source": [
    "nan_percent= missing_percent(df)"
   ]
  },
  {
   "cell_type": "code",
   "execution_count": 55,
   "id": "77f38653",
   "metadata": {
    "execution": {
     "iopub.execute_input": "2022-07-22T09:53:23.321062Z",
     "iopub.status.busy": "2022-07-22T09:53:23.320653Z",
     "iopub.status.idle": "2022-07-22T09:53:23.328605Z",
     "shell.execute_reply": "2022-07-22T09:53:23.327491Z"
    },
    "papermill": {
     "duration": 0.047554,
     "end_time": "2022-07-22T09:53:23.330786",
     "exception": false,
     "start_time": "2022-07-22T09:53:23.283232",
     "status": "completed"
    },
    "tags": []
   },
   "outputs": [
    {
     "data": {
      "text/plain": [
       "Eosinofili    26.570048\n",
       "Neutrofili    27.053140\n",
       "Linfociti     27.053140\n",
       "Monociti      27.053140\n",
       "Basofili      27.053140\n",
       "LDH           31.884058\n",
       "GGT           51.690821\n",
       "ALP           54.106280\n",
       "dtype: float64"
      ]
     },
     "execution_count": 55,
     "metadata": {},
     "output_type": "execute_result"
    }
   ],
   "source": [
    "nan_percent"
   ]
  },
  {
   "cell_type": "markdown",
   "id": "af0698fe",
   "metadata": {
    "papermill": {
     "duration": 0.03782,
     "end_time": "2022-07-22T09:53:23.405871",
     "exception": false,
     "start_time": "2022-07-22T09:53:23.368051",
     "status": "completed"
    },
    "tags": []
   },
   "source": [
    "### **🟣 Remove the Columns with more than 50% missing values**"
   ]
  },
  {
   "cell_type": "markdown",
   "id": "02a38c23",
   "metadata": {
    "papermill": {
     "duration": 0.038122,
     "end_time": "2022-07-22T09:53:23.483019",
     "exception": false,
     "start_time": "2022-07-22T09:53:23.444897",
     "status": "completed"
    },
    "tags": []
   },
   "source": [
    "# GGT"
   ]
  },
  {
   "cell_type": "code",
   "execution_count": 56,
   "id": "de9ca7e2",
   "metadata": {
    "execution": {
     "iopub.execute_input": "2022-07-22T09:53:23.559444Z",
     "iopub.status.busy": "2022-07-22T09:53:23.558622Z",
     "iopub.status.idle": "2022-07-22T09:53:23.564847Z",
     "shell.execute_reply": "2022-07-22T09:53:23.563793Z"
    },
    "papermill": {
     "duration": 0.047747,
     "end_time": "2022-07-22T09:53:23.567198",
     "exception": false,
     "start_time": "2022-07-22T09:53:23.519451",
     "status": "completed"
    },
    "tags": []
   },
   "outputs": [],
   "source": [
    "df=df.drop('GGT', axis=1)"
   ]
  },
  {
   "cell_type": "code",
   "execution_count": 57,
   "id": "e100612c",
   "metadata": {
    "execution": {
     "iopub.execute_input": "2022-07-22T09:53:23.646126Z",
     "iopub.status.busy": "2022-07-22T09:53:23.644785Z",
     "iopub.status.idle": "2022-07-22T09:53:23.656303Z",
     "shell.execute_reply": "2022-07-22T09:53:23.655175Z"
    },
    "papermill": {
     "duration": 0.055237,
     "end_time": "2022-07-22T09:53:23.658744",
     "exception": false,
     "start_time": "2022-07-22T09:53:23.603507",
     "status": "completed"
    },
    "tags": []
   },
   "outputs": [
    {
     "data": {
      "text/plain": [
       "Eosinofili    26.570048\n",
       "Neutrofili    27.053140\n",
       "Linfociti     27.053140\n",
       "Monociti      27.053140\n",
       "Basofili      27.053140\n",
       "LDH           31.884058\n",
       "ALP           54.106280\n",
       "dtype: float64"
      ]
     },
     "execution_count": 57,
     "metadata": {},
     "output_type": "execute_result"
    }
   ],
   "source": [
    "nan_percent= missing_percent(df)\n",
    "nan_percent"
   ]
  },
  {
   "cell_type": "markdown",
   "id": "c83b0f29",
   "metadata": {
    "papermill": {
     "duration": 0.038003,
     "end_time": "2022-07-22T09:53:23.733241",
     "exception": false,
     "start_time": "2022-07-22T09:53:23.695238",
     "status": "completed"
    },
    "tags": []
   },
   "source": [
    "# ALP"
   ]
  },
  {
   "cell_type": "code",
   "execution_count": 58,
   "id": "fe21bb28",
   "metadata": {
    "execution": {
     "iopub.execute_input": "2022-07-22T09:53:23.810220Z",
     "iopub.status.busy": "2022-07-22T09:53:23.809830Z",
     "iopub.status.idle": "2022-07-22T09:53:23.816478Z",
     "shell.execute_reply": "2022-07-22T09:53:23.815208Z"
    },
    "papermill": {
     "duration": 0.049676,
     "end_time": "2022-07-22T09:53:23.819217",
     "exception": false,
     "start_time": "2022-07-22T09:53:23.769541",
     "status": "completed"
    },
    "tags": []
   },
   "outputs": [],
   "source": [
    "df=df.drop('ALP', axis=1)"
   ]
  },
  {
   "cell_type": "code",
   "execution_count": 59,
   "id": "979f73da",
   "metadata": {
    "execution": {
     "iopub.execute_input": "2022-07-22T09:53:23.894172Z",
     "iopub.status.busy": "2022-07-22T09:53:23.893758Z",
     "iopub.status.idle": "2022-07-22T09:53:23.903982Z",
     "shell.execute_reply": "2022-07-22T09:53:23.903162Z"
    },
    "papermill": {
     "duration": 0.050352,
     "end_time": "2022-07-22T09:53:23.906044",
     "exception": false,
     "start_time": "2022-07-22T09:53:23.855692",
     "status": "completed"
    },
    "tags": []
   },
   "outputs": [
    {
     "data": {
      "text/plain": [
       "Eosinofili    26.570048\n",
       "Neutrofili    27.053140\n",
       "Linfociti     27.053140\n",
       "Monociti      27.053140\n",
       "Basofili      27.053140\n",
       "LDH           31.884058\n",
       "dtype: float64"
      ]
     },
     "execution_count": 59,
     "metadata": {},
     "output_type": "execute_result"
    }
   ],
   "source": [
    "nan_percent= missing_percent(df)\n",
    "nan_percent"
   ]
  },
  {
   "cell_type": "markdown",
   "id": "7d942913",
   "metadata": {
    "papermill": {
     "duration": 0.037155,
     "end_time": "2022-07-22T09:53:23.979750",
     "exception": false,
     "start_time": "2022-07-22T09:53:23.942595",
     "status": "completed"
    },
    "tags": []
   },
   "source": [
    "# PLOT"
   ]
  },
  {
   "cell_type": "code",
   "execution_count": 60,
   "id": "35b51d7f",
   "metadata": {
    "execution": {
     "iopub.execute_input": "2022-07-22T09:53:24.057738Z",
     "iopub.status.busy": "2022-07-22T09:53:24.056991Z",
     "iopub.status.idle": "2022-07-22T09:53:24.258137Z",
     "shell.execute_reply": "2022-07-22T09:53:24.256886Z"
    },
    "papermill": {
     "duration": 0.242775,
     "end_time": "2022-07-22T09:53:24.260670",
     "exception": false,
     "start_time": "2022-07-22T09:53:24.017895",
     "status": "completed"
    },
    "tags": []
   },
   "outputs": [
    {
     "data": {
      "image/png": "[encoded data removed]",
      "text/plain": [
       "<Figure size 864x432 with 1 Axes>"
      ]
     },
     "metadata": {
      "needs_background": "light"
     },
     "output_type": "display_data"
    }
   ],
   "source": [
    "plot(df)"
   ]
  },
  {
   "cell_type": "markdown",
   "id": "5d408759",
   "metadata": {
    "papermill": {
     "duration": 0.036096,
     "end_time": "2022-07-22T09:53:24.334336",
     "exception": false,
     "start_time": "2022-07-22T09:53:24.298240",
     "status": "completed"
    },
    "tags": []
   },
   "source": [
    "## **D. Imputation of Missing Data**"
   ]
  },
  {
   "cell_type": "markdown",
   "id": "4b804a00",
   "metadata": {
    "papermill": {
     "duration": 0.036375,
     "end_time": "2022-07-22T09:53:24.410182",
     "exception": false,
     "start_time": "2022-07-22T09:53:24.373807",
     "status": "completed"
    },
    "tags": []
   },
   "source": [
    "## What are the Stages of Life?\n",
    "\n",
    "- Infant = 0-1 year.\n",
    "- Toddler = 2-4 yrs.\n",
    "- Child = 5-12 yrs.\n",
    "- Teen = 13-19 yrs.\n",
    "- Adult = 20-39 yrs.\n",
    "- Middle Age Adult = 40-59 yrs.\n",
    "- Senior Adult = 60+"
   ]
  },
  {
   "cell_type": "code",
   "execution_count": 61,
   "id": "9417f656",
   "metadata": {
    "execution": {
     "iopub.execute_input": "2022-07-22T09:53:24.485610Z",
     "iopub.status.busy": "2022-07-22T09:53:24.485207Z",
     "iopub.status.idle": "2022-07-22T09:53:24.492800Z",
     "shell.execute_reply": "2022-07-22T09:53:24.491919Z"
    },
    "papermill": {
     "duration": 0.048361,
     "end_time": "2022-07-22T09:53:24.494897",
     "exception": false,
     "start_time": "2022-07-22T09:53:24.446536",
     "status": "completed"
    },
    "tags": []
   },
   "outputs": [
    {
     "data": {
      "text/plain": [
       "array([ 0, 18, 23, 25, 26, 28, 29, 30, 32, 33, 34, 36, 37, 38, 39, 40, 41,\n",
       "       42, 44, 45, 46, 47, 48, 49, 50, 51, 52, 53, 54, 55, 56, 57, 58, 59,\n",
       "       60, 61, 62, 63, 64, 65, 66, 67, 68, 69, 70, 71, 72, 74, 75, 76, 77,\n",
       "       79, 80, 81, 82, 84, 85, 86, 87, 89, 90, 91, 93, 94, 95])"
      ]
     },
     "execution_count": 61,
     "metadata": {},
     "output_type": "execute_result"
    }
   ],
   "source": [
    "np.sort(df['AGE'].unique())"
   ]
  },
  {
   "cell_type": "code",
   "execution_count": 62,
   "id": "f3efba7c",
   "metadata": {
    "execution": {
     "iopub.execute_input": "2022-07-22T09:53:24.573666Z",
     "iopub.status.busy": "2022-07-22T09:53:24.572698Z",
     "iopub.status.idle": "2022-07-22T09:53:24.578884Z",
     "shell.execute_reply": "2022-07-22T09:53:24.578051Z"
    },
    "papermill": {
     "duration": 0.04787,
     "end_time": "2022-07-22T09:53:24.581113",
     "exception": false,
     "start_time": "2022-07-22T09:53:24.533243",
     "status": "completed"
    },
    "tags": []
   },
   "outputs": [],
   "source": [
    "# Creating Age Group Feature\n",
    "\n",
    "def ageGroups(age):\n",
    "    \n",
    "    if(age>=0 and age<=19):\n",
    "        return 'Teen'\n",
    "    \n",
    "    elif(age>19 and age<=39):\n",
    "        return 'Adult'\n",
    "    \n",
    "    elif(age>39 and age<=59):\n",
    "        return 'Middle Age Adult'\n",
    "    \n",
    "    elif(age>=60):\n",
    "        return 'Senior Adult'"
   ]
  },
  {
   "cell_type": "code",
   "execution_count": 63,
   "id": "8a4fe165",
   "metadata": {
    "execution": {
     "iopub.execute_input": "2022-07-22T09:53:24.661379Z",
     "iopub.status.busy": "2022-07-22T09:53:24.660972Z",
     "iopub.status.idle": "2022-07-22T09:53:24.668337Z",
     "shell.execute_reply": "2022-07-22T09:53:24.667125Z"
    },
    "papermill": {
     "duration": 0.051418,
     "end_time": "2022-07-22T09:53:24.670811",
     "exception": false,
     "start_time": "2022-07-22T09:53:24.619393",
     "status": "completed"
    },
    "tags": []
   },
   "outputs": [],
   "source": [
    "df['AgeGroups'] = df['AGE'].apply(ageGroups)"
   ]
  },
  {
   "cell_type": "code",
   "execution_count": 64,
   "id": "4ec9b6d1",
   "metadata": {
    "execution": {
     "iopub.execute_input": "2022-07-22T09:53:24.819801Z",
     "iopub.status.busy": "2022-07-22T09:53:24.819403Z",
     "iopub.status.idle": "2022-07-22T09:53:24.828052Z",
     "shell.execute_reply": "2022-07-22T09:53:24.826695Z"
    },
    "papermill": {
     "duration": 0.052042,
     "end_time": "2022-07-22T09:53:24.831281",
     "exception": false,
     "start_time": "2022-07-22T09:53:24.779239",
     "status": "completed"
    },
    "tags": []
   },
   "outputs": [
    {
     "data": {
      "text/plain": [
       "array(['Middle Age Adult', 'Senior Adult', 'Teen', 'Adult'], dtype=object)"
      ]
     },
     "execution_count": 64,
     "metadata": {},
     "output_type": "execute_result"
    }
   ],
   "source": [
    "df['AgeGroups'].unique()"
   ]
  },
  {
   "cell_type": "markdown",
   "id": "b2d08790",
   "metadata": {
    "papermill": {
     "duration": 0.03832,
     "end_time": "2022-07-22T09:53:24.907626",
     "exception": false,
     "start_time": "2022-07-22T09:53:24.869306",
     "status": "completed"
    },
    "tags": []
   },
   "source": [
    "# Eosinofili"
   ]
  },
  {
   "cell_type": "code",
   "execution_count": 65,
   "id": "7f094420",
   "metadata": {
    "execution": {
     "iopub.execute_input": "2022-07-22T09:53:24.984040Z",
     "iopub.status.busy": "2022-07-22T09:53:24.983640Z",
     "iopub.status.idle": "2022-07-22T09:53:25.008257Z",
     "shell.execute_reply": "2022-07-22T09:53:25.007104Z"
    },
    "papermill": {
     "duration": 0.067122,
     "end_time": "2022-07-22T09:53:25.011608",
     "exception": false,
     "start_time": "2022-07-22T09:53:24.944486",
     "status": "completed"
    },
    "tags": []
   },
   "outputs": [
    {
     "data": {
      "text/html": [
       "<div>\n",
       "<style scoped>\n",
       "    .dataframe tbody tr th:only-of-type {\n",
       "        vertical-align: middle;\n",
       "    }\n",
       "\n",
       "    .dataframe tbody tr th {\n",
       "        vertical-align: top;\n",
       "    }\n",
       "\n",
       "    .dataframe thead th {\n",
       "        text-align: right;\n",
       "    }\n",
       "</style>\n",
       "<table border=\"1\" class=\"dataframe\">\n",
       "  <thead>\n",
       "    <tr style=\"text-align: right;\">\n",
       "      <th></th>\n",
       "      <th>SESSO</th>\n",
       "      <th>AGE</th>\n",
       "      <th>WBC</th>\n",
       "      <th>Piastrine</th>\n",
       "      <th>Neutrofili</th>\n",
       "      <th>Linfociti</th>\n",
       "      <th>Monociti</th>\n",
       "      <th>Eosinofili</th>\n",
       "      <th>Basofili</th>\n",
       "      <th>PCR</th>\n",
       "      <th>AST</th>\n",
       "      <th>ALT</th>\n",
       "      <th>LDH</th>\n",
       "      <th>TARGET</th>\n",
       "      <th>AgeGroups</th>\n",
       "    </tr>\n",
       "  </thead>\n",
       "  <tbody>\n",
       "    <tr>\n",
       "      <th>0</th>\n",
       "      <td>M</td>\n",
       "      <td>56</td>\n",
       "      <td>2.9</td>\n",
       "      <td>128.0</td>\n",
       "      <td>1.9</td>\n",
       "      <td>0.8</td>\n",
       "      <td>0.2</td>\n",
       "      <td>0.0</td>\n",
       "      <td>0.0</td>\n",
       "      <td>29.000000</td>\n",
       "      <td>36.0</td>\n",
       "      <td>18.0</td>\n",
       "      <td>257.0</td>\n",
       "      <td>2</td>\n",
       "      <td>Middle Age Adult</td>\n",
       "    </tr>\n",
       "    <tr>\n",
       "      <th>1</th>\n",
       "      <td>M</td>\n",
       "      <td>56</td>\n",
       "      <td>3.5</td>\n",
       "      <td>151.0</td>\n",
       "      <td>2.1</td>\n",
       "      <td>0.9</td>\n",
       "      <td>0.4</td>\n",
       "      <td>0.0</td>\n",
       "      <td>0.0</td>\n",
       "      <td>16.500000</td>\n",
       "      <td>25.0</td>\n",
       "      <td>14.0</td>\n",
       "      <td>207.0</td>\n",
       "      <td>2</td>\n",
       "      <td>Middle Age Adult</td>\n",
       "    </tr>\n",
       "    <tr>\n",
       "      <th>2</th>\n",
       "      <td>M</td>\n",
       "      <td>72</td>\n",
       "      <td>4.6</td>\n",
       "      <td>206.0</td>\n",
       "      <td>NaN</td>\n",
       "      <td>NaN</td>\n",
       "      <td>NaN</td>\n",
       "      <td>NaN</td>\n",
       "      <td>NaN</td>\n",
       "      <td>193.700000</td>\n",
       "      <td>31.0</td>\n",
       "      <td>22.0</td>\n",
       "      <td>NaN</td>\n",
       "      <td>2</td>\n",
       "      <td>Senior Adult</td>\n",
       "    </tr>\n",
       "    <tr>\n",
       "      <th>3</th>\n",
       "      <td>M</td>\n",
       "      <td>72</td>\n",
       "      <td>16.5</td>\n",
       "      <td>316.0</td>\n",
       "      <td>14.0</td>\n",
       "      <td>1.2</td>\n",
       "      <td>0.3</td>\n",
       "      <td>0.0</td>\n",
       "      <td>0.0</td>\n",
       "      <td>318.700000</td>\n",
       "      <td>96.0</td>\n",
       "      <td>33.0</td>\n",
       "      <td>651.0</td>\n",
       "      <td>2</td>\n",
       "      <td>Senior Adult</td>\n",
       "    </tr>\n",
       "    <tr>\n",
       "      <th>5</th>\n",
       "      <td>M</td>\n",
       "      <td>77</td>\n",
       "      <td>3.0</td>\n",
       "      <td>162.0</td>\n",
       "      <td>2.0</td>\n",
       "      <td>0.4</td>\n",
       "      <td>0.4</td>\n",
       "      <td>0.1</td>\n",
       "      <td>NaN</td>\n",
       "      <td>79.551724</td>\n",
       "      <td>21.0</td>\n",
       "      <td>10.0</td>\n",
       "      <td>220.0</td>\n",
       "      <td>2</td>\n",
       "      <td>Senior Adult</td>\n",
       "    </tr>\n",
       "  </tbody>\n",
       "</table>\n",
       "</div>"
      ],
      "text/plain": [
       "  SESSO  AGE   WBC  Piastrine  Neutrofili  Linfociti  Monociti  Eosinofili  \\\n",
       "0     M   56   2.9      128.0         1.9        0.8       0.2         0.0   \n",
       "1     M   56   3.5      151.0         2.1        0.9       0.4         0.0   \n",
       "2     M   72   4.6      206.0         NaN        NaN       NaN         NaN   \n",
       "3     M   72  16.5      316.0        14.0        1.2       0.3         0.0   \n",
       "5     M   77   3.0      162.0         2.0        0.4       0.4         0.1   \n",
       "\n",
       "   Basofili         PCR   AST   ALT    LDH  TARGET         AgeGroups  \n",
       "0       0.0   29.000000  36.0  18.0  257.0       2  Middle Age Adult  \n",
       "1       0.0   16.500000  25.0  14.0  207.0       2  Middle Age Adult  \n",
       "2       NaN  193.700000  31.0  22.0    NaN       2      Senior Adult  \n",
       "3       0.0  318.700000  96.0  33.0  651.0       2      Senior Adult  \n",
       "5       NaN   79.551724  21.0  10.0  220.0       2      Senior Adult  "
      ]
     },
     "execution_count": 65,
     "metadata": {},
     "output_type": "execute_result"
    }
   ],
   "source": [
    "df.head()"
   ]
  },
  {
   "cell_type": "code",
   "execution_count": 66,
   "id": "90a2d963",
   "metadata": {
    "execution": {
     "iopub.execute_input": "2022-07-22T09:53:25.091625Z",
     "iopub.status.busy": "2022-07-22T09:53:25.091144Z",
     "iopub.status.idle": "2022-07-22T09:53:25.105950Z",
     "shell.execute_reply": "2022-07-22T09:53:25.104745Z"
    },
    "papermill": {
     "duration": 0.059918,
     "end_time": "2022-07-22T09:53:25.109513",
     "exception": false,
     "start_time": "2022-07-22T09:53:25.049595",
     "status": "completed"
    },
    "tags": []
   },
   "outputs": [],
   "source": [
    "df['Eosinofili'] = df.groupby('AgeGroups')['Eosinofili'].transform(lambda x: x.fillna(x.mean()))"
   ]
  },
  {
   "cell_type": "code",
   "execution_count": 67,
   "id": "8762544b",
   "metadata": {
    "execution": {
     "iopub.execute_input": "2022-07-22T09:53:25.188950Z",
     "iopub.status.busy": "2022-07-22T09:53:25.188551Z",
     "iopub.status.idle": "2022-07-22T09:53:25.199653Z",
     "shell.execute_reply": "2022-07-22T09:53:25.198495Z"
    },
    "papermill": {
     "duration": 0.053292,
     "end_time": "2022-07-22T09:53:25.201979",
     "exception": false,
     "start_time": "2022-07-22T09:53:25.148687",
     "status": "completed"
    },
    "tags": []
   },
   "outputs": [
    {
     "data": {
      "text/plain": [
       "Neutrofili    27.053140\n",
       "Linfociti     27.053140\n",
       "Monociti      27.053140\n",
       "Basofili      27.053140\n",
       "LDH           31.884058\n",
       "dtype: float64"
      ]
     },
     "execution_count": 67,
     "metadata": {},
     "output_type": "execute_result"
    }
   ],
   "source": [
    "nan_percent= missing_percent(df)\n",
    "nan_percent"
   ]
  },
  {
   "cell_type": "markdown",
   "id": "1d33604b",
   "metadata": {
    "papermill": {
     "duration": 0.03846,
     "end_time": "2022-07-22T09:53:25.280021",
     "exception": false,
     "start_time": "2022-07-22T09:53:25.241561",
     "status": "completed"
    },
    "tags": []
   },
   "source": [
    "# Neutrofili"
   ]
  },
  {
   "cell_type": "code",
   "execution_count": 68,
   "id": "c3cb4762",
   "metadata": {
    "execution": {
     "iopub.execute_input": "2022-07-22T09:53:25.361149Z",
     "iopub.status.busy": "2022-07-22T09:53:25.359943Z",
     "iopub.status.idle": "2022-07-22T09:53:25.366540Z",
     "shell.execute_reply": "2022-07-22T09:53:25.365655Z"
    },
    "papermill": {
     "duration": 0.050626,
     "end_time": "2022-07-22T09:53:25.369193",
     "exception": false,
     "start_time": "2022-07-22T09:53:25.318567",
     "status": "completed"
    },
    "tags": []
   },
   "outputs": [],
   "source": [
    "df['Neutrofili'] = df['Neutrofili'].fillna(df['Neutrofili'].mean())"
   ]
  },
  {
   "cell_type": "code",
   "execution_count": 69,
   "id": "1d0f0721",
   "metadata": {
    "execution": {
     "iopub.execute_input": "2022-07-22T09:53:25.447398Z",
     "iopub.status.busy": "2022-07-22T09:53:25.446625Z",
     "iopub.status.idle": "2022-07-22T09:53:25.457070Z",
     "shell.execute_reply": "2022-07-22T09:53:25.456121Z"
    },
    "papermill": {
     "duration": 0.051921,
     "end_time": "2022-07-22T09:53:25.459391",
     "exception": false,
     "start_time": "2022-07-22T09:53:25.407470",
     "status": "completed"
    },
    "tags": []
   },
   "outputs": [
    {
     "data": {
      "text/plain": [
       "Linfociti    27.053140\n",
       "Monociti     27.053140\n",
       "Basofili     27.053140\n",
       "LDH          31.884058\n",
       "dtype: float64"
      ]
     },
     "execution_count": 69,
     "metadata": {},
     "output_type": "execute_result"
    }
   ],
   "source": [
    "nan_percent= missing_percent(df)\n",
    "nan_percent"
   ]
  },
  {
   "cell_type": "markdown",
   "id": "c456b4ad",
   "metadata": {
    "papermill": {
     "duration": 0.037284,
     "end_time": "2022-07-22T09:53:25.533993",
     "exception": false,
     "start_time": "2022-07-22T09:53:25.496709",
     "status": "completed"
    },
    "tags": []
   },
   "source": [
    "# Linfociti"
   ]
  },
  {
   "cell_type": "code",
   "execution_count": 70,
   "id": "10d6eb1c",
   "metadata": {
    "execution": {
     "iopub.execute_input": "2022-07-22T09:53:25.611054Z",
     "iopub.status.busy": "2022-07-22T09:53:25.610315Z",
     "iopub.status.idle": "2022-07-22T09:53:25.628354Z",
     "shell.execute_reply": "2022-07-22T09:53:25.627475Z"
    },
    "papermill": {
     "duration": 0.05961,
     "end_time": "2022-07-22T09:53:25.631042",
     "exception": false,
     "start_time": "2022-07-22T09:53:25.571432",
     "status": "completed"
    },
    "tags": []
   },
   "outputs": [
    {
     "name": "stderr",
     "output_type": "stream",
     "text": [
      "/opt/conda/lib/python3.7/site-packages/ipykernel_launcher.py:4: SettingWithCopyWarning: \n",
      "A value is trying to be set on a copy of a slice from a DataFrame.\n",
      "Try using .loc[row_indexer,col_indexer] = value instead\n",
      "\n",
      "See the caveats in the documentation: https://pandas.pydata.org/pandas-docs/stable/user_guide/indexing.html#returning-a-view-versus-a-copy\n",
      "  after removing the cwd from sys.path.\n",
      "/opt/conda/lib/python3.7/site-packages/ipykernel_launcher.py:5: SettingWithCopyWarning: \n",
      "A value is trying to be set on a copy of a slice from a DataFrame.\n",
      "Try using .loc[row_indexer,col_indexer] = value instead\n",
      "\n",
      "See the caveats in the documentation: https://pandas.pydata.org/pandas-docs/stable/user_guide/indexing.html#returning-a-view-versus-a-copy\n",
      "  \"\"\"\n"
     ]
    }
   ],
   "source": [
    "male   = df[df['SESSO']=='M']\n",
    "female = df[df['SESSO']=='F']\n",
    "\n",
    "male['Linfociti']   = male.groupby(by='AgeGroups')['Linfociti'].transform(lambda x : x.fillna(x.mean()))\n",
    "female['Linfociti'] = female.groupby(by='AgeGroups')['Linfociti'].transform(lambda x : x.fillna(x.mean()))\n",
    "\n",
    "df = pd.concat([male,female],axis=0)"
   ]
  },
  {
   "cell_type": "code",
   "execution_count": 71,
   "id": "4911d456",
   "metadata": {
    "execution": {
     "iopub.execute_input": "2022-07-22T09:53:25.711537Z",
     "iopub.status.busy": "2022-07-22T09:53:25.710054Z",
     "iopub.status.idle": "2022-07-22T09:53:25.721041Z",
     "shell.execute_reply": "2022-07-22T09:53:25.719950Z"
    },
    "papermill": {
     "duration": 0.054551,
     "end_time": "2022-07-22T09:53:25.723477",
     "exception": false,
     "start_time": "2022-07-22T09:53:25.668926",
     "status": "completed"
    },
    "tags": []
   },
   "outputs": [
    {
     "data": {
      "text/plain": [
       "Linfociti     0.483092\n",
       "Monociti     27.053140\n",
       "Basofili     27.053140\n",
       "LDH          31.884058\n",
       "dtype: float64"
      ]
     },
     "execution_count": 71,
     "metadata": {},
     "output_type": "execute_result"
    }
   ],
   "source": [
    "nan_percent= missing_percent(df)\n",
    "nan_percent"
   ]
  },
  {
   "cell_type": "code",
   "execution_count": 72,
   "id": "d4d273b6",
   "metadata": {
    "execution": {
     "iopub.execute_input": "2022-07-22T09:53:25.804050Z",
     "iopub.status.busy": "2022-07-22T09:53:25.803332Z",
     "iopub.status.idle": "2022-07-22T09:53:25.821587Z",
     "shell.execute_reply": "2022-07-22T09:53:25.820605Z"
    },
    "papermill": {
     "duration": 0.061282,
     "end_time": "2022-07-22T09:53:25.823854",
     "exception": false,
     "start_time": "2022-07-22T09:53:25.762572",
     "status": "completed"
    },
    "tags": []
   },
   "outputs": [
    {
     "data": {
      "text/html": [
       "<div>\n",
       "<style scoped>\n",
       "    .dataframe tbody tr th:only-of-type {\n",
       "        vertical-align: middle;\n",
       "    }\n",
       "\n",
       "    .dataframe tbody tr th {\n",
       "        vertical-align: top;\n",
       "    }\n",
       "\n",
       "    .dataframe thead th {\n",
       "        text-align: right;\n",
       "    }\n",
       "</style>\n",
       "<table border=\"1\" class=\"dataframe\">\n",
       "  <thead>\n",
       "    <tr style=\"text-align: right;\">\n",
       "      <th></th>\n",
       "      <th>SESSO</th>\n",
       "      <th>AGE</th>\n",
       "      <th>WBC</th>\n",
       "      <th>Piastrine</th>\n",
       "      <th>Neutrofili</th>\n",
       "      <th>Linfociti</th>\n",
       "      <th>Monociti</th>\n",
       "      <th>Eosinofili</th>\n",
       "      <th>Basofili</th>\n",
       "      <th>PCR</th>\n",
       "      <th>AST</th>\n",
       "      <th>ALT</th>\n",
       "      <th>LDH</th>\n",
       "      <th>TARGET</th>\n",
       "      <th>AgeGroups</th>\n",
       "    </tr>\n",
       "  </thead>\n",
       "  <tbody>\n",
       "    <tr>\n",
       "      <th>202</th>\n",
       "      <td>F</td>\n",
       "      <td>18</td>\n",
       "      <td>9.2</td>\n",
       "      <td>311.0</td>\n",
       "      <td>5.913907</td>\n",
       "      <td>NaN</td>\n",
       "      <td>NaN</td>\n",
       "      <td>0.0</td>\n",
       "      <td>NaN</td>\n",
       "      <td>0.1</td>\n",
       "      <td>24.0</td>\n",
       "      <td>27.0</td>\n",
       "      <td>142.0</td>\n",
       "      <td>0</td>\n",
       "      <td>Teen</td>\n",
       "    </tr>\n",
       "  </tbody>\n",
       "</table>\n",
       "</div>"
      ],
      "text/plain": [
       "    SESSO  AGE  WBC  Piastrine  Neutrofili  Linfociti  Monociti  Eosinofili  \\\n",
       "202     F   18  9.2      311.0    5.913907        NaN       NaN         0.0   \n",
       "\n",
       "     Basofili  PCR   AST   ALT    LDH  TARGET AgeGroups  \n",
       "202       NaN  0.1  24.0  27.0  142.0       0      Teen  "
      ]
     },
     "execution_count": 72,
     "metadata": {},
     "output_type": "execute_result"
    }
   ],
   "source": [
    "df[df['Linfociti'].isnull()==True]"
   ]
  },
  {
   "cell_type": "code",
   "execution_count": 73,
   "id": "f8d19ef9",
   "metadata": {
    "execution": {
     "iopub.execute_input": "2022-07-22T09:53:25.905274Z",
     "iopub.status.busy": "2022-07-22T09:53:25.904844Z",
     "iopub.status.idle": "2022-07-22T09:53:25.923403Z",
     "shell.execute_reply": "2022-07-22T09:53:25.922409Z"
    },
    "papermill": {
     "duration": 0.062234,
     "end_time": "2022-07-22T09:53:25.925632",
     "exception": false,
     "start_time": "2022-07-22T09:53:25.863398",
     "status": "completed"
    },
    "tags": []
   },
   "outputs": [
    {
     "data": {
      "text/html": [
       "<div>\n",
       "<style scoped>\n",
       "    .dataframe tbody tr th:only-of-type {\n",
       "        vertical-align: middle;\n",
       "    }\n",
       "\n",
       "    .dataframe tbody tr th {\n",
       "        vertical-align: top;\n",
       "    }\n",
       "\n",
       "    .dataframe thead th {\n",
       "        text-align: right;\n",
       "    }\n",
       "</style>\n",
       "<table border=\"1\" class=\"dataframe\">\n",
       "  <thead>\n",
       "    <tr style=\"text-align: right;\">\n",
       "      <th></th>\n",
       "      <th>SESSO</th>\n",
       "      <th>AGE</th>\n",
       "      <th>WBC</th>\n",
       "      <th>Piastrine</th>\n",
       "      <th>Neutrofili</th>\n",
       "      <th>Linfociti</th>\n",
       "      <th>Monociti</th>\n",
       "      <th>Eosinofili</th>\n",
       "      <th>Basofili</th>\n",
       "      <th>PCR</th>\n",
       "      <th>AST</th>\n",
       "      <th>ALT</th>\n",
       "      <th>LDH</th>\n",
       "      <th>TARGET</th>\n",
       "      <th>AgeGroups</th>\n",
       "    </tr>\n",
       "  </thead>\n",
       "  <tbody>\n",
       "    <tr>\n",
       "      <th>202</th>\n",
       "      <td>F</td>\n",
       "      <td>18</td>\n",
       "      <td>9.2</td>\n",
       "      <td>311.0</td>\n",
       "      <td>5.913907</td>\n",
       "      <td>NaN</td>\n",
       "      <td>NaN</td>\n",
       "      <td>0.0</td>\n",
       "      <td>NaN</td>\n",
       "      <td>0.1</td>\n",
       "      <td>24.0</td>\n",
       "      <td>27.0</td>\n",
       "      <td>142.0</td>\n",
       "      <td>0</td>\n",
       "      <td>Teen</td>\n",
       "    </tr>\n",
       "  </tbody>\n",
       "</table>\n",
       "</div>"
      ],
      "text/plain": [
       "    SESSO  AGE  WBC  Piastrine  Neutrofili  Linfociti  Monociti  Eosinofili  \\\n",
       "202     F   18  9.2      311.0    5.913907        NaN       NaN         0.0   \n",
       "\n",
       "     Basofili  PCR   AST   ALT    LDH  TARGET AgeGroups  \n",
       "202       NaN  0.1  24.0  27.0  142.0       0      Teen  "
      ]
     },
     "execution_count": 73,
     "metadata": {},
     "output_type": "execute_result"
    }
   ],
   "source": [
    "female[female['AgeGroups']=='Teen']"
   ]
  },
  {
   "cell_type": "code",
   "execution_count": 74,
   "id": "32cb648d",
   "metadata": {
    "execution": {
     "iopub.execute_input": "2022-07-22T09:53:26.006043Z",
     "iopub.status.busy": "2022-07-22T09:53:26.005444Z",
     "iopub.status.idle": "2022-07-22T09:53:26.010973Z",
     "shell.execute_reply": "2022-07-22T09:53:26.010013Z"
    },
    "papermill": {
     "duration": 0.048559,
     "end_time": "2022-07-22T09:53:26.013362",
     "exception": false,
     "start_time": "2022-07-22T09:53:25.964803",
     "status": "completed"
    },
    "tags": []
   },
   "outputs": [],
   "source": [
    "df['Linfociti'] = df['Linfociti'].fillna(df['Linfociti'].mean())"
   ]
  },
  {
   "cell_type": "code",
   "execution_count": 75,
   "id": "942bf879",
   "metadata": {
    "execution": {
     "iopub.execute_input": "2022-07-22T09:53:26.093936Z",
     "iopub.status.busy": "2022-07-22T09:53:26.093346Z",
     "iopub.status.idle": "2022-07-22T09:53:26.103624Z",
     "shell.execute_reply": "2022-07-22T09:53:26.102184Z"
    },
    "papermill": {
     "duration": 0.053108,
     "end_time": "2022-07-22T09:53:26.106646",
     "exception": false,
     "start_time": "2022-07-22T09:53:26.053538",
     "status": "completed"
    },
    "tags": []
   },
   "outputs": [
    {
     "data": {
      "text/plain": [
       "Monociti    27.053140\n",
       "Basofili    27.053140\n",
       "LDH         31.884058\n",
       "dtype: float64"
      ]
     },
     "execution_count": 75,
     "metadata": {},
     "output_type": "execute_result"
    }
   ],
   "source": [
    "nan_percent= missing_percent(df)\n",
    "nan_percent"
   ]
  },
  {
   "cell_type": "code",
   "execution_count": 76,
   "id": "c49f6cb8",
   "metadata": {
    "execution": {
     "iopub.execute_input": "2022-07-22T09:53:26.189269Z",
     "iopub.status.busy": "2022-07-22T09:53:26.188655Z",
     "iopub.status.idle": "2022-07-22T09:53:26.372982Z",
     "shell.execute_reply": "2022-07-22T09:53:26.371460Z"
    },
    "papermill": {
     "duration": 0.228807,
     "end_time": "2022-07-22T09:53:26.376041",
     "exception": false,
     "start_time": "2022-07-22T09:53:26.147234",
     "status": "completed"
    },
    "tags": []
   },
   "outputs": [
    {
     "data": {
      "image/png": "[encoded data removed]",
      "text/plain": [
       "<Figure size 864x432 with 1 Axes>"
      ]
     },
     "metadata": {
      "needs_background": "light"
     },
     "output_type": "display_data"
    }
   ],
   "source": [
    "plot(df)"
   ]
  },
  {
   "cell_type": "markdown",
   "id": "4e785fd5",
   "metadata": {
    "papermill": {
     "duration": 0.042118,
     "end_time": "2022-07-22T09:53:26.458260",
     "exception": false,
     "start_time": "2022-07-22T09:53:26.416142",
     "status": "completed"
    },
    "tags": []
   },
   "source": [
    "# Monociti"
   ]
  },
  {
   "cell_type": "code",
   "execution_count": 77,
   "id": "f1b1632f",
   "metadata": {
    "execution": {
     "iopub.execute_input": "2022-07-22T09:53:26.541296Z",
     "iopub.status.busy": "2022-07-22T09:53:26.540814Z",
     "iopub.status.idle": "2022-07-22T09:53:26.547558Z",
     "shell.execute_reply": "2022-07-22T09:53:26.545992Z"
    },
    "papermill": {
     "duration": 0.052072,
     "end_time": "2022-07-22T09:53:26.550420",
     "exception": false,
     "start_time": "2022-07-22T09:53:26.498348",
     "status": "completed"
    },
    "tags": []
   },
   "outputs": [],
   "source": [
    "df['Monociti'] = df['Monociti'].fillna(df['Monociti'].mean())"
   ]
  },
  {
   "cell_type": "code",
   "execution_count": 78,
   "id": "d022b355",
   "metadata": {
    "execution": {
     "iopub.execute_input": "2022-07-22T09:53:26.633948Z",
     "iopub.status.busy": "2022-07-22T09:53:26.633544Z",
     "iopub.status.idle": "2022-07-22T09:53:26.644235Z",
     "shell.execute_reply": "2022-07-22T09:53:26.643049Z"
    },
    "papermill": {
     "duration": 0.054054,
     "end_time": "2022-07-22T09:53:26.646352",
     "exception": false,
     "start_time": "2022-07-22T09:53:26.592298",
     "status": "completed"
    },
    "tags": []
   },
   "outputs": [
    {
     "data": {
      "text/plain": [
       "Basofili    27.053140\n",
       "LDH         31.884058\n",
       "dtype: float64"
      ]
     },
     "execution_count": 78,
     "metadata": {},
     "output_type": "execute_result"
    }
   ],
   "source": [
    "nan_percent= missing_percent(df)\n",
    "nan_percent"
   ]
  },
  {
   "cell_type": "markdown",
   "id": "d30ba40f",
   "metadata": {
    "papermill": {
     "duration": 0.040556,
     "end_time": "2022-07-22T09:53:26.729705",
     "exception": false,
     "start_time": "2022-07-22T09:53:26.689149",
     "status": "completed"
    },
    "tags": []
   },
   "source": [
    "# Basofili"
   ]
  },
  {
   "cell_type": "code",
   "execution_count": 79,
   "id": "f0a95b1f",
   "metadata": {
    "execution": {
     "iopub.execute_input": "2022-07-22T09:53:26.817684Z",
     "iopub.status.busy": "2022-07-22T09:53:26.817269Z",
     "iopub.status.idle": "2022-07-22T09:53:26.828969Z",
     "shell.execute_reply": "2022-07-22T09:53:26.827763Z"
    },
    "papermill": {
     "duration": 0.058732,
     "end_time": "2022-07-22T09:53:26.831617",
     "exception": false,
     "start_time": "2022-07-22T09:53:26.772885",
     "status": "completed"
    },
    "tags": []
   },
   "outputs": [],
   "source": [
    "df['Basofili'] = df.groupby(by='AgeGroups')['Basofili'].transform(lambda x : x.fillna(x.mean()))"
   ]
  },
  {
   "cell_type": "code",
   "execution_count": 80,
   "id": "c6c86e28",
   "metadata": {
    "execution": {
     "iopub.execute_input": "2022-07-22T09:53:26.925626Z",
     "iopub.status.busy": "2022-07-22T09:53:26.925220Z",
     "iopub.status.idle": "2022-07-22T09:53:26.940607Z",
     "shell.execute_reply": "2022-07-22T09:53:26.939177Z"
    },
    "papermill": {
     "duration": 0.069396,
     "end_time": "2022-07-22T09:53:26.944907",
     "exception": false,
     "start_time": "2022-07-22T09:53:26.875511",
     "status": "completed"
    },
    "tags": []
   },
   "outputs": [
    {
     "data": {
      "text/plain": [
       "LDH    31.884058\n",
       "dtype: float64"
      ]
     },
     "execution_count": 80,
     "metadata": {},
     "output_type": "execute_result"
    }
   ],
   "source": [
    "nan_percent= missing_percent(df)\n",
    "nan_percent"
   ]
  },
  {
   "cell_type": "markdown",
   "id": "0a901e42",
   "metadata": {
    "papermill": {
     "duration": 0.042452,
     "end_time": "2022-07-22T09:53:27.041066",
     "exception": false,
     "start_time": "2022-07-22T09:53:26.998614",
     "status": "completed"
    },
    "tags": []
   },
   "source": [
    "# LDH"
   ]
  },
  {
   "cell_type": "code",
   "execution_count": 81,
   "id": "e24ece5e",
   "metadata": {
    "execution": {
     "iopub.execute_input": "2022-07-22T09:53:27.124893Z",
     "iopub.status.busy": "2022-07-22T09:53:27.124173Z",
     "iopub.status.idle": "2022-07-22T09:53:27.133729Z",
     "shell.execute_reply": "2022-07-22T09:53:27.132277Z"
    },
    "papermill": {
     "duration": 0.054826,
     "end_time": "2022-07-22T09:53:27.136852",
     "exception": false,
     "start_time": "2022-07-22T09:53:27.082026",
     "status": "completed"
    },
    "tags": []
   },
   "outputs": [],
   "source": [
    "df['LDH'] = df.groupby(by='AgeGroups')['Eosinofili'].transform(lambda x : x.fillna(x.mean()))"
   ]
  },
  {
   "cell_type": "code",
   "execution_count": 82,
   "id": "8e8c0bcf",
   "metadata": {
    "execution": {
     "iopub.execute_input": "2022-07-22T09:53:27.221601Z",
     "iopub.status.busy": "2022-07-22T09:53:27.221200Z",
     "iopub.status.idle": "2022-07-22T09:53:27.232499Z",
     "shell.execute_reply": "2022-07-22T09:53:27.231314Z"
    },
    "papermill": {
     "duration": 0.057433,
     "end_time": "2022-07-22T09:53:27.235128",
     "exception": false,
     "start_time": "2022-07-22T09:53:27.177695",
     "status": "completed"
    },
    "tags": []
   },
   "outputs": [
    {
     "data": {
      "text/plain": [
       "Series([], dtype: float64)"
      ]
     },
     "execution_count": 82,
     "metadata": {},
     "output_type": "execute_result"
    }
   ],
   "source": [
    "nan_percent = missing_percent(df)\n",
    "nan_percent"
   ]
  },
  {
   "cell_type": "markdown",
   "id": "8078a687",
   "metadata": {
    "papermill": {
     "duration": 0.039576,
     "end_time": "2022-07-22T09:53:27.316813",
     "exception": false,
     "start_time": "2022-07-22T09:53:27.277237",
     "status": "completed"
    },
    "tags": []
   },
   "source": [
    "# **Now, we don't have any Missing Data**"
   ]
  },
  {
   "cell_type": "code",
   "execution_count": 83,
   "id": "d990b738",
   "metadata": {
    "execution": {
     "iopub.execute_input": "2022-07-22T09:53:27.398645Z",
     "iopub.status.busy": "2022-07-22T09:53:27.398276Z",
     "iopub.status.idle": "2022-07-22T09:53:27.407474Z",
     "shell.execute_reply": "2022-07-22T09:53:27.406637Z"
    },
    "papermill": {
     "duration": 0.053055,
     "end_time": "2022-07-22T09:53:27.409714",
     "exception": false,
     "start_time": "2022-07-22T09:53:27.356659",
     "status": "completed"
    },
    "tags": []
   },
   "outputs": [
    {
     "data": {
      "text/plain": [
       "Series([], dtype: float64)"
      ]
     },
     "execution_count": 83,
     "metadata": {},
     "output_type": "execute_result"
    }
   ],
   "source": [
    "nan_percent= missing_percent(df)\n",
    "nan_percent"
   ]
  },
  {
   "cell_type": "code",
   "execution_count": 84,
   "id": "1f19587e",
   "metadata": {
    "execution": {
     "iopub.execute_input": "2022-07-22T09:53:27.493368Z",
     "iopub.status.busy": "2022-07-22T09:53:27.492950Z",
     "iopub.status.idle": "2022-07-22T09:53:27.497679Z",
     "shell.execute_reply": "2022-07-22T09:53:27.496521Z"
    },
    "papermill": {
     "duration": 0.048438,
     "end_time": "2022-07-22T09:53:27.500068",
     "exception": false,
     "start_time": "2022-07-22T09:53:27.451630",
     "status": "completed"
    },
    "tags": []
   },
   "outputs": [],
   "source": [
    "#We have the error, but this error is happy because it indicates the end of missing data.\n",
    "\n",
    "# plt.figure(figsize=(12,6))\n",
    "# sns.barplot(x=nan_percent.index, y=nan_percent)\n",
    "# plt.xticks(rotation=90)"
   ]
  },
  {
   "cell_type": "markdown",
   "id": "a1b92cd7",
   "metadata": {
    "papermill": {
     "duration": 0.039552,
     "end_time": "2022-07-22T09:53:27.579403",
     "exception": false,
     "start_time": "2022-07-22T09:53:27.539851",
     "status": "completed"
    },
    "tags": []
   },
   "source": [
    "## Best Wishes! 😉🤞\n",
    "\n",
    "\n"
   ]
  }
 ],
 "metadata": {
  "kernelspec": {
   "display_name": "Python 3",
   "language": "python",
   "name": "python3"
  },
  "language_info": {
   "codemirror_mode": {
    "name": "ipython",
    "version": 3
   },
   "file_extension": ".py",
   "mimetype": "text/x-python",
   "name": "python",
   "nbconvert_exporter": "python",
   "pygments_lexer": "ipython3",
   "version": "3.7.12"
  },
  "papermill": {
   "default_parameters": {},
   "duration": 31.637862,
   "end_time": "2022-07-22T09:53:28.442055",
   "environment_variables": {},
   "exception": null,
   "input_path": "__notebook__.ipynb",
   "output_path": "__notebook__.ipynb",
   "parameters": {},
   "start_time": "2022-07-22T09:52:56.804193",
   "version": "2.3.4"
  }
 },
 "nbformat": 4,
 "nbformat_minor": 5
}
