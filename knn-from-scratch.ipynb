{
 "cells": [
  {
   "cell_type": "markdown",
   "id": "c73f8264",
   "metadata": {
    "papermill": {
     "duration": 0.009214,
     "end_time": "2022-11-04T15:15:32.527809",
     "exception": false,
     "start_time": "2022-11-04T15:15:32.518595",
     "status": "completed"
    },
    "tags": []
   },
   "source": [
    "# K-Nearest Neighbors (KNN) from Scratch"
   ]
  },
  {
   "cell_type": "markdown",
   "id": "c9212a73",
   "metadata": {
    "papermill": {
     "duration": 0.009501,
     "end_time": "2022-11-04T15:15:32.547310",
     "exception": false,
     "start_time": "2022-11-04T15:15:32.537809",
     "status": "completed"
    },
    "tags": []
   },
   "source": [
    "# Step0: Import Libraries"
   ]
  },
  {
   "cell_type": "code",
   "execution_count": 1,
   "id": "2f11ee84",
   "metadata": {
    "execution": {
     "iopub.execute_input": "2022-11-04T15:15:32.571364Z",
     "iopub.status.busy": "2022-11-04T15:15:32.570323Z",
     "iopub.status.idle": "2022-11-04T15:15:33.523703Z",
     "shell.execute_reply": "2022-11-04T15:15:33.521742Z"
    },
    "papermill": {
     "duration": 0.969161,
     "end_time": "2022-11-04T15:15:33.526649",
     "exception": false,
     "start_time": "2022-11-04T15:15:32.557488",
     "status": "completed"
    },
    "tags": []
   },
   "outputs": [],
   "source": [
    "import numpy as np\n",
    "from scipy.stats import mode\n",
    "import matplotlib.pyplot as plt\n",
    "import pandas as pd"
   ]
  },
  {
   "cell_type": "code",
   "execution_count": 2,
   "id": "eda31220",
   "metadata": {
    "execution": {
     "iopub.execute_input": "2022-11-04T15:15:33.543667Z",
     "iopub.status.busy": "2022-11-04T15:15:33.542997Z",
     "iopub.status.idle": "2022-11-04T15:15:33.549177Z",
     "shell.execute_reply": "2022-11-04T15:15:33.548334Z"
    },
    "papermill": {
     "duration": 0.018962,
     "end_time": "2022-11-04T15:15:33.552997",
     "exception": false,
     "start_time": "2022-11-04T15:15:33.534035",
     "status": "completed"
    },
    "tags": []
   },
   "outputs": [],
   "source": [
    "import statistics"
   ]
  },
  {
   "cell_type": "code",
   "execution_count": 3,
   "id": "52a3774d",
   "metadata": {
    "execution": {
     "iopub.execute_input": "2022-11-04T15:15:33.570428Z",
     "iopub.status.busy": "2022-11-04T15:15:33.569981Z",
     "iopub.status.idle": "2022-11-04T15:15:33.976118Z",
     "shell.execute_reply": "2022-11-04T15:15:33.974988Z"
    },
    "papermill": {
     "duration": 0.41837,
     "end_time": "2022-11-04T15:15:33.978774",
     "exception": false,
     "start_time": "2022-11-04T15:15:33.560404",
     "status": "completed"
    },
    "tags": []
   },
   "outputs": [],
   "source": [
    "from sklearn.metrics import accuracy_score\n",
    "from sklearn.datasets import load_iris\n",
    "\n",
    "from sklearn.model_selection import train_test_split"
   ]
  },
  {
   "cell_type": "markdown",
   "id": "17207bcd",
   "metadata": {
    "papermill": {
     "duration": 0.006234,
     "end_time": "2022-11-04T15:15:33.991627",
     "exception": false,
     "start_time": "2022-11-04T15:15:33.985393",
     "status": "completed"
    },
    "tags": []
   },
   "source": [
    "# Step1: Read Data"
   ]
  },
  {
   "cell_type": "code",
   "execution_count": 4,
   "id": "131b5a9e",
   "metadata": {
    "execution": {
     "iopub.execute_input": "2022-11-04T15:15:34.007053Z",
     "iopub.status.busy": "2022-11-04T15:15:34.006415Z",
     "iopub.status.idle": "2022-11-04T15:15:34.016939Z",
     "shell.execute_reply": "2022-11-04T15:15:34.015803Z"
    },
    "papermill": {
     "duration": 0.021241,
     "end_time": "2022-11-04T15:15:34.019404",
     "exception": false,
     "start_time": "2022-11-04T15:15:33.998163",
     "status": "completed"
    },
    "tags": []
   },
   "outputs": [],
   "source": [
    "#Loading the Data\n",
    "iris= load_iris()"
   ]
  },
  {
   "cell_type": "markdown",
   "id": "3dd88fff",
   "metadata": {
    "papermill": {
     "duration": 0.007828,
     "end_time": "2022-11-04T15:15:34.033818",
     "exception": false,
     "start_time": "2022-11-04T15:15:34.025990",
     "status": "completed"
    },
    "tags": []
   },
   "source": [
    "# Step2: X, y"
   ]
  },
  {
   "cell_type": "code",
   "execution_count": 5,
   "id": "3fc0bbb7",
   "metadata": {
    "execution": {
     "iopub.execute_input": "2022-11-04T15:15:34.049015Z",
     "iopub.status.busy": "2022-11-04T15:15:34.048409Z",
     "iopub.status.idle": "2022-11-04T15:15:34.052429Z",
     "shell.execute_reply": "2022-11-04T15:15:34.051609Z"
    },
    "papermill": {
     "duration": 0.014319,
     "end_time": "2022-11-04T15:15:34.054493",
     "exception": false,
     "start_time": "2022-11-04T15:15:34.040174",
     "status": "completed"
    },
    "tags": []
   },
   "outputs": [],
   "source": [
    "X= iris.data\n",
    " \n",
    "y= iris.target"
   ]
  },
  {
   "cell_type": "markdown",
   "id": "8c2356ba",
   "metadata": {
    "papermill": {
     "duration": 0.006576,
     "end_time": "2022-11-04T15:15:34.067661",
     "exception": false,
     "start_time": "2022-11-04T15:15:34.061085",
     "status": "completed"
    },
    "tags": []
   },
   "source": [
    "# Step3: Split Trainset and Testset"
   ]
  },
  {
   "cell_type": "code",
   "execution_count": 6,
   "id": "8d08b862",
   "metadata": {
    "execution": {
     "iopub.execute_input": "2022-11-04T15:15:34.082813Z",
     "iopub.status.busy": "2022-11-04T15:15:34.082209Z",
     "iopub.status.idle": "2022-11-04T15:15:34.088911Z",
     "shell.execute_reply": "2022-11-04T15:15:34.088104Z"
    },
    "papermill": {
     "duration": 0.016977,
     "end_time": "2022-11-04T15:15:34.091253",
     "exception": false,
     "start_time": "2022-11-04T15:15:34.074276",
     "status": "completed"
    },
    "tags": []
   },
   "outputs": [],
   "source": [
    "X_train, X_test, y_train, y_test=train_test_split(X,y, test_size=0.2, random_state=101)"
   ]
  },
  {
   "cell_type": "markdown",
   "id": "bbae32c7",
   "metadata": {
    "papermill": {
     "duration": 0.006335,
     "end_time": "2022-11-04T15:15:34.104351",
     "exception": false,
     "start_time": "2022-11-04T15:15:34.098016",
     "status": "completed"
    },
    "tags": []
   },
   "source": [
    "# Step4: Data Visualization"
   ]
  },
  {
   "cell_type": "code",
   "execution_count": 7,
   "id": "72ee0aeb",
   "metadata": {
    "execution": {
     "iopub.execute_input": "2022-11-04T15:15:34.121049Z",
     "iopub.status.busy": "2022-11-04T15:15:34.120392Z",
     "iopub.status.idle": "2022-11-04T15:15:34.443872Z",
     "shell.execute_reply": "2022-11-04T15:15:34.442416Z"
    },
    "papermill": {
     "duration": 0.335525,
     "end_time": "2022-11-04T15:15:34.446698",
     "exception": false,
     "start_time": "2022-11-04T15:15:34.111173",
     "status": "completed"
    },
    "tags": []
   },
   "outputs": [
    {
     "data": {
      "text/plain": [
       "<matplotlib.collections.PathCollection at 0x7fb795615f10>"
      ]
     },
     "execution_count": 7,
     "metadata": {},
     "output_type": "execute_result"
    },
    {
     "data": {
      "image/png": "[encoded data removed]",
      "text/plain": [
       "<Figure size 432x288 with 1 Axes>"
      ]
     },
     "metadata": {
      "needs_background": "light"
     },
     "output_type": "display_data"
    }
   ],
   "source": [
    "label0 = X[:50]\n",
    "label1 = X[50:100]\n",
    "label2 = X[100:150]\n",
    "\n",
    "# plotting the results\n",
    "plt.scatter(label0[:,3] , label0[:,1], color = 'red')\n",
    "\n",
    "plt.scatter(label1[:,3] , label1[:,1], color = 'blue')\n",
    "\n",
    "plt.scatter(label2[:,3] , label2[:,1], color = 'black')"
   ]
  },
  {
   "cell_type": "markdown",
   "id": "9869a815",
   "metadata": {
    "papermill": {
     "duration": 0.007055,
     "end_time": "2022-11-04T15:15:34.461048",
     "exception": false,
     "start_time": "2022-11-04T15:15:34.453993",
     "status": "completed"
    },
    "tags": []
   },
   "source": [
    "# Step5: Distance Function"
   ]
  },
  {
   "cell_type": "code",
   "execution_count": 8,
   "id": "817fe886",
   "metadata": {
    "execution": {
     "iopub.execute_input": "2022-11-04T15:15:34.476882Z",
     "iopub.status.busy": "2022-11-04T15:15:34.476460Z",
     "iopub.status.idle": "2022-11-04T15:15:34.481881Z",
     "shell.execute_reply": "2022-11-04T15:15:34.480639Z"
    },
    "papermill": {
     "duration": 0.0164,
     "end_time": "2022-11-04T15:15:34.484439",
     "exception": false,
     "start_time": "2022-11-04T15:15:34.468039",
     "status": "completed"
    },
    "tags": []
   },
   "outputs": [],
   "source": [
    "def eucledian(A,B):\n",
    "    dist = np.sqrt(np.sum((A-B)**2))\n",
    "    return dist"
   ]
  },
  {
   "cell_type": "code",
   "execution_count": 9,
   "id": "e8d98305",
   "metadata": {
    "execution": {
     "iopub.execute_input": "2022-11-04T15:15:34.500350Z",
     "iopub.status.busy": "2022-11-04T15:15:34.499900Z",
     "iopub.status.idle": "2022-11-04T15:15:34.506002Z",
     "shell.execute_reply": "2022-11-04T15:15:34.504870Z"
    },
    "papermill": {
     "duration": 0.016718,
     "end_time": "2022-11-04T15:15:34.508367",
     "exception": false,
     "start_time": "2022-11-04T15:15:34.491649",
     "status": "completed"
    },
    "tags": []
   },
   "outputs": [],
   "source": [
    "def corr(A, B):\n",
    "    A = pd.Series(A)\n",
    "    B = pd.Series(B)\n",
    "    \n",
    "    dis = 1-A.corr(B)\n",
    "    return dis"
   ]
  },
  {
   "cell_type": "code",
   "execution_count": 10,
   "id": "ee55ca80",
   "metadata": {
    "execution": {
     "iopub.execute_input": "2022-11-04T15:15:34.524112Z",
     "iopub.status.busy": "2022-11-04T15:15:34.523707Z",
     "iopub.status.idle": "2022-11-04T15:15:34.530601Z",
     "shell.execute_reply": "2022-11-04T15:15:34.529346Z"
    },
    "papermill": {
     "duration": 0.017689,
     "end_time": "2022-11-04T15:15:34.533074",
     "exception": false,
     "start_time": "2022-11-04T15:15:34.515385",
     "status": "completed"
    },
    "tags": []
   },
   "outputs": [],
   "source": [
    "def corr2(A, B):\n",
    "    e1=((A-np.mean(A)).T/statistics.stdev(A))\n",
    "    e2 = ((B-np.mean(B)).T/statistics.stdev(B))\n",
    "    r=1/(A.shape[0]-1)*np.sum(e1*e2)\n",
    "    dis = 1-r\n",
    "    return dis"
   ]
  },
  {
   "cell_type": "code",
   "execution_count": 11,
   "id": "111a8b13",
   "metadata": {
    "execution": {
     "iopub.execute_input": "2022-11-04T15:15:34.550050Z",
     "iopub.status.busy": "2022-11-04T15:15:34.549613Z",
     "iopub.status.idle": "2022-11-04T15:15:34.558153Z",
     "shell.execute_reply": "2022-11-04T15:15:34.557007Z"
    },
    "papermill": {
     "duration": 0.019618,
     "end_time": "2022-11-04T15:15:34.560452",
     "exception": false,
     "start_time": "2022-11-04T15:15:34.540834",
     "status": "completed"
    },
    "tags": []
   },
   "outputs": [
    {
     "data": {
      "text/plain": [
       "0.3187597482162604"
      ]
     },
     "execution_count": 11,
     "metadata": {},
     "output_type": "execute_result"
    }
   ],
   "source": [
    "A = X_test[1,:]\n",
    "B = X_train[1,:]\n",
    "\n",
    "corr2(A, B)"
   ]
  },
  {
   "cell_type": "code",
   "execution_count": 12,
   "id": "24e28aa6",
   "metadata": {
    "execution": {
     "iopub.execute_input": "2022-11-04T15:15:34.576350Z",
     "iopub.status.busy": "2022-11-04T15:15:34.575926Z",
     "iopub.status.idle": "2022-11-04T15:15:34.585531Z",
     "shell.execute_reply": "2022-11-04T15:15:34.584368Z"
    },
    "papermill": {
     "duration": 0.020443,
     "end_time": "2022-11-04T15:15:34.587970",
     "exception": false,
     "start_time": "2022-11-04T15:15:34.567527",
     "status": "completed"
    },
    "tags": []
   },
   "outputs": [
    {
     "data": {
      "text/plain": [
       "0.3187597482162604"
      ]
     },
     "execution_count": 12,
     "metadata": {},
     "output_type": "execute_result"
    }
   ],
   "source": [
    "corr(A, B)"
   ]
  },
  {
   "cell_type": "markdown",
   "id": "33b29df4",
   "metadata": {
    "papermill": {
     "duration": 0.007321,
     "end_time": "2022-11-04T15:15:34.602569",
     "exception": false,
     "start_time": "2022-11-04T15:15:34.595248",
     "status": "completed"
    },
    "tags": []
   },
   "source": [
    "# Step6: KNN"
   ]
  },
  {
   "cell_type": "code",
   "execution_count": 13,
   "id": "4954e9ce",
   "metadata": {
    "execution": {
     "iopub.execute_input": "2022-11-04T15:15:34.619095Z",
     "iopub.status.busy": "2022-11-04T15:15:34.618678Z",
     "iopub.status.idle": "2022-11-04T15:15:34.626881Z",
     "shell.execute_reply": "2022-11-04T15:15:34.625698Z"
    },
    "papermill": {
     "duration": 0.019353,
     "end_time": "2022-11-04T15:15:34.629339",
     "exception": false,
     "start_time": "2022-11-04T15:15:34.609986",
     "status": "completed"
    },
    "tags": []
   },
   "outputs": [],
   "source": [
    "#Function to calculate KNN\n",
    "def predict(x_train, y , x_test, k):\n",
    "    pred_labels = []\n",
    "     \n",
    "    #Loop through the Datapoints to be classified\n",
    "    for item in x_test: \n",
    "         \n",
    "        #Array to store distances\n",
    "        point_dist = []\n",
    "         \n",
    "        #Loop through each training Data\n",
    "        for j in range(len(x_train)): \n",
    "            distances = eucledian(np.array(x_train[j,:]) , item) \n",
    "            #Calculating the distance\n",
    "            point_dist.append(distances) \n",
    "        point_dist = np.array(point_dist) \n",
    "         \n",
    "        #Sorting the array while preserving the index\n",
    "        #Keeping the first K datapoints\n",
    "        dist = np.argsort(point_dist)[:k] \n",
    "         \n",
    "        #Labels of the K datapoints from above\n",
    "        labels = y[dist]\n",
    "         \n",
    "        #Majority voting\n",
    "        lab = mode(labels) \n",
    "        lab = lab.mode[0]\n",
    "        pred_labels.append(lab)\n",
    " \n",
    "    return pred_labels"
   ]
  },
  {
   "cell_type": "code",
   "execution_count": 14,
   "id": "33cbcade",
   "metadata": {
    "execution": {
     "iopub.execute_input": "2022-11-04T15:15:34.645816Z",
     "iopub.status.busy": "2022-11-04T15:15:34.645395Z",
     "iopub.status.idle": "2022-11-04T15:15:34.654656Z",
     "shell.execute_reply": "2022-11-04T15:15:34.653458Z"
    },
    "papermill": {
     "duration": 0.019966,
     "end_time": "2022-11-04T15:15:34.656934",
     "exception": false,
     "start_time": "2022-11-04T15:15:34.636968",
     "status": "completed"
    },
    "tags": []
   },
   "outputs": [
    {
     "data": {
      "text/plain": [
       "array([ 1,  2,  4,  5,  6,  7,  8,  9, 10, 11, 12, 13, 14,  0,  3])"
      ]
     },
     "execution_count": 14,
     "metadata": {},
     "output_type": "execute_result"
    }
   ],
   "source": [
    "mode([1, 2, 3, 4, 4, 4, 4, 5, 6, 7, 7, 7, 8])[0]\n",
    "\n",
    "\n",
    "np.argsort(np.array([99,1, 2,100, 3, 4, 4, 4, 4, 5, 6, 7, 7, 7, 8]))"
   ]
  },
  {
   "cell_type": "code",
   "execution_count": 15,
   "id": "a6625e8b",
   "metadata": {
    "execution": {
     "iopub.execute_input": "2022-11-04T15:15:34.673785Z",
     "iopub.status.busy": "2022-11-04T15:15:34.673370Z",
     "iopub.status.idle": "2022-11-04T15:15:34.722412Z",
     "shell.execute_reply": "2022-11-04T15:15:34.721338Z"
    },
    "papermill": {
     "duration": 0.060791,
     "end_time": "2022-11-04T15:15:34.725091",
     "exception": false,
     "start_time": "2022-11-04T15:15:34.664300",
     "status": "completed"
    },
    "tags": []
   },
   "outputs": [],
   "source": [
    "y_pred = predict(X_train,y_train,X_test , 7)"
   ]
  },
  {
   "cell_type": "code",
   "execution_count": 16,
   "id": "6ad44cc4",
   "metadata": {
    "execution": {
     "iopub.execute_input": "2022-11-04T15:15:34.741508Z",
     "iopub.status.busy": "2022-11-04T15:15:34.741093Z",
     "iopub.status.idle": "2022-11-04T15:15:34.748318Z",
     "shell.execute_reply": "2022-11-04T15:15:34.747178Z"
    },
    "papermill": {
     "duration": 0.018044,
     "end_time": "2022-11-04T15:15:34.750551",
     "exception": false,
     "start_time": "2022-11-04T15:15:34.732507",
     "status": "completed"
    },
    "tags": []
   },
   "outputs": [
    {
     "data": {
      "text/plain": [
       "1.0"
      ]
     },
     "execution_count": 16,
     "metadata": {},
     "output_type": "execute_result"
    }
   ],
   "source": [
    "accuracy_score(y_test, y_pred)"
   ]
  },
  {
   "cell_type": "markdown",
   "id": "8010f40f",
   "metadata": {
    "papermill": {
     "duration": 0.007187,
     "end_time": "2022-11-04T15:15:34.765125",
     "exception": false,
     "start_time": "2022-11-04T15:15:34.757938",
     "status": "completed"
    },
    "tags": []
   },
   "source": [
    "# Step6: Elbow Method for Choosing Reasonable K Values"
   ]
  },
  {
   "cell_type": "code",
   "execution_count": 17,
   "id": "98d15604",
   "metadata": {
    "execution": {
     "iopub.execute_input": "2022-11-04T15:15:34.781998Z",
     "iopub.status.busy": "2022-11-04T15:15:34.781538Z",
     "iopub.status.idle": "2022-11-04T15:15:36.389065Z",
     "shell.execute_reply": "2022-11-04T15:15:36.387391Z"
    },
    "papermill": {
     "duration": 1.619329,
     "end_time": "2022-11-04T15:15:36.392049",
     "exception": false,
     "start_time": "2022-11-04T15:15:34.772720",
     "status": "completed"
    },
    "tags": []
   },
   "outputs": [],
   "source": [
    "error=[]\n",
    "for i in range(1, 40):\n",
    "    pred_i = predict(X_train,y_train,X_test , i)\n",
    "    error.append(np.mean(pred_i != y_test))"
   ]
  },
  {
   "cell_type": "code",
   "execution_count": 18,
   "id": "bfd08651",
   "metadata": {
    "execution": {
     "iopub.execute_input": "2022-11-04T15:15:36.409563Z",
     "iopub.status.busy": "2022-11-04T15:15:36.408964Z",
     "iopub.status.idle": "2022-11-04T15:15:36.908375Z",
     "shell.execute_reply": "2022-11-04T15:15:36.907069Z"
    },
    "papermill": {
     "duration": 0.511836,
     "end_time": "2022-11-04T15:15:36.911293",
     "exception": false,
     "start_time": "2022-11-04T15:15:36.399457",
     "status": "completed"
    },
    "tags": []
   },
   "outputs": [
    {
     "data": {
      "text/plain": [
       "Text(0, 0.5, 'Error Rate')"
      ]
     },
     "execution_count": 18,
     "metadata": {},
     "output_type": "execute_result"
    },
    {
     "data": {
      "image/png": "[encoded data removed]",
      "text/plain": [
       "<Figure size 864x432 with 1 Axes>"
      ]
     },
     "metadata": {
      "needs_background": "light"
     },
     "output_type": "display_data"
    }
   ],
   "source": [
    "plt.figure(figsize=(12, 6))\n",
    "\n",
    "plt.plot(range(1, 40), error, color='red', linestyle='dashed', marker='o',\n",
    "         markerfacecolor='blue', markersize=10)\n",
    "\n",
    "plt.xticks(np.arange(0,40,1))\n",
    "\n",
    "plt.title('Error Rate K Value')\n",
    "plt.xlabel('K Value')\n",
    "plt.ylabel('Error Rate')"
   ]
  },
  {
   "cell_type": "markdown",
   "id": "612ef3f7",
   "metadata": {
    "papermill": {
     "duration": 0.008491,
     "end_time": "2022-11-04T15:15:36.928173",
     "exception": false,
     "start_time": "2022-11-04T15:15:36.919682",
     "status": "completed"
    },
    "tags": []
   },
   "source": [
    "# Step7: Final Model"
   ]
  },
  {
   "cell_type": "code",
   "execution_count": 19,
   "id": "fe162e87",
   "metadata": {
    "execution": {
     "iopub.execute_input": "2022-11-04T15:15:36.946998Z",
     "iopub.status.busy": "2022-11-04T15:15:36.946599Z",
     "iopub.status.idle": "2022-11-04T15:15:37.006968Z",
     "shell.execute_reply": "2022-11-04T15:15:37.004449Z"
    },
    "papermill": {
     "duration": 0.074021,
     "end_time": "2022-11-04T15:15:37.010782",
     "exception": false,
     "start_time": "2022-11-04T15:15:36.936761",
     "status": "completed"
    },
    "tags": []
   },
   "outputs": [
    {
     "data": {
      "text/plain": [
       "1.0"
      ]
     },
     "execution_count": 19,
     "metadata": {},
     "output_type": "execute_result"
    }
   ],
   "source": [
    "y_pred = predict(X_train,y_train,X_test , 3)\n",
    "\n",
    "accuracy_score(y_test, y_pred)"
   ]
  }
 ],
 "metadata": {
  "kernelspec": {
   "display_name": "Python 3",
   "language": "python",
   "name": "python3"
  },
  "language_info": {
   "codemirror_mode": {
    "name": "ipython",
    "version": 3
   },
   "file_extension": ".py",
   "mimetype": "text/x-python",
   "name": "python",
   "nbconvert_exporter": "python",
   "pygments_lexer": "ipython3",
   "version": "3.7.12"
  },
  "papermill": {
   "default_parameters": {},
   "duration": 14.800335,
   "end_time": "2022-11-04T15:15:37.845317",
   "environment_variables": {},
   "exception": null,
   "input_path": "__notebook__.ipynb",
   "output_path": "__notebook__.ipynb",
   "parameters": {},
   "start_time": "2022-11-04T15:15:23.044982",
   "version": "2.3.4"
  }
 },
 "nbformat": 4,
 "nbformat_minor": 5
}
