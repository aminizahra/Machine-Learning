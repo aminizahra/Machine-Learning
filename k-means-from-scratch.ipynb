{
 "cells": [
  {
   "cell_type": "markdown",
   "id": "c1d9aae1",
   "metadata": {
    "papermill": {
     "duration": 0.009701,
     "end_time": "2022-12-06T16:05:01.567001",
     "exception": false,
     "start_time": "2022-12-06T16:05:01.557300",
     "status": "completed"
    },
    "tags": []
   },
   "source": [
    "# K-Means"
   ]
  },
  {
   "cell_type": "markdown",
   "id": "31e0f630",
   "metadata": {
    "papermill": {
     "duration": 0.008429,
     "end_time": "2022-12-06T16:05:01.584238",
     "exception": false,
     "start_time": "2022-12-06T16:05:01.575809",
     "status": "completed"
    },
    "tags": []
   },
   "source": [
    "# Part 01: Scratch"
   ]
  },
  {
   "cell_type": "markdown",
   "id": "7e9b9c41",
   "metadata": {
    "papermill": {
     "duration": 0.010655,
     "end_time": "2022-12-06T16:05:01.603570",
     "exception": false,
     "start_time": "2022-12-06T16:05:01.592915",
     "status": "completed"
    },
    "tags": []
   },
   "source": [
    "# 0. Import Libraries"
   ]
  },
  {
   "cell_type": "code",
   "execution_count": 1,
   "id": "d4f06c1f",
   "metadata": {
    "execution": {
     "iopub.execute_input": "2022-12-06T16:05:01.624772Z",
     "iopub.status.busy": "2022-12-06T16:05:01.623940Z",
     "iopub.status.idle": "2022-12-06T16:05:02.948302Z",
     "shell.execute_reply": "2022-12-06T16:05:02.947339Z"
    },
    "papermill": {
     "duration": 1.337836,
     "end_time": "2022-12-06T16:05:02.950828",
     "exception": false,
     "start_time": "2022-12-06T16:05:01.612992",
     "status": "completed"
    },
    "tags": []
   },
   "outputs": [],
   "source": [
    "import math\n",
    "import numpy as np\n",
    "import pandas as pd\n",
    "np.random.seed(123)\n",
    "\n",
    "import matplotlib.pyplot as plt\n",
    "%matplotlib inline\n",
    "\n",
    "from sklearn.cluster import KMeans\n",
    "\n",
    "import seaborn as sns"
   ]
  },
  {
   "cell_type": "markdown",
   "id": "0f23bee2",
   "metadata": {
    "papermill": {
     "duration": 0.008408,
     "end_time": "2022-12-06T16:05:02.968302",
     "exception": false,
     "start_time": "2022-12-06T16:05:02.959894",
     "status": "completed"
    },
    "tags": []
   },
   "source": [
    "# 1. Read Data"
   ]
  },
  {
   "cell_type": "code",
   "execution_count": 2,
   "id": "2ba8e0cc",
   "metadata": {
    "execution": {
     "iopub.execute_input": "2022-12-06T16:05:02.986997Z",
     "iopub.status.busy": "2022-12-06T16:05:02.986557Z",
     "iopub.status.idle": "2022-12-06T16:05:03.004908Z",
     "shell.execute_reply": "2022-12-06T16:05:03.003921Z"
    },
    "papermill": {
     "duration": 0.030308,
     "end_time": "2022-12-06T16:05:03.007205",
     "exception": false,
     "start_time": "2022-12-06T16:05:02.976897",
     "status": "completed"
    },
    "tags": []
   },
   "outputs": [],
   "source": [
    "data=pd.read_csv('/kaggle/input/data-kmeans/Data.csv')"
   ]
  },
  {
   "cell_type": "code",
   "execution_count": 3,
   "id": "50da0492",
   "metadata": {
    "execution": {
     "iopub.execute_input": "2022-12-06T16:05:03.027613Z",
     "iopub.status.busy": "2022-12-06T16:05:03.027211Z",
     "iopub.status.idle": "2022-12-06T16:05:03.046702Z",
     "shell.execute_reply": "2022-12-06T16:05:03.045977Z"
    },
    "papermill": {
     "duration": 0.032486,
     "end_time": "2022-12-06T16:05:03.048923",
     "exception": false,
     "start_time": "2022-12-06T16:05:03.016437",
     "status": "completed"
    },
    "tags": []
   },
   "outputs": [
    {
     "data": {
      "text/html": [
       "<div>\n",
       "<style scoped>\n",
       "    .dataframe tbody tr th:only-of-type {\n",
       "        vertical-align: middle;\n",
       "    }\n",
       "\n",
       "    .dataframe tbody tr th {\n",
       "        vertical-align: top;\n",
       "    }\n",
       "\n",
       "    .dataframe thead th {\n",
       "        text-align: right;\n",
       "    }\n",
       "</style>\n",
       "<table border=\"1\" class=\"dataframe\">\n",
       "  <thead>\n",
       "    <tr style=\"text-align: right;\">\n",
       "      <th></th>\n",
       "      <th>x</th>\n",
       "      <th>y</th>\n",
       "    </tr>\n",
       "  </thead>\n",
       "  <tbody>\n",
       "    <tr>\n",
       "      <th>0</th>\n",
       "      <td>-0.542</td>\n",
       "      <td>23.761</td>\n",
       "    </tr>\n",
       "    <tr>\n",
       "      <th>1</th>\n",
       "      <td>8.129</td>\n",
       "      <td>25.661</td>\n",
       "    </tr>\n",
       "    <tr>\n",
       "      <th>2</th>\n",
       "      <td>4.239</td>\n",
       "      <td>25.298</td>\n",
       "    </tr>\n",
       "    <tr>\n",
       "      <th>3</th>\n",
       "      <td>-0.691</td>\n",
       "      <td>25.230</td>\n",
       "    </tr>\n",
       "    <tr>\n",
       "      <th>4</th>\n",
       "      <td>3.539</td>\n",
       "      <td>21.645</td>\n",
       "    </tr>\n",
       "  </tbody>\n",
       "</table>\n",
       "</div>"
      ],
      "text/plain": [
       "       x       y\n",
       "0 -0.542  23.761\n",
       "1  8.129  25.661\n",
       "2  4.239  25.298\n",
       "3 -0.691  25.230\n",
       "4  3.539  21.645"
      ]
     },
     "execution_count": 3,
     "metadata": {},
     "output_type": "execute_result"
    }
   ],
   "source": [
    "data.head()"
   ]
  },
  {
   "cell_type": "code",
   "execution_count": 4,
   "id": "c040c917",
   "metadata": {
    "execution": {
     "iopub.execute_input": "2022-12-06T16:05:03.069679Z",
     "iopub.status.busy": "2022-12-06T16:05:03.069268Z",
     "iopub.status.idle": "2022-12-06T16:05:03.091260Z",
     "shell.execute_reply": "2022-12-06T16:05:03.089899Z"
    },
    "papermill": {
     "duration": 0.034919,
     "end_time": "2022-12-06T16:05:03.093451",
     "exception": false,
     "start_time": "2022-12-06T16:05:03.058532",
     "status": "completed"
    },
    "tags": []
   },
   "outputs": [
    {
     "name": "stdout",
     "output_type": "stream",
     "text": [
      "<class 'pandas.core.frame.DataFrame'>\n",
      "RangeIndex: 60 entries, 0 to 59\n",
      "Data columns (total 2 columns):\n",
      " #   Column  Non-Null Count  Dtype  \n",
      "---  ------  --------------  -----  \n",
      " 0   x       60 non-null     float64\n",
      " 1   y       60 non-null     float64\n",
      "dtypes: float64(2)\n",
      "memory usage: 1.1 KB\n"
     ]
    }
   ],
   "source": [
    "data.info()"
   ]
  },
  {
   "cell_type": "code",
   "execution_count": 5,
   "id": "e9422bfe",
   "metadata": {
    "execution": {
     "iopub.execute_input": "2022-12-06T16:05:03.114145Z",
     "iopub.status.busy": "2022-12-06T16:05:03.113557Z",
     "iopub.status.idle": "2022-12-06T16:05:03.291765Z",
     "shell.execute_reply": "2022-12-06T16:05:03.290527Z"
    },
    "papermill": {
     "duration": 0.190851,
     "end_time": "2022-12-06T16:05:03.293709",
     "exception": false,
     "start_time": "2022-12-06T16:05:03.102858",
     "status": "completed"
    },
    "tags": []
   },
   "outputs": [
    {
     "data": {
      "image/png": "[encoded data removed]",
      "text/plain": [
       "<Figure size 432x288 with 1 Axes>"
      ]
     },
     "metadata": {
      "needs_background": "light"
     },
     "output_type": "display_data"
    }
   ],
   "source": [
    "plt.scatter(data['x'], data['y'], c='b')\n",
    "\n",
    "plt.show()"
   ]
  },
  {
   "cell_type": "markdown",
   "id": "060e6e7e",
   "metadata": {
    "papermill": {
     "duration": 0.008977,
     "end_time": "2022-12-06T16:05:03.312085",
     "exception": false,
     "start_time": "2022-12-06T16:05:03.303108",
     "status": "completed"
    },
    "tags": []
   },
   "source": [
    "# 2. initialization centroids"
   ]
  },
  {
   "cell_type": "code",
   "execution_count": 6,
   "id": "a65c1e71",
   "metadata": {
    "execution": {
     "iopub.execute_input": "2022-12-06T16:05:03.332793Z",
     "iopub.status.busy": "2022-12-06T16:05:03.331905Z",
     "iopub.status.idle": "2022-12-06T16:05:03.339632Z",
     "shell.execute_reply": "2022-12-06T16:05:03.337912Z"
    },
    "papermill": {
     "duration": 0.020739,
     "end_time": "2022-12-06T16:05:03.342184",
     "exception": false,
     "start_time": "2022-12-06T16:05:03.321445",
     "status": "completed"
    },
    "tags": []
   },
   "outputs": [],
   "source": [
    "def initialize_cent(k, data):\n",
    "    \n",
    "    n = data.shape[1]\n",
    "    \n",
    "    cent_min = data.min().min()\n",
    "    cent_max = data.max().max()\n",
    "    \n",
    "    centroids = []\n",
    "    \n",
    "    for centroid in range(k):\n",
    "        centroid = np.random.uniform(cent_min, cent_max, n)\n",
    "        \n",
    "        centroids.append(centroid)\n",
    "        \n",
    "    centroids = pd.DataFrame(centroids, columns=data.columns)\n",
    "    \n",
    "    return centroids"
   ]
  },
  {
   "cell_type": "code",
   "execution_count": 7,
   "id": "13a7a02c",
   "metadata": {
    "execution": {
     "iopub.execute_input": "2022-12-06T16:05:03.363564Z",
     "iopub.status.busy": "2022-12-06T16:05:03.362251Z",
     "iopub.status.idle": "2022-12-06T16:05:03.376508Z",
     "shell.execute_reply": "2022-12-06T16:05:03.374922Z"
    },
    "papermill": {
     "duration": 0.027258,
     "end_time": "2022-12-06T16:05:03.379035",
     "exception": false,
     "start_time": "2022-12-06T16:05:03.351777",
     "status": "completed"
    },
    "tags": []
   },
   "outputs": [
    {
     "data": {
      "text/html": [
       "<div>\n",
       "<style scoped>\n",
       "    .dataframe tbody tr th:only-of-type {\n",
       "        vertical-align: middle;\n",
       "    }\n",
       "\n",
       "    .dataframe tbody tr th {\n",
       "        vertical-align: top;\n",
       "    }\n",
       "\n",
       "    .dataframe thead th {\n",
       "        text-align: right;\n",
       "    }\n",
       "</style>\n",
       "<table border=\"1\" class=\"dataframe\">\n",
       "  <thead>\n",
       "    <tr style=\"text-align: right;\">\n",
       "      <th></th>\n",
       "      <th>x</th>\n",
       "      <th>y</th>\n",
       "    </tr>\n",
       "  </thead>\n",
       "  <tbody>\n",
       "    <tr>\n",
       "      <th>0</th>\n",
       "      <td>39.996300</td>\n",
       "      <td>14.777837</td>\n",
       "    </tr>\n",
       "    <tr>\n",
       "      <th>1</th>\n",
       "      <td>11.134063</td>\n",
       "      <td>31.075254</td>\n",
       "    </tr>\n",
       "    <tr>\n",
       "      <th>2</th>\n",
       "      <td>41.409843</td>\n",
       "      <td>23.195700</td>\n",
       "    </tr>\n",
       "  </tbody>\n",
       "</table>\n",
       "</div>"
      ],
      "text/plain": [
       "           x          y\n",
       "0  39.996300  14.777837\n",
       "1  11.134063  31.075254\n",
       "2  41.409843  23.195700"
      ]
     },
     "execution_count": 7,
     "metadata": {},
     "output_type": "execute_result"
    }
   ],
   "source": [
    "centroids = initialize_cent(3, data)\n",
    "\n",
    "centroids"
   ]
  },
  {
   "cell_type": "markdown",
   "id": "ab72331f",
   "metadata": {
    "papermill": {
     "duration": 0.009588,
     "end_time": "2022-12-06T16:05:03.398192",
     "exception": false,
     "start_time": "2022-12-06T16:05:03.388604",
     "status": "completed"
    },
    "tags": []
   },
   "source": [
    "# 3. Calculate the sum of squared errors"
   ]
  },
  {
   "cell_type": "code",
   "execution_count": 8,
   "id": "0cf3797f",
   "metadata": {
    "execution": {
     "iopub.execute_input": "2022-12-06T16:05:03.418198Z",
     "iopub.status.busy": "2022-12-06T16:05:03.417833Z",
     "iopub.status.idle": "2022-12-06T16:05:03.422391Z",
     "shell.execute_reply": "2022-12-06T16:05:03.421539Z"
    },
    "papermill": {
     "duration": 0.016909,
     "end_time": "2022-12-06T16:05:03.424377",
     "exception": false,
     "start_time": "2022-12-06T16:05:03.407468",
     "status": "completed"
    },
    "tags": []
   },
   "outputs": [],
   "source": [
    "def calculate_error(a, b):\n",
    "    \n",
    "    error = np.square(np.sum((a-b)**2))   #(a(x)-b(x))^2 + (a(y)-b(y)^2)\n",
    "    \n",
    "    return error"
   ]
  },
  {
   "cell_type": "code",
   "execution_count": 9,
   "id": "df862daf",
   "metadata": {
    "execution": {
     "iopub.execute_input": "2022-12-06T16:05:03.445744Z",
     "iopub.status.busy": "2022-12-06T16:05:03.445342Z",
     "iopub.status.idle": "2022-12-06T16:05:03.452694Z",
     "shell.execute_reply": "2022-12-06T16:05:03.451822Z"
    },
    "papermill": {
     "duration": 0.020364,
     "end_time": "2022-12-06T16:05:03.454623",
     "exception": false,
     "start_time": "2022-12-06T16:05:03.434259",
     "status": "completed"
    },
    "tags": []
   },
   "outputs": [],
   "source": [
    "errors = np.array([])\n",
    "\n",
    "for centroid in range(centroids.shape[0]):\n",
    "    error = calculate_error(centroids.iloc[centroid, :], data.iloc[0, :])\n",
    "    \n",
    "    errors = np.append(errors, error)"
   ]
  },
  {
   "cell_type": "code",
   "execution_count": 10,
   "id": "376fa88f",
   "metadata": {
    "execution": {
     "iopub.execute_input": "2022-12-06T16:05:03.475282Z",
     "iopub.status.busy": "2022-12-06T16:05:03.474913Z",
     "iopub.status.idle": "2022-12-06T16:05:03.481454Z",
     "shell.execute_reply": "2022-12-06T16:05:03.480699Z"
    },
    "papermill": {
     "duration": 0.019433,
     "end_time": "2022-12-06T16:05:03.483699",
     "exception": false,
     "start_time": "2022-12-06T16:05:03.464266",
     "status": "completed"
    },
    "tags": []
   },
   "outputs": [
    {
     "data": {
      "text/plain": [
       "array([2972351.68265223,   36034.96413044, 3098574.16619018])"
      ]
     },
     "execution_count": 10,
     "metadata": {},
     "output_type": "execute_result"
    }
   ],
   "source": [
    "errors"
   ]
  },
  {
   "cell_type": "code",
   "execution_count": 11,
   "id": "a76e458a",
   "metadata": {
    "execution": {
     "iopub.execute_input": "2022-12-06T16:05:03.504686Z",
     "iopub.status.busy": "2022-12-06T16:05:03.504276Z",
     "iopub.status.idle": "2022-12-06T16:05:03.713270Z",
     "shell.execute_reply": "2022-12-06T16:05:03.712436Z"
    },
    "papermill": {
     "duration": 0.222355,
     "end_time": "2022-12-06T16:05:03.715750",
     "exception": false,
     "start_time": "2022-12-06T16:05:03.493395",
     "status": "completed"
    },
    "tags": []
   },
   "outputs": [
    {
     "data": {
      "image/png": "[encoded data removed]",
      "text/plain": [
       "<Figure size 432x288 with 1 Axes>"
      ]
     },
     "metadata": {
      "needs_background": "light"
     },
     "output_type": "display_data"
    }
   ],
   "source": [
    "plt.scatter(data.iloc[1:, 0], data.iloc[1:, 1], marker= 'o', alpha=0.2)\n",
    "\n",
    "plt.scatter(centroids.iloc[:, 0], centroids.iloc[:, 1], marker= 'o', alpha=0.2, c= 'r')\n",
    "\n",
    "plt.scatter(data.iloc[0,0], data.iloc[0,1], marker= 'o', alpha=0.5, c='g')\n",
    "\n",
    "\n",
    "for i in range(centroids.shape[0]):\n",
    "    plt.text(centroids.iloc[i,0]+1, centroids.iloc[i,1]+1, s=centroids.index[i], c='r')"
   ]
  },
  {
   "cell_type": "markdown",
   "id": "1946be54",
   "metadata": {
    "papermill": {
     "duration": 0.009329,
     "end_time": "2022-12-06T16:05:03.735147",
     "exception": false,
     "start_time": "2022-12-06T16:05:03.725818",
     "status": "completed"
    },
    "tags": []
   },
   "source": [
    "# 4. Assign a centroid to each of the observations"
   ]
  },
  {
   "cell_type": "code",
   "execution_count": 12,
   "id": "4357e7e6",
   "metadata": {
    "execution": {
     "iopub.execute_input": "2022-12-06T16:05:03.756851Z",
     "iopub.status.busy": "2022-12-06T16:05:03.755889Z",
     "iopub.status.idle": "2022-12-06T16:05:03.765438Z",
     "shell.execute_reply": "2022-12-06T16:05:03.764329Z"
    },
    "papermill": {
     "duration": 0.023086,
     "end_time": "2022-12-06T16:05:03.767894",
     "exception": false,
     "start_time": "2022-12-06T16:05:03.744808",
     "status": "completed"
    },
    "tags": []
   },
   "outputs": [
    {
     "data": {
      "text/plain": [
       "1"
      ]
     },
     "execution_count": 12,
     "metadata": {},
     "output_type": "execute_result"
    }
   ],
   "source": [
    "np.where(errors == np.min(errors))[0].tolist()[0]"
   ]
  },
  {
   "cell_type": "code",
   "execution_count": 13,
   "id": "17243db5",
   "metadata": {
    "execution": {
     "iopub.execute_input": "2022-12-06T16:05:03.790062Z",
     "iopub.status.busy": "2022-12-06T16:05:03.789691Z",
     "iopub.status.idle": "2022-12-06T16:05:03.796656Z",
     "shell.execute_reply": "2022-12-06T16:05:03.795681Z"
    },
    "papermill": {
     "duration": 0.020213,
     "end_time": "2022-12-06T16:05:03.798566",
     "exception": false,
     "start_time": "2022-12-06T16:05:03.778353",
     "status": "completed"
    },
    "tags": []
   },
   "outputs": [],
   "source": [
    "def assign_centroid(data, centroids):\n",
    "    \n",
    "    m = data.shape[0]\n",
    "    \n",
    "    centroid_assign = []\n",
    "    \n",
    "    centroid_errors = []\n",
    "    \n",
    "    k = centroids.shape[0]\n",
    "    \n",
    "    for x in range(m):\n",
    "        \n",
    "        errors = np.array([])\n",
    "        \n",
    "        for centroid in range(k):\n",
    "            error = calculate_error(centroids.iloc[centroid, :2], data.iloc[x, :2])\n",
    "            errors = np.append(errors, error)\n",
    "            \n",
    "        close_cent = np.where(errors == np.min(errors))[0].tolist()[0]\n",
    "        \n",
    "        centroid_error = np.min(errors)\n",
    "        \n",
    "        centroid_assign.append(close_cent)\n",
    "        centroid_errors.append(centroid_error)\n",
    "        \n",
    "    return (centroid_assign, centroid_errors)"
   ]
  },
  {
   "cell_type": "code",
   "execution_count": 14,
   "id": "a478e5ed",
   "metadata": {
    "execution": {
     "iopub.execute_input": "2022-12-06T16:05:03.820660Z",
     "iopub.status.busy": "2022-12-06T16:05:03.819836Z",
     "iopub.status.idle": "2022-12-06T16:05:03.941008Z",
     "shell.execute_reply": "2022-12-06T16:05:03.939574Z"
    },
    "papermill": {
     "duration": 0.135146,
     "end_time": "2022-12-06T16:05:03.943641",
     "exception": false,
     "start_time": "2022-12-06T16:05:03.808495",
     "status": "completed"
    },
    "tags": []
   },
   "outputs": [],
   "source": [
    "data['centroid'], data['error'] = assign_centroid(data, centroids)"
   ]
  },
  {
   "cell_type": "code",
   "execution_count": 15,
   "id": "23ad61a5",
   "metadata": {
    "execution": {
     "iopub.execute_input": "2022-12-06T16:05:03.965704Z",
     "iopub.status.busy": "2022-12-06T16:05:03.965305Z",
     "iopub.status.idle": "2022-12-06T16:05:04.126763Z",
     "shell.execute_reply": "2022-12-06T16:05:04.125040Z"
    },
    "papermill": {
     "duration": 0.175651,
     "end_time": "2022-12-06T16:05:04.129704",
     "exception": false,
     "start_time": "2022-12-06T16:05:03.954053",
     "status": "completed"
    },
    "tags": []
   },
   "outputs": [
    {
     "data": {
      "text/plain": [
       "<matplotlib.collections.PathCollection at 0x7f83d261aed0>"
      ]
     },
     "execution_count": 15,
     "metadata": {},
     "output_type": "execute_result"
    },
    {
     "data": {
      "image/png": "[encoded data removed]",
      "text/plain": [
       "<Figure size 432x288 with 1 Axes>"
      ]
     },
     "metadata": {
      "needs_background": "light"
     },
     "output_type": "display_data"
    }
   ],
   "source": [
    "colors = {0:'red', 1:'blue', 2:'green'}\n",
    "\n",
    "plt.scatter(data.iloc[:,0], data.iloc[:,1],\n",
    "            marker='o', c= data['centroid'].apply(lambda x: colors[x]))\n",
    "plt.scatter(centroids.iloc[:,0], centroids.iloc[:,1], marker='o', s=300, c = centroids.index.map(lambda x: colors[x]))"
   ]
  },
  {
   "cell_type": "markdown",
   "id": "2a8c59f8",
   "metadata": {
    "papermill": {
     "duration": 0.010196,
     "end_time": "2022-12-06T16:05:04.150530",
     "exception": false,
     "start_time": "2022-12-06T16:05:04.140334",
     "status": "completed"
    },
    "tags": []
   },
   "source": [
    "# 5. Calculate the sum of total errors"
   ]
  },
  {
   "cell_type": "code",
   "execution_count": 16,
   "id": "a3d04b9a",
   "metadata": {
    "execution": {
     "iopub.execute_input": "2022-12-06T16:05:04.174713Z",
     "iopub.status.busy": "2022-12-06T16:05:04.173235Z",
     "iopub.status.idle": "2022-12-06T16:05:04.181839Z",
     "shell.execute_reply": "2022-12-06T16:05:04.181125Z"
    },
    "papermill": {
     "duration": 0.022491,
     "end_time": "2022-12-06T16:05:04.183700",
     "exception": false,
     "start_time": "2022-12-06T16:05:04.161209",
     "status": "completed"
    },
    "tags": []
   },
   "outputs": [
    {
     "data": {
      "text/plain": [
       "21382270.708532356"
      ]
     },
     "execution_count": 16,
     "metadata": {},
     "output_type": "execute_result"
    }
   ],
   "source": [
    "data['error'].sum()"
   ]
  },
  {
   "cell_type": "markdown",
   "id": "d092d9be",
   "metadata": {
    "papermill": {
     "duration": 0.010677,
     "end_time": "2022-12-06T16:05:04.205160",
     "exception": false,
     "start_time": "2022-12-06T16:05:04.194483",
     "status": "completed"
    },
    "tags": []
   },
   "source": [
    "# 6. Recalculate the position of the centroids"
   ]
  },
  {
   "cell_type": "code",
   "execution_count": 17,
   "id": "abf7ee13",
   "metadata": {
    "execution": {
     "iopub.execute_input": "2022-12-06T16:05:04.228153Z",
     "iopub.status.busy": "2022-12-06T16:05:04.227780Z",
     "iopub.status.idle": "2022-12-06T16:05:04.240426Z",
     "shell.execute_reply": "2022-12-06T16:05:04.238930Z"
    },
    "papermill": {
     "duration": 0.027405,
     "end_time": "2022-12-06T16:05:04.243200",
     "exception": false,
     "start_time": "2022-12-06T16:05:04.215795",
     "status": "completed"
    },
    "tags": []
   },
   "outputs": [],
   "source": [
    "data_columns = ['x', 'y']\n",
    "\n",
    "centroids = data.groupby('centroid').mean().loc[:, data_columns].reset_index(drop=True)"
   ]
  },
  {
   "cell_type": "code",
   "execution_count": 18,
   "id": "26ecd321",
   "metadata": {
    "execution": {
     "iopub.execute_input": "2022-12-06T16:05:04.266266Z",
     "iopub.status.busy": "2022-12-06T16:05:04.265840Z",
     "iopub.status.idle": "2022-12-06T16:05:04.276042Z",
     "shell.execute_reply": "2022-12-06T16:05:04.274653Z"
    },
    "papermill": {
     "duration": 0.024129,
     "end_time": "2022-12-06T16:05:04.278017",
     "exception": false,
     "start_time": "2022-12-06T16:05:04.253888",
     "status": "completed"
    },
    "tags": []
   },
   "outputs": [
    {
     "data": {
      "text/html": [
       "<div>\n",
       "<style scoped>\n",
       "    .dataframe tbody tr th:only-of-type {\n",
       "        vertical-align: middle;\n",
       "    }\n",
       "\n",
       "    .dataframe tbody tr th {\n",
       "        vertical-align: top;\n",
       "    }\n",
       "\n",
       "    .dataframe thead th {\n",
       "        text-align: right;\n",
       "    }\n",
       "</style>\n",
       "<table border=\"1\" class=\"dataframe\">\n",
       "  <thead>\n",
       "    <tr style=\"text-align: right;\">\n",
       "      <th></th>\n",
       "      <th>x</th>\n",
       "      <th>y</th>\n",
       "    </tr>\n",
       "  </thead>\n",
       "  <tbody>\n",
       "    <tr>\n",
       "      <th>0</th>\n",
       "      <td>22.112000</td>\n",
       "      <td>8.391077</td>\n",
       "    </tr>\n",
       "    <tr>\n",
       "      <th>1</th>\n",
       "      <td>6.094926</td>\n",
       "      <td>24.894370</td>\n",
       "    </tr>\n",
       "    <tr>\n",
       "      <th>2</th>\n",
       "      <td>48.898800</td>\n",
       "      <td>50.526050</td>\n",
       "    </tr>\n",
       "  </tbody>\n",
       "</table>\n",
       "</div>"
      ],
      "text/plain": [
       "           x          y\n",
       "0  22.112000   8.391077\n",
       "1   6.094926  24.894370\n",
       "2  48.898800  50.526050"
      ]
     },
     "execution_count": 18,
     "metadata": {},
     "output_type": "execute_result"
    }
   ],
   "source": [
    "centroids"
   ]
  },
  {
   "cell_type": "code",
   "execution_count": 19,
   "id": "e78635f9",
   "metadata": {
    "execution": {
     "iopub.execute_input": "2022-12-06T16:05:04.301865Z",
     "iopub.status.busy": "2022-12-06T16:05:04.301393Z",
     "iopub.status.idle": "2022-12-06T16:05:04.436131Z",
     "shell.execute_reply": "2022-12-06T16:05:04.435159Z"
    },
    "papermill": {
     "duration": 0.149068,
     "end_time": "2022-12-06T16:05:04.438233",
     "exception": false,
     "start_time": "2022-12-06T16:05:04.289165",
     "status": "completed"
    },
    "tags": []
   },
   "outputs": [
    {
     "data": {
      "text/plain": [
       "<matplotlib.collections.PathCollection at 0x7f83d25bf290>"
      ]
     },
     "execution_count": 19,
     "metadata": {},
     "output_type": "execute_result"
    },
    {
     "data": {
      "image/png": "[encoded data removed]",
      "text/plain": [
       "<Figure size 432x288 with 1 Axes>"
      ]
     },
     "metadata": {
      "needs_background": "light"
     },
     "output_type": "display_data"
    }
   ],
   "source": [
    "plt.scatter(data.iloc[:, 0], data.iloc[:, 1],\n",
    "            marker='o', c= data['centroid'].apply(lambda x: colors[x]), alpha=0.5)\n",
    "\n",
    "plt.scatter(centroids.iloc[:, 0], centroids.iloc[:, 1],\n",
    "            marker='o', s=300, c= centroids.index.map(lambda x: colors[x]))\n"
   ]
  },
  {
   "cell_type": "markdown",
   "id": "e656c769",
   "metadata": {
    "papermill": {
     "duration": 0.011604,
     "end_time": "2022-12-06T16:05:04.463826",
     "exception": false,
     "start_time": "2022-12-06T16:05:04.452222",
     "status": "completed"
    },
    "tags": []
   },
   "source": [
    "# 7. K-Means"
   ]
  },
  {
   "cell_type": "code",
   "execution_count": 20,
   "id": "7600a699",
   "metadata": {
    "execution": {
     "iopub.execute_input": "2022-12-06T16:05:04.487205Z",
     "iopub.status.busy": "2022-12-06T16:05:04.486783Z",
     "iopub.status.idle": "2022-12-06T16:05:04.495786Z",
     "shell.execute_reply": "2022-12-06T16:05:04.494787Z"
    },
    "papermill": {
     "duration": 0.023063,
     "end_time": "2022-12-06T16:05:04.497656",
     "exception": false,
     "start_time": "2022-12-06T16:05:04.474593",
     "status": "completed"
    },
    "tags": []
   },
   "outputs": [],
   "source": [
    "def kmeans(data, k):\n",
    "    \n",
    "    # Initialize\n",
    "    centroids = initialize_cent(k, data)\n",
    "    \n",
    "    error = []\n",
    "    i = 0\n",
    "    compr = True\n",
    "    \n",
    "    while(compr):\n",
    "        \n",
    "        data['centroid'], iter_error = assign_centroid(data, centroids)\n",
    "        error.append(sum(iter_error))\n",
    "        \n",
    "        centroids = data.groupby('centroid').mean().loc[:, ['x','y']].reset_index(drop=True)\n",
    "        \n",
    "        if(len(error)<2):\n",
    "            compr=True\n",
    "            \n",
    "        else:\n",
    "            if(round(error[i], 3) != round(error[i-1], 3)):\n",
    "                compr = True\n",
    "            else:\n",
    "                compr = False\n",
    "        i = i+1\n",
    "        \n",
    "    data['centroid'], iter_error = assign_centroid(data, centroids)\n",
    "    iter_error = sum(iter_error)\n",
    "        \n",
    "    centroids = data.groupby('centroid').mean().reset_index(drop=True)\n",
    "        \n",
    "    return (data['centroid'], iter_error, centroids)"
   ]
  },
  {
   "cell_type": "code",
   "execution_count": 21,
   "id": "7cef977c",
   "metadata": {
    "execution": {
     "iopub.execute_input": "2022-12-06T16:05:04.520191Z",
     "iopub.status.busy": "2022-12-06T16:05:04.519823Z",
     "iopub.status.idle": "2022-12-06T16:05:05.115529Z",
     "shell.execute_reply": "2022-12-06T16:05:05.114328Z"
    },
    "papermill": {
     "duration": 0.609993,
     "end_time": "2022-12-06T16:05:05.118316",
     "exception": false,
     "start_time": "2022-12-06T16:05:04.508323",
     "status": "completed"
    },
    "tags": []
   },
   "outputs": [],
   "source": [
    "data['centroid'], _, centroids  =kmeans(data.drop(['centroid', 'error'], axis=1), 3)"
   ]
  },
  {
   "cell_type": "code",
   "execution_count": 22,
   "id": "7a9a2eb2",
   "metadata": {
    "execution": {
     "iopub.execute_input": "2022-12-06T16:05:05.141216Z",
     "iopub.status.busy": "2022-12-06T16:05:05.140836Z",
     "iopub.status.idle": "2022-12-06T16:05:05.145955Z",
     "shell.execute_reply": "2022-12-06T16:05:05.144979Z"
    },
    "papermill": {
     "duration": 0.019701,
     "end_time": "2022-12-06T16:05:05.148785",
     "exception": false,
     "start_time": "2022-12-06T16:05:05.129084",
     "status": "completed"
    },
    "tags": []
   },
   "outputs": [],
   "source": [
    "# data.loc[:, ['x','y']]"
   ]
  },
  {
   "cell_type": "code",
   "execution_count": 23,
   "id": "02b1bb1c",
   "metadata": {
    "execution": {
     "iopub.execute_input": "2022-12-06T16:05:05.172243Z",
     "iopub.status.busy": "2022-12-06T16:05:05.171849Z",
     "iopub.status.idle": "2022-12-06T16:05:05.181931Z",
     "shell.execute_reply": "2022-12-06T16:05:05.180812Z"
    },
    "papermill": {
     "duration": 0.024889,
     "end_time": "2022-12-06T16:05:05.184705",
     "exception": false,
     "start_time": "2022-12-06T16:05:05.159816",
     "status": "completed"
    },
    "tags": []
   },
   "outputs": [
    {
     "data": {
      "text/html": [
       "<div>\n",
       "<style scoped>\n",
       "    .dataframe tbody tr th:only-of-type {\n",
       "        vertical-align: middle;\n",
       "    }\n",
       "\n",
       "    .dataframe tbody tr th {\n",
       "        vertical-align: top;\n",
       "    }\n",
       "\n",
       "    .dataframe thead th {\n",
       "        text-align: right;\n",
       "    }\n",
       "</style>\n",
       "<table border=\"1\" class=\"dataframe\">\n",
       "  <thead>\n",
       "    <tr style=\"text-align: right;\">\n",
       "      <th></th>\n",
       "      <th>x</th>\n",
       "      <th>y</th>\n",
       "    </tr>\n",
       "  </thead>\n",
       "  <tbody>\n",
       "    <tr>\n",
       "      <th>0</th>\n",
       "      <td>48.89880</td>\n",
       "      <td>50.52605</td>\n",
       "    </tr>\n",
       "    <tr>\n",
       "      <th>1</th>\n",
       "      <td>19.89410</td>\n",
       "      <td>8.44635</td>\n",
       "    </tr>\n",
       "    <tr>\n",
       "      <th>2</th>\n",
       "      <td>2.70685</td>\n",
       "      <td>30.61525</td>\n",
       "    </tr>\n",
       "  </tbody>\n",
       "</table>\n",
       "</div>"
      ],
      "text/plain": [
       "          x         y\n",
       "0  48.89880  50.52605\n",
       "1  19.89410   8.44635\n",
       "2   2.70685  30.61525"
      ]
     },
     "execution_count": 23,
     "metadata": {},
     "output_type": "execute_result"
    }
   ],
   "source": [
    "centroids"
   ]
  },
  {
   "cell_type": "code",
   "execution_count": 24,
   "id": "8b44999b",
   "metadata": {
    "execution": {
     "iopub.execute_input": "2022-12-06T16:05:05.209065Z",
     "iopub.status.busy": "2022-12-06T16:05:05.208704Z",
     "iopub.status.idle": "2022-12-06T16:05:05.362902Z",
     "shell.execute_reply": "2022-12-06T16:05:05.361349Z"
    },
    "papermill": {
     "duration": 0.169383,
     "end_time": "2022-12-06T16:05:05.365501",
     "exception": false,
     "start_time": "2022-12-06T16:05:05.196118",
     "status": "completed"
    },
    "tags": []
   },
   "outputs": [
    {
     "data": {
      "text/plain": [
       "<matplotlib.collections.PathCollection at 0x7f83d24e48d0>"
      ]
     },
     "execution_count": 24,
     "metadata": {},
     "output_type": "execute_result"
    },
    {
     "data": {
      "image/png": "[encoded data removed]",
      "text/plain": [
       "<Figure size 432x288 with 1 Axes>"
      ]
     },
     "metadata": {
      "needs_background": "light"
     },
     "output_type": "display_data"
    }
   ],
   "source": [
    "plt.scatter(data.iloc[:, 0], data.iloc[:, 1],\n",
    "            marker='o', c= data['centroid'].apply(lambda x: colors[x]), alpha=0.5)\n",
    "\n",
    "plt.scatter(centroids.iloc[:, 0], centroids.iloc[:, 1],\n",
    "            marker='o', s=300, c= centroids.index.map(lambda x: colors[x]))\n"
   ]
  },
  {
   "cell_type": "markdown",
   "id": "e857b779",
   "metadata": {
    "papermill": {
     "duration": 0.011055,
     "end_time": "2022-12-06T16:05:05.387969",
     "exception": false,
     "start_time": "2022-12-06T16:05:05.376914",
     "status": "completed"
    },
    "tags": []
   },
   "source": [
    "# 8. elbow"
   ]
  },
  {
   "cell_type": "code",
   "execution_count": 25,
   "id": "7443aef6",
   "metadata": {
    "execution": {
     "iopub.execute_input": "2022-12-06T16:05:05.411907Z",
     "iopub.status.busy": "2022-12-06T16:05:05.411564Z",
     "iopub.status.idle": "2022-12-06T16:05:16.151248Z",
     "shell.execute_reply": "2022-12-06T16:05:16.149560Z"
    },
    "papermill": {
     "duration": 10.75474,
     "end_time": "2022-12-06T16:05:16.153827",
     "exception": false,
     "start_time": "2022-12-06T16:05:05.399087",
     "status": "completed"
    },
    "tags": []
   },
   "outputs": [],
   "source": [
    "total_errors = []\n",
    "\n",
    "k = 10\n",
    "\n",
    "for i in range(k):\n",
    "    _, iter_error, _ = kmeans(data.drop(['centroid', 'error'], axis=1),i+1)\n",
    "    \n",
    "    total_errors.append(iter_error)"
   ]
  },
  {
   "cell_type": "code",
   "execution_count": 26,
   "id": "e2a94826",
   "metadata": {
    "execution": {
     "iopub.execute_input": "2022-12-06T16:05:16.178306Z",
     "iopub.status.busy": "2022-12-06T16:05:16.177946Z",
     "iopub.status.idle": "2022-12-06T16:05:16.323576Z",
     "shell.execute_reply": "2022-12-06T16:05:16.322359Z"
    },
    "papermill": {
     "duration": 0.161744,
     "end_time": "2022-12-06T16:05:16.327270",
     "exception": false,
     "start_time": "2022-12-06T16:05:16.165526",
     "status": "completed"
    },
    "tags": []
   },
   "outputs": [
    {
     "data": {
      "image/png": "[encoded data removed]",
      "text/plain": [
       "<Figure size 720x360 with 1 Axes>"
      ]
     },
     "metadata": {
      "needs_background": "light"
     },
     "output_type": "display_data"
    }
   ],
   "source": [
    "plt.figure(figsize = (10,5))\n",
    "\n",
    "plt.plot(total_errors, 'o--')\n",
    "\n",
    "plt.show()"
   ]
  },
  {
   "cell_type": "markdown",
   "id": "e582a847",
   "metadata": {
    "papermill": {
     "duration": 0.011057,
     "end_time": "2022-12-06T16:05:16.350052",
     "exception": false,
     "start_time": "2022-12-06T16:05:16.338995",
     "status": "completed"
    },
    "tags": []
   },
   "source": [
    "# Part 02: K-Means ---> sklearn.cluster.KMeans"
   ]
  },
  {
   "cell_type": "code",
   "execution_count": 27,
   "id": "b22e78fd",
   "metadata": {
    "execution": {
     "iopub.execute_input": "2022-12-06T16:05:16.374546Z",
     "iopub.status.busy": "2022-12-06T16:05:16.373891Z",
     "iopub.status.idle": "2022-12-06T16:05:16.382509Z",
     "shell.execute_reply": "2022-12-06T16:05:16.380908Z"
    },
    "papermill": {
     "duration": 0.023248,
     "end_time": "2022-12-06T16:05:16.384750",
     "exception": false,
     "start_time": "2022-12-06T16:05:16.361502",
     "status": "completed"
    },
    "tags": []
   },
   "outputs": [],
   "source": [
    "X = pd.read_csv('/kaggle/input/data-kmeans/Data.csv')"
   ]
  },
  {
   "cell_type": "code",
   "execution_count": 28,
   "id": "bd6d2443",
   "metadata": {
    "execution": {
     "iopub.execute_input": "2022-12-06T16:05:16.411112Z",
     "iopub.status.busy": "2022-12-06T16:05:16.410532Z",
     "iopub.status.idle": "2022-12-06T16:05:16.414401Z",
     "shell.execute_reply": "2022-12-06T16:05:16.413692Z"
    },
    "papermill": {
     "duration": 0.019877,
     "end_time": "2022-12-06T16:05:16.416863",
     "exception": false,
     "start_time": "2022-12-06T16:05:16.396986",
     "status": "completed"
    },
    "tags": []
   },
   "outputs": [],
   "source": [
    "model = KMeans(n_clusters=3)"
   ]
  },
  {
   "cell_type": "code",
   "execution_count": 29,
   "id": "b3b087b8",
   "metadata": {
    "execution": {
     "iopub.execute_input": "2022-12-06T16:05:16.442589Z",
     "iopub.status.busy": "2022-12-06T16:05:16.441961Z",
     "iopub.status.idle": "2022-12-06T16:05:16.463774Z",
     "shell.execute_reply": "2022-12-06T16:05:16.462930Z"
    },
    "papermill": {
     "duration": 0.037436,
     "end_time": "2022-12-06T16:05:16.466255",
     "exception": false,
     "start_time": "2022-12-06T16:05:16.428819",
     "status": "completed"
    },
    "tags": []
   },
   "outputs": [],
   "source": [
    "pred = model.fit_predict(X)"
   ]
  },
  {
   "cell_type": "code",
   "execution_count": 30,
   "id": "d43007b8",
   "metadata": {
    "execution": {
     "iopub.execute_input": "2022-12-06T16:05:16.492677Z",
     "iopub.status.busy": "2022-12-06T16:05:16.491998Z",
     "iopub.status.idle": "2022-12-06T16:05:16.497816Z",
     "shell.execute_reply": "2022-12-06T16:05:16.496871Z"
    },
    "papermill": {
     "duration": 0.021528,
     "end_time": "2022-12-06T16:05:16.500393",
     "exception": false,
     "start_time": "2022-12-06T16:05:16.478865",
     "status": "completed"
    },
    "tags": []
   },
   "outputs": [],
   "source": [
    "X['CL'] = pred"
   ]
  },
  {
   "cell_type": "code",
   "execution_count": 31,
   "id": "a11cf30c",
   "metadata": {
    "execution": {
     "iopub.execute_input": "2022-12-06T16:05:16.525365Z",
     "iopub.status.busy": "2022-12-06T16:05:16.524974Z",
     "iopub.status.idle": "2022-12-06T16:05:16.926816Z",
     "shell.execute_reply": "2022-12-06T16:05:16.925865Z"
    },
    "papermill": {
     "duration": 0.4171,
     "end_time": "2022-12-06T16:05:16.929290",
     "exception": false,
     "start_time": "2022-12-06T16:05:16.512190",
     "status": "completed"
    },
    "tags": []
   },
   "outputs": [
    {
     "data": {
      "text/plain": [
       "<seaborn.axisgrid.FacetGrid at 0x7f83d247b910>"
      ]
     },
     "execution_count": 31,
     "metadata": {},
     "output_type": "execute_result"
    },
    {
     "data": {
      "image/png": "[encoded data removed]",
      "text/plain": [
       "<Figure size 402.375x360 with 1 Axes>"
      ]
     },
     "metadata": {
      "needs_background": "light"
     },
     "output_type": "display_data"
    }
   ],
   "source": [
    "sns.relplot(x=\"x\", y=\"y\", hue='CL', data=X)"
   ]
  },
  {
   "cell_type": "code",
   "execution_count": 32,
   "id": "2b6600f6",
   "metadata": {
    "execution": {
     "iopub.execute_input": "2022-12-06T16:05:16.955883Z",
     "iopub.status.busy": "2022-12-06T16:05:16.954697Z",
     "iopub.status.idle": "2022-12-06T16:05:16.960712Z",
     "shell.execute_reply": "2022-12-06T16:05:16.959817Z"
    },
    "papermill": {
     "duration": 0.022162,
     "end_time": "2022-12-06T16:05:16.963550",
     "exception": false,
     "start_time": "2022-12-06T16:05:16.941388",
     "status": "completed"
    },
    "tags": []
   },
   "outputs": [
    {
     "data": {
      "text/plain": [
       "2813.7701408000003"
      ]
     },
     "execution_count": 32,
     "metadata": {},
     "output_type": "execute_result"
    }
   ],
   "source": [
    "model.inertia_"
   ]
  },
  {
   "cell_type": "code",
   "execution_count": 33,
   "id": "6878864f",
   "metadata": {
    "execution": {
     "iopub.execute_input": "2022-12-06T16:05:16.989519Z",
     "iopub.status.busy": "2022-12-06T16:05:16.988800Z",
     "iopub.status.idle": "2022-12-06T16:05:17.128639Z",
     "shell.execute_reply": "2022-12-06T16:05:17.127729Z"
    },
    "papermill": {
     "duration": 0.155309,
     "end_time": "2022-12-06T16:05:17.130879",
     "exception": false,
     "start_time": "2022-12-06T16:05:16.975570",
     "status": "completed"
    },
    "tags": []
   },
   "outputs": [],
   "source": [
    "ssd = []\n",
    "\n",
    "for k in range(2, 10):\n",
    "    model=KMeans(n_clusters=k)\n",
    "    \n",
    "    model.fit(X.drop('CL', axis=1))\n",
    "    \n",
    "    ssd.append(model.inertia_)"
   ]
  },
  {
   "cell_type": "code",
   "execution_count": 34,
   "id": "1f71b3c1",
   "metadata": {
    "execution": {
     "iopub.execute_input": "2022-12-06T16:05:17.156291Z",
     "iopub.status.busy": "2022-12-06T16:05:17.155938Z",
     "iopub.status.idle": "2022-12-06T16:05:17.285088Z",
     "shell.execute_reply": "2022-12-06T16:05:17.284096Z"
    },
    "papermill": {
     "duration": 0.143822,
     "end_time": "2022-12-06T16:05:17.287166",
     "exception": false,
     "start_time": "2022-12-06T16:05:17.143344",
     "status": "completed"
    },
    "tags": []
   },
   "outputs": [
    {
     "data": {
      "image/png": "[encoded data removed]",
      "text/plain": [
       "<Figure size 432x288 with 1 Axes>"
      ]
     },
     "metadata": {
      "needs_background": "light"
     },
     "output_type": "display_data"
    }
   ],
   "source": [
    "plt.plot(range(2,10),ssd, 'o--')\n",
    "\n",
    "plt.show()"
   ]
  },
  {
   "cell_type": "markdown",
   "id": "14141934",
   "metadata": {
    "papermill": {
     "duration": 0.012103,
     "end_time": "2022-12-06T16:05:17.313636",
     "exception": false,
     "start_time": "2022-12-06T16:05:17.301533",
     "status": "completed"
    },
    "tags": []
   },
   "source": [
    "# Finished!"
   ]
  }
 ],
 "metadata": {
  "kernelspec": {
   "display_name": "Python 3",
   "language": "python",
   "name": "python3"
  },
  "language_info": {
   "codemirror_mode": {
    "name": "ipython",
    "version": 3
   },
   "file_extension": ".py",
   "mimetype": "text/x-python",
   "name": "python",
   "nbconvert_exporter": "python",
   "pygments_lexer": "ipython3",
   "version": "3.7.12"
  },
  "papermill": {
   "default_parameters": {},
   "duration": 23.955422,
   "end_time": "2022-12-06T16:05:18.149331",
   "environment_variables": {},
   "exception": null,
   "input_path": "__notebook__.ipynb",
   "output_path": "__notebook__.ipynb",
   "parameters": {},
   "start_time": "2022-12-06T16:04:54.193909",
   "version": "2.3.4"
  }
 },
 "nbformat": 4,
 "nbformat_minor": 5
}
